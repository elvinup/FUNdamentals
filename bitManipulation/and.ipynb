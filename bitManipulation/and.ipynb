{
 "cells": [
  {
   "cell_type": "markdown",
   "id": "broken-sixth",
   "metadata": {},
   "source": [
    "# AND"
   ]
  },
  {
   "cell_type": "markdown",
   "id": "earlier-salon",
   "metadata": {},
   "source": [
    "AND, meaning only same terms will equate a 1 \n",
    "\n",
    "0 ^ 0 = 1\n",
    "\n",
    "0 ^ 1 = 0\n",
    "\n",
    "1 ^ 1 = 1"
   ]
  },
  {
   "cell_type": "markdown",
   "id": "phantom-discharge",
   "metadata": {},
   "source": [
    "# Value of last digit"
   ]
  },
  {
   "cell_type": "markdown",
   "id": "egyptian-secret",
   "metadata": {},
   "source": [
    "Say you want to get the last digit of `01011001`, which is `1`. Easy, just *bitwise &* with 1"
   ]
  },
  {
   "cell_type": "code",
   "execution_count": 1,
   "id": "veterinary-shell",
   "metadata": {},
   "outputs": [
    {
     "data": {
      "text/plain": [
       "1"
      ]
     },
     "execution_count": 1,
     "metadata": {},
     "output_type": "execute_result"
    }
   ],
   "source": [
    "x = int('01011001', 2)\n",
    "x & 1"
   ]
  },
  {
   "cell_type": "code",
   "execution_count": 2,
   "id": "naughty-label",
   "metadata": {},
   "outputs": [
    {
     "data": {
      "text/plain": [
       "0"
      ]
     },
     "execution_count": 2,
     "metadata": {},
     "output_type": "execute_result"
    }
   ],
   "source": [
    "x = int('01011000', 2)\n",
    "x & 1"
   ]
  },
  {
   "cell_type": "markdown",
   "id": "chief-initial",
   "metadata": {},
   "source": [
    "# Erase lowest set bit"
   ]
  },
  {
   "cell_type": "markdown",
   "id": "entire-seafood",
   "metadata": {},
   "source": [
    "To remove the lowest set bit, do `x & (x-1)`\n",
    "\n",
    "Ex: Removing the lowest set bit for `44` aka `00101100`"
   ]
  },
  {
   "cell_type": "code",
   "execution_count": 10,
   "id": "hearing-expense",
   "metadata": {},
   "outputs": [
    {
     "data": {
      "text/plain": [
       "'0b101100'"
      ]
     },
     "execution_count": 10,
     "metadata": {},
     "output_type": "execute_result"
    }
   ],
   "source": [
    "bin(44)"
   ]
  },
  {
   "cell_type": "code",
   "execution_count": 11,
   "id": "nearby-costume",
   "metadata": {},
   "outputs": [
    {
     "data": {
      "text/plain": [
       "'0b101011'"
      ]
     },
     "execution_count": 11,
     "metadata": {},
     "output_type": "execute_result"
    }
   ],
   "source": [
    "bin(43)"
   ]
  },
  {
   "cell_type": "code",
   "execution_count": 12,
   "id": "pursuant-delicious",
   "metadata": {},
   "outputs": [
    {
     "data": {
      "text/plain": [
       "'0b101000'"
      ]
     },
     "execution_count": 12,
     "metadata": {},
     "output_type": "execute_result"
    }
   ],
   "source": [
    "bin(44 & 43)"
   ]
  },
  {
   "cell_type": "markdown",
   "id": "annoying-logging",
   "metadata": {},
   "source": [
    "# Isolate lowest set bit"
   ]
  },
  {
   "cell_type": "markdown",
   "id": "secondary-ultimate",
   "metadata": {},
   "source": [
    "To isolate the lowest set bit, do `x & ~(x-1)`\n",
    "\n",
    "Ex: Getting the lowest set bit for `44` aka `00101100`"
   ]
  },
  {
   "cell_type": "code",
   "execution_count": 13,
   "id": "hearing-visiting",
   "metadata": {},
   "outputs": [
    {
     "data": {
      "text/plain": [
       "'0b100'"
      ]
     },
     "execution_count": 13,
     "metadata": {},
     "output_type": "execute_result"
    }
   ],
   "source": [
    "bin(44 & ~ 43)"
   ]
  },
  {
   "cell_type": "code",
   "execution_count": 14,
   "id": "affiliated-notion",
   "metadata": {},
   "outputs": [
    {
     "data": {
      "text/plain": [
       "'0b1001101'"
      ]
     },
     "execution_count": 14,
     "metadata": {},
     "output_type": "execute_result"
    }
   ],
   "source": [
    "bin(77)"
   ]
  },
  {
   "cell_type": "code",
   "execution_count": 15,
   "id": "under-withdrawal",
   "metadata": {},
   "outputs": [
    {
     "data": {
      "text/plain": [
       "'0b1000000'"
      ]
     },
     "execution_count": 15,
     "metadata": {},
     "output_type": "execute_result"
    }
   ],
   "source": [
    "bin(64)"
   ]
  },
  {
   "cell_type": "code",
   "execution_count": 18,
   "id": "confused-traveler",
   "metadata": {},
   "outputs": [
    {
     "data": {
      "text/plain": [
       "13"
      ]
     },
     "execution_count": 18,
     "metadata": {},
     "output_type": "execute_result"
    }
   ],
   "source": [
    "77 ^ 64"
   ]
  }
 ],
 "metadata": {
  "kernelspec": {
   "display_name": "Python 3",
   "language": "python",
   "name": "python3"
  },
  "language_info": {
   "codemirror_mode": {
    "name": "ipython",
    "version": 3
   },
   "file_extension": ".py",
   "mimetype": "text/x-python",
   "name": "python",
   "nbconvert_exporter": "python",
   "pygments_lexer": "ipython3",
   "version": "3.8.5"
  }
 },
 "nbformat": 4,
 "nbformat_minor": 5
}
