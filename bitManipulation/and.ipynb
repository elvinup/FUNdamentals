{
 "cells": [
  {
   "cell_type": "markdown",
   "id": "convinced-richards",
   "metadata": {},
   "source": [
    "# Value of last digitx = bin(44 & 43)\n"
   ]
  },
  {
   "cell_type": "markdown",
   "id": "spectacular-documentary",
   "metadata": {},
   "source": [
    "Say you want to get the last digit of `01011001`, which is `1`. Easy, just *bitwise &* with 1"
   ]
  },
  {
   "cell_type": "code",
   "execution_count": 1,
   "id": "moved-return",
   "metadata": {},
   "outputs": [
    {
     "data": {
      "text/plain": [
       "1"
      ]
     },
     "execution_count": 1,
     "metadata": {},
     "output_type": "execute_result"
    }
   ],
   "source": [
    "x = int('01011001', 2)\n",
    "x & 1"
   ]
  },
  {
   "cell_type": "code",
   "execution_count": 2,
   "id": "surface-beatles",
   "metadata": {},
   "outputs": [
    {
     "data": {
      "text/plain": [
       "0"
      ]
     },
     "execution_count": 2,
     "metadata": {},
     "output_type": "execute_result"
    }
   ],
   "source": [
    "x = int('01011000', 2)\n",
    "x & 1"
   ]
  },
  {
   "cell_type": "markdown",
   "id": "pacific-colon",
   "metadata": {},
   "source": [
    "# Erase lowest set bit"
   ]
  },
  {
   "cell_type": "markdown",
   "id": "extra-identifier",
   "metadata": {},
   "source": [
    "To remove the lowest set bit, do `x & (x-1)`\n",
    "\n",
    "Ex: Removing the lowest set bit for `44` aka `00101100`"
   ]
  },
  {
   "cell_type": "code",
   "execution_count": 10,
   "id": "preceding-ceiling",
   "metadata": {},
   "outputs": [
    {
     "data": {
      "text/plain": [
       "'0b101100'"
      ]
     },
     "execution_count": 10,
     "metadata": {},
     "output_type": "execute_result"
    }
   ],
   "source": [
    "bin(44)"
   ]
  },
  {
   "cell_type": "code",
   "execution_count": 11,
   "id": "noted-distribution",
   "metadata": {},
   "outputs": [
    {
     "data": {
      "text/plain": [
       "'0b101011'"
      ]
     },
     "execution_count": 11,
     "metadata": {},
     "output_type": "execute_result"
    }
   ],
   "source": [
    "bin(43)"
   ]
  },
  {
   "cell_type": "code",
   "execution_count": 12,
   "id": "nervous-tract",
   "metadata": {},
   "outputs": [
    {
     "data": {
      "text/plain": [
       "'0b101000'"
      ]
     },
     "execution_count": 12,
     "metadata": {},
     "output_type": "execute_result"
    }
   ],
   "source": [
    "bin(44 & 43)"
   ]
  },
  {
   "cell_type": "markdown",
   "id": "dental-queue",
   "metadata": {},
   "source": [
    "# Isolate lowest set bit"
   ]
  },
  {
   "cell_type": "markdown",
   "id": "explicit-ukraine",
   "metadata": {},
   "source": [
    "To isolate the lowest set bit, do `x & ~(x-1)`\n",
    "\n",
    "Ex: Getting the lowest set bit for `44` aka `00101100`"
   ]
  },
  {
   "cell_type": "code",
   "execution_count": 13,
   "id": "chicken-pointer",
   "metadata": {},
   "outputs": [
    {
     "data": {
      "text/plain": [
       "'0b100'"
      ]
     },
     "execution_count": 13,
     "metadata": {},
     "output_type": "execute_result"
    }
   ],
   "source": [
    "bin(44 & ~ 43)"
   ]
  },
  {
   "cell_type": "code",
   "execution_count": 14,
   "id": "attached-partner",
   "metadata": {},
   "outputs": [
    {
     "data": {
      "text/plain": [
       "'0b1001101'"
      ]
     },
     "execution_count": 14,
     "metadata": {},
     "output_type": "execute_result"
    }
   ],
   "source": [
    "bin(77)"
   ]
  },
  {
   "cell_type": "code",
   "execution_count": 15,
   "id": "technical-wilson",
   "metadata": {},
   "outputs": [
    {
     "data": {
      "text/plain": [
       "'0b1000000'"
      ]
     },
     "execution_count": 15,
     "metadata": {},
     "output_type": "execute_result"
    }
   ],
   "source": [
    "bin(64)"
   ]
  },
  {
   "cell_type": "code",
   "execution_count": 18,
   "id": "prescription-budget",
   "metadata": {},
   "outputs": [
    {
     "data": {
      "text/plain": [
       "13"
      ]
     },
     "execution_count": 18,
     "metadata": {},
     "output_type": "execute_result"
    }
   ],
   "source": [
    "77 ^ 64"
   ]
  },
  {
   "cell_type": "code",
   "execution_count": null,
   "id": "altered-fighter",
   "metadata": {},
   "outputs": [],
   "source": []
  }
 ],
 "metadata": {
  "kernelspec": {
   "display_name": "Python 3",
   "language": "python",
   "name": "python3"
  },
  "language_info": {
   "codemirror_mode": {
    "name": "ipython",
    "version": 3
   },
   "file_extension": ".py",
   "mimetype": "text/x-python",
   "name": "python",
   "nbconvert_exporter": "python",
   "pygments_lexer": "ipython3",
   "version": "3.8.5"
  }
 },
 "nbformat": 4,
 "nbformat_minor": 5
}
