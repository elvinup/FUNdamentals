{
 "cells": [
  {
   "cell_type": "markdown",
   "id": "supreme-intelligence",
   "metadata": {},
   "source": [
    "# XOR"
   ]
  },
  {
   "cell_type": "markdown",
   "id": "straight-offering",
   "metadata": {},
   "source": [
    "Exclusively OR, meaning only different terms will equate a 1 \n",
    "\n",
    "0 ^ 0 = 0\n",
    "0 ^ 1 = 1\n",
    "1 ^ 1 = 0"
   ]
  },
  {
   "cell_type": "code",
   "execution_count": 143,
   "id": "critical-contrast",
   "metadata": {},
   "outputs": [
    {
     "name": "stdout",
     "output_type": "stream",
     "text": [
      "0b111 ^\n",
      "0b101 =\n",
      "0b010\n"
     ]
    }
   ],
   "source": [
    "print(bin(7), '^')\n",
    "print(bin(5), '=')\n",
    "print('0b010')"
   ]
  },
  {
   "cell_type": "markdown",
   "id": "about-illinois",
   "metadata": {},
   "source": [
    "# XOR Modulus"
   ]
  },
  {
   "cell_type": "markdown",
   "id": "processed-capture",
   "metadata": {},
   "source": [
    "`x ^ (number with a power of 2)` aka `x ^ y` = `x % y`"
   ]
  },
  {
   "cell_type": "code",
   "execution_count": 115,
   "id": "worse-aspect",
   "metadata": {},
   "outputs": [
    {
     "data": {
      "text/plain": [
       "13"
      ]
     },
     "execution_count": 115,
     "metadata": {},
     "output_type": "execute_result"
    }
   ],
   "source": [
    "77 ^ 64"
   ]
  },
  {
   "cell_type": "markdown",
   "id": "portable-great",
   "metadata": {},
   "source": [
    "This is because XOR'ing the two cancel out the leading bit. As shown below:"
   ]
  },
  {
   "cell_type": "code",
   "execution_count": 116,
   "id": "becoming-narrative",
   "metadata": {},
   "outputs": [
    {
     "data": {
      "text/plain": [
       "'0b1001101'"
      ]
     },
     "execution_count": 116,
     "metadata": {},
     "output_type": "execute_result"
    }
   ],
   "source": [
    "bin(77)"
   ]
  },
  {
   "cell_type": "code",
   "execution_count": 117,
   "id": "strong-merchandise",
   "metadata": {},
   "outputs": [
    {
     "data": {
      "text/plain": [
       "'0b1000000'"
      ]
     },
     "execution_count": 117,
     "metadata": {},
     "output_type": "execute_result"
    }
   ],
   "source": [
    "bin(64)"
   ]
  },
  {
   "cell_type": "markdown",
   "id": "affiliated-setup",
   "metadata": {},
   "source": [
    "# XOR Parity"
   ]
  },
  {
   "cell_type": "markdown",
   "id": "asian-castle",
   "metadata": {},
   "source": [
    "The XOR of a group of bits is its parity\n",
    "Parity is `1` if theres an odd amount of bits in a binary word `0111`, `0` if even like `0110`\n"
   ]
  },
  {
   "cell_type": "markdown",
   "id": "pacific-illustration",
   "metadata": {},
   "source": [
    "### Example\n",
    "\n",
    "Finding the parity of `11010111`, through grouping subsets of this binary word"
   ]
  },
  {
   "cell_type": "code",
   "execution_count": 118,
   "id": "flying-powell",
   "metadata": {},
   "outputs": [],
   "source": [
    "x = int('11010111', 2)"
   ]
  },
  {
   "cell_type": "markdown",
   "id": "joined-explosion",
   "metadata": {},
   "source": [
    "The parity of `11010111` is the same as the parity of `1101 XOR(^) 0111`, aka `1010`"
   ]
  },
  {
   "cell_type": "code",
   "execution_count": 119,
   "id": "smoking-arkansas",
   "metadata": {},
   "outputs": [
    {
     "data": {
      "text/plain": [
       "'0b11010111'"
      ]
     },
     "execution_count": 119,
     "metadata": {},
     "output_type": "execute_result"
    }
   ],
   "source": [
    "bin(x)"
   ]
  },
  {
   "cell_type": "code",
   "execution_count": 120,
   "id": "general-hazard",
   "metadata": {},
   "outputs": [
    {
     "data": {
      "text/plain": [
       "'0b1101'"
      ]
     },
     "execution_count": 120,
     "metadata": {},
     "output_type": "execute_result"
    }
   ],
   "source": [
    "bin(x >> 4)"
   ]
  },
  {
   "cell_type": "code",
   "execution_count": 121,
   "id": "committed-october",
   "metadata": {},
   "outputs": [
    {
     "data": {
      "text/plain": [
       "'0b11011010'"
      ]
     },
     "execution_count": 121,
     "metadata": {},
     "output_type": "execute_result"
    }
   ],
   "source": [
    "x = x ^ x >> 4\n",
    "bin(x)"
   ]
  },
  {
   "cell_type": "markdown",
   "id": "baking-tunisia",
   "metadata": {},
   "source": [
    "Notice the last 4 digits only, pattern repeats as so"
   ]
  },
  {
   "cell_type": "code",
   "execution_count": 122,
   "id": "finite-welding",
   "metadata": {},
   "outputs": [
    {
     "data": {
      "text/plain": [
       "'0b11101100'"
      ]
     },
     "execution_count": 122,
     "metadata": {},
     "output_type": "execute_result"
    }
   ],
   "source": [
    "x ^= x >> 2\n",
    "bin(x)"
   ]
  },
  {
   "cell_type": "code",
   "execution_count": 123,
   "id": "powered-consent",
   "metadata": {},
   "outputs": [
    {
     "data": {
      "text/plain": [
       "'0b11010111'"
      ]
     },
     "execution_count": 123,
     "metadata": {},
     "output_type": "execute_result"
    }
   ],
   "source": [
    "x ^= x >> 2\n",
    "bin(x)"
   ]
  },
  {
   "cell_type": "code",
   "execution_count": 124,
   "id": "simplified-pierce",
   "metadata": {},
   "outputs": [
    {
     "data": {
      "text/plain": [
       "'0b10111100'"
      ]
     },
     "execution_count": 124,
     "metadata": {},
     "output_type": "execute_result"
    }
   ],
   "source": [
    "x ^= x >> 1\n",
    "bin(x)"
   ]
  },
  {
   "cell_type": "markdown",
   "id": "classical-family",
   "metadata": {},
   "source": [
    "Finally, you just have to bitwise AND the last digit since XOR parity is commutative"
   ]
  },
  {
   "cell_type": "code",
   "execution_count": 125,
   "id": "undefined-times",
   "metadata": {},
   "outputs": [
    {
     "data": {
      "text/plain": [
       "0"
      ]
     },
     "execution_count": 125,
     "metadata": {},
     "output_type": "execute_result"
    }
   ],
   "source": [
    "result = x & 0x1\n",
    "result"
   ]
  }
 ],
 "metadata": {
  "kernelspec": {
   "display_name": "Python 3",
   "language": "python",
   "name": "python3"
  },
  "language_info": {
   "codemirror_mode": {
    "name": "ipython",
    "version": 3
   },
   "file_extension": ".py",
   "mimetype": "text/x-python",
   "name": "python",
   "nbconvert_exporter": "python",
   "pygments_lexer": "ipython3",
   "version": "3.8.5"
  }
 },
 "nbformat": 4,
 "nbformat_minor": 5
}
