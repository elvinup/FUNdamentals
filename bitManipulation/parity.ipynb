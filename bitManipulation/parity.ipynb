{
 "cells": [
  {
   "cell_type": "markdown",
   "metadata": {},
   "source": [
    "# Parity of a number\n",
    "\n",
    "Inspired by [this article](https://medium.com/free-code-camp/algorithmic-problem-solving-efficiently-computing-the-parity-of-a-stream-of-numbers-cd652af14643)\n",
    "\n",
    "0011 is a number with even parity because it has an even amount of bits\n",
    "\n",
    "0111 is a number with odd parity because of an odd amount of bits\n",
    "\n",
    "## Problem\n",
    "\n",
    "The article claims we may need to process millions of numbers per minute, so our algorithm has to be exceptionally efficient."
   ]
  },
  {
   "cell_type": "markdown",
   "metadata": {},
   "source": [
    "## Naiive approach\n",
    "\n",
    "The naiive approach is to simply take each number, and go through each bit from right to left <--, and simply keep a result bit that flips every time we run into the number `1`\n",
    "\n",
    "This is slow because we have to look at every single bit when we shouldn't have to.\n",
    "\n",
    "Time complexity: O(n)"
   ]
  },
  {
   "cell_type": "markdown",
   "metadata": {},
   "source": [
    "## Efficient Approach\n",
    "\n",
    "Let's say we want to calculate the parity of an 8 bit number like \n",
    "\n",
    "```\n",
    "1010 0100\n",
    "```\n",
    "\n",
    "## Takeaway\n",
    "\n",
    "A key insight is to note that if you take the left half of a number, so for our example that would be\n",
    "\n",
    "`1010` and XOR (^) that with the original number `1010 0100`\n",
    "\n",
    "Our parity stays the exact same! (still odd)\n",
    "\n",
    "This is our pathway to achieving `O(log(n))` complexity.\n",
    "\n",
    "\n",
    "## Example \n",
    "So for the specific example.\n",
    "\n",
    "**XOR with left 4 bits**\n",
    "\n",
    "1010 0100 ^ 1010 = 1110\n",
    "\n",
    "Still odd parity with five 1's.\n",
    "\n",
    "**XOR with left 2 bits**\n",
    "\n",
    "1110 ^ 11 = 01\n",
    "\n",
    "Still odd parity with one 1\n",
    "\n",
    "**XOR with left 1 bit**\n",
    "\n",
    "01 ^ 0 = 1\n",
    "\n",
    "Still odd parity!\n",
    "\n",
    "1 is our final answer, and this example shows how we can logarithmically find out if a large number like a 64 bit number has an even or odd parity super quick using the power of `XOR`"
   ]
  },
  {
   "cell_type": "code",
   "execution_count": 1,
   "metadata": {},
   "outputs": [
    {
     "data": {
      "text/plain": [
       "1"
      ]
     },
     "execution_count": 1,
     "metadata": {},
     "output_type": "execute_result"
    }
   ],
   "source": [
    "def computeParityMostEfficient(num):\n",
    "    num ^= (num >> 32)\n",
    "    num ^= (num >> 16)\n",
    "    num ^= (num >> 8)\n",
    "    num ^= (num >> 4)\n",
    "    num ^= (num >> 2)\n",
    "    num ^= (num >> 1)\n",
    "\n",
    "    return (num & 1)\n",
    "\n",
    "\n",
    "computeParityMostEfficient(148)\n"
   ]
  }
 ],
 "metadata": {
  "kernelspec": {
   "display_name": "Python 3",
   "language": "python",
   "name": "python3"
  },
  "language_info": {
   "codemirror_mode": {
    "name": "ipython",
    "version": 3
   },
   "file_extension": ".py",
   "mimetype": "text/x-python",
   "name": "python",
   "nbconvert_exporter": "python",
   "pygments_lexer": "ipython3",
   "version": "3.9.2"
  },
  "orig_nbformat": 4
 },
 "nbformat": 4,
 "nbformat_minor": 2
}
