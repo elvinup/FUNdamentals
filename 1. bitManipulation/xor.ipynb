{
 "cells": [
  {
   "cell_type": "markdown",
   "id": "active-jordan",
   "metadata": {},
   "source": [
    "# XOR"
   ]
  },
  {
   "cell_type": "markdown",
   "id": "english-conviction",
   "metadata": {},
   "source": [
    "Exclusively OR, meaning only different terms will equate a 1 \n",
    "\n",
    "0 ^ 0 = 0\n",
    "\n",
    "0 ^ 1 = 1\n",
    "\n",
    "1 ^ 1 = 0"
   ]
  },
  {
   "cell_type": "code",
   "execution_count": 2,
   "id": "competent-filter",
   "metadata": {},
   "outputs": [
    {
     "name": "stdout",
     "output_type": "stream",
     "text": [
      "0b111 ^\n",
      "0b101 =\n",
      "0b010\n"
     ]
    }
   ],
   "source": [
    "print(bin(7), '^')\n",
    "print(bin(5), '=')\n",
    "print('0b010')"
   ]
  },
  {
   "cell_type": "markdown",
   "id": "emotional-costs",
   "metadata": {},
   "source": [
    "# XOR Modulus"
   ]
  },
  {
   "cell_type": "markdown",
   "id": "multiple-execution",
   "metadata": {},
   "source": [
    "`x ^ (number with a power of 2)` aka `x ^ y` = `x % y`"
   ]
  },
  {
   "cell_type": "code",
   "execution_count": 145,
   "id": "parental-production",
   "metadata": {},
   "outputs": [
    {
     "data": {
      "text/plain": [
       "13"
      ]
     },
     "execution_count": 145,
     "metadata": {},
     "output_type": "execute_result"
    }
   ],
   "source": [
    "77 ^ 64"
   ]
  },
  {
   "cell_type": "markdown",
   "id": "polish-bikini",
   "metadata": {},
   "source": [
    "This is because XOR'ing the two cancel out the leading bit. As shown below:"
   ]
  },
  {
   "cell_type": "code",
   "execution_count": 146,
   "id": "sporting-minute",
   "metadata": {},
   "outputs": [
    {
     "data": {
      "text/plain": [
       "'0b1001101'"
      ]
     },
     "execution_count": 146,
     "metadata": {},
     "output_type": "execute_result"
    }
   ],
   "source": [
    "bin(77)"
   ]
  },
  {
   "cell_type": "code",
   "execution_count": 117,
   "id": "explicit-pipeline",
   "metadata": {},
   "outputs": [
    {
     "data": {
      "text/plain": [
       "'0b1000000'"
      ]
     },
     "execution_count": 117,
     "metadata": {},
     "output_type": "execute_result"
    }
   ],
   "source": [
    "bin(64)"
   ]
  },
  {
   "cell_type": "code",
   "execution_count": 147,
   "id": "synthetic-benjamin",
   "metadata": {},
   "outputs": [
    {
     "data": {
      "text/plain": [
       "'0b1101'"
      ]
     },
     "execution_count": 147,
     "metadata": {},
     "output_type": "execute_result"
    }
   ],
   "source": [
    "bin(77 ^ 64)"
   ]
  },
  {
   "cell_type": "markdown",
   "id": "included-baptist",
   "metadata": {},
   "source": [
    "# XOR Parity"
   ]
  },
  {
   "cell_type": "markdown",
   "id": "desperate-enclosure",
   "metadata": {},
   "source": [
    "The XOR of a group of bits is its parity\n",
    "Parity is `1` if theres an odd amount of bits in a binary word `0111`, `0` if even like `0110`\n"
   ]
  },
  {
   "cell_type": "markdown",
   "id": "respective-handle",
   "metadata": {},
   "source": [
    "### Example\n",
    "\n",
    "Finding the parity of `11010111`, through grouping subsets of this binary word"
   ]
  },
  {
   "cell_type": "code",
   "execution_count": 118,
   "id": "charged-station",
   "metadata": {},
   "outputs": [],
   "source": [
    "x = int('11010111', 2)"
   ]
  },
  {
   "cell_type": "markdown",
   "id": "quiet-aberdeen",
   "metadata": {},
   "source": [
    "The parity of `11010111` is the same as the parity of `1101 XOR(^) 0111`, aka `1010`"
   ]
  },
  {
   "cell_type": "code",
   "execution_count": 119,
   "id": "organizational-implement",
   "metadata": {},
   "outputs": [
    {
     "data": {
      "text/plain": [
       "'0b11010111'"
      ]
     },
     "execution_count": 119,
     "metadata": {},
     "output_type": "execute_result"
    }
   ],
   "source": [
    "bin(x)"
   ]
  },
  {
   "cell_type": "code",
   "execution_count": 120,
   "id": "funded-marina",
   "metadata": {},
   "outputs": [
    {
     "data": {
      "text/plain": [
       "'0b1101'"
      ]
     },
     "execution_count": 120,
     "metadata": {},
     "output_type": "execute_result"
    }
   ],
   "source": [
    "bin(x >> 4)"
   ]
  },
  {
   "cell_type": "code",
   "execution_count": 121,
   "id": "ranging-liberal",
   "metadata": {},
   "outputs": [
    {
     "data": {
      "text/plain": [
       "'0b11011010'"
      ]
     },
     "execution_count": 121,
     "metadata": {},
     "output_type": "execute_result"
    }
   ],
   "source": [
    "x = x ^ x >> 4\n",
    "bin(x)"
   ]
  },
  {
   "cell_type": "markdown",
   "id": "enhanced-lounge",
   "metadata": {},
   "source": [
    "Notice the last 4 digits only, pattern repeats as so"
   ]
  },
  {
   "cell_type": "code",
   "execution_count": 122,
   "id": "gothic-crazy",
   "metadata": {},
   "outputs": [
    {
     "data": {
      "text/plain": [
       "'0b11101100'"
      ]
     },
     "execution_count": 122,
     "metadata": {},
     "output_type": "execute_result"
    }
   ],
   "source": [
    "x ^= x >> 2\n",
    "bin(x)"
   ]
  },
  {
   "cell_type": "code",
   "execution_count": 123,
   "id": "announced-queue",
   "metadata": {},
   "outputs": [
    {
     "data": {
      "text/plain": [
       "'0b11010111'"
      ]
     },
     "execution_count": 123,
     "metadata": {},
     "output_type": "execute_result"
    }
   ],
   "source": [
    "x ^= x >> 2\n",
    "bin(x)"
   ]
  },
  {
   "cell_type": "code",
   "execution_count": 124,
   "id": "governing-creek",
   "metadata": {},
   "outputs": [
    {
     "data": {
      "text/plain": [
       "'0b10111100'"
      ]
     },
     "execution_count": 124,
     "metadata": {},
     "output_type": "execute_result"
    }
   ],
   "source": [
    "x ^= x >> 1\n",
    "bin(x)"
   ]
  },
  {
   "cell_type": "markdown",
   "id": "alone-portugal",
   "metadata": {},
   "source": [
    "Finally, you just have to bitwise AND the last digit since XOR parity is commutative"
   ]
  },
  {
   "cell_type": "code",
   "execution_count": 125,
   "id": "bridal-block",
   "metadata": {},
   "outputs": [
    {
     "data": {
      "text/plain": [
       "0"
      ]
     },
     "execution_count": 125,
     "metadata": {},
     "output_type": "execute_result"
    }
   ],
   "source": [
    "result = x & 0x1\n",
    "result"
   ]
  }
 ],
 "metadata": {
  "kernelspec": {
   "display_name": "Python 3",
   "language": "python",
   "name": "python3"
  },
  "language_info": {
   "codemirror_mode": {
    "name": "ipython",
    "version": 3
   },
   "file_extension": ".py",
   "mimetype": "text/x-python",
   "name": "python",
   "nbconvert_exporter": "python",
   "pygments_lexer": "ipython3",
   "version": "3.9.2"
  }
 },
 "nbformat": 4,
 "nbformat_minor": 5
}
