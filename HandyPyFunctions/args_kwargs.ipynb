{
 "cells": [
  {
   "attachments": {},
   "cell_type": "markdown",
   "metadata": {},
   "source": [
    "# *args and **kwargs\n",
    "\n",
    "These keywords when passed into a function represent a variable number of arguments that could be passed in.\n",
    "\n",
    "Everything after what's predefined is stored in args and kwargs\n",
    "\n",
    "args\n",
    "- represents plain arguments like an int, list, string, etc\n",
    "- Stored in a tuple format\n",
    "\n",
    "kwargs\n",
    "- represents key-word pair arguments with the syntax `key=word`\n",
    "- Stored in a dictionary format"
   ]
  },
  {
   "cell_type": "code",
   "execution_count": 18,
   "metadata": {},
   "outputs": [
    {
     "name": "stdout",
     "output_type": "stream",
     "text": [
      "u,v = (1, 'euler')\n",
      "(2.71, [6, 28])\n"
     ]
    }
   ],
   "source": [
    "# Printing args\n",
    "def foo(u, v, *args, **kwargs):\n",
    "    print('u,v = ' + str((u, v)))\n",
    "    print(args)\n",
    "\n",
    "foo(1, 'euler', 2.71, [6, 28], name='cfg', rank=1)"
   ]
  },
  {
   "cell_type": "code",
   "execution_count": 19,
   "metadata": {},
   "outputs": [
    {
     "name": "stdout",
     "output_type": "stream",
     "text": [
      "u,v = (1, 'euler')\n",
      "{'name': 'cfg', 'rank': 1}\n"
     ]
    }
   ],
   "source": [
    "# Printing kwargs\n",
    "def foo(u, v, *args, **kwargs):\n",
    "    print('u,v = ' + str((u, v)))\n",
    "    print(kwargs)\n",
    "\n",
    "foo(1, 'euler', 2.71, [6, 28], name='cfg', rank=1)"
   ]
  },
  {
   "attachments": {},
   "cell_type": "markdown",
   "metadata": {},
   "source": [
    "## Importance of the *\n",
    "\n",
    "When you don't include the * when calling a function with args and kwargs, it all gets stored as a tuple in the args list"
   ]
  },
  {
   "cell_type": "code",
   "execution_count": 20,
   "metadata": {},
   "outputs": [
    {
     "name": "stdout",
     "output_type": "stream",
     "text": [
      "u,v = (1, 'euler')\n",
      "((2.71, [6, 28]), {'name': 'cfg', 'rank': 1})\n",
      "{}\n"
     ]
    }
   ],
   "source": [
    "def foo(u, v, *args, **kwargs):\n",
    "    print('u,v = ' + str((u, v)))\n",
    "    print(args)\n",
    "    print(kwargs)\n",
    "\n",
    "args = (2.71, [6, 28])\n",
    "kwargs = {'name': 'cfg', 'rank': 1}\n",
    "\n",
    "\n",
    "foo(1, 'euler', args, kwargs) # not using *'s"
   ]
  },
  {
   "cell_type": "code",
   "execution_count": 21,
   "metadata": {},
   "outputs": [
    {
     "name": "stdout",
     "output_type": "stream",
     "text": [
      "u,v = (1, 'euler')\n",
      "(2.71, [6, 28])\n",
      "{'name': 'cfg', 'rank': 1}\n"
     ]
    }
   ],
   "source": [
    "def foo(u, v, *args, **kwargs):\n",
    "    print('u,v = ' + str((u, v)))\n",
    "    print(args)\n",
    "    print(kwargs)\n",
    "\n",
    "args = (2.71, [6, 28])\n",
    "kwargs = {'name': 'cfg', 'rank': 1}\n",
    "\n",
    "\n",
    "foo(1, 'euler', *args, **kwargs) # using *'s"
   ]
  },
  {
   "cell_type": "code",
   "execution_count": null,
   "metadata": {},
   "outputs": [],
   "source": [
    "def outer-scope-error():\n",
    "    def inner():\n",
    "        try:\n",
    "            x = x + 321\n",
    "        except NameError:\n",
    "            print('Error: x is local, and so x + 1 is not defined yet')\n",
    "    x = 123\n",
    "    inner()\n",
    "outer-scope-error() # prints Error\n",
    "\n",
    "def outer-scope-array-no-error():\n",
    "    def inner():\n",
    "        x[0] = -x[0] # x[0] isn't a variable, it's resolved fron outer x\n",
    "    x = [314]\n",
    "    inner ()\n",
    "    print (x[0]) # -314\n",
    "outer-scope-array-no-error()"
   ]
  }
 ],
 "metadata": {
  "kernelspec": {
   "display_name": "Python 3",
   "language": "python",
   "name": "python3"
  },
  "language_info": {
   "codemirror_mode": {
    "name": "ipython",
    "version": 3
   },
   "file_extension": ".py",
   "mimetype": "text/x-python",
   "name": "python",
   "nbconvert_exporter": "python",
   "pygments_lexer": "ipython3",
   "version": "3.8.10"
  },
  "orig_nbformat": 4,
  "vscode": {
   "interpreter": {
    "hash": "916dbcbb3f70747c44a77c7bcd40155683ae19c65e1c03b4aa3499c5328201f1"
   }
  }
 },
 "nbformat": 4,
 "nbformat_minor": 2
}
