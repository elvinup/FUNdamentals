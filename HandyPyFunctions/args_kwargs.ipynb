{
 "cells": [
  {
   "attachments": {},
   "cell_type": "markdown",
   "metadata": {},
   "source": [
    "# *args and **kwargs\n",
    "\n",
    "These keywords, when passed into a function, represent a variable number of arguments that could be passed in.\n",
    "\n",
    "Everything after what's predefined is stored in args and kwargs\n",
    "\n",
    "args\n",
    "- represents plain arguments like an int, list, string, etc\n",
    "- Stored in a tuple format\n",
    "\n",
    "kwargs\n",
    "- represents key-word pair arguments with the syntax `key=word`\n",
    "- Stored in a dictionary format"
   ]
  },
  {
   "cell_type": "code",
   "execution_count": 1,
   "metadata": {},
   "outputs": [
    {
     "name": "stdout",
     "output_type": "stream",
     "text": [
      "u,v = (1, 'euler')\n",
      "(2.71, [6, 28])\n"
     ]
    }
   ],
   "source": [
    "# Printing args\n",
    "def foo(u, v, *args, **kwargs):\n",
    "    print('u,v = ' + str((u, v)))\n",
    "    print(args)\n",
    "\n",
    "foo(1, 'euler', 2.71, [6, 28], name='cfg', rank=1)"
   ]
  },
  {
   "cell_type": "code",
   "execution_count": 2,
   "metadata": {},
   "outputs": [
    {
     "name": "stdout",
     "output_type": "stream",
     "text": [
      "u,v = (1, 'euler')\n",
      "{'name': 'cfg', 'rank': 1}\n"
     ]
    }
   ],
   "source": [
    "# Printing kwargs\n",
    "def foo(u, v, *args, **kwargs):\n",
    "    print('u,v = ' + str((u, v)))\n",
    "    print(kwargs)\n",
    "\n",
    "foo(1, 'euler', 2.71, [6, 28], name='cfg', rank=1)"
   ]
  },
  {
   "attachments": {},
   "cell_type": "markdown",
   "metadata": {},
   "source": [
    "## Importance of the *\n",
    "The * asterisk represents the variable number of things arguments you can pass into a function, and ** represents variable number of key:values pairs.\n",
    "\n",
    "When you don't include the * when calling a function with args and kwargs, it all gets stored as a tuple in the args list"
   ]
  },
  {
   "cell_type": "code",
   "execution_count": 3,
   "metadata": {},
   "outputs": [
    {
     "name": "stdout",
     "output_type": "stream",
     "text": [
      "u,v = (1, 'euler')\n",
      "((2.71, [6, 28]), {'name': 'cfg', 'rank': 1})\n",
      "{}\n"
     ]
    }
   ],
   "source": [
    "def foo(u, v, *args, **kwargs):\n",
    "    print('u,v = ' + str((u, v)))\n",
    "    print(args)\n",
    "    print(kwargs)\n",
    "\n",
    "args = (2.71, [6, 28])\n",
    "kwargs = {'name': 'cfg', 'rank': 1}\n",
    "\n",
    "\n",
    "foo(1, 'euler', args, kwargs) # not using *'s"
   ]
  },
  {
   "cell_type": "code",
   "execution_count": 10,
   "metadata": {},
   "outputs": [
    {
     "name": "stdout",
     "output_type": "stream",
     "text": [
      "u,v = (1, 'euler')\n",
      "(2.71, [6, 28])\n",
      "{'name': 'cfg', 'rank': 1}\n"
     ]
    }
   ],
   "source": [
    "def foo(u, v, *args, **kwargs):\n",
    "    print('u,v = ' + str((u, v)))\n",
    "    print(args)\n",
    "    print(kwargs)\n",
    "\n",
    "args = (2.71, [6, 28])\n",
    "kwargs = {'name': 'cfg', 'rank': 1}\n",
    "\n",
    "\n",
    "foo(1, 'euler', *args, **kwargs) # using *'s"
   ]
  },
  {
   "cell_type": "markdown",
   "metadata": {},
   "source": [
    "## Python Scope Quirk"
   ]
  },
  {
   "cell_type": "code",
   "execution_count": 5,
   "metadata": {},
   "outputs": [
    {
     "name": "stdout",
     "output_type": "stream",
     "text": [
      "Error: x is local, and so x + 1 is not defined yet\n",
      "-314\n"
     ]
    }
   ],
   "source": [
    "def outer_scope_error():\n",
    "    def inner():\n",
    "        try:\n",
    "            x = x + 321\n",
    "        except NameError:\n",
    "            print('Error: x is local, and so x + 1 is not defined yet')\n",
    "    x = 123\n",
    "    inner()\n",
    "outer_scope_error() # prints Error because variable is considered local inside a function. If not defined explicitly in the inner function, it will error out\n",
    "\n",
    "def outer_scope_array_no_error():\n",
    "    def inner():\n",
    "        x[0] = -x[0] # x[0] isn't a variable, it is instead the underlying mutable list underneath the variable x. Lists and dictionaries are mutable implictly outside the scope\n",
    "    x = [314]\n",
    "    inner ()\n",
    "    print (x[0]) # -314\n",
    "outer_scope_array_no_error()"
   ]
  },
  {
   "cell_type": "markdown",
   "metadata": {},
   "source": [
    "The key difference lies in whether you're modifying the content of a mutable object (like a list) or attempting to assign to a variable directly. Modifying the content of a mutable object affects the original object regardless of scope, while attempting to assign to a variable directly within a function's scope treats that variable as local unless otherwise specified."
   ]
  }
 ],
 "metadata": {
  "kernelspec": {
   "display_name": "Python 3",
   "language": "python",
   "name": "python3"
  },
  "language_info": {
   "codemirror_mode": {
    "name": "ipython",
    "version": 3
   },
   "file_extension": ".py",
   "mimetype": "text/x-python",
   "name": "python",
   "nbconvert_exporter": "python",
   "pygments_lexer": "ipython3",
   "version": "3.10.12"
  },
  "orig_nbformat": 4,
  "vscode": {
   "interpreter": {
    "hash": "916dbcbb3f70747c44a77c7bcd40155683ae19c65e1c03b4aa3499c5328201f1"
   }
  }
 },
 "nbformat": 4,
 "nbformat_minor": 2
}
