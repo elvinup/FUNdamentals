{
 "cells": [
  {
   "cell_type": "markdown",
   "source": [
    "# Reduce Function\n",
    "\n",
    "## 6.2 Takeaway\n",
    "\n",
    "Lambda Functions are kinda a pre-req to using these\n",
    "\n",
    "The reduce function allows you to apply a function to a list quickly"
   ],
   "metadata": {}
  },
  {
   "cell_type": "code",
   "execution_count": 9,
   "source": [
    "import functools\n",
    "\n",
    "# Let's say you wanted to add all the numbers of a list together super quickly and look slick to your noob interviewer\n",
    "some_list = [1, 2, 3, 4]\n",
    "lambda_func = lambda x, y: x + y + 1\n",
    "functools.reduce(lambda_func, some_list)"
   ],
   "outputs": [
    {
     "output_type": "execute_result",
     "data": {
      "text/plain": [
       "13"
      ]
     },
     "metadata": {},
     "execution_count": 9
    }
   ],
   "metadata": {}
  },
  {
   "cell_type": "code",
   "execution_count": 11,
   "source": [
    "# The 3rd parameter gives you a starting element to work with\n",
    "# basically adds one more iteration pf the function, but at the beginning with the passed in number\n",
    "\n",
    "functools.reduce(lambda_func, some_list, 1)"
   ],
   "outputs": [
    {
     "output_type": "execute_result",
     "data": {
      "text/plain": [
       "15"
      ]
     },
     "metadata": {},
     "execution_count": 11
    }
   ],
   "metadata": {}
  }
 ],
 "metadata": {
  "orig_nbformat": 4,
  "language_info": {
   "name": "python",
   "version": "3.8.10",
   "mimetype": "text/x-python",
   "codemirror_mode": {
    "name": "ipython",
    "version": 3
   },
   "pygments_lexer": "ipython3",
   "nbconvert_exporter": "python",
   "file_extension": ".py"
  },
  "kernelspec": {
   "name": "python3",
   "display_name": "Python 3.8.10 64-bit"
  },
  "interpreter": {
   "hash": "916dbcbb3f70747c44a77c7bcd40155683ae19c65e1c03b4aa3499c5328201f1"
  }
 },
 "nbformat": 4,
 "nbformat_minor": 2
}