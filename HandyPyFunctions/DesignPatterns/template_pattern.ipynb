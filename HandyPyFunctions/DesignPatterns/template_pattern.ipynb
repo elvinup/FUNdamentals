{
 "cells": [
  {
   "attachments": {},
   "cell_type": "markdown",
   "metadata": {},
   "source": [
    "# Template Pattern\n",
    "\n",
    "The template pattern is useful if you are trying to simplify a monolothic class into subclasses. These subclasses should have common \"abstract methods\" that they can differentiate from the template class. \n",
    "\n",
    "A trading bot makes for a good example because it can have the same general template for a class, but we may want to decide whether or not to sell or buy based on a specific strategy that the subclasses can override. \n",
    "\n",
    "The below example uses MinMaxTrader and AverageTrader classes as an example of this"
   ]
  },
  {
   "cell_type": "code",
   "execution_count": 4,
   "metadata": {},
   "outputs": [
    {
     "name": "stdout",
     "output_type": "stream",
     "text": [
      "Connecting to Crypto exchange...\n",
      "No action needed for BTC/USD.\n",
      "Connecting to Crypto exchange...\n",
      "You should sell BTC/USD!\n"
     ]
    }
   ],
   "source": [
    "from abc import ABC, abstractmethod\n",
    "from typing import List\n",
    "\n",
    "class TradingBot(ABC):\n",
    "    \n",
    "    def connect(self):\n",
    "        print(f\"Connecting to Crypto exchange...\")\n",
    "\n",
    "    def get_market_data(self, coin: str) -> List[float]:\n",
    "        return [10, 12, 18, 14]\n",
    "\n",
    "    def check_prices(self, coin: str):\n",
    "        self.connect()\n",
    "        prices = self.get_market_data(coin)\n",
    "        should_buy = self.should_buy(prices)\n",
    "        should_sell = self.should_sell(prices)\n",
    "        if should_buy:\n",
    "            print(f\"You should buy {coin}!\")\n",
    "        elif should_sell:\n",
    "            print(f\"You should sell {coin}!\")\n",
    "        else:\n",
    "            print(f\"No action needed for {coin}.\")\n",
    "\n",
    "    @abstractmethod\n",
    "    def should_buy(self, prices: List[float]) -> bool:\n",
    "        pass\n",
    "\n",
    "    @abstractmethod\n",
    "    def should_sell(self, prices: List[float]) -> bool:\n",
    "        pass\n",
    "\n",
    "class AverageTrader(TradingBot):\n",
    "\n",
    "    def list_average(self, l: List[float]) -> float:\n",
    "        return sum(l) / len(l)\n",
    "\n",
    "    def should_buy(self, prices: List[float]) -> bool:\n",
    "        return prices[-1] < self.list_average(prices)\n",
    "\n",
    "    def should_sell(self, prices: List[float]) -> bool:\n",
    "        return prices[-1] > self.list_average(prices)\n",
    "\n",
    "class MinMaxTrader(TradingBot):\n",
    "\n",
    "    def should_buy(self, prices: List[float]) -> bool:\n",
    "        return prices[-1] == min(prices)\n",
    "\n",
    "    def should_sell(self, prices: List[float]) -> bool:\n",
    "        return prices[-1] == max(prices)\n",
    "\n",
    "application = MinMaxTrader()\n",
    "application.check_prices(\"BTC/USD\")\n",
    "\n",
    "avg_application = AverageTrader()\n",
    "avg_application.check_prices(\"BTC/USD\")"
   ]
  }
 ],
 "metadata": {
  "kernelspec": {
   "display_name": "Python 3",
   "language": "python",
   "name": "python3"
  },
  "language_info": {
   "codemirror_mode": {
    "name": "ipython",
    "version": 3
   },
   "file_extension": ".py",
   "mimetype": "text/x-python",
   "name": "python",
   "nbconvert_exporter": "python",
   "pygments_lexer": "ipython3",
   "version": "3.10.12"
  },
  "orig_nbformat": 4
 },
 "nbformat": 4,
 "nbformat_minor": 2
}
