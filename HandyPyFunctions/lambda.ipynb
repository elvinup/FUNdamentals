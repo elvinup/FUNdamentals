{
 "cells": [
  {
   "cell_type": "markdown",
   "metadata": {},
   "source": [
    "# Lambda Functions\n",
    "\n",
    "## Takeaway from 6.2\n",
    "\n",
    "These can be handy functions written in one line to look slick if you can remember wtf its syntax is. \n",
    "\n",
    "Here's a refresher!"
   ]
  },
  {
   "cell_type": "code",
   "execution_count": 1,
   "metadata": {},
   "outputs": [
    {
     "data": {
      "text/plain": [
       "7"
      ]
     },
     "execution_count": 1,
     "metadata": {},
     "output_type": "execute_result"
    }
   ],
   "source": [
    "addtwonums = lambda x, y: x + y\n",
    "\n",
    "addtwonums(3, 4)"
   ]
  },
  {
   "attachments": {},
   "cell_type": "markdown",
   "metadata": {},
   "source": [
    "## Closure\n",
    "\n",
    "The following program should return 3 + 4 = 7, but because the lambda and the for loop both reference **i**, this causes each i element in the increment_by_i array to be equal to 9, which is the end of the loop."
   ]
  },
  {
   "cell_type": "code",
   "execution_count": 11,
   "metadata": {},
   "outputs": [
    {
     "name": "stdout",
     "output_type": "stream",
     "text": [
      "13\n",
      "\n",
      "Printing all i elements of increment_by_i[]\n",
      "9\n",
      "9\n",
      "9\n",
      "9\n",
      "9\n",
      "9\n",
      "9\n",
      "9\n",
      "9\n",
      "9\n"
     ]
    }
   ],
   "source": [
    "increment_by_i = [lambda x: x + i for i in range(10)]\n",
    "print(increment_by_i[3](4))\n",
    "\n",
    "print(\"\\nPrinting all i elements of increment_by_i[]\")\n",
    "for fn in increment_by_i:\n",
    "    print(fn(0))"
   ]
  },
  {
   "attachments": {},
   "cell_type": "markdown",
   "metadata": {},
   "source": [
    "This can be worked around by defining the lambda within a separate function"
   ]
  },
  {
   "cell_type": "code",
   "execution_count": 9,
   "metadata": {},
   "outputs": [
    {
     "name": "stdout",
     "output_type": "stream",
     "text": [
      "7\n"
     ]
    }
   ],
   "source": [
    "def create_increment_function(x):\n",
    "    return lambda y: y + x\n",
    "\n",
    "increment_by_i = [create_increment_function(i) for i in range(10)]\n",
    "\n",
    "print(increment_by_i[3](4))"
   ]
  }
 ],
 "metadata": {
  "kernelspec": {
   "display_name": "Python 3",
   "language": "python",
   "name": "python3"
  },
  "language_info": {
   "codemirror_mode": {
    "name": "ipython",
    "version": 3
   },
   "file_extension": ".py",
   "mimetype": "text/x-python",
   "name": "python",
   "nbconvert_exporter": "python",
   "pygments_lexer": "ipython3",
   "version": "3.8.10"
  },
  "orig_nbformat": 4,
  "vscode": {
   "interpreter": {
    "hash": "916dbcbb3f70747c44a77c7bcd40155683ae19c65e1c03b4aa3499c5328201f1"
   }
  }
 },
 "nbformat": 4,
 "nbformat_minor": 2
}
