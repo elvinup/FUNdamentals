{
 "cells": [
  {
   "cell_type": "markdown",
   "metadata": {},
   "source": [
    "# Heaps\n",
    "\n",
    "## What it is\n",
    "\n",
    "Heaps are a specialized, complete binary tree. Also referred to as a **priority queue**.\n",
    "\n",
    "**Heap Property** - Keys on nodes should be >= it's childrens' keys\n",
    "\n",
    "## Max Heap Example\n",
    "\n",
    "Tree Visual:\n",
    "\n",
    "                  561\n",
    "                /     \\\n",
    "             314      401\n",
    "            /  \\      /  \\\n",
    "           28  156  359  271\n",
    "          /  \\\n",
    "         11   3\n",
    "\n",
    "Array Implementation:\n",
    "- [561, 314, 401, 28, 156, 359, 271, 11, 3]\n",
    "\n",
    "## Action: Extract Max\n",
    "\n",
    "The extract_max action removes the maximum and shifts the tree to the new priority\n",
    "\n",
    "This is what happens when we extract maximum from the above tree.\n",
    "\n",
    "Tree Visual:\n",
    "\n",
    "                  401\n",
    "                /     \\\n",
    "             314      359\n",
    "            /  \\      /  \\\n",
    "           28  156   3  271\n",
    "          /  \n",
    "         11   \n",
    "\n",
    "## Specs\n",
    "\n",
    "- O(log(n)) insertion\n",
    "- O(1) max lookup\n",
    "- O(log(n)) deletion\n",
    "- O(n) for searching arbitrary keys\n",
    "\n",
    "A min heap is the same, except extracting the minimum is O(1)\n",
    "\n",
    "## Tips\n",
    "\n",
    "Used especially when: \n",
    "- asked for tracking the **k-th** largest elements\n",
    "  - Use min heap\n",
    "    - because when larger element is added, we want to pop the smallest\n",
    "    - and min heap removes the smallest element in O(1)\n",
    "- asked for the **k-th** smallest element\n",
    "  - Use max heap\n",
    "    - because when another element is added, we want to pop the largest to keep the minimum elements in a size k array/list\n",
    "- Don't need fast lookup, delete, or search operations\n",
    "\n",
    "For Min heap\n",
    "Let's say there's a node at position *k*\n",
    "\n",
    "These rules are consistent\n",
    "- It's left child is at 2k+1\n",
    "- It's right child is at 2k+2\n",
    "\n",
    " "
   ]
  },
  {
   "cell_type": "code",
   "execution_count": 26,
   "metadata": {},
   "outputs": [
    {
     "name": "stdout",
     "output_type": "stream",
     "text": [
      "[1, 2, 3, 3, 50, 5, 38]\n"
     ]
    }
   ],
   "source": [
    "'''\n",
    "Common Heap Libraries\n",
    "'''\n",
    "import heapq\n",
    "\n",
    "ex_list = [5, 3, 38, 2, 50, 3, 1]\n",
    "\n",
    "# Transforms list into min-heap in place\n",
    "heapq.heapify(ex_list)\n",
    "print(ex_list)"
   ]
  },
  {
   "cell_type": "code",
   "execution_count": 27,
   "metadata": {},
   "outputs": [
    {
     "name": "stdout",
     "output_type": "stream",
     "text": [
      "[50, 38, 5]\n",
      "[1, 2, 3]\n"
     ]
    }
   ],
   "source": [
    "# returns k largest/smallest elements in list\n",
    "print(heapq.nlargest(3, ex_list))\n",
    "print(heapq.nsmallest(3, ex_list))"
   ]
  },
  {
   "cell_type": "code",
   "execution_count": 28,
   "metadata": {},
   "outputs": [
    {
     "name": "stdout",
     "output_type": "stream",
     "text": [
      "[1, 1, 3, 2, 50, 5, 38, 3]\n"
     ]
    }
   ],
   "source": [
    "# push new element onto the heap\n",
    "heapq.heappush(ex_list, 1)\n",
    "print(ex_list)"
   ]
  },
  {
   "cell_type": "code",
   "execution_count": 30,
   "metadata": {},
   "outputs": [
    {
     "name": "stdout",
     "output_type": "stream",
     "text": [
      "1 \n",
      " [2, 3, 3, 38, 50, 5]\n"
     ]
    }
   ],
   "source": [
    "# Pops the smallest element from the heap\n",
    "elem = heapq.heappop(ex_list)\n",
    "print(elem, ex_list)"
   ]
  },
  {
   "cell_type": "code",
   "execution_count": 31,
   "metadata": {},
   "outputs": [
    {
     "name": "stdout",
     "output_type": "stream",
     "text": [
      "[3, 3, 4, 38, 50, 5]\n"
     ]
    }
   ],
   "source": [
    "# Adds element to heap and returns and pops the smallest one\n",
    "heapq.heappushpop(ex_list, 4)\n",
    "print(ex_list)"
   ]
  },
  {
   "cell_type": "code",
   "execution_count": 36,
   "metadata": {},
   "outputs": [
    {
     "data": {
      "text/plain": [
       "[50, 5, 38, 2, 3, 3, 1]"
      ]
     },
     "execution_count": 36,
     "metadata": {},
     "output_type": "execute_result"
    }
   ],
   "source": [
    "# Heapq only provides min heap functionality\n",
    "# To use max-heap, you can insert negative version of numbers to get the same effect with the regular heapify function, OR use this hidden method\n",
    "\n",
    "ex_list = [5, 3, 38, 2, 50, 3, 1]\n",
    "heapq._heapify_max(ex_list)\n",
    "ex_list"
   ]
  },
  {
   "cell_type": "code",
   "execution_count": 37,
   "metadata": {},
   "outputs": [
    {
     "data": {
      "text/plain": [
       "[38, 5, 3, 2, 3, 1]"
      ]
     },
     "execution_count": 37,
     "metadata": {},
     "output_type": "execute_result"
    }
   ],
   "source": [
    "# There's also a hidden heap pop max method\n",
    "\n",
    "heapq._heappop_max(ex_list)\n",
    "ex_list"
   ]
  }
 ],
 "metadata": {
  "interpreter": {
   "hash": "aee8b7b246df8f9039afb4144a1f6fd8d2ca17a180786b69acc140d282b71a49"
  },
  "kernelspec": {
   "display_name": "Python 3.9.7 64-bit",
   "language": "python",
   "name": "python3"
  },
  "language_info": {
   "codemirror_mode": {
    "name": "ipython",
    "version": 3
   },
   "file_extension": ".py",
   "mimetype": "text/x-python",
   "name": "python",
   "nbconvert_exporter": "python",
   "pygments_lexer": "ipython3",
   "version": "3.9.9"
  },
  "orig_nbformat": 4
 },
 "nbformat": 4,
 "nbformat_minor": 2
}
