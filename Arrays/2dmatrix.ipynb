{
 "cells": [
  {
   "cell_type": "markdown",
   "metadata": {},
   "source": [
    "# 2D Matrices\n",
    "\n",
    "## 5.17 Takeaway (Sudoku Validator)"
   ]
  },
  {
   "cell_type": "markdown",
   "metadata": {},
   "source": [
    "## List Comprehension"
   ]
  },
  {
   "cell_type": "markdown",
   "metadata": {},
   "source": [
    "If you have too many lists to make, try using list comprehension\n",
    "\n",
    "This also makes comparing 2 blocks of a grid easier to compare"
   ]
  },
  {
   "cell_type": "code",
   "execution_count": 5,
   "metadata": {},
   "outputs": [
    {
     "data": {
      "text/plain": [
       "[1, 3, 5, 7, 9, 2, 3]"
      ]
     },
     "execution_count": 5,
     "metadata": {},
     "output_type": "execute_result"
    }
   ],
   "source": [
    "# Subgrid referencing 3x3 in sudoku puzzle\n",
    "matrix = [[1, 3, 0], [5, 0, 7], [9, 2, 3]]\n",
    "subgrid = [matrix[i][j] for i in range(0, 3) for j in range(0, 3) if matrix[i][j] != 0]\n",
    "subgrid"
   ]
  },
  {
   "cell_type": "markdown",
   "metadata": {},
   "source": [
    "## Initializing a boolean 2D Array\n",
    "\n",
    "Dont use * to initialize whole rows and columns, otherwise editing one index can affect an entire column!"
   ]
  },
  {
   "cell_type": "code",
   "execution_count": 6,
   "metadata": {},
   "outputs": [
    {
     "name": "stdout",
     "output_type": "stream",
     "text": [
      "[[False, False, False], [False, False, False], [False, False, False]]\n"
     ]
    }
   ],
   "source": [
    "boolMatrix = [[False for x in range(len(matrix[0]))] for x in range(len(matrix))]\n",
    "print(boolMatrix)"
   ]
  },
  {
   "cell_type": "markdown",
   "metadata": {},
   "source": [
    "## Iterating Columns in a 2D Matrix\n",
    "\n",
    "It's easy to iterate through rows as just \n",
    "\n",
    "\"for row in matrix:\"\n",
    "\n",
    "but to iterate columns, you must be iterating through rows already to access them. **Don't use for each loops!**"
   ]
  },
  {
   "cell_type": "code",
   "execution_count": 7,
   "metadata": {},
   "outputs": [
    {
     "name": "stdout",
     "output_type": "stream",
     "text": [
      "[1, 5, 9]\n",
      "[3, 2]\n",
      "[7, 3]\n"
     ]
    }
   ],
   "source": [
    "# Must use integer iterator i to iterate through columns, don't use for each! \n",
    "# let's spice it up by skipping 0's specifically, like in the sudo puzzle\n",
    "for i in range(len(matrix)):\n",
    "    col = [row[i] for row in matrix if row[i] != 0]\n",
    "    print(col)"
   ]
  },
  {
   "cell_type": "markdown",
   "metadata": {},
   "source": [
    "## Sets\n",
    "\n",
    "Sets can be handy when checking if the elements in a list are all unique slick and efficiently!\n",
    "\n",
    "Just check the length of a list with the length of a list as a set"
   ]
  },
  {
   "cell_type": "code",
   "execution_count": 8,
   "metadata": {},
   "outputs": [
    {
     "data": {
      "text/plain": [
       "False"
      ]
     },
     "execution_count": 8,
     "metadata": {},
     "output_type": "execute_result"
    }
   ],
   "source": [
    "## Sets\n",
    "# This one's not unique, has 2 2's\n",
    "len(subgrid) == len(set(subgrid))"
   ]
  },
  {
   "cell_type": "markdown",
   "metadata": {},
   "source": [
    "## 15.3 Takeaway (N Queens)\n",
    "\n",
    "### Checking if Previous Diagonal was hit\n",
    "\n",
    "In this problem, I had to place a queen in a slot, and check back previous placements to see if the new placement on a new row was valid.\n",
    "\n",
    "It's easy to check if there's a queen already on the current column.\n",
    "\n",
    "The hard part is checking the previous diagonals. To do it, we can use the following technique, utilizing the **row** and **index** we're on:"
   ]
  },
  {
   "cell_type": "code",
   "execution_count": 27,
   "metadata": {},
   "outputs": [],
   "source": [
    "# Starting with a 4x4 matrix\n",
    "# Each 1 symbolizes a queen placement\n",
    "# We'll start at row 3, where we already placed\n",
    "\n",
    "n = 4\n",
    "row = 2\n",
    "two_d_array = [[1, 0, 0, 0], [0, 0, 0, 1], [0, 0, 0, 0], [0, 0, 0, 0]]\n",
    "\n",
    "# The column placement represents columns where there's a queen so far\n",
    "# Each index represents a different row, the value is the column it's placed in on that row\n",
    "column_placement = [0, 3, -1, -1]\n"
   ]
  },
  {
   "cell_type": "code",
   "execution_count": 28,
   "metadata": {},
   "outputs": [
    {
     "name": "stdout",
     "output_type": "stream",
     "text": [
      "[False, True]\n",
      "[True, True]\n",
      "1\n",
      "[False, False]\n",
      "[True, False]\n"
     ]
    }
   ],
   "source": [
    "for column in range(n):\n",
    "    # We wanna check if the column is same first\n",
    "    tests = []\n",
    "    for index, column_to_test in enumerate(column_placement[:row]):\n",
    "        if column_to_test != column and (abs(column_to_test - column) != row - index):\n",
    "            tests.append(True)\n",
    "        else:\n",
    "            tests.append(False)\n",
    "    \n",
    "    print(tests)\n",
    "    # If all lets you test if all Booleans in a list are True\n",
    "    if all(tests):\n",
    "        print(column)"
   ]
  },
  {
   "cell_type": "markdown",
   "metadata": {},
   "source": [
    "We can achieve the same result with much less code using this slick list comprehension technique, just like how the EPI book does it"
   ]
  },
  {
   "cell_type": "code",
   "execution_count": 29,
   "metadata": {},
   "outputs": [
    {
     "name": "stdout",
     "output_type": "stream",
     "text": [
      "1\n"
     ]
    }
   ],
   "source": [
    "for column in range(n):\n",
    "    # We can use list comprehension to make this much cleaner, just like how EPI does it. Code block above is much more readable tho\n",
    "    if all(abs(column_to_test - column) not in (0, row - index) for index, column_to_test in enumerate(column_placement[:row])):\n",
    "        print(column)"
   ]
  }
 ],
 "metadata": {
  "interpreter": {
   "hash": "916dbcbb3f70747c44a77c7bcd40155683ae19c65e1c03b4aa3499c5328201f1"
  },
  "kernelspec": {
   "display_name": "Python 3.8.10 64-bit",
   "name": "python3"
  },
  "language_info": {
   "codemirror_mode": {
    "name": "ipython",
    "version": 3
   },
   "file_extension": ".py",
   "mimetype": "text/x-python",
   "name": "python",
   "nbconvert_exporter": "python",
   "pygments_lexer": "ipython3",
   "version": "3.8.10"
  },
  "orig_nbformat": 4
 },
 "nbformat": 4,
 "nbformat_minor": 2
}
