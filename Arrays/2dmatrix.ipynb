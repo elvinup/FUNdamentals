{
 "cells": [
  {
   "cell_type": "markdown",
   "source": [
    "# 2D Matrices\n",
    "\n",
    "## 5.17 Takeaway (Sudoku Validator)"
   ],
   "metadata": {}
  },
  {
   "cell_type": "markdown",
   "source": [
    "### List Comprehension"
   ],
   "metadata": {}
  },
  {
   "cell_type": "markdown",
   "source": [
    "If you have too many lists to make, try using list comprehension\n",
    "\n",
    "This also makes comparing 2 blocks of a grid easier to compare"
   ],
   "metadata": {}
  },
  {
   "cell_type": "code",
   "execution_count": 9,
   "source": [
    "# Subgrid referencing 3x3 in sudoku puzzle\n",
    "s_matrix = [[1, 3, 0], [5, 0, 7], [9, 2, 3]]\n",
    "subgrid = [s_matrix[i][j] for i in range(0, 3) for j in range(0, 3) if s_matrix[i][j] != 0]\n",
    "subgrid"
   ],
   "outputs": [
    {
     "output_type": "execute_result",
     "data": {
      "text/plain": [
       "[1, 3, 5, 7, 9, 2, 3]"
      ]
     },
     "metadata": {},
     "execution_count": 9
    }
   ],
   "metadata": {}
  },
  {
   "cell_type": "markdown",
   "source": [
    "### Iterating Columns in a 2D Matrix\n",
    "\n",
    "It's easy to iterate through rows as just \n",
    "\n",
    "\"for row in matrix:\"\n",
    "\n",
    "but to iterate columns, you must be iterating through rows already to access them. **Don't use for each loops!**"
   ],
   "metadata": {}
  },
  {
   "cell_type": "code",
   "execution_count": 10,
   "source": [
    "# Must use integer iterator i to iterate through columns, don't use for each! \n",
    "# let's spice it up by skipping 0's specifically, like in the sudo puzzle\n",
    "for i in range(len(s_matrix)):\n",
    "    col = [row[i] for row in s_matrix if row[i] != 0]\n",
    "    print(col)"
   ],
   "outputs": [
    {
     "output_type": "stream",
     "name": "stdout",
     "text": [
      "[1, 5, 9]\n",
      "[3, 2]\n",
      "[7, 3]\n"
     ]
    }
   ],
   "metadata": {}
  },
  {
   "cell_type": "markdown",
   "source": [
    "## Sets\n",
    "\n",
    "Sets can be handy when checking if the elements in a list are all unique slick and efficiently!\n",
    "\n",
    "Just check the length of a list with the length of a list as a set"
   ],
   "metadata": {}
  },
  {
   "cell_type": "code",
   "execution_count": 11,
   "source": [
    "## Sets\n",
    "# This one's not unique, has 2 2's\n",
    "len(subgrid) == len(set(subgrid))"
   ],
   "outputs": [
    {
     "output_type": "execute_result",
     "data": {
      "text/plain": [
       "False"
      ]
     },
     "metadata": {},
     "execution_count": 11
    }
   ],
   "metadata": {}
  }
 ],
 "metadata": {
  "orig_nbformat": 4,
  "language_info": {
   "name": "python",
   "version": "3.8.10",
   "mimetype": "text/x-python",
   "codemirror_mode": {
    "name": "ipython",
    "version": 3
   },
   "pygments_lexer": "ipython3",
   "nbconvert_exporter": "python",
   "file_extension": ".py"
  },
  "kernelspec": {
   "name": "python3",
   "display_name": "Python 3.8.10 64-bit"
  },
  "interpreter": {
   "hash": "916dbcbb3f70747c44a77c7bcd40155683ae19c65e1c03b4aa3499c5328201f1"
  }
 },
 "nbformat": 4,
 "nbformat_minor": 2
}