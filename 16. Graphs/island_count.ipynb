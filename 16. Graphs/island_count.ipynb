{
 "cells": [
  {
   "attachments": {},
   "cell_type": "markdown",
   "metadata": {},
   "source": [
    "## Island Count\n",
    "\n",
    "Given a 2D Matrix marked as 'L' for Land or 'W' for Water, return the number of land islands in the matrix.\n",
    "\n",
    "## Example\n",
    "\n",
    "Input: 6x6 2D matrix\n",
    "\n",
    "| W | L | W | W | W | W |\n",
    "|---|---|---|---|---|---|\n",
    "| W | L | W | W | W | W |\n",
    "| W | W | W | W | L | W |\n",
    "| W | W | W | L | L | W |\n",
    "| L | W | W | W | L | L |\n",
    "| L | L | W | W | W | W |\n",
    "\n",
    "Output:\n",
    "\n",
    "Result should be 3 since there are four separate islands made of L's\n",
    "\n",
    "## Brainstorming\n",
    "\n",
    "When you think about it, this is very similar to the connected components graph problem. With this in mind, it makes sense to simply use DFS, albeit with some iterative code when a 2d matrix is involved rather than actual nodes. \n",
    "\n",
    "Instead of going through neighbors (since there's no adjacency list), we should try to just attempt to add all nodes that are above, below, right, and left of the current index.\n",
    "\n",
    "The \"nodes\" can be represented as tuples of the `(row, column)` coordinates.\n",
    "\n",
    "```\n",
    "r = rows\n",
    "c = columns\n",
    "\n",
    "up = (r-1, c)\n",
    "down = (r+1, c)\n",
    "left = (r, c-1)\n",
    "right = (r, c+1)\n",
    "```\n",
    "\n",
    "We should make sure to use a visited set to mark already visited nodes as well.\n",
    "\n",
    "So basically,\n",
    "\n",
    "- Iterate through the grid\n",
    "- When running into a node with an 'L', start DFS and mark nodes as visited\n",
    "- +1 to counter when finishing each DFS traversal\n",
    "- return counter\n",
    "\n",
    "## Iterative DFS Implementation "
   ]
  },
  {
   "cell_type": "code",
   "execution_count": 31,
   "metadata": {},
   "outputs": [
    {
     "data": {
      "text/plain": [
       "3"
      ]
     },
     "execution_count": 31,
     "metadata": {},
     "output_type": "execute_result"
    }
   ],
   "source": [
    "def island_count(grid):\n",
    "\n",
    "  def dfs(i, j, grid, visited):\n",
    "\n",
    "    stack = [ (i, j) ]\n",
    "\n",
    "    while stack:\n",
    "      node = stack.pop()\n",
    "      visited.add(node)\n",
    "      r, c = node[0], node[1]\n",
    "\n",
    "      up = (r-1, c)\n",
    "      down = (r+1, c)\n",
    "      left = (r, c-1)\n",
    "      right = (r, c+1)\n",
    "      # Add Neighbors if possible\n",
    "      if r > 0 and grid[r-1][c] == 'L' and up not in visited:\n",
    "        stack.append(up)\n",
    "      if r < len(grid) - 1 and grid[r+1][c] == 'L' and down not in visited:\n",
    "        stack.append(down)\n",
    "      if c > 0 and grid[r][c-1] == 'L' and left not in visited:\n",
    "        stack.append(left)\n",
    "      if c < len(grid[i]) - 1 and grid[r][c+1] == 'L' and right not in visited:\n",
    "        stack.append(right)\n",
    "\n",
    "\n",
    "  visited = set()\n",
    "  counter = 0\n",
    "\n",
    "  for i, row in enumerate(grid):\n",
    "    for j, col in enumerate(row):\n",
    "\n",
    "      if grid[i][j] == 'L' and (i, j) not in visited:\n",
    "        dfs(i, j, grid, visited)\n",
    "        counter += 1\n",
    "\n",
    "  return counter\n",
    "\n",
    "grid = [\n",
    "  ['W', 'L', 'W', 'W', 'W'],\n",
    "  ['W', 'L', 'W', 'W', 'W'],\n",
    "  ['W', 'W', 'W', 'L', 'W'],\n",
    "  ['W', 'W', 'L', 'L', 'W'],\n",
    "  ['L', 'W', 'W', 'L', 'L'],\n",
    "  ['L', 'L', 'W', 'W', 'W'],\n",
    "]\n",
    "\n",
    "island_count(grid)"
   ]
  },
  {
   "attachments": {},
   "cell_type": "markdown",
   "metadata": {},
   "source": [
    "## Recursive DFS Implementation"
   ]
  },
  {
   "cell_type": "code",
   "execution_count": 32,
   "metadata": {},
   "outputs": [
    {
     "data": {
      "text/plain": [
       "3"
      ]
     },
     "execution_count": 32,
     "metadata": {},
     "output_type": "execute_result"
    }
   ],
   "source": [
    "def island_count(grid):\n",
    "\n",
    "  def dfs(r, c, grid, visited):\n",
    "    # Check bounds first\n",
    "    if r > len(grid) - 1 or r < 0:\n",
    "      return False\n",
    "    if c > len(grid[r]) - 1 or c < 0:\n",
    "      return False\n",
    "\n",
    "    if (r, c) in visited:\n",
    "      return False\n",
    "\n",
    "    # Skip water, only checking for islands\n",
    "    if grid[r][c] == 'W': \n",
    "      return False\n",
    "\n",
    "    visited.add((r, c))\n",
    "\n",
    "    dfs(r+1, c, grid, visited)\n",
    "    dfs(r-1, c, grid, visited)\n",
    "    dfs(r, c+1, grid, visited)\n",
    "    dfs(r, c-1, grid, visited)\n",
    "\n",
    "    return True\n",
    "\n",
    "\n",
    "  visited = set()\n",
    "  counter = 0\n",
    "\n",
    "  for i, row in enumerate(grid):\n",
    "    for j, col in enumerate(row):\n",
    "      if dfs(i, j, grid, visited) == True:\n",
    "        counter += 1\n",
    "\n",
    "  return counter\n",
    "\n",
    "grid = [\n",
    "  ['W', 'L', 'W', 'W', 'W'],\n",
    "  ['W', 'L', 'W', 'W', 'W'],\n",
    "  ['W', 'W', 'W', 'L', 'W'],\n",
    "  ['W', 'W', 'L', 'L', 'W'],\n",
    "  ['L', 'W', 'W', 'L', 'L'],\n",
    "  ['L', 'L', 'W', 'W', 'W'],\n",
    "]\n",
    "\n",
    "island_count(grid)"
   ]
  },
  {
   "attachments": {},
   "cell_type": "markdown",
   "metadata": {},
   "source": [
    "## Analysis\n",
    "\n",
    "Time: O(r*c)\n",
    "Space: O(r*c)"
   ]
  }
 ],
 "metadata": {
  "kernelspec": {
   "display_name": "Python 3",
   "language": "python",
   "name": "python3"
  },
  "language_info": {
   "codemirror_mode": {
    "name": "ipython",
    "version": 3
   },
   "file_extension": ".py",
   "mimetype": "text/x-python",
   "name": "python",
   "nbconvert_exporter": "python",
   "pygments_lexer": "ipython3",
   "version": "3.8.10"
  },
  "orig_nbformat": 4,
  "vscode": {
   "interpreter": {
    "hash": "916dbcbb3f70747c44a77c7bcd40155683ae19c65e1c03b4aa3499c5328201f1"
   }
  }
 },
 "nbformat": 4,
 "nbformat_minor": 2
}
