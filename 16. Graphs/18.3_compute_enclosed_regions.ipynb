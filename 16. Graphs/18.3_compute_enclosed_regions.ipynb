{
 "cells": [
  {
   "attachments": {},
   "cell_type": "markdown",
   "metadata": {},
   "source": [
    "# 18.3 - Compute Enclosed Regions\n",
    "\n",
    "Given a 2D grid with entries as 'W' or 'B', and replace all 'W' regions that can't reach the boundary with 'B''.\n",
    "\n",
    "\n",
    "## Example\n",
    "\n",
    "Input: \n",
    "\n",
    "```\n",
    "board = [\n",
    "    ['B', 'B', 'B', 'B'],\n",
    "    ['W', 'B', 'W', 'B'],\n",
    "    ['B', 'W', 'W', 'B'],\n",
    "    ['B', 'B', 'B', 'B']\n",
    "]\n",
    "```\n",
    "\n",
    "Output:\n",
    "\n",
    "```\n",
    "board = [\n",
    "    ['B', 'B', 'B', 'B'],\n",
    "    ['W', 'B', 'B', 'B'],\n",
    "    ['B', 'B', 'B', 'B'],\n",
    "    ['B', 'B', 'B', 'B']\n",
    "]\n",
    "```\n",
    "\n",
    "## Brainstorming\n",
    "\n",
    "- We could do this 2 ways\n",
    "  - We could try to do DFS on every 'W' index, and add them all to a visited set along the way. If a node on the boundary is part of that group, ignore them.\n",
    "    - This can be hard because then you have to make sure you're not labeling them along the way.\n",
    "  - Do DFS on all boundary indices (left, right, columns and top, bottom rows) and mark all those as visited or unvisitable in a set.\n",
    "    - This way when we do DFS across the board afterwards, we can just label everything that's not part of that set as 'B' with little trouble\n",
    "- Let's take approach #2 for its potential simplicity\n",
    "- Need to gather all indices in left+right columns and top+bottom rows\n",
    "- The matrices can be huge, so to avoid stack overflow like in the EPIJudge's last testcase, let's use an iterative approach with a stack data structure instead"
   ]
  },
  {
   "cell_type": "code",
   "execution_count": 3,
   "metadata": {},
   "outputs": [],
   "source": [
    "def fill_surrounded_regions(board):\n",
    "    # For adding to the blocked_set\n",
    "    def dfs(i, j, visited, flip, board):\n",
    "        stack = [(i, j)]\n",
    "        while stack:\n",
    "            i, j = stack.pop()\n",
    "            if (0 <= i < len(board) and 0 <= j < len(board[0])):\n",
    "                if (i, j) in visited:\n",
    "                    continue\n",
    "                if board[i][j] != 'W':\n",
    "                    continue\n",
    "\n",
    "                # Track in visited\n",
    "                visited.add((i, j))\n",
    "                if flip:\n",
    "                    board[i][j] = 'B'\n",
    "\n",
    "                stack.append((i+1, j))\n",
    "                stack.append((i-1, j))\n",
    "                stack.append((i, j+1))\n",
    "                stack.append((i, j-1))\n",
    "\n",
    "\n",
    "    def block_boundaries(board, visited):\n",
    "        row_size = len(board) - 1\n",
    "        col_size = len(board[0]) - 1\n",
    "        for i in range(len(board)):\n",
    "            for j in range(len(board[0])):\n",
    "                if i == 0 or i == row_size or j == 0 or j == col_size:\n",
    "                    dfs(i, j, visited, False, board)\n",
    "\n",
    "    visited = set()\n",
    "    block_boundaries(board, visited)\n",
    "    for i in range(len(board)):\n",
    "        for j in range(len(board[0])):\n",
    "            dfs(i, j, visited, True, board)\n",
    "\n",
    "    # For visual check\n",
    "    for row in board:\n",
    "        print(row)"
   ]
  },
  {
   "cell_type": "code",
   "execution_count": 4,
   "metadata": {},
   "outputs": [
    {
     "name": "stdout",
     "output_type": "stream",
     "text": [
      "['B', 'B', 'B', 'B']\n",
      "['W', 'B', 'B', 'B']\n",
      "['B', 'B', 'B', 'B']\n",
      "['B', 'B', 'B', 'B']\n"
     ]
    }
   ],
   "source": [
    "board = [\n",
    "    ['B', 'B', 'B', 'B'],\n",
    "    ['W', 'B', 'W', 'B'],\n",
    "    ['B', 'W', 'W', 'B'],\n",
    "    ['B', 'B', 'B', 'B']\n",
    "]\n",
    "\n",
    "fill_surrounded_regions(board)"
   ]
  }
 ],
 "metadata": {
  "kernelspec": {
   "display_name": "Python 3",
   "language": "python",
   "name": "python3"
  },
  "language_info": {
   "codemirror_mode": {
    "name": "ipython",
    "version": 3
   },
   "file_extension": ".py",
   "mimetype": "text/x-python",
   "name": "python",
   "nbconvert_exporter": "python",
   "pygments_lexer": "ipython3",
   "version": "3.10.12"
  },
  "orig_nbformat": 4,
  "vscode": {
   "interpreter": {
    "hash": "916dbcbb3f70747c44a77c7bcd40155683ae19c65e1c03b4aa3499c5328201f1"
   }
  }
 },
 "nbformat": 4,
 "nbformat_minor": 2
}
