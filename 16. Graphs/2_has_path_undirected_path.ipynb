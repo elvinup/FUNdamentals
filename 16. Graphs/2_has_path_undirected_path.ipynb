{
 "cells": [
  {
   "attachments": {},
   "cell_type": "markdown",
   "metadata": {},
   "source": [
    "## Undirected Path\n",
    "\n",
    "Given a list of edges, check if there is a path between two nodes\n",
    "\n",
    "Note: Since this is an undirected graph, cycles need to be accounted for.\n",
    "\n",
    "## Example\n",
    "\n",
    "```\n",
    "edges = [\n",
    "    ['i', 'j'],\n",
    "    ['k', 'i'],\n",
    "    ['m', 'k'],\n",
    "    ['k', 'l'],\n",
    "    ['o', 'n']\n",
    "]\n",
    "```\n",
    "\n",
    "The first important thing to do is to convert this to an adjacency list. This is because it'll give us that nice format for us to use our dfs or bfs algorithms.\n",
    "\n",
    "We can do this by creating keys, in a hashmap as we go through the edges, **just need to make sure we add the inverse edge as well.**\n",
    "\n",
    "```\n",
    "graph = {\n",
    "    'i': ['j', 'k'],\n",
    "    'j': ['i'],\n",
    "    'k': ['i', 'm', 'l'],\n",
    "    'm': ['k'],\n",
    "    'l': ['k'],\n",
    "    'o': ['n'],\n",
    "    'n': ['o']\n",
    "}\n",
    "```"
   ]
  },
  {
   "cell_type": "code",
   "execution_count": 13,
   "metadata": {},
   "outputs": [
    {
     "name": "stdout",
     "output_type": "stream",
     "text": [
      "{'i': ['j', 'k'], 'j': ['i'], 'k': ['i', 'm', 'l'], 'm': ['k'], 'l': ['k'], 'o': ['n'], 'n': ['o']}\n"
     ]
    }
   ],
   "source": [
    "# First let's create the function to build the graph object from edges\n",
    "\n",
    "def build_graph(edges):\n",
    "    graph = {}\n",
    "\n",
    "    for edge in edges:\n",
    "        a, b = edge[0], edge[1]\n",
    "        # I tried to do .append instead at the else, but it return None in 1 line if-else statements..\n",
    "        # In other words this reads as \"variable = x if condition else variable = y\"\n",
    "        graph[a] = [b] if a not in graph else graph[a] + [b]\n",
    "        graph[b] = [a] if b not in graph else graph[b] + [a]\n",
    "\n",
    "    return graph\n",
    "    \n",
    "\n",
    "edges = [\n",
    "    ['i', 'j'],\n",
    "    ['k', 'i'],\n",
    "    ['m', 'k'],\n",
    "    ['k', 'l'],\n",
    "    ['o', 'n']\n",
    "]\n",
    "\n",
    "print(build_graph(edges))"
   ]
  },
  {
   "attachments": {},
   "cell_type": "markdown",
   "metadata": {},
   "source": [
    "## Preventing Infinite Cycles\n",
    "\n",
    "To prevent infinite cycles, we need to have a check if we've already visited a node. \n",
    "\n",
    "The best data structure to do this for us easily is a **set**, because we can easily add to it and lookup if a node is already in there in O(1) operations, unlike a list since each entry needs to be unique."
   ]
  },
  {
   "cell_type": "code",
   "execution_count": 14,
   "metadata": {},
   "outputs": [
    {
     "name": "stdout",
     "output_type": "stream",
     "text": [
      "True\n"
     ]
    }
   ],
   "source": [
    "# Putting it together with the overall algorithm\n",
    "# \n",
    "# Let's try it with DFS Recursive since it's typically less code to write\n",
    "def undirectedPath(edges, start, end):\n",
    "    graph = build_graph(edges)\n",
    "    return has_path(graph, start, end, set())\n",
    "    \n",
    "def has_path(graph, src, dst, visited):\n",
    "    # No reason to check since we've already traveled down this path\n",
    "\n",
    "    if src == dst:\n",
    "        return True\n",
    "\n",
    "    if src in visited: # O(1)\n",
    "        return False\n",
    "\n",
    "    visited.add(src)\n",
    "\n",
    "    for neighbor in graph[src]:\n",
    "        if (has_path(graph, neighbor, dst, visited)) == True:\n",
    "            return True\n",
    "\n",
    "    return False\n",
    "\n",
    "edges = [\n",
    "    ['i', 'j'],\n",
    "    ['k', 'i'],\n",
    "    ['m', 'k'],\n",
    "    ['k', 'l'],\n",
    "    ['o', 'n']\n",
    "]\n",
    "\n",
    "print(undirectedPath(edges, 'i', 'm')) # Should be True"
   ]
  }
 ],
 "metadata": {
  "kernelspec": {
   "display_name": "Python 3",
   "language": "python",
   "name": "python3"
  },
  "language_info": {
   "codemirror_mode": {
    "name": "ipython",
    "version": 3
   },
   "file_extension": ".py",
   "mimetype": "text/x-python",
   "name": "python",
   "nbconvert_exporter": "python",
   "pygments_lexer": "ipython3",
   "version": "3.8.10 (default, Nov 14 2022, 12:59:47) \n[GCC 9.4.0]"
  },
  "orig_nbformat": 4,
  "vscode": {
   "interpreter": {
    "hash": "916dbcbb3f70747c44a77c7bcd40155683ae19c65e1c03b4aa3499c5328201f1"
   }
  }
 },
 "nbformat": 4,
 "nbformat_minor": 2
}
