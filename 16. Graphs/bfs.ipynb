{
 "cells": [
  {
   "attachments": {},
   "cell_type": "markdown",
   "metadata": {},
   "source": [
    "# BFS\n",
    "\n",
    "Breadth First Search is a graph traversal algorithm that explores all of a node's neighbors before moving onto the next node.\n",
    "\n",
    "## Example\n",
    "\n",
    "```mermaid\n",
    "graph LR\n",
    "    A --> C --> E\n",
    "    A --> B --> D --> F\n",
    "```\n",
    "\n",
    "If we want to traverse this graph with BFS, we need to use a **queue** data structure.\n",
    "\n",
    "## Algorithm \n",
    "\n",
    "We will essentially start from node A and push it to a queue. Next we popleft A from the queue, and push it's neighbors. This cycle continues until the queue is empty.\n",
    "\n",
    "## Implementation\n",
    "\n",
    "### Iteratively\n",
    "\n",
    "You really need to just do BFS iteratively"
   ]
  },
  {
   "cell_type": "code",
   "execution_count": 5,
   "metadata": {},
   "outputs": [
    {
     "name": "stdout",
     "output_type": "stream",
     "text": [
      "a\n",
      "b\n",
      "c\n",
      "d\n",
      "e\n",
      "f\n"
     ]
    }
   ],
   "source": [
    "from collections import deque\n",
    "\n",
    "def breadth_first_print_graph(graph, source):\n",
    "    queue = deque([ source ])\n",
    "\n",
    "    while len(queue) > 0:\n",
    "        current = queue.popleft()\n",
    "        print(current)\n",
    "        for neighbor in graph[current]:\n",
    "            queue.append(neighbor)\n",
    "\n",
    "\n",
    "graph = {\n",
    "    'a': ['b', 'c'],\n",
    "    'b': ['d'],\n",
    "    'c': ['e'],\n",
    "    'd': ['f'],\n",
    "    'e': [],\n",
    "    'f': []\n",
    "}\n",
    "\n",
    "breadth_first_print_graph(graph, 'a')\n"
   ]
  },
  {
   "attachments": {},
   "cell_type": "markdown",
   "metadata": {},
   "source": [
    "## Takeaways\n",
    "\n",
    "- Only iteratively, don't do it recursively, not worth it\n",
    "- Using a queue\n",
    "- Print **AFTER** you pop\n",
    "- Use a set if you need to check previously visited nodes\n",
    "- Is typically the best approach for finding the shortest path\n",
    "- Runtime is O(V+E)"
   ]
  }
 ],
 "metadata": {
  "kernelspec": {
   "display_name": "Python 3.8.10 64-bit",
   "language": "python",
   "name": "python3"
  },
  "language_info": {
   "codemirror_mode": {
    "name": "ipython",
    "version": 3
   },
   "file_extension": ".py",
   "mimetype": "text/x-python",
   "name": "python",
   "nbconvert_exporter": "python",
   "pygments_lexer": "ipython3",
   "version": "3.8.10 (default, Nov 14 2022, 12:59:47) \n[GCC 9.4.0]"
  },
  "orig_nbformat": 4,
  "vscode": {
   "interpreter": {
    "hash": "916dbcbb3f70747c44a77c7bcd40155683ae19c65e1c03b4aa3499c5328201f1"
   }
  }
 },
 "nbformat": 4,
 "nbformat_minor": 2
}
