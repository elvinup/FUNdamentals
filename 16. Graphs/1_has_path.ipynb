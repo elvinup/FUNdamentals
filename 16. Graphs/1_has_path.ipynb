{
 "cells": [
  {
   "attachments": {},
   "cell_type": "markdown",
   "metadata": {},
   "source": [
    "## Has Path\n",
    "\n",
    "Given a directed graph as an adjancency list, a starting node, and an ending node, return if a path is possible.\n",
    "\n",
    "Note: Graphs will be acyclic\n",
    "\n",
    "This is a good basic graph problem to start getting refreshed with them!\n",
    "\n",
    "## Implementation \n",
    "\n",
    "First we should visualize the graph a bit\n",
    "\n",
    "Here's our example graph\n",
    "\n",
    "```mermaid\n",
    "graph LR\n",
    "    F --> G --> H\n",
    "    F --> I --> G\n",
    "    J --> I --> K\n",
    "```\n",
    "\n",
    "### DFS Approach"
   ]
  },
  {
   "cell_type": "code",
   "execution_count": 2,
   "metadata": {},
   "outputs": [],
   "source": [
    "def has_path_dfs(graph, start, end):\n",
    "    if start == end:\n",
    "        return True\n",
    "    \n",
    "    for neighbor in graph[start]:\n",
    "        # If one of the low recursive calls gets a matching node, return True\n",
    "        if (has_path_dfs(graph, neighbor, end)) == True:\n",
    "            return True\n",
    "    \n",
    "    # None found after all recursive calls, return False\n",
    "    return False\n"
   ]
  },
  {
   "attachments": {},
   "cell_type": "markdown",
   "metadata": {},
   "source": [
    "### BFS Iterative Approach"
   ]
  },
  {
   "cell_type": "code",
   "execution_count": 3,
   "metadata": {},
   "outputs": [],
   "source": [
    "\n",
    "from collections import deque\n",
    "\n",
    "def has_path_bfs(graph, start, end):\n",
    "    queue = deque([ start ])\n",
    "\n",
    "    while queue:\n",
    "        node = queue.popleft()\n",
    "        if node == end:\n",
    "            return True\n",
    "        for neighbor in graph[node]:\n",
    "            queue.append(neighbor)\n",
    "\n",
    "    return False"
   ]
  },
  {
   "cell_type": "code",
   "execution_count": 4,
   "metadata": {},
   "outputs": [
    {
     "name": "stdout",
     "output_type": "stream",
     "text": [
      "True\n",
      "False\n",
      "True\n",
      "False\n"
     ]
    }
   ],
   "source": [
    "graph = {\n",
    "    'f': ['g', 'i'],\n",
    "    'g': ['h'],\n",
    "    'h': [],\n",
    "    'i': ['g', 'k'],\n",
    "    'j': ['i'],\n",
    "    'k': []\n",
    "}\n",
    "\n",
    "# DFS\n",
    "print(has_path_dfs(graph, 'f', 'k')) # Should be True\n",
    "print(has_path_dfs(graph, 'f', 'j')) # Should be False\n",
    "\n",
    "# BFS\n",
    "print(has_path_bfs(graph, 'f', 'k')) # Should be True\n",
    "print(has_path_bfs(graph, 'f', 'j')) # Should be False"
   ]
  },
  {
   "attachments": {},
   "cell_type": "markdown",
   "metadata": {},
   "source": [
    "## Analysis\n",
    "\n",
    "The time complexity worst case can be seen when there are nodes that all point to each other in two ways.\n",
    "\n",
    "![](../%20images/worst_case_twoway.png)\n",
    "\n",
    "This means\n",
    "\n",
    "Time: O(edges)\n",
    "\n",
    "Space: O(nodes)\n",
    "\n",
    "And edges are essentially n^2 in relation to n nodes. \n",
    "\n",
    "so \n",
    "\n",
    "Time: O(n^2)\n",
    "Space: O(n)"
   ]
  }
 ],
 "metadata": {
  "kernelspec": {
   "display_name": "Python 3",
   "language": "python",
   "name": "python3"
  },
  "language_info": {
   "codemirror_mode": {
    "name": "ipython",
    "version": 3
   },
   "file_extension": ".py",
   "mimetype": "text/x-python",
   "name": "python",
   "nbconvert_exporter": "python",
   "pygments_lexer": "ipython3",
   "version": "3.10.12"
  },
  "orig_nbformat": 4,
  "vscode": {
   "interpreter": {
    "hash": "916dbcbb3f70747c44a77c7bcd40155683ae19c65e1c03b4aa3499c5328201f1"
   }
  }
 },
 "nbformat": 4,
 "nbformat_minor": 2
}
