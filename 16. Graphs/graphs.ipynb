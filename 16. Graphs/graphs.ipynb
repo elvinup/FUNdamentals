{
 "cells": [
  {
   "attachments": {},
   "cell_type": "markdown",
   "metadata": {},
   "source": [
    "# Graphs\n",
    "\n",
    "## Terminology\n",
    "\n",
    "graph = nodes + edges\n",
    "\n",
    "**Directed Graph**: A graph with arrow on the edges pointing in directions\n",
    "\n",
    "```mermaid\n",
    "    graph LR\n",
    "        A--> B\n",
    "        B --> C\n",
    "        C --> D\n",
    "        C --> E\n",
    "```\n",
    "\n",
    "- Once we go from A -> B, we cannot travel back to A. We have to obey the direction of the arrow heads.\n",
    "\n"
   ]
  },
  {
   "cell_type": "markdown",
   "metadata": {},
   "source": [
    "**Undirected Graph**  A graph without arrow heads.\n",
    "\n",
    "```mermaid\n",
    "    graph LR\n",
    "        A --- B\n",
    "        B --- C\n",
    "        C --- D\n",
    "        C --- E\n",
    "```\n",
    "\n",
    "- Once we go from A -> B, we can travel back to A. Think of it as a two-way street.\n",
    "\n",
    "**Neighbor Node**: Nodes next/accessible to the current node\n",
    "\n",
    "## Data Structure\n",
    "\n",
    "Graphs are typically represented as **adjacency lists** or hashmaps with values as lists to keys.\n",
    "\n",
    "Here's an example representing the above Directed Graph:\n",
    "\n",
    "```\n",
    "{\n",
    "    a: [b],\n",
    "    b: [c],\n",
    "    c: [d, e],\n",
    "    d: [],\n",
    "    e: []\n",
    "}\n",
    "```\n",
    "\n",
    "They can also be represented as **adjacency matrices** but not quite so often since the space requires O(nodes)^2, huge negative.\n",
    "\n",
    "Pros of adjacency matrix over adjacency list:\n",
    "- O(1) to check if edge exists between two nodes\n",
    "- O(1) to delete that edge, vs O(neighbors) for the size of the list of a node you're checking\n",
    "\n",
    "```\n",
    "  A B C D E\n",
    "A 0 1 0 0 0\n",
    "B 0 0 1 0 0\n",
    "C 0 0 0 1 1\n",
    "D 0 0 0 0 0\n",
    "E 0 0 0 0 0\n",
    "```"
   ]
  },
  {
   "attachments": {},
   "cell_type": "markdown",
   "metadata": {},
   "source": [
    "## Traversal Algorithms\n",
    "\n",
    "There are 2 main algorithms for traversing graphs\n",
    "\n",
    "- Depth-First Search (DFS) \n",
    "- Breadth-First Search (BFS)"
   ]
  }
 ],
 "metadata": {
  "kernelspec": {
   "display_name": "Python 3.8.10 64-bit",
   "language": "python",
   "name": "python3"
  },
  "language_info": {
   "name": "python",
   "version": "3.8.10 (default, Nov 14 2022, 12:59:47) \n[GCC 9.4.0]"
  },
  "orig_nbformat": 4,
  "vscode": {
   "interpreter": {
    "hash": "916dbcbb3f70747c44a77c7bcd40155683ae19c65e1c03b4aa3499c5328201f1"
   }
  }
 },
 "nbformat": 4,
 "nbformat_minor": 2
}
