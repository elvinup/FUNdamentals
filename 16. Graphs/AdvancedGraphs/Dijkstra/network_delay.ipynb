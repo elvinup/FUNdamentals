{
 "cells": [
  {
   "attachments": {},
   "cell_type": "markdown",
   "metadata": {},
   "source": [
    "# Network Delay\n",
    "\n",
    "This problem is based off [this leetcode problem](https://leetcode.com/problems/network-delay-time/)\n",
    "\n",
    "Read the instructions there. \n",
    "\n",
    "## Brainstorming\n",
    "\n",
    "- Convert the input list of edges and weights to a proper adjacency list (easier to work with)\n",
    "- Run Djikstra's algorithm against it and return a dictionary list to reach each node\n",
    "  - Remember that the graph is a directed graph, so we have to account for that when building the `distances` dict\n",
    "- Grab the maximum in the list and return that.\n",
    "  - Return -1 if one of the values is float('inf'). This means one node was unreachable\n",
    "\n",
    "\n",
    "## Implementation"
   ]
  },
  {
   "cell_type": "code",
   "execution_count": 3,
   "metadata": {},
   "outputs": [
    {
     "data": {
      "text/plain": [
       "2"
      ]
     },
     "execution_count": 3,
     "metadata": {},
     "output_type": "execute_result"
    }
   ],
   "source": [
    "import heapq\n",
    "\n",
    "def networkDelayTime(times, n, k):\n",
    "    def build_adj_list(edges, n):\n",
    "        graph = {}\n",
    "        for time in edges:\n",
    "            if time[0] not in graph:\n",
    "                graph[time[0]] = {time[1]: time[2]}\n",
    "            else:\n",
    "                graph[time[0]][time[1]] = time[2]\n",
    "        return graph\n",
    "\n",
    "    def dijkstras(graph, starting_node, nodes):\n",
    "        distances = {vertex: float('inf') for vertex in range(1, nodes+1)}\n",
    "        distances[starting_node] = 0\n",
    "        pq = [(0, starting_node)]\n",
    "        visited = set()\n",
    "        while pq:\n",
    "          curr_dist, curr_node = heapq.heappop(pq)\n",
    "          if curr_node not in visited:\n",
    "            visited.add(curr_node)\n",
    "            # We already found a better path before we got to\n",
    "            # processing this node so we can ignore it.\n",
    "            # Need to also do a check if curr node is not in graph in case of directed graphs\n",
    "            if curr_dist > distances[curr_node] or curr_node not in graph:\n",
    "              continue\n",
    "            for neighbor, weight in graph[curr_node].items():\n",
    "              # skip node you have already visited before.\n",
    "              if neighbor in visited:\n",
    "                continue\n",
    "              new_distance = curr_dist + weight\n",
    "              if new_distance < distances[neighbor]:\n",
    "                distances[neighbor] = new_distance\n",
    "                heapq.heappush(pq, (new_distance, neighbor))\n",
    "        return distances\n",
    "    \n",
    "    graph = build_adj_list(times, n)\n",
    "    distances = dijkstras(graph, k, n)\n",
    "    dist_values = distances.values()\n",
    "    if float('inf') in dist_values:\n",
    "        return -1\n",
    "    else:\n",
    "        return max(dist_values)\n",
    "\n",
    "networkDelayTime([[2,1,1],[2,3,1],[3,4,1]], 4, 2) # -> 2"
   ]
  },
  {
   "attachments": {},
   "cell_type": "markdown",
   "metadata": {},
   "source": [
    "## Takeaway\n",
    "\n",
    "- This is an example of using dijkstra's within a problem. It's mostly the same and integrates well with this problem to make it easy.\n",
    "\n",
    "## Analysis\n",
    "\n",
    "\n",
    "Time: O(N + E log(E)) - because of Dijkstra's and having to search the distances dictionary values\n",
    "\n",
    "Space: O(N + E) - for the distances dict (O(N) or O(V)) and for the priority queue O(E)"
   ]
  }
 ],
 "metadata": {
  "kernelspec": {
   "display_name": "Python 3",
   "language": "python",
   "name": "python3"
  },
  "language_info": {
   "codemirror_mode": {
    "name": "ipython",
    "version": 3
   },
   "file_extension": ".py",
   "mimetype": "text/x-python",
   "name": "python",
   "nbconvert_exporter": "python",
   "pygments_lexer": "ipython3",
   "version": "3.8.10"
  },
  "orig_nbformat": 4,
  "vscode": {
   "interpreter": {
    "hash": "916dbcbb3f70747c44a77c7bcd40155683ae19c65e1c03b4aa3499c5328201f1"
   }
  }
 },
 "nbformat": 4,
 "nbformat_minor": 2
}
