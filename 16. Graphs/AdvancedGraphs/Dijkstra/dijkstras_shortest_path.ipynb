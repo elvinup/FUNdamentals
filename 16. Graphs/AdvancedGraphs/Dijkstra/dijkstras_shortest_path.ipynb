{
 "cells": [
  {
   "attachments": {},
   "cell_type": "markdown",
   "metadata": {},
   "source": [
    "# Dijkstra's Shortest Path Algorithm\n",
    "\n",
    "This algorithm has a few characteristics\n",
    "\n",
    "- Starts at a single node\n",
    "- Returns the shortest path from that starting node to every other node\n",
    "- Major Constraint: Graph must ONLY have **non-negative edges** with weights or values on each edge. If all edges were the same 1 step, we would use BFS instead!\n",
    "  - Dijkstra's is essentially BFS with a priority queue/heap for weighted graphs\n",
    "- Can be used on directed and undirected graphs\n",
    "- Time complexity typically O(E* log(V))\n",
    "\n",
    "## Implementation"
   ]
  },
  {
   "cell_type": "code",
   "execution_count": 55,
   "metadata": {},
   "outputs": [],
   "source": [
    "import heapq\n",
    "\n",
    "'''\n",
    "Run Dijkstra's algorithm on an undirected graph to find the shortest path\n",
    "from a starting node to an ending node. If there is no path between the\n",
    "starting node and the destination node the returned value is set to be\n",
    "float('inf').\n",
    "'''\n",
    "def dijkstra(graph, starting_node):\n",
    "  # Maintain an array of the minimum distance to each node\n",
    "\n",
    "  distances = {vertex: float('inf') for vertex in graph}\n",
    "  prev = {vertex: None for vertex in graph} # Optional for building shortest path\n",
    "  distances[starting_node] = 0\n",
    "\n",
    "  pq = [(0, starting_node)]\n",
    "\n",
    "  # Set used to track which nodes have already been visited.\n",
    "  visited = set()\n",
    "  while pq:\n",
    "    curr_dist, curr_node = heapq.heappop(pq)\n",
    "\n",
    "    if curr_node not in visited:\n",
    "      visited.add(curr_node)\n",
    "      # We already found a better path before we got to processing this node so we can ignore it.\n",
    "      # Need to also do a check if curr node is not in graph in case of directed graphs\n",
    "      if curr_dist > distances[curr_node] or curr_node not in graph:\n",
    "        continue\n",
    "      \n",
    "      for neighbor, weight in graph[curr_node].items():\n",
    "        # You cannot get a shorter path by revisiting\n",
    "        # a node you have already visited before.\n",
    "        if neighbor in visited:\n",
    "          continue\n",
    "        \n",
    "        new_distance = curr_dist + weight\n",
    "  \n",
    "        if new_distance < distances[neighbor]:\n",
    "          prev[neighbor] = curr_node # Optional: Useful for building paths later\n",
    "          distances[neighbor] = new_distance\n",
    "          heapq.heappush(pq, (new_distance, neighbor))\n",
    "      \n",
    "  return distances, prev"
   ]
  },
  {
   "attachments": {},
   "cell_type": "markdown",
   "metadata": {},
   "source": [
    "## Creating a Graph For Testing Dijkstra's"
   ]
  },
  {
   "cell_type": "code",
   "execution_count": 56,
   "metadata": {},
   "outputs": [
    {
     "name": "stdout",
     "output_type": "stream",
     "text": [
      "{'Reykjavik': 0, 'Oslo': 5, 'Moscow': 8, 'London': 4, 'Rome': 8, 'Berlin': 6, 'Belgrade': 11, 'Athens': 10}\n",
      "{'Reykjavik': None, 'Oslo': 'Reykjavik', 'Moscow': 'Oslo', 'London': 'Reykjavik', 'Rome': 'Berlin', 'Berlin': 'Oslo', 'Belgrade': 'Athens', 'Athens': 'Rome'}\n"
     ]
    }
   ],
   "source": [
    "graph = {'Reykjavik': {'Oslo': 5, 'London': 4}, \n",
    "         'Oslo': {'Berlin': 1, 'Moscow': 3, 'Reykjavik': 5}, \n",
    "         'Moscow': {'Belgrade': 5, 'Athens': 4, 'Oslo': 3}, \n",
    "         'London': {'Reykjavik': 4}, \n",
    "         'Rome': {'Berlin': 2, 'Athens': 2}, \n",
    "         'Berlin': {'Oslo': 1, 'Rome': 2}, \n",
    "         'Belgrade': {'Moscow': 5, 'Athens': 1}, \n",
    "         'Athens': {'Belgrade': 1, 'Moscow': 4, 'Rome': 2}\n",
    "        }\n",
    "\n",
    "distances, prev_nodes = dijkstra(graph, 'Reykjavik')\n",
    "\n",
    "print(distances)\n",
    "print(prev_nodes)"
   ]
  },
  {
   "attachments": {},
   "cell_type": "markdown",
   "metadata": {},
   "source": [
    "## Building the Shortest Path with Dijkstra's\n",
    "\n",
    "This fully relies on the `prev` array we populated in the dijkstra algorithm. If done correctly, getting the shortest of vertices from Node A to Node B is simple:\n",
    "\n",
    "- Keep going down the previous nodes dictionary, starting with the target node\n",
    "- Append each node to a list\n",
    "- Once the node = the starting node, don't forget to append the start node as well.\n",
    "- Return the path in reverse"
   ]
  },
  {
   "cell_type": "code",
   "execution_count": 57,
   "metadata": {},
   "outputs": [
    {
     "name": "stdout",
     "output_type": "stream",
     "text": [
      "Found the following best path with a value of 11.\n",
      "Reykjavik -> Oslo -> Berlin -> Rome -> Athens -> Belgrade\n",
      "0 -> 5 -> 6 -> 8 -> 10 -> 11\n"
     ]
    }
   ],
   "source": [
    "def shortest_path(previous_nodes, shortest_path, start_node, target_node):\n",
    "    path = []\n",
    "    # We must start with the end since our previous_nodes dict will have vertices pointing to the previous node\n",
    "    node = target_node\n",
    "    \n",
    "    while node != start_node:\n",
    "        path.append(node)\n",
    "        node = previous_nodes[node]\n",
    " \n",
    "    # Add the start node manually\n",
    "    path.append(start_node)\n",
    "\n",
    "    return list(reversed(path))\n",
    "\n",
    "path = shortest_path(prev_nodes, distances, 'Reykjavik', 'Belgrade')\n",
    "\n",
    "print(\"Found the following best path with a value of {}.\".format(distances['Belgrade']))\n",
    "# Simply reverse the nodes and you have the path from start to end!\n",
    "print(\" -> \".join(path))\n",
    "\n",
    "# Visual to show distances\n",
    "path_lengths = [str(distances[x]) for x in path]\n",
    "print(\" -> \".join(path_lengths))"
   ]
  },
  {
   "attachments": {},
   "cell_type": "markdown",
   "metadata": {},
   "source": [
    "## Directed Graph with Djikstra's\n",
    "\n",
    "There is only a minor different between using dijkstra's with undirected graphs like above, and using directed graphs.\n",
    "\n",
    "- When creating the `distances` dict, make sure an entry is made per node in the entire graph, not just the src nodes. This is implicitly the case with undirected graphs, but one must be careful to explicitly list out all nodes on the graph in the case of directed graphs. The [network delay problem](https://leetcode.com/problems/network-delay-time/) is a good example of this."
   ]
  },
  {
   "cell_type": "code",
   "execution_count": 58,
   "metadata": {},
   "outputs": [],
   "source": [
    "import heapq\n",
    "\n",
    "'''\n",
    "Run Dijkstra's algorithm on an undirected graph to find the shortest path\n",
    "from a starting node to an ending node. If there is no path between the\n",
    "starting node and the destination node the returned value is set to be\n",
    "float('inf').\n",
    "'''\n",
    "def dijkstra(graph, starting_node, nodes):\n",
    "  # Maintain an array of the minimum distance to each node\n",
    "\n",
    "  # With a directed graph, we must make sure that each and every vertex (not just src but also dst nodes) are written in\n",
    "  distances = {vertex: float('inf') for vertex in nodes}\n",
    "  prev = {vertex: None for vertex in graph} # Optional for building shortest path\n",
    "  distances[starting_node] = 0\n",
    "\n",
    "  pq = [(0, starting_node)]\n",
    "\n",
    "  # Set used to track which nodes have already been visited.\n",
    "  visited = set()\n",
    "  while pq:\n",
    "    curr_dist, curr_node = heapq.heappop(pq)\n",
    "\n",
    "    if curr_node not in visited:\n",
    "      visited.add(curr_node)\n",
    "      # We already found a better path before we got to\n",
    "      # processing this node so we can ignore it.\n",
    "      # Need to also do a check if curr node is not in graph in case of directed graphs\n",
    "      if curr_dist > distances[curr_node] or curr_node not in graph:\n",
    "        continue\n",
    "      \n",
    "      for neighbor, weight in graph[curr_node].items():\n",
    "        # You cannot get a shorter path by revisiting\n",
    "        # a node you have already visited before.\n",
    "        if neighbor in visited:\n",
    "          continue\n",
    "        \n",
    "        new_distance = curr_dist + weight\n",
    "  \n",
    "        if new_distance < distances[neighbor]:\n",
    "          prev[neighbor] = curr_node # Optional: Useful for building path laterS\n",
    "          distances[neighbor] = new_distance\n",
    "          heapq.heappush(pq, (new_distance, neighbor))\n",
    "      \n",
    "  return distances, prev"
   ]
  },
  {
   "attachments": {},
   "cell_type": "markdown",
   "metadata": {},
   "source": [
    "## Analysis:\n",
    "\n",
    "Time:\n",
    "\n",
    "- Building distances dict takes O(V) since we add each vertex of the graph to it.\n",
    "- while loop executes O(E) times based on how many times we add to the priority queue, which is the number of edges\n",
    "- for loop executes O(E) times over edges and is within the while loop. the `if curr_dist > distances[curr_node]` ensures we only process each vertex once.\n",
    "  - The use of a priority queue/min-heap also ensures we find the shortest path to vertices first\n",
    "- Priority Queue operations to add and delete are log(E)\n",
    "\n",
    "Therefore, runtime is O(V + ElogE)"
   ]
  }
 ],
 "metadata": {
  "kernelspec": {
   "display_name": "Python 3",
   "language": "python",
   "name": "python3"
  },
  "language_info": {
   "codemirror_mode": {
    "name": "ipython",
    "version": 3
   },
   "file_extension": ".py",
   "mimetype": "text/x-python",
   "name": "python",
   "nbconvert_exporter": "python",
   "pygments_lexer": "ipython3",
   "version": "3.8.10"
  },
  "orig_nbformat": 4,
  "vscode": {
   "interpreter": {
    "hash": "916dbcbb3f70747c44a77c7bcd40155683ae19c65e1c03b4aa3499c5328201f1"
   }
  }
 },
 "nbformat": 4,
 "nbformat_minor": 2
}
