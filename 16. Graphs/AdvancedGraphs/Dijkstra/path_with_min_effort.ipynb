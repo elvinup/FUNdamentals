{
 "cells": [
  {
   "attachments": {},
   "cell_type": "markdown",
   "metadata": {},
   "source": [
    "## Minimum Effort Path\n",
    "\n",
    "A good Dijkstra problem involving a 2D grid and how to integrate the two.\n",
    "\n",
    "[Leetcode Link](https://leetcode.com/problems/path-with-minimum-effort/)\n",
    "\n",
    "\n",
    "## Brainstorming\n",
    "\n",
    "- This is a spin off of dijkstra's because we are essentially looking for shortest path, but the condition is based on absolute value maximum.\n",
    "- Need a 2D matrix instead of a dictionary for storing the shortest distances, or more accurately, absolute values.\n",
    "  - This is because we are working with a 2D grid rather than a conventional graph in the form of an adjacency list\n",
    "- The neighbors we explore are up, down, left, right. Let's make a simple explore helper function to make that simpler."
   ]
  },
  {
   "cell_type": "code",
   "execution_count": 2,
   "metadata": {},
   "outputs": [
    {
     "data": {
      "text/plain": [
       "2"
      ]
     },
     "execution_count": 2,
     "metadata": {},
     "output_type": "execute_result"
    }
   ],
   "source": [
    "import heapq\n",
    "\n",
    "def minimumEffortPath(heights):            \n",
    "    def explore(r, c, nr, nc, pq, curr_dist, dist, heights):\n",
    "        # Make sure within bounds\n",
    "        if 0 <= nr < len(heights) and 0 <= nc < len(heights[0]):\n",
    "            new_dist = max(curr_dist, abs(heights[nr][nc]-heights[r][c]))\n",
    "            if new_dist < dist[nr][nc]:\n",
    "                dist[nr][nc] = new_dist\n",
    "                heapq.heappush(pq, (new_dist, nr, nc))\n",
    "\n",
    "    m, n = len(heights), len(heights[0])\n",
    "    dist = [[float('inf')]* n for i in range(m)]\n",
    "    dist[0][0] = 0 #Abs value starts at 0\n",
    "    # Represents dist, row, col\n",
    "    pq = [(0, 0, 0)]\n",
    "    visited = set()\n",
    "    while pq:\n",
    "        curr_dist, r, c = heapq.heappop(pq)\n",
    "        # Check if currr_dict is usesless to process because it's a less optimal path already\n",
    "        if curr_dist > dist[r][c]:\n",
    "            continue\n",
    "\n",
    "        # Only need to visit a node once, not again\n",
    "        if (r, c) in visited:\n",
    "            continue\n",
    "        visited.add((r, c))\n",
    "        \n",
    "        # Reached bottom right, return right away, pq ensures we have the smallest answer anyways\n",
    "        if r == m - 1 and c == n -1:\n",
    "            return curr_dist \n",
    "        \n",
    "        # Explore 4 neighbors\n",
    "        explore(r, c, r+1, c, pq, curr_dist, dist, heights)\n",
    "        explore(r, c, r-1, c, pq, curr_dist, dist, heights)\n",
    "        explore(r, c, r, c+1, pq, curr_dist, dist, heights)\n",
    "        explore(r, c, r, c-1, pq, curr_dist, dist, heights)\n",
    "    \n",
    "    return dist[m-1][n-1]\n",
    "\n",
    "minimumEffortPath([[1,2,2],[3,8,2],[5,3,5]])"
   ]
  },
  {
   "attachments": {},
   "cell_type": "markdown",
   "metadata": {},
   "source": [
    "## Takeaways\n",
    "\n",
    "- When you feel you may need to dijkstra's on a grid, make sure the distances are captured in a 2D grid as well.\n",
    "- `dist = [[float('inf')]* n for i in range(m)]` is a good reminder how to simply initialize a 2D matrix\n",
    "\n",
    "## Analysis\n",
    "\n",
    "Runtime: Typical Dijkstra's `O(M*N + log(M*N))`\n",
    "Space: O(M*N)"
   ]
  }
 ],
 "metadata": {
  "kernelspec": {
   "display_name": "Python 3",
   "language": "python",
   "name": "python3"
  },
  "language_info": {
   "codemirror_mode": {
    "name": "ipython",
    "version": 3
   },
   "file_extension": ".py",
   "mimetype": "text/x-python",
   "name": "python",
   "nbconvert_exporter": "python",
   "pygments_lexer": "ipython3",
   "version": "3.8.10"
  },
  "orig_nbformat": 4,
  "vscode": {
   "interpreter": {
    "hash": "916dbcbb3f70747c44a77c7bcd40155683ae19c65e1c03b4aa3499c5328201f1"
   }
  }
 },
 "nbformat": 4,
 "nbformat_minor": 2
}
