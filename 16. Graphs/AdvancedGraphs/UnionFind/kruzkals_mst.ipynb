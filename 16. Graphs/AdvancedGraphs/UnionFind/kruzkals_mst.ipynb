{
 "cells": [
  {
   "attachments": {},
   "cell_type": "markdown",
   "metadata": {},
   "source": [
    "## Kruzkal's Minimum Spanning Tree Algorithm\n",
    "\n",
    "This algorithm has 3 main steps:\n",
    "\n",
    "- Sort edges by weight\n",
    "- Walk through the sorted edges and look at the 2 nodes an edge belongs to\n",
    "  - If nodes are already unified, don't include this edge\n",
    "  - Else if not, include it and unify the nodes\n",
    "- Algorithm Terminates when every edge has been processed or all vertices are unified\n",
    "\n",
    "## Kruzkal Example\n",
    "\n",
    "Input Graph:\n",
    "\n",
    "![](../../../%20images/kruzkal_mst_input.png)\n",
    "\n",
    "Output Graph:\n",
    "\n",
    "![](../../../%20images/kruzkal_output_graph.png)"
   ]
  },
  {
   "attachments": {},
   "cell_type": "markdown",
   "metadata": {},
   "source": [
    "## Implementation\n",
    "\n",
    "A relevant problem to practice Kruzkal's MST is this leetcode problem called [Min Cost to Collect All Points](https://leetcode.com/problems/min-cost-to-connect-all-points/description/)\n",
    "\n",
    "Essentially, we are given a random set of coordinates on a 2D grid. The cost to make an edge between any two coordinates has been chosen for us to be the **manhattan distance**, which is `x1 - y1 + x2 - y2`. We must figure out what would be the least costly way to make all points connected with edges.\n",
    "\n",
    "## Brainstorming\n",
    "\n",
    "After learning about Minimum Spanning Trees, it should be evident that an MST is pretty much what this problem is asking for, but without the edges already generated. So essentially, we need to generate all the different combinations of two points as edges and their costs.\n",
    "\n",
    "- Create the UnionFind Class since this is an MST problem\n",
    "- Generate Edge object tuples as (distance, pointA, pointB)\n",
    "  - We set distance as the first object so it's super easy to just sort them by distance\n",
    "- Sort edges in increasing order\n",
    "- Loop through edges in that order\n",
    "  - if a set of points are able to be unified, then add the cost to a global cost variable\n",
    "  - also subtract from a variable that keeps track of the number of points, so that we know when to stop out of the algorithm\n",
    "- Return cost\n",
    "\n",
    "## Algorithm\n"
   ]
  },
  {
   "cell_type": "code",
   "execution_count": 4,
   "metadata": {},
   "outputs": [
    {
     "data": {
      "text/plain": [
       "20"
      ]
     },
     "execution_count": 4,
     "metadata": {},
     "output_type": "execute_result"
    }
   ],
   "source": [
    "# Good example of a shorter Union Find implementation made for this situation, no extra fluff :)\n",
    "class UnionFind:\n",
    "\n",
    "    def __init__(self, size):\n",
    "\n",
    "        self.sizes = [1 for x in range(size)]\n",
    "        self.ids = [x for x in range(size)]\n",
    "\n",
    "    def find(self, node):\n",
    "        if node != self.ids[node]:\n",
    "            self.ids[node] = self.find(self.ids[node]) # path compression\n",
    "        return self.ids[node]\n",
    "\n",
    "    def unify(self, node1, node2):\n",
    "        root1 = self.find(node1)\n",
    "        root2 = self.find(node2)\n",
    "\n",
    "        if root1 == root2:\n",
    "            return False # Return boolean false to prevent adding the distance to the cost if already counted\n",
    "\n",
    "        # Rank\n",
    "        if self.sizes[root1] > self.sizes[root2]:\n",
    "            self.ids[root2] = root1\n",
    "            self.sizes[root1] += self.sizes[root2]\n",
    "        else:\n",
    "            self.ids[root1] = root2\n",
    "            self.sizes[root2] += self.sizes[root1]\n",
    "        return True\n",
    "\n",
    "def minCostConnectPoints(points):\n",
    "\n",
    "    def manhattan_dist_helper(coord1, coord2):\n",
    "        return abs(coord1[0] - coord2[0]) + abs(coord1[1] - coord2[1])\n",
    "\n",
    "\n",
    "    edges = []\n",
    "    num_edges = len(points) - 1\n",
    "    cost = 0\n",
    "\n",
    "    # Grabs all couple combinations of coordinate points\n",
    "    for i in range(len(points)):\n",
    "        for j in range(i + 1, len(points)):\n",
    "            # i represents point1, j represents point2 in the union find\n",
    "            edges.append([manhattan_dist_helper(points[i], points[j]), i, j])\n",
    "\n",
    "    \n",
    "    edges.sort()\n",
    "    uf = UnionFind(len(points))\n",
    "    for distance, node1, node2 in edges:\n",
    "        if uf.unify(node1, node2):\n",
    "            cost += distance\n",
    "\n",
    "        if num_edges == 0:\n",
    "            break\n",
    "    \n",
    "    return cost\n",
    "\n",
    "minCostConnectPoints([[0,0],[2,2],[3,10],[5,2],[7,0]]) # -> 20\n"
   ]
  },
  {
   "attachments": {},
   "cell_type": "markdown",
   "metadata": {},
   "source": [
    "## Analysis:\n",
    "\n",
    "Time Complexity: O(E * log(v)) because of the sorting in Kruzkal's Algorithm\n",
    "\n",
    "Space: O(n) which is the maximum length of union find"
   ]
  }
 ],
 "metadata": {
  "kernelspec": {
   "display_name": "Python 3",
   "language": "python",
   "name": "python3"
  },
  "language_info": {
   "codemirror_mode": {
    "name": "ipython",
    "version": 3
   },
   "file_extension": ".py",
   "mimetype": "text/x-python",
   "name": "python",
   "nbconvert_exporter": "python",
   "pygments_lexer": "ipython3",
   "version": "3.8.10"
  },
  "orig_nbformat": 4,
  "vscode": {
   "interpreter": {
    "hash": "916dbcbb3f70747c44a77c7bcd40155683ae19c65e1c03b4aa3499c5328201f1"
   }
  }
 },
 "nbformat": 4,
 "nbformat_minor": 2
}
