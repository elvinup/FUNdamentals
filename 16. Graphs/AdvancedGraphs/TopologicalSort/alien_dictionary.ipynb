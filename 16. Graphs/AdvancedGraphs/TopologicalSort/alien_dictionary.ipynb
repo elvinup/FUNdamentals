{
 "cells": [
  {
   "attachments": {},
   "cell_type": "markdown",
   "metadata": {},
   "source": [
    "# Alien Dictionary\n",
    "\n",
    "[Leetcode Link](https://leetcode.com/problems/alien-dictionary/)\n",
    "\n",
    "Premium Question locked behind paywall but the question is:\n",
    "\n",
    "Given a sorted dictionary (array of words) of an alien language, find order of characters in the language.\n",
    "\n",
    "## Example\n",
    "\n",
    "input = [\"baa\", \"abcd\", \"abca\", \"cab\", \"cad\"]\n",
    "\n",
    "## Brainstorming\n",
    "\n",
    "- If you think about it, this is essentially a matter of relating letter relations based on this data given\n",
    "from collections import deque\n",
    "  - If we represent this information in the form of an adjacency list, we can run the top sort algorithm on it to get the answer easily\n",
    "- To build the adj list\n",
    "  - Each unique letter is a vertex on the graph\n",
    "  - Compare two words at a time. \n",
    "    - Iterate through them until they are different letters\n",
    "    - For the vertex representing a letter in word1, add the corresponding letter in word2 as a neighbor\n",
    "    - `graph[c1].append(c2)`\n"
   ]
  },
  {
   "cell_type": "code",
   "execution_count": 1,
   "metadata": {},
   "outputs": [],
   "source": [
    "from collections import deque\n",
    "\n",
    "def build_graph(a):\n",
    "    graph = {}\n",
    "    #create nodes\n",
    "    for word in a:\n",
    "        for c in word:\n",
    "            if c not in graph.keys():\n",
    "                graph[c] = []\n",
    "                \n",
    "    #create edges\n",
    "    size = len(graph)\n",
    "    for i in range(len(a)-1):\n",
    "        word1, word2 = a[i], a[i+1]\n",
    "        for j in range(min(len(word1), len(word2))):\n",
    "            c1, c2 = word1[j], word2[j]\n",
    "            if c1 != c2:\n",
    "                graph[c1].append(c2)\n",
    "                break\n",
    "    return graph    \n",
    "\n",
    "\n",
    "def topological_sort(graph):\n",
    "    topsort_list = []  # result\n",
    "    zero_degree_list = deque([]) # nodes with 0 in-degree neighbours\n",
    "    in_degree = { vertex : 0 for vertex in graph } # Tracking in-degree/inbound of all vertices\n",
    "\n",
    "    #Step 1: Iterate graph and build in-degree for each node\n",
    "    #Time complexity: O(V+E) - outer loop goes V times and inner loop goes E times\n",
    "    for vertex in graph:\n",
    "        for neighbor in graph[vertex]:\n",
    "            in_degree[neighbor] += 1\n",
    "\n",
    "    #Step 2: Find node(s) with 0 in-degree\n",
    "    for degree in in_degree:\n",
    "        if (in_degree[degree] == 0):\n",
    "            zero_degree_list.append(degree)           \n",
    "\n",
    "    #Step 3: Process nodes with in-degree = 0\n",
    "    while zero_degree_list:\n",
    "        v = zero_degree_list.popleft() # order is important, pop the first!\n",
    "        topsort_list.append(v)\n",
    "        #Step 4: Update in-degree\n",
    "        for neighbor in graph[v]:\n",
    "            in_degree[neighbor] -= 1\n",
    "            if (in_degree[neighbor] == 0):\n",
    "                zero_degree_list.append(neighbor)\n",
    "\n",
    "    if len(topsort_list) != len(in_degree.keys()):\n",
    "        print(\"Graph contains a cycle!\", \"Topsort List: \", topsort_list, \"vs Vertices available: \", list(in_degree.keys()))\n",
    "        return []\n",
    "\n",
    "    return topsort_list\n",
    "\n"
   ]
  },
  {
   "cell_type": "code",
   "execution_count": 2,
   "metadata": {},
   "outputs": [
    {
     "name": "stdout",
     "output_type": "stream",
     "text": [
      "{'b': ['a', 'd'], 'a': ['c'], 'c': [], 'd': ['a']}\n",
      "['b', 'd', 'a', 'c']\n"
     ]
    }
   ],
   "source": [
    "a = [\"baa\", \"abcd\", \"abca\", \"cab\", \"cad\"]\n",
    "graph = build_graph(a)\n",
    "print(graph)\n",
    "result = topological_sort(graph)\n",
    "print(result)"
   ]
  },
  {
   "attachments": {},
   "cell_type": "markdown",
   "metadata": {},
   "source": [
    "## Analysis\n",
    "\n",
    "Time: O(E + N)\n",
    "Space: O(E + N)"
   ]
  }
 ],
 "metadata": {
  "kernelspec": {
   "display_name": "Python 3",
   "language": "python",
   "name": "python3"
  },
  "language_info": {
   "codemirror_mode": {
    "name": "ipython",
    "version": 3
   },
   "file_extension": ".py",
   "mimetype": "text/x-python",
   "name": "python",
   "nbconvert_exporter": "python",
   "pygments_lexer": "ipython3",
   "version": "3.10.12"
  },
  "orig_nbformat": 4,
  "vscode": {
   "interpreter": {
    "hash": "916dbcbb3f70747c44a77c7bcd40155683ae19c65e1c03b4aa3499c5328201f1"
   }
  }
 },
 "nbformat": 4,
 "nbformat_minor": 2
}
