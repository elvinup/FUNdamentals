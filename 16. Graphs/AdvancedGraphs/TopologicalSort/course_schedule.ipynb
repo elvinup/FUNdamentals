{
 "cells": [
  {
   "attachments": {},
   "cell_type": "markdown",
   "metadata": {},
   "source": [
    "# Course Schedule\n",
    "\n",
    "[Leetcode Link](https://leetcode.com/problems/course-schedule/)\n",
    "\n",
    "## Brainstorming\n",
    "\n",
    "- Given the nature of the ordering of courses and web of relations, a topological sort algo will likely do the trick\n",
    "- We need to first create an adjacency list graph comprised of the input data given\n",
    "  - Make the first index the vertex of the graph, the next index a neighbor\n",
    "- Then we need to run Kahn's topsort algorithm against it to see if we get a list\n",
    "   - Topsort algo\n",
    "     - Gather in degree of all nodes\n",
    "     - Track all nodes with 0 degrees in a queue\n",
    "     - Go through neighbors of nodes per node in queue until queue is empty\n",
    "  - If list is empty, return False since there's must be a cyclic or impossible dependency between courses\n",
    "\n",
    "## Implementation"
   ]
  },
  {
   "cell_type": "code",
   "execution_count": 15,
   "metadata": {},
   "outputs": [],
   "source": [
    "from collections import deque\n",
    "\n",
    "def canFinish(numCourses, prerequisites):\n",
    "    def build_graph(numCourses, prerequisites):\n",
    "        graph = {vertex: [] for vertex in range(numCourses)}\n",
    "        for course in prerequisites:\n",
    "            graph[course[1]].append(course[0])\n",
    "        return graph\n",
    "\n",
    "    def topsort(graph):\n",
    "\n",
    "        topsort_list = []\n",
    "        zero_degree_list = deque([])\n",
    "        in_degree = {vertex: 0 for vertex in graph}\n",
    "\n",
    "        # Gather all in degrees\n",
    "        for vertex in graph:\n",
    "            for neighbor in graph[vertex]:\n",
    "                in_degree[neighbor] += 1\n",
    "        \n",
    "        # Track nodes with 0 degrees\n",
    "        for node in in_degree:\n",
    "            if in_degree[node] == 0:\n",
    "                zero_degree_list.append(node)\n",
    "        \n",
    "        # Go through zero degree list\n",
    "        while zero_degree_list:\n",
    "            node = zero_degree_list.popleft()\n",
    "            topsort_list.append(node)\n",
    "\n",
    "            for neighbor in graph[node]:\n",
    "                in_degree[neighbor] -= 1\n",
    "                if in_degree[neighbor] == 0:\n",
    "                    zero_degree_list.append(neighbor)\n",
    "\n",
    "        if len(topsort_list) != len(in_degree.keys()):\n",
    "            return False\n",
    "\n",
    "        return True\n",
    "    \n",
    "    graph = build_graph(numCourses, prerequisites)\n",
    "    return topsort(graph)\n"
   ]
  },
  {
   "cell_type": "code",
   "execution_count": 16,
   "metadata": {},
   "outputs": [
    {
     "data": {
      "text/plain": [
       "True"
      ]
     },
     "execution_count": 16,
     "metadata": {},
     "output_type": "execute_result"
    }
   ],
   "source": [
    "canFinish(2, [[1,0]])"
   ]
  },
  {
   "attachments": {},
   "cell_type": "markdown",
   "metadata": {},
   "source": [
    "## Analysis:\n",
    "\n",
    "Runtime: O(V + E)\n",
    "Space: O(V + E)"
   ]
  },
  {
   "attachments": {},
   "cell_type": "markdown",
   "metadata": {},
   "source": [
    "## Course Schedule II Quick Tip\n",
    "\n",
    "This is the same format as the first problem, except we just need to return the topsort_list"
   ]
  }
 ],
 "metadata": {
  "kernelspec": {
   "display_name": "Python 3",
   "language": "python",
   "name": "python3"
  },
  "language_info": {
   "codemirror_mode": {
    "name": "ipython",
    "version": 3
   },
   "file_extension": ".py",
   "mimetype": "text/x-python",
   "name": "python",
   "nbconvert_exporter": "python",
   "pygments_lexer": "ipython3",
   "version": "3.8.10"
  },
  "orig_nbformat": 4,
  "vscode": {
   "interpreter": {
    "hash": "916dbcbb3f70747c44a77c7bcd40155683ae19c65e1c03b4aa3499c5328201f1"
   }
  }
 },
 "nbformat": 4,
 "nbformat_minor": 2
}
