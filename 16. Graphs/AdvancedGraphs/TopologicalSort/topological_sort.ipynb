{
 "cells": [
  {
   "attachments": {},
   "cell_type": "markdown",
   "metadata": {},
   "source": [
    "# Topological Sort\n",
    "\n",
    "This is typically used when you need to model a graph with directed edges where some events need to happen before others. It is just a way to order nodes around like so:\n",
    "\n",
    "![](../../../%20images/topological_order_basic_idea.png)\n",
    "\n",
    "\n",
    "## Tips\n",
    "\n",
    "- Topological Orderings are not unique\n",
    "- Runtime: O(V + E)\n",
    "\n",
    "### Examples\n",
    "\n",
    "- Event Scheduling\n",
    "- Alien Dictionary Problem (Find which letters in an alien dictionary are their \"ABC\" order)\n",
    "\n",
    "## Constaints\n",
    "\n",
    "- Doesn't work if there's a **cycle** in the graph or if it's edges are bidirectional.\n",
    "- Only works on DAGs or Directed Acyclic graphs\n",
    "- All rooted trees work since they typically don't have cycles\n",
    "\n",
    "## Kahn's Algorithm\n",
    "\n",
    "- Remove nodes without dependencies repeatedly and add them to a queue\n",
    "  - These will be represented as an array or dictionary where each is mapped to an **incoming degree**, or number of incoming directed edges to that node\n",
    "- As these nodes are removed, new nodes should have no dependencies and available to use\n",
    "- Repeat until all nodes are processed, or cycle is discovered"
   ]
  },
  {
   "cell_type": "code",
   "execution_count": 41,
   "metadata": {},
   "outputs": [],
   "source": [
    "from collections import deque\n",
    "\n",
    "def topological_sort(graph):\n",
    "    topsort_list = []  # result\n",
    "    zero_degree_list = deque([]) # nodes with 0 in-degree neighbours\n",
    "    in_degree = { vertex : 0 for vertex in graph } # Tracking in-degree/inbound of all vertices\n",
    "\n",
    "    #Step 1: Iterate graph and build in-degree for each node\n",
    "    #Time complexity: O(V+E) - outer loop goes V times and inner loop goes E times\n",
    "    for vertex in graph:\n",
    "        for neighbor in graph[vertex]:\n",
    "            in_degree[neighbor] += 1\n",
    "\n",
    "    #Step 2: Find node(s) with 0 in-degree\n",
    "    for degree in in_degree:\n",
    "        if (in_degree[degree] == 0):\n",
    "            zero_degree_list.append(degree)           \n",
    "\n",
    "    #Step 3: Process nodes with in-degree = 0\n",
    "    while zero_degree_list:\n",
    "        v = zero_degree_list.popleft() # order is important, pop the first!\n",
    "        topsort_list.append(v)\n",
    "        #Step 4: Update in-degree\n",
    "        for neighbor in graph[v]:\n",
    "            in_degree[neighbor] -= 1\n",
    "            if (in_degree[neighbor] == 0):\n",
    "                zero_degree_list.append(neighbor)\n",
    "\n",
    "    if len(topsort_list) != len(in_degree.keys()):\n",
    "        print(\"Graph contains a cycle!\", \"Topsort List: \", topsort_list, \"vs Vertices available: \", list(in_degree.keys()))\n",
    "        return []\n",
    "\n",
    "    return topsort_list"
   ]
  },
  {
   "cell_type": "code",
   "execution_count": 42,
   "metadata": {},
   "outputs": [
    {
     "name": "stdout",
     "output_type": "stream",
     "text": [
      "['C', 'B', 'A']\n"
     ]
    }
   ],
   "source": [
    "# Adjacency list without a cycle\n",
    "graph = {\n",
    "        'A': [],\n",
    "        'B': ['A'],\n",
    "        'C': ['B']\n",
    "        }\n",
    "\n",
    "result = topological_sort(graph)\n",
    "print(result)\n"
   ]
  },
  {
   "cell_type": "code",
   "execution_count": 43,
   "metadata": {},
   "outputs": [
    {
     "name": "stdout",
     "output_type": "stream",
     "text": [
      "Graph contains a cycle! Topsort List:  [] vs Vertices available:  ['B', 'A']\n",
      "[]\n"
     ]
    }
   ],
   "source": [
    "# Adjacency list with a cycle\n",
    "graph = {\n",
    "        'B': ['A'],\n",
    "        'A': ['B']\n",
    "        }\n",
    "\n",
    "result = topological_sort(graph)\n",
    "print(result)"
   ]
  }
 ],
 "metadata": {
  "kernelspec": {
   "display_name": "Python 3",
   "language": "python",
   "name": "python3"
  },
  "language_info": {
   "codemirror_mode": {
    "name": "ipython",
    "version": 3
   },
   "file_extension": ".py",
   "mimetype": "text/x-python",
   "name": "python",
   "nbconvert_exporter": "python",
   "pygments_lexer": "ipython3",
   "version": "3.8.10"
  },
  "orig_nbformat": 4,
  "vscode": {
   "interpreter": {
    "hash": "916dbcbb3f70747c44a77c7bcd40155683ae19c65e1c03b4aa3499c5328201f1"
   }
  }
 },
 "nbformat": 4,
 "nbformat_minor": 2
}
