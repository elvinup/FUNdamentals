{
 "cells": [
  {
   "attachments": {},
   "cell_type": "markdown",
   "metadata": {},
   "source": [
    "# 18.2 - Paint a boolean Matrix\n",
    "\n",
    "\n",
    "Given a nxm 2D grid with values either being \"BLACK\" or \"WHITE\" (aka 1 or 0) and a coordinate (x, y), flip the region associated to coordinate (x, y) to the opposite color.\n",
    "\n",
    "## Example\n",
    "\n",
    "Input: \n",
    "```\n",
    "6 x 5 grid\n",
    "\n",
    "image = [\n",
    "    [1, 0, 1, 0, 1],\n",
    "    [1, 1, 1, 1, 1],\n",
    "    [1, 0, 1, 0, 1],\n",
    "    [1, 0, 1, 0, 0],\n",
    "    [0, 0, 0, 0, 1],\n",
    "    [0, 1, 0, 1, 0]\n",
    "]\n",
    "\n",
    "x = 3\n",
    "y = 1\n",
    "```\n",
    "\n",
    "Output:\n",
    "\n",
    "Don't return anything just modify the grid to flip the region and look like this based on the coordinate (3, 1)\n",
    "```\n",
    "image = [\n",
    "    [1, 0, 1, 0, 1],\n",
    "    [1, 1, 1, 1, 1],\n",
    "    [1, 1, 1, 1, 1],\n",
    "    [1, 1, 1, 1, 1],\n",
    "    [1, 1, 1, 1, 1],\n",
    "    [1, 1, 1, 1, 0]\n",
    "]\n",
    "```"
   ]
  },
  {
   "attachments": {},
   "cell_type": "markdown",
   "metadata": {},
   "source": [
    "## Brainstorming\n",
    "\n",
    "- DFS feels like a good fit since we are exploring a path for finding the whole region, possibly with recursion\n",
    "- Neighbors will be up, down, left, and right\n",
    "- As we return from the recursive stack, label the indices the opposite value\n",
    "- No need for a visited set since we will avoid the opposite color, which we're converting visited nodes to\n",
    "- For recursion base case:\n",
    "  - Make sure it's in bounds\n",
    "  - False case we would not do any exploring, simply return\n"
   ]
  },
  {
   "cell_type": "code",
   "execution_count": 5,
   "metadata": {},
   "outputs": [],
   "source": [
    "def flip_image(x, y, image):\n",
    "\n",
    "    def dfs(x, y, image, color):\n",
    "        # Checking bounds\n",
    "        if (0 <= x < len(image) and 0 <= y < len(image[0])):\n",
    "            # Check color is correct to flip\n",
    "            if color != image[x][y]:\n",
    "                return\n",
    "\n",
    "            image[x][y] = color ^ 1 # XOR 1 flips the color\n",
    "            # Flip adjacent neighbors\n",
    "            dfs(x + 1, y, image, color)\n",
    "            dfs(x - 1, y, image, color)\n",
    "            dfs(x, y + 1, image, color)\n",
    "            dfs(x, y - 1, image, color)\n",
    "\n",
    "    color = image[x][y]\n",
    "    dfs(x, y, image, color)\n",
    "\n",
    "    # Not necessary, but just for visual\n",
    "    for row in image:\n",
    "        print(row)\n"
   ]
  },
  {
   "cell_type": "code",
   "execution_count": 6,
   "metadata": {},
   "outputs": [
    {
     "name": "stdout",
     "output_type": "stream",
     "text": [
      "[1, 0, 1, 0, 1]\n",
      "[1, 1, 1, 1, 1]\n",
      "[1, 1, 1, 1, 1]\n",
      "[1, 1, 1, 1, 1]\n",
      "[1, 1, 1, 1, 1]\n",
      "[1, 1, 1, 1, 0]\n"
     ]
    }
   ],
   "source": [
    "image = [\n",
    "    [1, 0, 1, 0, 1],\n",
    "    [1, 1, 1, 1, 1],\n",
    "    [1, 0, 1, 0, 1],\n",
    "    [1, 0, 1, 0, 0],\n",
    "    [0, 0, 0, 0, 1],\n",
    "    [0, 1, 0, 1, 0]\n",
    "]\n",
    "\n",
    "x, y = 3, 1\n",
    "\n",
    "flip_image(x, y, image) # -> Bottom left side should all be 1's"
   ]
  },
  {
   "cell_type": "code",
   "execution_count": 7,
   "metadata": {},
   "outputs": [
    {
     "name": "stdout",
     "output_type": "stream",
     "text": [
      "[0, 0, 0, 0, 0]\n",
      "[0, 0, 0, 0, 0]\n",
      "[0, 0, 0, 0, 0]\n",
      "[0, 0, 0, 0, 0]\n",
      "[0, 0, 0, 0, 1]\n",
      "[0, 1, 0, 1, 0]\n"
     ]
    }
   ],
   "source": [
    "image = [\n",
    "    [1, 0, 1, 0, 1],\n",
    "    [1, 1, 1, 1, 1],\n",
    "    [1, 0, 1, 0, 1],\n",
    "    [1, 0, 1, 0, 0],\n",
    "    [0, 0, 0, 0, 1],\n",
    "    [0, 1, 0, 1, 0]\n",
    "]\n",
    "\n",
    "x, y = 1, 2\n",
    "\n",
    "\n",
    "flip_image(x, y, image) # -> top half should convert to 0's"
   ]
  },
  {
   "attachments": {},
   "cell_type": "markdown",
   "metadata": {},
   "source": [
    "# Analysis\n",
    "\n",
    "We could potentially have to travel the whole 2D grid, so \n",
    "\n",
    "Time: O(m * n) to cover all indices\n",
    "\n",
    "Space: O(m + n) because that's as far as the boundaries will go and at that point the recursive stack will pop elements and move to the next ones"
   ]
  }
 ],
 "metadata": {
  "kernelspec": {
   "display_name": "Python 3",
   "language": "python",
   "name": "python3"
  },
  "language_info": {
   "codemirror_mode": {
    "name": "ipython",
    "version": 3
   },
   "file_extension": ".py",
   "mimetype": "text/x-python",
   "name": "python",
   "nbconvert_exporter": "python",
   "pygments_lexer": "ipython3",
   "version": "3.10.12"
  },
  "orig_nbformat": 4,
  "vscode": {
   "interpreter": {
    "hash": "916dbcbb3f70747c44a77c7bcd40155683ae19c65e1c03b4aa3499c5328201f1"
   }
  }
 },
 "nbformat": 4,
 "nbformat_minor": 2
}
