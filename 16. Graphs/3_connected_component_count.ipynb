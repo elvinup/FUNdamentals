{
 "cells": [
  {
   "attachments": {},
   "cell_type": "markdown",
   "metadata": {},
   "source": [
    "## Connected Components Count\n",
    "\n",
    "Given an undirected graph as an adj. list, return the number of components there are. In other words.\n",
    "\n",
    "\n",
    "## Example\n",
    "\n",
    "The below graph has 3 components, which are essentially just isolated sections of a graphs that don't connect to each other\n",
    "\n",
    "```mermaid\n",
    "graph LR\n",
    "    1 --> 2\n",
    "    6 --> 5\n",
    "    6 --> 4\n",
    "    6 --> 8\n",
    "    6 --> 7\n",
    "    3\n",
    "```\n",
    "\n",
    "## Algorithm\n",
    "\n",
    "The best way to go about this is just to make it a slight spin on a basic dfs or bfs algorithm. Simply go through all the keys one by one. On each key, traverse as much as you can with DFS for example. Mark each node as visited with a set so we don't recheck it later. At the end of each traversal, add to a count variable and return it at the end"
   ]
  },
  {
   "cell_type": "code",
   "execution_count": 1,
   "metadata": {},
   "outputs": [
    {
     "name": "stdout",
     "output_type": "stream",
     "text": [
      "3\n"
     ]
    }
   ],
   "source": [
    "def connected_component_count(graph):\n",
    "    \n",
    "    # Explore the node's full graph\n",
    "    def dfs(node, graph, visited):\n",
    "        if node in visited:\n",
    "            return False\n",
    "\n",
    "        visited.add(node)\n",
    "\n",
    "        for neighbor in graph[node]:\n",
    "            dfs(neighbor, graph, visited)\n",
    "        \n",
    "        return True\n",
    "\n",
    "\n",
    "    visited = set()\n",
    "    count = 0\n",
    "    for node in graph.keys():\n",
    "        if dfs(node, graph, visited):\n",
    "            count += 1\n",
    "        \n",
    "    return count\n",
    "\n",
    "# Same Example graph as above\n",
    "graph = {\n",
    "    3: [],\n",
    "    4: [6],\n",
    "    6: [4, 5, 7, 8],\n",
    "    8: [6],\n",
    "    7: [6],\n",
    "    5: [6],\n",
    "    1: [2],\n",
    "    2: [1]\n",
    "}\n",
    "\n",
    "print(connected_component_count(graph)) # Should print 3 components\n"
   ]
  },
  {
   "attachments": {},
   "cell_type": "markdown",
   "metadata": {},
   "source": [
    "## Next Level: Largest Component\n",
    "\n",
    "Given an undirected graph, return the largest component size. In this case, the only difference is to count the nodes as we go down the recursive calls.\n",
    "\n",
    "Also just need to track the largest we've seen so far, so just a slight spin on the counting connected components problem."
   ]
  },
  {
   "cell_type": "code",
   "execution_count": 16,
   "metadata": {},
   "outputs": [
    {
     "name": "stdout",
     "output_type": "stream",
     "text": [
      "5\n"
     ]
    }
   ],
   "source": [
    "def largest_component(graph):\n",
    "    \n",
    "    # Explore the node's full graph\n",
    "    def dfs_count_nodes(node, graph, visited, node_count):\n",
    "        if node in visited:\n",
    "            return 0\n",
    "\n",
    "        visited.add(node)\n",
    "        # Need to set this to 1, because at each level a node should count itself as 1\n",
    "        node_count = 1\n",
    "\n",
    "        for neighbor in graph[node]:\n",
    "            node_count += dfs_count_nodes(neighbor, graph, visited, node_count)\n",
    "        return node_count\n",
    "\n",
    "    visited = set()\n",
    "    largest = 0\n",
    "    for node in graph.keys():\n",
    "        node_count = dfs_count_nodes(node, graph, visited, 1)\n",
    "        largest = max(largest, node_count)\n",
    "        \n",
    "    return largest\n",
    "\n",
    "# Same Example graph as above\n",
    "graph = {\n",
    "    3: [],\n",
    "    4: [6],\n",
    "    6: [4, 5, 7, 8],\n",
    "    8: [6],\n",
    "    7: [6],\n",
    "    5: [6],\n",
    "    1: [2],\n",
    "    2: [1]\n",
    "}\n",
    "\n",
    "print(largest_component(graph)) # The largest component has 5 nodes\n"
   ]
  },
  {
   "attachments": {},
   "cell_type": "markdown",
   "metadata": {},
   "source": [
    "## Analysis\n",
    "\n",
    "Both have\n",
    "\n",
    "Time: O(edges)\n",
    "\n",
    "Space: O(nodes)"
   ]
  }
 ],
 "metadata": {
  "kernelspec": {
   "display_name": "Python 3",
   "language": "python",
   "name": "python3"
  },
  "language_info": {
   "codemirror_mode": {
    "name": "ipython",
    "version": 3
   },
   "file_extension": ".py",
   "mimetype": "text/x-python",
   "name": "python",
   "nbconvert_exporter": "python",
   "pygments_lexer": "ipython3",
   "version": "3.10.12"
  },
  "orig_nbformat": 4,
  "vscode": {
   "interpreter": {
    "hash": "916dbcbb3f70747c44a77c7bcd40155683ae19c65e1c03b4aa3499c5328201f1"
   }
  }
 },
 "nbformat": 4,
 "nbformat_minor": 2
}
