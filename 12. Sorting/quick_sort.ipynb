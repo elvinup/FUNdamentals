{
 "cells": [
  {
   "cell_type": "markdown",
   "metadata": {},
   "source": [
    "# Quick Sort\n",
    "\n",
    "## Complexities\n",
    "\n",
    "- Worst Case - O(n^2)\n",
    "- Avg Case - O(n log n)\n",
    "\n",
    "Quick sort is done in place, so best when space constrictions are a concern. It's also best when the dataset can fit in memory. \n",
    "\n",
    "Quick sort is best known as the one that uses a pivot.\n",
    "\n",
    "Worst case can realistically be avoided by using a random pivot each time.\n",
    "\n",
    "This is *not* a stable algorithm. Meaning equivalent values will get shifted around.\n",
    "\n",
    "## How it works\n",
    "\n",
    "Quick sort follows the below steps:\n",
    "Step 1 − Make any element as pivot (best with randomizer)\n",
    "Step 2 − Partition the array on the basis of pivot. Our goal is to move smaller elements than the pivot to the left, so just compare elements < pivot.\n",
    "Step 3 − Apply quick sort on left partition recursively\n",
    "Step 4 − Apply quick sort on right partition recursively\n",
    "\n",
    "## Concrete Example\n",
    "(Can choose a random pivot, and swap it to the last element to have randomization benefit)\n",
    "\n",
    "array = [50, 23, 9, 18, 61, *32*]\n",
    "\n",
    "Let's say we pick the first pivot = 32.\n",
    "\n",
    "\n",
    "swap_idx = 0\n",
    "We'll use swap_idx to keep track of where the elements lower than the pivot element should switch with.\n",
    "\n",
    "As we iterate through the array:\n",
    "\n",
    "- 50 is bigger than 32\n",
    "- 23 is smaller than 32, swap this element with whatevers at swap_idx = 0\n",
    "  - array = [*23*, *50*, 9, 18, 61, 32]\n",
    "  - swap_idx += 1; move to next\n",
    "- 9 is smaller than 32, swap this element with whatevers at swap_idx = 1\n",
    "  - array = [23, *9*, *50*, 18, 61, 32]\n",
    "  - swap_idx += 1; move to next\n",
    "- 18 is smaller than 32, swap this element with whatevers at swap_idx = 2\n",
    "  - array = [23, 9, *18*, *50*, 61, 32]\n",
    "  - swap_idx += 1; move to next\n",
    "- 61 is higher and in higher position, no swap\n",
    "- low iterator meets high iterator, finished iteration\n",
    "- Swap swap_idx = 3 with array[high]\n",
    "  - array = [23, 9, 18, *32*, 61, *50*]\n",
    "\n",
    "\n",
    "- run quicksort recursively on subarray left of *32* [23, 9, 18] -> quicksort(array, 0, 2( or pivot_idx-1))\n",
    "- run quicksort recursively on subarray right of *32* [61, 50] -> quicksort(4 (or pivot_idx+1), 5(or high))\n",
    "\n",
    "\n",
    "## Algorithm"
   ]
  },
  {
   "cell_type": "code",
   "execution_count": 131,
   "metadata": {},
   "outputs": [
    {
     "name": "stdout",
     "output_type": "stream",
     "text": [
      "[9, 18, 23, 32, 50, 61]\n"
     ]
    }
   ],
   "source": [
    "import random\n",
    "\n",
    "def quicksort(array, low, high):\n",
    "\n",
    "    if low < high:\n",
    "        pivot_index = partition(array, low, high)\n",
    "        \n",
    "        quicksort(array, low, pivot_index-1)\n",
    "        quicksort(array, pivot_index+1, high)\n",
    "\n",
    "def partition(array, low, high):\n",
    "\n",
    "    # Set random pivot to last element as our pivot\n",
    "    pivot_idx = random.randint(low, high)\n",
    "    array[high], array[pivot_idx] = array[pivot_idx], array[high]\n",
    "    pivot = array[high]\n",
    "    # For saving pivot position to return at the end as we iterate\n",
    "    pivot_idx = low\n",
    "\n",
    "\n",
    "    for i in range(low, high):\n",
    "        if array[i] <= pivot:\n",
    "            array[pivot_idx], array[i] = array[i], array[pivot_idx]\n",
    "            pivot_idx += 1\n",
    "    \n",
    "    array[pivot_idx], array[high] = array[high], array[pivot_idx]\n",
    "    return pivot_idx\n",
    "\n",
    "\n",
    "array = [50, 23, 9, 18, 61, 32]\n",
    "quicksort(array, 0, len(array)-1)\n",
    "print(array)\n"
   ]
  }
 ],
 "metadata": {
  "interpreter": {
   "hash": "916dbcbb3f70747c44a77c7bcd40155683ae19c65e1c03b4aa3499c5328201f1"
  },
  "kernelspec": {
   "display_name": "Python 3.8.10 64-bit",
   "language": "python",
   "name": "python3"
  },
  "language_info": {
   "codemirror_mode": {
    "name": "ipython",
    "version": 3
   },
   "file_extension": ".py",
   "mimetype": "text/x-python",
   "name": "python",
   "nbconvert_exporter": "python",
   "pygments_lexer": "ipython3",
   "version": "3.8.10"
  },
  "orig_nbformat": 4
 },
 "nbformat": 4,
 "nbformat_minor": 2
}
