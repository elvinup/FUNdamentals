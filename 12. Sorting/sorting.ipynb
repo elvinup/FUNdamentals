{
 "cells": [
  {
   "cell_type": "markdown",
   "metadata": {},
   "source": [
    "# Sorting\n",
    "\n",
    "## Sorting Algo Rankings\n",
    "\n",
    "- The worst sorting algorithms are O(n^2)\n",
    "\n",
    "Stable: sorting algo where equal entries appear in their original order\n",
    "In place: O(1) space used\n",
    "\n",
    "- Many sorting algos run in O(nlogn)\n",
    "    - heapsort\n",
    "        - in place, but not stable\n",
    "    - mergesort\n",
    "        - stable, but not in place\n",
    "    - quicksort\n",
    "        - Runs in worst case O(n^2)\n",
    "\n",
    "Well implemented quick sort is usually the best for sorting.\n",
    "\n",
    "Other are better in *specific* circumstances:\n",
    "- Short array with ~10 or fewer elements? -> Insertion sort is quick to code faster than O(faster) algorithms\n",
    "- Elements known to be at most k places from final location? -> min-heap can be a O(n log k) algorithm\n",
    "- Small number of distinct keys e.g. [0-255]? -> Counting sort \n",
    "    - records for each element, the # of elements less than it\n",
    "    - If largest number is comparable in value to the size of the set being sorted, use an array\n",
    "    - Or use a BST. Keys are the numbers, values are the frequencies. Use a linked list for elements with duplicate keys. Inorder traversal can be done to get the order.\n",
    "\n",
    "- Most sorting algos aren't stable. \n",
    "    - One solution is to add the index as an integer rank to keys to break ties.\n",
    "\n",
    "## Sorting Objects"
   ]
  },
  {
   "cell_type": "code",
   "execution_count": 2,
   "metadata": {},
   "outputs": [
    {
     "name": "stdout",
     "output_type": "stream",
     "text": [
      "Copy of students sorted variable\n",
      "A\n",
      "B\n",
      "C\n",
      "D\n",
      "\n",
      "students variable\n",
      "A\n",
      "C\n",
      "B\n",
      "D\n"
     ]
    }
   ],
   "source": [
    "class Student(object):\n",
    "    def __init__(self, name, grade_point_average):\n",
    "        self.name = name\n",
    "        self.grade_point_average = grade_point_average\n",
    "\n",
    "    # This is the compare function that will sort by name\n",
    "    def __lt__(self, other):\n",
    "        return self.name < other.name\n",
    "    \n",
    "students = [\n",
    "    Student('A', 4.0),\n",
    "    Student('C', 3.0),\n",
    "    Student('B', 2.0),\n",
    "    Student('D', 3.2)\n",
    "]\n",
    "\n",
    "# Sorted makes a copy of students, but sorted. Doesn't affect the actual students variable\n",
    "print('Copy of students sorted variable')\n",
    "students_sorted_by_name = sorted(students)\n",
    "for student in students_sorted_by_name:\n",
    "    print(student.name)\n",
    "\n",
    "print(\"\\nstudents variable\")\n",
    "for student in students:\n",
    "    print(student.name)"
   ]
  },
  {
   "cell_type": "code",
   "execution_count": 12,
   "metadata": {},
   "outputs": [
    {
     "name": "stdout",
     "output_type": "stream",
     "text": [
      "\n",
      "students Variable post .sort() method\n",
      "A\n",
      "B\n",
      "C\n",
      "D\n"
     ]
    }
   ],
   "source": [
    "# .sort() affects the actual variable\n",
    "students.sort()\n",
    "\n",
    "print(\"\\nstudents variable post-.sort() method\")\n",
    "for student in students:\n",
    "    print(student.name)"
   ]
  },
  {
   "cell_type": "code",
   "execution_count": 8,
   "metadata": {},
   "outputs": [
    {
     "name": "stdout",
     "output_type": "stream",
     "text": [
      "\n",
      "students variable post-lambda on GPA attribute\n",
      "B 2.0\n",
      "E 3.0\n",
      "C 3.0\n",
      "D 3.2\n",
      "A 4.0\n"
     ]
    }
   ],
   "source": [
    "# Reset students\n",
    "students = [\n",
    "    Student('A', 4.0),\n",
    "    Student('E', 3.0),\n",
    "    Student('C', 3.0),\n",
    "    Student('B', 2.0),\n",
    "    Student('D', 3.2)\n",
    "]\n",
    "\n",
    "print(\"\\nstudents variable post-lambda on GPA attribute\")\n",
    "\n",
    "students.sort(key=lambda student: student.grade_point_average)\n",
    "for student in students:\n",
    "    print(student.name, student.grade_point_average)\n"
   ]
  },
  {
   "cell_type": "code",
   "execution_count": 9,
   "metadata": {},
   "outputs": [
    {
     "name": "stdout",
     "output_type": "stream",
     "text": [
      "\n",
      "students variable post-lambda on GPA attribute, tie breaking on name attribute\n",
      "B 2.0\n",
      "C 3.0\n",
      "E 3.0\n",
      "D 3.2\n",
      "A 4.0\n"
     ]
    }
   ],
   "source": [
    "# Reset students, but one with a tie. Let's say we wanna break the tie by doing a tie breaker pattern\n",
    "students = [\n",
    "    Student('A', 4.0),\n",
    "    Student('E', 3.0),\n",
    "    Student('C', 3.0),\n",
    "    Student('B', 2.0),\n",
    "    Student('D', 3.2)\n",
    "]\n",
    "\n",
    "print(\"\\nstudents variable post-lambda on GPA attribute, tie breaking on name attribute\")\n",
    "\n",
    "# This breaks the tie with the 2nd value you add to the lambda!\n",
    "students.sort(key=lambda s: (s.grade_point_average, s.name))\n",
    "for student in students:\n",
    "    print(student.name, student.grade_point_average)\n"
   ]
  },
  {
   "cell_type": "markdown",
   "metadata": {},
   "source": [
    "## Sorting Libraries\n",
    "\n",
    "### .sort()\n",
    "`.sort()` sorts a list in-place.\n",
    "2 optional args\n",
    "- *reverse*=False\n",
    "    - Default to ascending order, setting to True will make it descending\n",
    "- *key*=None\n",
    "    - If key is not None, it needs to be a function taking a list of elements and mapping them to comparable objects. Function defines sort order."
   ]
  },
  {
   "cell_type": "code",
   "execution_count": 16,
   "metadata": {},
   "outputs": [
    {
     "data": {
      "text/plain": [
       "[0, 1, 100, 11, 2, 21, 3, 4, 5]"
      ]
     },
     "execution_count": 16,
     "metadata": {},
     "output_type": "execute_result"
    }
   ],
   "source": [
    "a = [1, 2, 4, 3, 5, 0, 11, 21, 100]\n",
    "# This maps integers to string equivalents\n",
    "a.sort(key=lambda x: str(x))\n",
    "\n",
    "# Entries are instead ordered by lexicographical ordering by string representation\n",
    "a"
   ]
  },
  {
   "cell_type": "markdown",
   "metadata": {},
   "source": [
    "### sorted()\n",
    "\n",
    "`sorted(list)` Use this for iterables. Returns copy of list in ascending order.\n",
    "2 optional args, both work just like .sort()\n",
    "- *reverse*=False\n",
    "- *key*=None"
   ]
  },
  {
   "cell_type": "markdown",
   "metadata": {},
   "source": [
    "## Sorting Problem Types\n",
    "\n",
    "2 Main Types\n",
    "\n",
    "- Use sorting to make subsequent steps in an algorithm simpler\n",
    "    - Fine to use a library sort function, possibly with custom comparator (key=lambda)\n",
    "- Design a custom sorting routine\n",
    "    - Use a data structure like a BST, heap, or array indexed by values\n",
    "\n",
    "Most natural reason to sort is if the inputs have a natural ordering. So sorting would be a *preprocessing* step to speed up *searching*.\n",
    "\n",
    "For special input, it's possible to sort in O(n) time!\n",
    "\n",
    "Usually, the answer to optimizing a brute force solution is to use *less space*"
   ]
  }
 ],
 "metadata": {
  "interpreter": {
   "hash": "916dbcbb3f70747c44a77c7bcd40155683ae19c65e1c03b4aa3499c5328201f1"
  },
  "kernelspec": {
   "display_name": "Python 3.8.10 64-bit",
   "language": "python",
   "name": "python3"
  },
  "language_info": {
   "codemirror_mode": {
    "name": "ipython",
    "version": 3
   },
   "file_extension": ".py",
   "mimetype": "text/x-python",
   "name": "python",
   "nbconvert_exporter": "python",
   "pygments_lexer": "ipython3",
   "version": "3.8.10"
  },
  "orig_nbformat": 4
 },
 "nbformat": 4,
 "nbformat_minor": 2
}
