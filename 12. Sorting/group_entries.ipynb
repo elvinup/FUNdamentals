{
 "cells": [
  {
   "cell_type": "markdown",
   "metadata": {},
   "source": [
    "# 13.9 Takeaway - Partitioning and sorting an array with repeated entries\n",
    "\n",
    "## Problem Explanation\n",
    "\n",
    "Order elements so that similar elements are with each other\n",
    "\n",
    "Input: [b, a, c, b, d, a, b, d]\n",
    "\n",
    "output: [a, a, b, b, b, c, d, d]\n",
    "\n",
    "output [d, d, c, a, a, b, b, b] is also acceptable\n",
    "\n",
    "The above example is a bit misleading for simplicity. In reality, we are getting a list of `('Person', ('age', 'name'))` objects as input, and have to group the array by ages of each person object.\n",
    "\n",
    "\n",
    "## My First Naiive approach\n",
    "\n",
    "I first thought it would be easy to just create a counter hashmap manually, tracking each person by age. Each key would be the age, and the value would be the list of person objects that matched that age.\n",
    "\n",
    "Then I would spit them out into a new array (inducing O(n) space), one key of the hashmap at a time. The problem does ask to just edit the people list, so i could change each entry one at a time to match the new result array.\n",
    "\n",
    "## Naiive implementation"
   ]
  },
  {
   "cell_type": "code",
   "execution_count": null,
   "metadata": {},
   "outputs": [],
   "source": [
    "import collections\n",
    "\n",
    "Person = collections.namedtuple('Person', ('age', 'name'))\n",
    "\n",
    "def group_by_age(people):\n",
    "    people_by_age = {}\n",
    "    age_to_count = collections.Counter(person.age for person in people)\n",
    "    result = []\n",
    "\n",
    "    for person in people:\n",
    "        if person.age not in people_by_age:\n",
    "            people_by_age[person.age] = [person]\n",
    "        else:\n",
    "            people_by_age[person.age].append(person)\n",
    "\n",
    "    # This result array costs O(n) space, which is why this isn't the ideal solution. And because..it's too easy. EPI doesn't do easy! :)\n",
    "    for age in people_by_age.keys():\n",
    "        for person in people_by_age[age]:\n",
    "            result.append(person)\n",
    "\n",
    "    # Need to change each entry index by index, since the tester looks at the people variable to test\n",
    "    for i in range(len(people)):\n",
    "        people[i] = result[i]"
   ]
  },
  {
   "cell_type": "markdown",
   "metadata": {},
   "source": [
    "## The correct approach\n",
    "\n",
    "The best solution is the one that doesn't take O(n) space. To do this, we need to edit the people array directly, so that the total space is just dependent on the hashmap we build, which will be O(m) space.\n",
    "\n",
    "Overall it's a lot trickier since there are 2 hashmaps to build.\n",
    "- Mapping of frequency of ages\n",
    "- Mapping of ages to where their offset (starting index) should be in the people array\n",
    "\n",
    "We have to use the relationship between these 2 maps to create `from_idx` and `to_idx` variables that need to be swapped. The item in from_idx will be moved to the to_idx, the location where their correct offset partition starts in the people array. That position is tracked by our 2nd mapping.\n",
    "\n",
    "We just keep going until we delete all the keys in the 2nd hashmap."
   ]
  },
  {
   "cell_type": "code",
   "execution_count": 1,
   "metadata": {},
   "outputs": [],
   "source": [
    "import collections\n",
    "\n",
    "def group_by_age(people):\n",
    "    age_map = collections.Counter(person.age for person in people)\n",
    "    \n",
    "    person_indices, offset = {}, 0\n",
    "\n",
    "    # Handy way to get both key|value variables is with hashmap.items() \n",
    "    # Creates offsets for which index each group should start \n",
    "    # Following above example: [a = 0, b = 2, c = 5, d = 6] \n",
    "    for age, count in age_map.items():\n",
    "        person_indices[age] = offset\n",
    "        offset += count\n",
    "\n",
    "    # We are going to keep going until we delete all our map keys in person_indices\n",
    "    # We need to find where the age starts from, and where it needs to swap to\n",
    "    # This is hella confusing, so let's explain step by step\n",
    "    while person_indices:\n",
    "        # random age, Could be 'b'\n",
    "        from_age = next(iter(person_indices))\n",
    "        # from idx = 2\n",
    "        from_idx = person_indices[from_age]\n",
    "\n",
    "        # people[2] aka 'c', so to_age = c\n",
    "        to_age = people[from_idx].age\n",
    "        # person_indices[c] = 5\n",
    "        to_idx = person_indices[to_age]\n",
    "\n",
    "        # Altogether, we randomly picked an age 'b' from person_indices, used it to pick an index it lives in (2)\n",
    "        # Then we moved whatever was in index 2 (c), and moved it to it's corresponding age index (5), which we track with person_indices\n",
    "\n",
    "        # Do the swap\n",
    "        people[from_idx], people[to_idx] = people[to_idx], people[from_idx]\n",
    "\n",
    "        # use age_map to track when a key has filled up, and to delete a key from person_indices\n",
    "        age_map[to_age] -= 1\n",
    "        \n",
    "        # If an age has 0 left to go, delete it from person_indices, else bump the \n",
    "        if age_map[to_age]:\n",
    "            person_indices[to_age] += 1\n",
    "        else:\n",
    "            del person_indices[to_age]"
   ]
  }
 ],
 "metadata": {
  "kernelspec": {
   "display_name": "Python 3.8.10 64-bit",
   "language": "python",
   "name": "python3"
  },
  "language_info": {
   "codemirror_mode": {
    "name": "ipython",
    "version": 3
   },
   "file_extension": ".py",
   "mimetype": "text/x-python",
   "name": "python",
   "nbconvert_exporter": "python",
   "pygments_lexer": "ipython3",
   "version": "3.8.10"
  },
  "orig_nbformat": 4,
  "vscode": {
   "interpreter": {
    "hash": "916dbcbb3f70747c44a77c7bcd40155683ae19c65e1c03b4aa3499c5328201f1"
   }
  }
 },
 "nbformat": 4,
 "nbformat_minor": 2
}
