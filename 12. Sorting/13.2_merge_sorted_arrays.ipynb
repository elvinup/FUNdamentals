{
 "cells": [
  {
   "cell_type": "markdown",
   "metadata": {},
   "source": [
    "# 13.2 Takeaway - Merge Sorted Arrays, Editing only first array\n",
    "\n",
    "## Explanation\n",
    "\n",
    "There’s a twist! 2 sorted arrays have to be merged, but the first array needs to be modified in place, and it includes enough extra empty spaces to take in the elements from the 2nd array. \n",
    "\n",
    "We’re guaranteed Array 1 has enough spaces for the elements in array 2.\n",
    "Example:\n",
    "\n",
    "A = [3, 13, 17, _, _, _, _, _ ]\n",
    "B = [3, 7, 11, 19]\n",
    "\n",
    "Output = [3, 3, 7, 11, 13, 17, 19, _ ]\n",
    "\n",
    "## Brainstorming\n",
    "\n",
    "So this is harder because we can’t use a separate array, like the merge function in merge sort. We have to make use of the extra spaces given to us in array A, so we’re shooting for O(1) space. \n",
    "\n",
    "We just insert the low elements into the right place, because if all the elements in array B are shorter than the element in array A, we’ll need to shift all the elements m times. This becomes O(n*m).\n",
    "\n",
    "So back to focusing on using the extra spaces in Array A.\n",
    "\n",
    "let’s say\n",
    "A has m elements\n",
    "B has n elements\n",
    "\n",
    "A has to be n + m elements. so it has to end at the (n+m-1)’th index. So that’s where we start!\n",
    "\n",
    "Starting at the x\n",
    "\n",
    "A has 3 elements, B has 4 elements. Start at index 6:\n",
    "[3, 13, 17, _, _, _, X_, _]\n",
    "\n",
    "Going through both arrays, we should compare last elements with each other to see which should go in.\n",
    "\n",
    "Comparing these elements\n",
    "A = [3, 13, 17]\n",
    "B = [3, 7, 11, 19]\n",
    "\n",
    "Since 19 is bigger:\n",
    "[3, 13, 17, _, _, _, 19, _ ]\n",
    "\n",
    "B index -= 1\n",
    "\n",
    "Comparing these elements\n",
    "A = [3, 13, 17]\n",
    "B = [3, 7, 11, 19]\n",
    "\n",
    "17 is bigger:\n",
    "[3, 13, 17, _, _, 17, 19, _ ]\n",
    "\n",
    "... So on and so forth.\n",
    "\n",
    "## Implementation Troubles\n",
    "\n",
    "Here was my first iteration of this problem.\n",
    "\n",
    "I got it write, but i had to fiddle a lot with the boundaries of that first if-statement before I could get my test cases to pass.\n"
   ]
  },
  {
   "cell_type": "code",
   "execution_count": 5,
   "metadata": {},
   "outputs": [
    {
     "name": "stdout",
     "output_type": "stream",
     "text": [
      "[3, 3, 7, 11, 13, 17, 19, 0]\n"
     ]
    }
   ],
   "source": [
    "def merge_two_sorted_arrays(A, m, B, n):\n",
    "    a, b, write_idx  = m-1, n-1, m+n-1\n",
    "    while write_idx >= 0:\n",
    "        if a >= 0 and (b < 0 or A[a] > B[b]):\n",
    "            A[write_idx] = A[a]\n",
    "            a -= 1\n",
    "        else:\n",
    "            A[write_idx] = B[b]\n",
    "            b -= 1\n",
    "        write_idx -= 1\n",
    "\n",
    "\n",
    "A = [3, 13, 17, 0, 0, 0, 0, 0]\n",
    "m = 3\n",
    "B = [3, 7, 11, 19]\n",
    "n = 4\n",
    "\n",
    "merge_two_sorted_arrays(A, m, B, n)\n",
    "print(A)"
   ]
  },
  {
   "cell_type": "markdown",
   "metadata": {},
   "source": [
    "## A better approach\n",
    "\n",
    "Looking at the EPI book's answer, it flows much simpler because we are just going through until a or b hits 0 first. \n",
    "\n",
    "Then at the end, we dump whatever's left of b. We don't have to do this for array A because this is the array we are replacing. If we run out of B array values, we don't have to redundantly replace A array's values with it's own values."
   ]
  },
  {
   "cell_type": "code",
   "execution_count": 6,
   "metadata": {},
   "outputs": [
    {
     "name": "stdout",
     "output_type": "stream",
     "text": [
      "[3, 3, 7, 11, 13, 17, 19, 0]\n"
     ]
    }
   ],
   "source": [
    "# EPI book's approach, which flows simpler\n",
    "\n",
    "def merge_two_sorted_arrays(A, m, B, n):\n",
    "\n",
    "    a, b, write_idx = m - 1, n - 1, m + n - 1\n",
    "    while a >= 0 and b >= 0:\n",
    "        if A[a] > B[b]:\n",
    "            A[write_idx] = A[a]\n",
    "            a -= 1\n",
    "        else:\n",
    "            A[write_idx] = B[b]\n",
    "            b -= 1\n",
    "        write_idx -= 1\n",
    "    while b >= 0:\n",
    "        A[write_idx] = B[b]\n",
    "        write_idx, b = write_idx - 1, b - 1\n",
    "\n",
    "\n",
    "A = [3, 13, 17, 0, 0, 0, 0, 0]\n",
    "m = 3\n",
    "B = [3, 7, 11, 19]\n",
    "n = 4\n",
    "\n",
    "merge_two_sorted_arrays(A, m, B, n)\n",
    "print(A)"
   ]
  }
 ],
 "metadata": {
  "interpreter": {
   "hash": "916dbcbb3f70747c44a77c7bcd40155683ae19c65e1c03b4aa3499c5328201f1"
  },
  "kernelspec": {
   "display_name": "Python 3.8.10 64-bit",
   "language": "python",
   "name": "python3"
  },
  "language_info": {
   "codemirror_mode": {
    "name": "ipython",
    "version": 3
   },
   "file_extension": ".py",
   "mimetype": "text/x-python",
   "name": "python",
   "nbconvert_exporter": "python",
   "pygments_lexer": "ipython3",
   "version": "3.8.10"
  },
  "orig_nbformat": 4
 },
 "nbformat": 4,
 "nbformat_minor": 2
}
