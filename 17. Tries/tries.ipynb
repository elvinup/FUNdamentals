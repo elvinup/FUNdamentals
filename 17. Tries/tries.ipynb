{
 "cells": [
  {
   "attachments": {},
   "cell_type": "markdown",
   "metadata": {},
   "source": [
    "# Tries\n",
    "\n",
    "## When It's Useful\n",
    "\n",
    "- Searching for a string\n",
    "- Storing a string\n",
    "- Autocomplete\n",
    "- Sometimes preprocessing a dictionary of words (given in a list) into a trie, will improve the efficiency of searching for a word of length k, among n words. Searching becomes O(k) instead of O(n).\n",
    "\n",
    "## Time Complexity\n",
    "\n",
    "m resembles the length of the string\n",
    "\n",
    "- Add: O(m)\n",
    "- Remove: O(m)\n",
    "- Search: O(m)\n",
    "\n",
    "## Data Structure\n",
    "\n",
    "### Iterative Trie Functions"
   ]
  },
  {
   "cell_type": "code",
   "execution_count": 71,
   "metadata": {},
   "outputs": [],
   "source": [
    "class TrieNode:\n",
    "    def __init__(self):\n",
    "        self.children = {}\n",
    "        self.is_word = False\n",
    "\n",
    "class Trie:\n",
    "    def __init__(self):\n",
    "        self.root = TrieNode()\n",
    "    \n",
    "    # We need to label the last letter as a word, so keep track of \n",
    "    def insert(self, word):\n",
    "        curr = self.root\n",
    "        for c in word:\n",
    "            if c not in curr.children:\n",
    "                curr.children[c] = TrieNode()\n",
    "            curr = curr.children[c]\n",
    "        curr.is_word = True\n",
    "\n",
    "    def search(self, word):\n",
    "        curr = self.root\n",
    "        for c in word:\n",
    "            if c not in curr.children:\n",
    "                return False\n",
    "            curr = curr.children[c]\n",
    "        return curr.is_word\n",
    "    \n",
    "    \n",
    "    def startsWith(self, word):\n",
    "        curr = self.root\n",
    "        for c in word:\n",
    "            if c not in curr.children:\n",
    "                return False\n",
    "            curr = curr.children[c]\n",
    "        return True\n",
    "        "
   ]
  },
  {
   "cell_type": "markdown",
   "metadata": {},
   "source": [
    "## Recursive Trie Functions"
   ]
  },
  {
   "cell_type": "code",
   "execution_count": 72,
   "metadata": {},
   "outputs": [],
   "source": [
    "class TrieNode:\n",
    "    def __init__(self):\n",
    "        self.children = {}\n",
    "        self.is_word = False\n",
    "\n",
    "class Trie:\n",
    "    def __init__(self):\n",
    "        self.root = TrieNode()\n",
    "    \n",
    "    def insert(self, word):\n",
    "        return self.insert_recursive(word, self.root)\n",
    "\n",
    "    def insert_recursive(self, word, curr):\n",
    "        if word == '':\n",
    "            curr.is_word = True\n",
    "            return    \n",
    "        if word[0] not in curr.children:\n",
    "            curr.children[word[0]] = TrieNode()\n",
    "        self.insert_recursive(word[1:], curr.children[word[0]])\n",
    "    \n",
    "    def search(self, word):\n",
    "        return self.search_recursive(word, self.root)\n",
    "    \n",
    "    def search_recursive(self, word, curr):\n",
    "        if word == '':\n",
    "            return curr.is_word\n",
    "        if word[0] in curr.children:\n",
    "            return self.search_recursive(word[1:], curr.children[word[0]])\n",
    "        return False\n",
    "    \n",
    "    def startsWith(self, word):\n",
    "        return self.startsWith_recursive(word, self.root)\n",
    "\n",
    "    def startsWith_recursive(self, word, curr):\n",
    "        if word == '':\n",
    "            return True\n",
    "        if word[0] in curr.children:\n",
    "            return self.startsWith_recursive(word[1:], curr.children[word[0]])\n",
    "        return False"
   ]
  },
  {
   "cell_type": "code",
   "execution_count": 77,
   "metadata": {},
   "outputs": [
    {
     "data": {
      "text/plain": [
       "True"
      ]
     },
     "execution_count": 77,
     "metadata": {},
     "output_type": "execute_result"
    }
   ],
   "source": [
    "trie = Trie()\n",
    "trie.insert('apple')\n",
    "trie.search('apple')"
   ]
  },
  {
   "cell_type": "code",
   "execution_count": 78,
   "metadata": {},
   "outputs": [
    {
     "data": {
      "text/plain": [
       "False"
      ]
     },
     "execution_count": 78,
     "metadata": {},
     "output_type": "execute_result"
    }
   ],
   "source": [
    "trie.search('orange')"
   ]
  },
  {
   "cell_type": "code",
   "execution_count": 79,
   "metadata": {},
   "outputs": [
    {
     "data": {
      "text/plain": [
       "True"
      ]
     },
     "execution_count": 79,
     "metadata": {},
     "output_type": "execute_result"
    }
   ],
   "source": [
    "trie.startsWith('app')"
   ]
  }
 ],
 "metadata": {
  "kernelspec": {
   "display_name": "Python 3",
   "language": "python",
   "name": "python3"
  },
  "language_info": {
   "codemirror_mode": {
    "name": "ipython",
    "version": 3
   },
   "file_extension": ".py",
   "mimetype": "text/x-python",
   "name": "python",
   "nbconvert_exporter": "python",
   "pygments_lexer": "ipython3",
   "version": "3.10.12"
  },
  "orig_nbformat": 4,
  "vscode": {
   "interpreter": {
    "hash": "916dbcbb3f70747c44a77c7bcd40155683ae19c65e1c03b4aa3499c5328201f1"
   }
  }
 },
 "nbformat": 4,
 "nbformat_minor": 2
}
