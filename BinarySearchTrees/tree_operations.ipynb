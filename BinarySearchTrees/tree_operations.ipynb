{
 "cells": [
  {
   "cell_type": "markdown",
   "metadata": {},
   "source": [
    "## Building a Tree\n",
    "\n",
    "First we need to define the TreeNode Class to start building a tree"
   ]
  },
  {
   "cell_type": "code",
   "execution_count": 2,
   "metadata": {},
   "outputs": [],
   "source": [
    "class BSTNode:\n",
    "    def __init__(self, data=None, left=None, right=None):\n",
    "        self.data = data\n",
    "        self.left = left\n",
    "        self.right = right"
   ]
  },
  {
   "cell_type": "markdown",
   "metadata": {},
   "source": [
    "Next let's start building a tree, a simple one that looks like this:\n",
    "\n",
    "```\n",
    "                5\n",
    "            /       \\\n",
    "           3         6\n",
    "         /   \\         \\\n",
    "       2       4        7\n",
    "\n",
    "```"
   ]
  },
  {
   "cell_type": "code",
   "execution_count": 7,
   "metadata": {},
   "outputs": [
    {
     "name": "stdout",
     "output_type": "stream",
     "text": [
      "4\n"
     ]
    }
   ],
   "source": [
    "# This will build the above tree\n",
    "leaf1 = BSTNode(2)\n",
    "leaf2 = BSTNode(4)\n",
    "leaf3 = BSTNode(7)\n",
    "\n",
    "node3 = BSTNode(3, leaf1, leaf2)\n",
    "node6 = BSTNode(6, None, leaf3)\n",
    "\n",
    "root = BSTNode(5, node3, node6)\n",
    "\n",
    "# Proving the tree structure works\n",
    "print(root.left.right.data)"
   ]
  },
  {
   "cell_type": "markdown",
   "metadata": {},
   "source": [
    "# Traversing a BST\n",
    "\n",
    "To search for a node in a BST, we can take advantage of the required ordering of the BST."
   ]
  },
  {
   "cell_type": "code",
   "execution_count": 10,
   "metadata": {},
   "outputs": [],
   "source": [
    "def searchBST(root, val):\n",
    "    if not root:\n",
    "        return None\n",
    "    if root.data == val:\n",
    "        return root\n",
    "    if val < root.data:\n",
    "        return searchBST(root.left, val)\n",
    "    if val > root.data:\n",
    "        return searchBST(root.right, val)"
   ]
  },
  {
   "cell_type": "code",
   "execution_count": 14,
   "metadata": {},
   "outputs": [
    {
     "data": {
      "text/plain": [
       "3"
      ]
     },
     "execution_count": 14,
     "metadata": {},
     "output_type": "execute_result"
    }
   ],
   "source": [
    "# Searching for the node with value 3\n",
    "foundNode = searchBST(root, 3)\n",
    "foundNode.data"
   ]
  },
  {
   "cell_type": "markdown",
   "metadata": {},
   "source": [
    "## Deleting a Node in a BST\n",
    "\n",
    "Deletion of a node can get quite complicated because you have to update the below nodes in the absence of the deleted node.\n",
    "\n",
    "Take this tree example below:\n",
    "\n",
    "```        \n",
    "       10\n",
    "      /   \n",
    "     5    \n",
    "    / \\\n",
    "   3   8\n",
    "  / \\ / \\\n",
    " 2  1 7 9\n",
    "```\n",
    "\n",
    "\n",
    "This is the most complex scenario. \n",
    "\n",
    "If we had to remove the node with value 5, we need to shift the below subtrees since there's so much children attached. \n",
    "\n",
    "Here's a valid subtree post-deletion:\n",
    "\n",
    "```        \n",
    "       10\n",
    "      /   \n",
    "     7    \n",
    "    / \\\n",
    "   3   8\n",
    "  / \\   \\\n",
    " 2  1    9         \n",
    "```\n",
    "\n",
    "In order to preserve the ordering, we must go to the right subtree, and then go all the way left. This will essentially replace the value with left-most leaf node of the right subtree of the to-be deleted node. \n",
    "\n",
    "The steps are \n",
    "\n",
    "- Replace the value with left most leaf node in the right subtree\n",
    "- Delete the left most leaf node in the right subtree\n",
    "\n",
    "We want to do it this way as deleting a leaf node is much cleaner than trying to move pointers in this complex scenario\n",
    "\n",
    "Other scenarios such as deleting a leaf node are much simpler, so here's the code to handle them"
   ]
  },
  {
   "cell_type": "code",
   "execution_count": null,
   "metadata": {},
   "outputs": [],
   "source": [
    "def deleteNode(self, root, key):\n",
    "        # This is mostly the same as the searching algorithm with a few key differences!\n",
    "        if not root:\n",
    "            return None\n",
    "        \n",
    "        if root.val == key:\n",
    "            # If there's no subtree to the right, just return the left subtree as the next node to the parent\n",
    "            if not root.right:\n",
    "                return root.left\n",
    "            # Vice versa for the left subtree being empty\n",
    "            if not root.left:\n",
    "                return root.right\n",
    "            \n",
    "            # If both exist, we come to this code block\n",
    "            # We need to go right first\n",
    "            if root.left and root.right:\n",
    "                tmp = root.right\n",
    "                while tmp.left:\n",
    "                    # Go all the way to the left of the tree\n",
    "                    tmp = tmp.left\n",
    "                # Update the root with that value, so that we can delete that node with the same value further down the right subtree\n",
    "                root.val = tmp.val    \n",
    "                # Update the node to be to deleted as the the value, recursion will delete it with out preexisting logic\n",
    "                root.right = self.deleteNode(root.right, root.val)\n",
    "            \n",
    "        elif key < root.val:\n",
    "            # set the parent to left.. GENIUS MOVE as this takes care of the parent connection handling\n",
    "            root.left = self.deleteNode(root.left, key)\n",
    "            \n",
    "        elif key > root.val:\n",
    "            # set the parent to whatever's on the right\n",
    "            root.right = self.deleteNode(root.right, key)\n",
    "        \n",
    "        return root"
   ]
  },
  {
   "cell_type": "markdown",
   "metadata": {},
   "source": [
    "## Insertion into a BST\n",
    "\n",
    "Insertion into a BST is also similar to search and deletion.\n",
    "\n",
    "It's as simple as search, but we assign root left and root right sections with each recursive pass\n",
    "\n",
    "At the end when we reach the end of a BST and the result is null, we return the new TreeNode object with the value"
   ]
  },
  {
   "cell_type": "code",
   "execution_count": null,
   "metadata": {},
   "outputs": [],
   "source": [
    "def insertIntoBST(self, root, val):    \n",
    "    if not root:\n",
    "        return TreeNode(val)\n",
    "    \n",
    "    if val < root.val:\n",
    "        root.left = self.insertIntoBST(root.left, val)\n",
    "    elif val > root.val:\n",
    "        root.right = self.insertIntoBST(root.right, val)\n",
    "        \n",
    "    return root"
   ]
  },
  {
   "cell_type": "markdown",
   "metadata": {},
   "source": [
    "### Iterative Insertion Solution\n",
    "\n",
    "Here's also a decent iterative insertion into a BST\n",
    "\n",
    "It's pretty easy since we just go left and right until we hit a null node. Using a parent node along the way allows for attaching the new node to it"
   ]
  },
  {
   "cell_type": "code",
   "execution_count": null,
   "metadata": {},
   "outputs": [],
   "source": [
    "def insertIntoBSTIterative(self, root, val):    \n",
    "\n",
    "    new_node = TreeNode(val)\n",
    "    \n",
    "    if not root:\n",
    "        return new_node\n",
    "    \n",
    "    tree_iter = root\n",
    "    \n",
    "    while tree_iter:\n",
    "        parent_node = tree_iter\n",
    "        if val < tree_iter.val:\n",
    "            tree_iter = tree_iter.left\n",
    "        elif val > tree_iter.val:\n",
    "            tree_iter = tree_iter.right\n",
    "    if val < parent_node.val:\n",
    "        parent_node.left = new_node\n",
    "    else:\n",
    "        parent_node.right = new_node\n",
    "        \n",
    "    return root"
   ]
  }
 ],
 "metadata": {
  "kernelspec": {
   "display_name": "Python 3.8.10 64-bit",
   "language": "python",
   "name": "python3"
  },
  "language_info": {
   "codemirror_mode": {
    "name": "ipython",
    "version": 3
   },
   "file_extension": ".py",
   "mimetype": "text/x-python",
   "name": "python",
   "nbconvert_exporter": "python",
   "pygments_lexer": "ipython3",
   "version": "3.8.10"
  },
  "orig_nbformat": 4,
  "vscode": {
   "interpreter": {
    "hash": "916dbcbb3f70747c44a77c7bcd40155683ae19c65e1c03b4aa3499c5328201f1"
   }
  }
 },
 "nbformat": 4,
 "nbformat_minor": 2
}
