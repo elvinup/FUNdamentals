{
 "cells": [
  {
   "cell_type": "markdown",
   "metadata": {},
   "source": [
    "# 14.1 Takeaway - Validate a Tree is a BST\n",
    "\n",
    "Since it is known a BST is a Tree with it's elements in *order*, it seems obvious to just check at each node's value, check that it's bigger than what's on the left of it, and check that it's less than what's on the right of it.\n",
    "\n",
    "This is a mistake, because it is important to realize a descendant could easily be greater than it's ancestor if checked this simply.\n",
    "\n",
    "\n",
    "### Tree Example\n",
    "```\n",
    "    8\n",
    "   / \\\n",
    "  4  9\n",
    " /\n",
    "2\n",
    " \\\n",
    "  10 \n",
    "```\n",
    "\n",
    "This is not a valid BST because 10 is left of the root 8, so the original idea won't work. \n",
    "\n",
    "To get past this, we need to keep track of the minimum and maximum values we've seen so far, and make sure the value we run into doesn't go outside those bounds. If it does, then it's False.\n",
    "\n",
    "## Implementation\n",
    "\n",
    "When doing this problem, at first I was confused how I'd use recursion with the existing is_binary_tree_bst(tree) function when it's only parameter is a TreeNode. This is where a recursive function we personally define within that function comes in! We need to know at each node what the min and max is, so this is the best workaround for this.\n",
    "\n",
    "## Recursive Magic\n",
    "\n",
    "Each iteration of this recursive code represents an evalution at every single node! \n",
    "\n",
    "To take advantage of recursion, we check \n",
    "\n",
    "- left is less than the current node\n",
    "- We check every node by making a recursive call that checks the left node on each node, and updates the maximum as the current node's value, and updates the minimum to what we've seen so far.\n",
    "- We check every node with the same recursive call checking the right node on each node, and updating the min as the current node's value, and updates the maximum to what's been seen so far along the way.\n",
    "\n",
    "If all these recursive checks don't return `False`, return `True`"
   ]
  },
  {
   "cell_type": "code",
   "execution_count": null,
   "metadata": {},
   "outputs": [],
   "source": [
    "def is_binary_tree_bst(tree):\n",
    "    def check_bst(tree, maxim=float('inf'), minim=float('-inf')):\n",
    "        if tree is None:\n",
    "            return True\n",
    "\n",
    "        # Check if current node is a max or min value in the curr subtree\n",
    "        if not minim <= tree.data <= maxim:\n",
    "            return False\n",
    "            \n",
    "        if tree.left:\n",
    "            if tree.data < tree.left.data or not check_bst(tree.left, tree.data, minim):\n",
    "                return False\n",
    "\n",
    "        if tree.right:\n",
    "            if tree.data > tree.right.data or not check_bst(tree.right, maxim, tree.data):\n",
    "                return False\n",
    "\n",
    "        return True\n",
    "    return check_bst(tree)"
   ]
  },
  {
   "cell_type": "markdown",
   "metadata": {},
   "source": [
    "## Analysis\n",
    "\n",
    "Time Complexity: O(n)\n",
    "\n",
    "We see each node once, and check left and right on each node to validate it's a BST.\n",
    "\n",
    "Space Complexity: O(h)\n",
    "The height of the tree is all the space we use with the recursive stack. Could go up to N elements if it's a skewed tree."
   ]
  }
 ],
 "metadata": {
  "kernelspec": {
   "display_name": "Python 3.8.10 64-bit",
   "language": "python",
   "name": "python3"
  },
  "language_info": {
   "name": "python",
   "version": "3.8.10"
  },
  "orig_nbformat": 4,
  "vscode": {
   "interpreter": {
    "hash": "916dbcbb3f70747c44a77c7bcd40155683ae19c65e1c03b4aa3499c5328201f1"
   }
  }
 },
 "nbformat": 4,
 "nbformat_minor": 2
}
