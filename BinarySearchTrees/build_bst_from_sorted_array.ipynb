{
 "cells": [
  {
   "cell_type": "markdown",
   "metadata": {},
   "source": [
    "# 14.8 - Build BST from a Sorted Array\n",
    "\n",
    "From a sorted array, a BST can be built in many ways, but we want to build a BST of minimum possible height.\n",
    "\n",
    "Input: sorted array\n",
    "Output: BST root node\n",
    "\n",
    "## Examples\n",
    "\n",
    "Input: [1, 2, 3, 4, 5, 6, 7]\n",
    "\n",
    "Examples of [1-5], [1-7]\n",
    "\n",
    "```\n",
    "\t        3 \t\t               4                                 \n",
    "         /  \\ \t            /\t      \\\t                        \n",
    "       2      4\t            2        6                     \n",
    "      /         \\         /   \\     /  \\                    \n",
    "    1           5         1    3    5  7                                                     \n",
    "```\n",
    "\n",
    "## Brainstorming\n",
    "\n",
    "The root should be the midpoint or middle index.\n",
    "\n",
    "Then we need get the midpoint recursively left and right to build the left and right nodes.\n",
    "\n",
    "## Implementation"
   ]
  },
  {
   "cell_type": "code",
   "execution_count": null,
   "metadata": {},
   "outputs": [],
   "source": [
    "def build_min_height_bst_from_sorted_array(A: List[int]) -> Optional[BstNode]:\n",
    "    def build_min_tree_with_range(subarray, start, end):\n",
    "        if start >= end:\n",
    "            return None\n",
    "        midpoint = ((end - start) // 2) + start\n",
    "        root = BstNode(subarray[midpoint])\n",
    "        root.left = build_min_tree_with_range(subarray, start, midpoint)\n",
    "        root.right = build_min_tree_with_range(subarray, midpoint+1, end)\n",
    "        return root\n",
    "\n",
    "    return build_min_tree_with_range(A, 0, len(A))\n"
   ]
  },
  {
   "cell_type": "markdown",
   "metadata": {},
   "source": [
    "\n",
    "## Lessons Learned\n",
    "\n",
    "- It’s much easier to think of  the midpoint as\n",
    "  - midpoint = (end + start) // 2\n",
    "  - vs midpoint = (end - start) // 2 + start, but both work\n",
    "- When calculating midpoint, use the len(list) as reference, NOT len(list) - 1. It’ll screw with your head AND your results.\n",
    "  - Referring to `return build_min_tree_with_range(A, 0, len(A))`\n",
    "\n",
    "- Even with recursion, we had access to A, so didn’t have to pass around the subarray variable at all.\n",
    "\n",
    "## Even Cleaner version"
   ]
  },
  {
   "cell_type": "code",
   "execution_count": null,
   "metadata": {},
   "outputs": [],
   "source": [
    "def build_min_height_bst_from_sorted_array(A: List[int]) -> Optional[BstNode]:\n",
    "    def build_min_tree_with_range(start, end):\n",
    "        if start >= end:\n",
    "            return None\n",
    "        midpoint = ((end - start) // 2) + start\n",
    "        return BstNode(A[midpoint], build_min_tree_with_range(start, midpoint), build_min_tree_with_range(midpoint+1, end))\n",
    "    return build_min_tree_with_range(A, 0, len(A))"
   ]
  },
  {
   "cell_type": "markdown",
   "metadata": {},
   "source": [
    "## Analysis\n",
    "\n",
    "O(n) time since we need to recurively reach each node as represented in the sorted array\n",
    "\n",
    "O(1) space since we only use the sorted array"
   ]
  }
 ],
 "metadata": {
  "kernelspec": {
   "display_name": "Python 3.8.10 64-bit",
   "language": "python",
   "name": "python3"
  },
  "language_info": {
   "name": "python",
   "version": "3.8.10"
  },
  "orig_nbformat": 4,
  "vscode": {
   "interpreter": {
    "hash": "916dbcbb3f70747c44a77c7bcd40155683ae19c65e1c03b4aa3499c5328201f1"
   }
  }
 },
 "nbformat": 4,
 "nbformat_minor": 2
}
