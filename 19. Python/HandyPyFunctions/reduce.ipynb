{
 "cells": [
  {
   "cell_type": "markdown",
   "metadata": {},
   "source": [
    "# Reduce Function\n",
    "\n",
    "## 6.2 Takeaway\n",
    "\n",
    "Lambda Functions are kinda a pre-req to using these\n",
    "\n",
    "The reduce function allows you to apply a function to a list quickly"
   ]
  },
  {
   "cell_type": "code",
   "execution_count": 3,
   "metadata": {},
   "outputs": [
    {
     "data": {
      "text/plain": [
       "10"
      ]
     },
     "execution_count": 3,
     "metadata": {},
     "output_type": "execute_result"
    }
   ],
   "source": [
    "import functools\n",
    "\n",
    "# Let's say you wanted to add all the numbers of a list together super quickly and look slick to your noob interviewer\n",
    "some_list = [1, 2, 3, 4]\n",
    "lambda_func = lambda x, y: x + y\n",
    "functools.reduce(lambda_func, some_list)"
   ]
  },
  {
   "cell_type": "markdown",
   "metadata": {},
   "source": [
    "x + y refers to this order of operations\n",
    "- 1 + 2\n",
    "- 2 + 3\n",
    "- 3 + 4"
   ]
  },
  {
   "cell_type": "code",
   "execution_count": 7,
   "metadata": {},
   "outputs": [
    {
     "data": {
      "text/plain": [
       "11"
      ]
     },
     "execution_count": 7,
     "metadata": {},
     "output_type": "execute_result"
    }
   ],
   "source": [
    "# The 3rd parameter gives you a starting element to work with\n",
    "# basically adds one more iteration pf the function, but at the beginning with the passed in number\n",
    "\n",
    "functools.reduce(lambda_func, some_list, 1)"
   ]
  }
 ],
 "metadata": {
  "interpreter": {
   "hash": "916dbcbb3f70747c44a77c7bcd40155683ae19c65e1c03b4aa3499c5328201f1"
  },
  "kernelspec": {
   "display_name": "Python 3.8.10 64-bit",
   "name": "python3"
  },
  "language_info": {
   "codemirror_mode": {
    "name": "ipython",
    "version": 3
   },
   "file_extension": ".py",
   "mimetype": "text/x-python",
   "name": "python",
   "nbconvert_exporter": "python",
   "pygments_lexer": "ipython3",
   "version": "3.10.12"
  },
  "orig_nbformat": 4
 },
 "nbformat": 4,
 "nbformat_minor": 2
}
