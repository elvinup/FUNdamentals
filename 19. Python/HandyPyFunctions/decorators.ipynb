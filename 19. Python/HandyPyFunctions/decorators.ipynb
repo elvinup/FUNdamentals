{
 "cells": [
  {
   "attachments": {},
   "cell_type": "markdown",
   "metadata": {},
   "source": [
    "# Decorators\n",
    "\n",
    "To use one, create a function with a wrapper function inside which does work that you want to repeat with each function you \"decorate\".\n",
    "\n",
    "To decorate a function, just use @decorator_function_name right above the function to add the common functionality to it\n",
    "\n",
    "Some usecases:\n",
    "\n",
    "- Timing functions: You can use a decorator to time how long it takes for a function to run. This is useful when optimizing code or identifying bottlenecks.\n",
    "\n",
    "- Logging: Decorators can also be used to log information about function calls. This is helpful for debugging and tracing errors.\n",
    "\n",
    "- Authentication: A decorator can be used to restrict access to certain functions or methods to authenticated users only.\n",
    "\n",
    "- Memoization: Memoization is a technique for caching the results of a function to avoid recomputing them when the same inputs occur again. A decorator can be used to memoize a function.\n",
    "\n",
    "- Validation: You can use a decorator to validate the inputs or outputs of a function, ensuring that they meet certain criteria before allowing the function to run.\n",
    "\n",
    "- Retry: A decorator can be used to automatically retry a function if it fails due to a known issue (such as a network timeout or server error).\n",
    "\n",
    "- Deprecation warnings: A decorator can be used to mark a function as deprecated and issue a warning when it is called, encouraging users to migrate to a newer function or API.\n",
    "\n",
    "These are just a few examples of the many ways that decorators can be used in Python. They are a powerful tool for adding functionality to functions and methods in a flexible and reusable way."
   ]
  },
  {
   "attachments": {},
   "cell_type": "markdown",
   "metadata": {},
   "source": [
    "## Logging Example"
   ]
  },
  {
   "cell_type": "code",
   "execution_count": 1,
   "metadata": {},
   "outputs": [
    {
     "name": "stdout",
     "output_type": "stream",
     "text": [
      "my_function took 0.00 seconds\n"
     ]
    },
    {
     "data": {
      "text/plain": [
       "'hi'"
      ]
     },
     "execution_count": 1,
     "metadata": {},
     "output_type": "execute_result"
    }
   ],
   "source": [
    "import time\n",
    "\n",
    "def log_time(func):\n",
    "    def wrapper(*args, **kwargs):\n",
    "        start = time.time()\n",
    "        result = func(*args, **kwargs)\n",
    "        end = time.time()\n",
    "        print(f\"{func.__name__} took {end - start:.2f} seconds\")\n",
    "        return result\n",
    "    return wrapper\n",
    "\n",
    "@log_time\n",
    "def my_function(arg):\n",
    "    # do something\n",
    "    return arg\n",
    "\n",
    "my_function('hi')"
   ]
  },
  {
   "attachments": {},
   "cell_type": "markdown",
   "metadata": {},
   "source": [
    "## Authentication Example"
   ]
  },
  {
   "cell_type": "code",
   "execution_count": 7,
   "metadata": {},
   "outputs": [
    {
     "name": "stdout",
     "output_type": "stream",
     "text": [
      "doing something\n"
     ]
    },
    {
     "ename": "Exception",
     "evalue": "User is not authorized",
     "output_type": "error",
     "traceback": [
      "\u001b[0;31m---------------------------------------------------------------------------\u001b[0m",
      "\u001b[0;31mException\u001b[0m                                 Traceback (most recent call last)",
      "Cell \u001b[0;32mIn [7], line 15\u001b[0m\n\u001b[1;32m     12\u001b[0m     \u001b[39mreturn\u001b[39;00m \u001b[39m\"\u001b[39m\u001b[39mdoing something\u001b[39m\u001b[39m\"\u001b[39m\n\u001b[1;32m     14\u001b[0m \u001b[39mprint\u001b[39m(my_function(\u001b[39mTrue\u001b[39;00m)) \u001b[39m# Should print \u001b[39;00m\n\u001b[0;32m---> 15\u001b[0m \u001b[39mprint\u001b[39m(my_function(\u001b[39mFalse\u001b[39;49;00m))\n",
      "Cell \u001b[0;32mIn [7], line 6\u001b[0m, in \u001b[0;36mcheck_authorization.<locals>.wrapper\u001b[0;34m(*args, **kwargs)\u001b[0m\n\u001b[1;32m      4\u001b[0m     \u001b[39mreturn\u001b[39;00m func(\u001b[39m*\u001b[39margs, \u001b[39m*\u001b[39m\u001b[39m*\u001b[39mkwargs)\n\u001b[1;32m      5\u001b[0m \u001b[39melse\u001b[39;00m:\n\u001b[0;32m----> 6\u001b[0m     \u001b[39mraise\u001b[39;00m \u001b[39mException\u001b[39;00m(\u001b[39m\"\u001b[39m\u001b[39mUser is not authorized\u001b[39m\u001b[39m\"\u001b[39m)\n",
      "\u001b[0;31mException\u001b[0m: User is not authorized"
     ]
    }
   ],
   "source": [
    "def check_authorization(func):\n",
    "    def wrapper(*args, **kwargs):\n",
    "        if args[0] == True:\n",
    "            return func(*args, **kwargs)\n",
    "        else:\n",
    "            raise Exception(\"User is not authorized\")\n",
    "    return wrapper\n",
    "\n",
    "@check_authorization\n",
    "def my_function(is_authorized):\n",
    "    # do something\n",
    "    return \"doing something\"\n",
    "\n",
    "print(my_function(True)) # Should print \n",
    "print(my_function(False)) # Should raise an exception"
   ]
  }
 ],
 "metadata": {
  "kernelspec": {
   "display_name": "Python 3",
   "language": "python",
   "name": "python3"
  },
  "language_info": {
   "codemirror_mode": {
    "name": "ipython",
    "version": 3
   },
   "file_extension": ".py",
   "mimetype": "text/x-python",
   "name": "python",
   "nbconvert_exporter": "python",
   "pygments_lexer": "ipython3",
   "version": "3.10.12"
  },
  "orig_nbformat": 4,
  "vscode": {
   "interpreter": {
    "hash": "916dbcbb3f70747c44a77c7bcd40155683ae19c65e1c03b4aa3499c5328201f1"
   }
  }
 },
 "nbformat": 4,
 "nbformat_minor": 2
}
