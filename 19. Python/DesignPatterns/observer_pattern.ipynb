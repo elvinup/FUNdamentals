{
 "cells": [
  {
   "attachments": {},
   "cell_type": "markdown",
   "metadata": {},
   "source": [
    "# Observer Pattern\n",
    "\n",
    "Observer pattern involves observer objects observing an observed object through subscriptions by events.\n",
    "\n",
    "[Code Example](https://github.com/ArjanCodes/betterpython/tree/main/4%20-%20observer%20pattern)\n",
    "\n",
    "[Video Example](https://www.youtube.com/watch?v=oNalXg67XEE&list=PLC0nd42SBTaNuP4iB4L6SJlMaHE71FG6N&index=6)"
   ]
  }
 ],
 "metadata": {
  "language_info": {
   "name": "python"
  },
  "orig_nbformat": 4
 },
 "nbformat": 4,
 "nbformat_minor": 2
}
