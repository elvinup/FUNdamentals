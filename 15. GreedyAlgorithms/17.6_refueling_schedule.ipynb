{
 "cells": [
  {
   "cell_type": "markdown",
   "metadata": {},
   "source": [
    "# 17.6 - The Refueling Schedule Problem Takeaway\n",
    "\n",
    "This problem involves traveling through cities on a circular road, and picking the only city that will allow one to do a roundtrip without running out of gas.\n",
    "\n",
    "## What got me hung up\n",
    "\n",
    "I drew the wrong type of picture. I first drew my visualization as a sliding window problem, but in reality the algorithmic pattern is hard to derive from this. It is far easier to recognize the pattern by doing a couple x-y plot diagrams to see that the solution is simply to choose the city with the lowest miles. \n",
    "\n",
    "\n",
    "![](../%20images/refueling_schedule_diagrams.png)"
   ]
  },
  {
   "cell_type": "markdown",
   "metadata": {},
   "source": [
    "After doing this, it is clear to see that simply starting with the city that ended up with the lowest miles, no matter the iteration will end up being the \"ample\" or best city to start at, since we retrieve gas from there and there was a guarantee in the problem that there is 1 city that will allow the trip.\n",
    "\n",
    "## Main Takeaway\n",
    "\n",
    "It is important to realize that a visualization is a must for deriving the algorithm for some of these greedy algorithms. For some, a sliding window approach works. For problems with this much data, perhaps when there's 2 arrays with data, an xy graph should be plotted instead."
   ]
  },
  {
   "cell_type": "markdown",
   "metadata": {},
   "source": [
    "## Implementation"
   ]
  },
  {
   "cell_type": "code",
   "execution_count": 2,
   "metadata": {},
   "outputs": [
    {
     "data": {
      "text/plain": [
       "3"
      ]
     },
     "execution_count": 2,
     "metadata": {},
     "output_type": "execute_result"
    }
   ],
   "source": [
    "MPG = 20\n",
    "\n",
    "# gallons[i] is the amount of gas in city i, and distances[i] is the\n",
    "# distance city i to the next city.\n",
    "def find_ample_city(gallons, distances):\n",
    "    # Starting\n",
    "    totalMilesLeft = 0\n",
    "    lowestCity = 0\n",
    "    lowestPoint = 0\n",
    "    for i in range(len(gallons)):\n",
    "        totalMilesLeft += MPG * gallons[i]\n",
    "        totalMilesLeft -= distances[i]\n",
    "\n",
    "        if totalMilesLeft < lowestPoint:\n",
    "            lowestPoint = totalMilesLeft\n",
    "            lowestCity = i + 1 # Need to record the next city we will be starting at from this lowpoint\n",
    "\n",
    "    return lowestCity\n",
    "\n",
    "find_ample_city([50, 20, 5, 30, 25, 10, 10], [900, 600, 200, 400, 600, 200, 100])"
   ]
  },
  {
   "cell_type": "markdown",
   "metadata": {},
   "source": [
    "## Analysis\n",
    "\n",
    "We just scan throught the array once, so it's \n",
    "O(n) time\n",
    "\n",
    "O(1) space"
   ]
  }
 ],
 "metadata": {
  "kernelspec": {
   "display_name": "Python 3.8.10 64-bit",
   "language": "python",
   "name": "python3"
  },
  "language_info": {
   "codemirror_mode": {
    "name": "ipython",
    "version": 3
   },
   "file_extension": ".py",
   "mimetype": "text/x-python",
   "name": "python",
   "nbconvert_exporter": "python",
   "pygments_lexer": "ipython3",
   "version": "3.8.10 (default, Nov 14 2022, 12:59:47) \n[GCC 9.4.0]"
  },
  "orig_nbformat": 4,
  "vscode": {
   "interpreter": {
    "hash": "916dbcbb3f70747c44a77c7bcd40155683ae19c65e1c03b4aa3499c5328201f1"
   }
  }
 },
 "nbformat": 4,
 "nbformat_minor": 2
}
