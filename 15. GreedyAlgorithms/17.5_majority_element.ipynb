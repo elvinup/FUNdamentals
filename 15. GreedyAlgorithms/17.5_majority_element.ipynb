{
 "cells": [
  {
   "cell_type": "markdown",
   "metadata": {},
   "source": [
    "# 17.5 Takeaway - Majority Element\n",
    "\n",
    "The problem:\n",
    "\n",
    "Pick the element that has the majority. Majority means there are at least half(len of array) + 1.\n",
    "\n",
    "So for an array of 10 elements like below, it the majority item must have **AT LEAST** 6/10 occurrences to qualify. The problem clarifies to always expect one from all inputs.\n",
    "\n",
    "['a', 'a', 'a', 'a', 'a', 'a', 'b', 'b', 'c', 'c']\n",
    "\n",
    "## Naiive\n",
    "\n",
    "Quickly, I reached to the idea of using a hashmap which would record occurrences of each, and just grab the letter with the highest count as the value.\n",
    "\n",
    "This is O(N) time, but also O(N) space. The key insight here is the fact we are given key information about how there is always a majority element. We have to make use of this information and not take the easy way out with the hashmap.\n",
    "\n",
    "\n",
    "## Optimal Solution\n",
    "\n",
    "This optimal solution to this problem is actually also known as the Boyer–Moore Majority Vote Algorithm.\n",
    "\n",
    "Essentially, a really smart guy came up with this, so it's just a good to know algorithm that would be pretty darn hard to come up with on your own. Nevertheless, it's a pretty genius algorithm that allows for this particular situation to run in\n",
    "\n",
    "## Analysis\n",
    "\n",
    "- O(N) time\n",
    "- O(1) space\n",
    "\n",
    "\n",
    "The way it works is that since we are always guaranteed more than half the nodes, if each element uses a counter variable to \"vote\" on itself, and subtract from itself if another element, the majority element will always come out on top. This ends up being very simple logic, just very difficult to have intuition for.  "
   ]
  },
  {
   "cell_type": "code",
   "execution_count": 5,
   "metadata": {},
   "outputs": [
    {
     "data": {
      "text/plain": [
       "'a'"
      ]
     },
     "execution_count": 5,
     "metadata": {},
     "output_type": "execute_result"
    }
   ],
   "source": [
    "def majority_search(stream):\n",
    "    counter = 1\n",
    "    candidate = None\n",
    "    for it in stream:\n",
    "        if candidate != it:\n",
    "            counter -= 1\n",
    "        elif candidate == it:\n",
    "            counter += 1\n",
    "        if counter == 0:\n",
    "            candidate = it\n",
    "            counter = 1\n",
    "    return candidate\n",
    "\n",
    "majority_search(iter(['a', 'a', 'a', 'a', 'a', 'a', 'b', 'b', 'c', 'c']))"
   ]
  },
  {
   "cell_type": "markdown",
   "metadata": {},
   "source": [
    "## A Better Intuitive Algorithm + Better Takeaway\n",
    "\n",
    "The Boyer-Moore Algorithm is an incredibly tricky algorithm to come up with in an algorithm. \n",
    "\n",
    "A better piece of advice is to follow this heuristic:\n",
    "\n",
    "Whenever your interviewer tries to get you to optimize an algorithm to a seemingly impossible O(1) time or space, try to **think in bits**!!!\n",
    "\n",
    "\n",
    "### Example\n",
    "\n",
    "For this same problem, let's use this input\n",
    "\n",
    "[3, 2, 2, 4, 2, 2]\n",
    "\n",
    "![](../%20images/majority_element_bits.png)\n",
    "\n",
    "The key thing here to find the trick is to layout the binary representation of each these numbers. There's a pattern! The pattern is that after laying these numbers down, we can go column by column, right to left. \n",
    "\n",
    "If there's a majority of 0's, mark down that value as 0. If there's a majority of 1's, mark that place as 1.\n",
    "\n",
    "What we get at the end is the final answer.\n"
   ]
  },
  {
   "cell_type": "code",
   "execution_count": 3,
   "metadata": {},
   "outputs": [
    {
     "data": {
      "text/plain": [
       "2"
      ]
     },
     "execution_count": 3,
     "metadata": {},
     "output_type": "execute_result"
    }
   ],
   "source": [
    "def majorityElementBits(array):\n",
    "    n = len(array)\n",
    "    ans = 0\n",
    "    # Need to set a boundary, will go with 32 bit\n",
    "    for b in range(32):\n",
    "        ones = 0\n",
    "        for num in array:\n",
    "            \n",
    "            if (1 << b) & num:\n",
    "                ones += 1\n",
    "        \n",
    "        # If there's mostly 1's in the majority, we record it in our answer\n",
    "        if ones > n // 2:\n",
    "            ans += 1 << b\n",
    "            \n",
    "    return ans\n",
    "\n",
    "majorityElementBits([3, 2, 2, 4, 2, 2])"
   ]
  },
  {
   "cell_type": "markdown",
   "metadata": {},
   "source": [
    "Disclaimer: This is slightly less efficient that the Boyer-Moore algorithm, but it is an algorithm one could come up with realistically in an interview setting. "
   ]
  }
 ],
 "metadata": {
  "kernelspec": {
   "display_name": "Python 3.8.10 64-bit",
   "language": "python",
   "name": "python3"
  },
  "language_info": {
   "codemirror_mode": {
    "name": "ipython",
    "version": 3
   },
   "file_extension": ".py",
   "mimetype": "text/x-python",
   "name": "python",
   "nbconvert_exporter": "python",
   "pygments_lexer": "ipython3",
   "version": "3.10.12"
  },
  "orig_nbformat": 4,
  "vscode": {
   "interpreter": {
    "hash": "916dbcbb3f70747c44a77c7bcd40155683ae19c65e1c03b4aa3499c5328201f1"
   }
  }
 },
 "nbformat": 4,
 "nbformat_minor": 2
}
