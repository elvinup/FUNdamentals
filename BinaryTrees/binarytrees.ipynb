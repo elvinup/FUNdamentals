{
 "cells": [
  {
   "cell_type": "markdown",
   "metadata": {},
   "source": [
    "# Binary Trees Data Structure"
   ]
  },
  {
   "cell_type": "code",
   "execution_count": 1,
   "metadata": {},
   "outputs": [],
   "source": [
    "class BinaryTreeNode:\n",
    "    def __init__(self, data=None, left=None, right=None):\n",
    "        self.data = data\n",
    "        self.left = left\n",
    "        self.right = right"
   ]
  },
  {
   "cell_type": "markdown",
   "metadata": {},
   "source": [
    "## Key Terms\n",
    "\n",
    "Depth - The depth of a node, is the number of nodes on a search path between the root to n, excluding n\n",
    "\n",
    "Height - Is the maximum depth of any node in a tree\n",
    "\n",
    "Full Binary Tree - every node but the leaves have 2 children\n",
    "\n",
    "Perfect Binary Tree - a full binary tree where all leaves are same depth\n",
    "\n",
    "\n",
    "## Tips\n",
    "\n",
    "The number of non-leaf nodes in a full binary tree is one less than the number of leaves\n",
    "\n",
    "Complete binary trees of n nodes have a height of log(n)\n",
    "\n",
    "If node has a parent field, use it to save on time and space complexity\n",
    "\n",
    "Don't make the mistake of treating a node with **one child** as a leaf\n",
    "\n",
    "Recursive algorithms are typically the simplest way to solve these\n",
    "\n",
    "It is sometimes useful to have a dummy or previous node tail behind your current node to see where a traversal is coming from (reconstruction problems!)\n",
    "\n",
    "## Analysis\n",
    "\n",
    "- Skewed Trees - O(height) = O(n)\n",
    "- Balanced Trees - O(height) = O(log(n)) "
   ]
  },
  {
   "cell_type": "markdown",
   "metadata": {},
   "source": [
    "# Creating a Binary Tree"
   ]
  },
  {
   "cell_type": "markdown",
   "metadata": {},
   "source": [
    "Let's create the binary tree from Diagram 9.1 in EPI"
   ]
  },
  {
   "cell_type": "code",
   "execution_count": 2,
   "metadata": {},
   "outputs": [],
   "source": [
    "a = BinaryTreeNode(314)\n",
    "b = BinaryTreeNode(6)\n",
    "c = BinaryTreeNode(271)\n",
    "d = BinaryTreeNode(28)\n",
    "e = BinaryTreeNode(0)\n",
    "f = BinaryTreeNode(561)\n",
    "g = BinaryTreeNode(3)\n",
    "h = BinaryTreeNode(17)\n",
    "i = BinaryTreeNode(6)\n",
    "j = BinaryTreeNode(2)\n",
    "k = BinaryTreeNode(1)\n",
    "l = BinaryTreeNode(401)\n",
    "m = BinaryTreeNode(641)\n",
    "n = BinaryTreeNode(257)\n",
    "o = BinaryTreeNode(271)\n",
    "p = BinaryTreeNode(28)\n",
    "\n",
    "a.left = b\n",
    "a.right = i\n",
    "b.left = c\n",
    "b.right  = f\n",
    "c.left = d\n",
    "c.right = e\n",
    "f.right = g\n",
    "g.left = h\n",
    "i.left = j\n",
    "i.right = o\n",
    "j.right = k\n",
    "k.left = l\n",
    "k.right = n\n",
    "l.right = m\n",
    "o.right = p"
   ]
  },
  {
   "cell_type": "markdown",
   "metadata": {},
   "source": [
    "# Recursive Tree Traversal"
   ]
  },
  {
   "cell_type": "markdown",
   "metadata": {},
   "source": [
    "## Preorder"
   ]
  },
  {
   "cell_type": "code",
   "execution_count": 3,
   "metadata": {},
   "outputs": [
    {
     "name": "stdout",
     "output_type": "stream",
     "text": [
      "preorder: 314\n",
      "preorder: 6\n",
      "preorder: 271\n",
      "preorder: 28\n",
      "preorder: 0\n",
      "preorder: 561\n",
      "preorder: 3\n",
      "preorder: 17\n",
      "preorder: 6\n",
      "preorder: 2\n",
      "preorder: 1\n",
      "preorder: 401\n",
      "preorder: 641\n",
      "preorder: 257\n",
      "preorder: 271\n",
      "preorder: 28\n"
     ]
    }
   ],
   "source": [
    "def tree_traversal_preorder(root):\n",
    "    if root:\n",
    "        print('preorder: %d' % root.data)\n",
    "        tree_traversal_preorder(root.left)\n",
    "        tree_traversal_preorder(root.right)\n",
    "\n",
    "tree_traversal_preorder(a)"
   ]
  },
  {
   "cell_type": "markdown",
   "metadata": {},
   "source": [
    "## Inorder"
   ]
  },
  {
   "cell_type": "code",
   "execution_count": 5,
   "metadata": {},
   "outputs": [
    {
     "name": "stdout",
     "output_type": "stream",
     "text": [
      "inorder: 28\n",
      "inorder: 271\n",
      "inorder: 0\n",
      "inorder: 6\n",
      "inorder: 561\n",
      "inorder: 17\n",
      "inorder: 3\n",
      "inorder: 314\n",
      "inorder: 2\n",
      "inorder: 401\n",
      "inorder: 641\n",
      "inorder: 1\n",
      "inorder: 257\n",
      "inorder: 6\n",
      "inorder: 271\n",
      "inorder: 28\n"
     ]
    }
   ],
   "source": [
    "def tree_traversal_inorder(root):\n",
    "    if root:\n",
    "        tree_traversal_inorder(root.left)\n",
    "        print('inorder: %d' % root.data)\n",
    "        tree_traversal_inorder(root.right)\n",
    "\n",
    "tree_traversal_inorder(a)"
   ]
  },
  {
   "cell_type": "markdown",
   "metadata": {},
   "source": [
    "## Postorder"
   ]
  },
  {
   "cell_type": "code",
   "execution_count": 6,
   "metadata": {},
   "outputs": [
    {
     "name": "stdout",
     "output_type": "stream",
     "text": [
      "postorder: 28\n",
      "postorder: 0\n",
      "postorder: 271\n",
      "postorder: 17\n",
      "postorder: 3\n",
      "postorder: 561\n",
      "postorder: 6\n",
      "postorder: 641\n",
      "postorder: 401\n",
      "postorder: 257\n",
      "postorder: 1\n",
      "postorder: 2\n",
      "postorder: 28\n",
      "postorder: 271\n",
      "postorder: 6\n",
      "postorder: 314\n"
     ]
    }
   ],
   "source": [
    "def tree_traversal_postorder(root):\n",
    "    if root:\n",
    "        tree_traversal_postorder(root.left)\n",
    "        tree_traversal_postorder(root.right)\n",
    "        print('postorder: %d' % root.data)\n",
    "\n",
    "tree_traversal_postorder(a)"
   ]
  }
 ],
 "metadata": {
  "interpreter": {
   "hash": "916dbcbb3f70747c44a77c7bcd40155683ae19c65e1c03b4aa3499c5328201f1"
  },
  "kernelspec": {
   "display_name": "Python 3.8.10 64-bit",
   "language": "python",
   "name": "python3"
  },
  "language_info": {
   "codemirror_mode": {
    "name": "ipython",
    "version": 3
   },
   "file_extension": ".py",
   "mimetype": "text/x-python",
   "name": "python",
   "nbconvert_exporter": "python",
   "pygments_lexer": "ipython3",
   "version": "3.8.10"
  },
  "orig_nbformat": 4
 },
 "nbformat": 4,
 "nbformat_minor": 2
}
