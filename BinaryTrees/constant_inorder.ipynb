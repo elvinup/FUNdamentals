{
 "cells": [
  {
   "cell_type": "markdown",
   "metadata": {},
   "source": [
    "# 9.10 Takeaway - Inorder Traversal with O(1) space\n",
    "\n",
    "If the nodes of a tree have a parent field, we should be able to use that to come up with a O(1) space iterative solution.\n",
    "\n",
    "## Some tips\n",
    "\n",
    "prev node will track the previous node behind current node\n",
    "\n",
    "we need to visit the root node 2 times. Once coming up from the left, once coming up from the right\n",
    "\n",
    "**If we’re coming from the left subtree, we still need to check the right**\n",
    "\n",
    "**If coming from the right subtree, we’re done traversing**\n",
    "\n",
    "- Coming down the left (prev is the parent node)\n",
    "- Going back up from the left (prev is the node below left)\n",
    "  - Go to the right if available, else go up\n",
    "- Going back up from the right (prev is the node below right)\n",
    "\n"
   ]
  },
  {
   "cell_type": "code",
   "execution_count": 1,
   "metadata": {},
   "outputs": [],
   "source": [
    "class BinaryTreeNode:\n",
    "    def __init__(self, data=None, left=None, right=None, parent=None):\n",
    "        self.data = data\n",
    "        self.left = left\n",
    "        self.right = right\n",
    "        self.parent = parent"
   ]
  },
  {
   "cell_type": "code",
   "execution_count": 2,
   "metadata": {},
   "outputs": [],
   "source": [
    "a = BinaryTreeNode(314)\n",
    "b = BinaryTreeNode(6)\n",
    "c = BinaryTreeNode(271)\n",
    "d = BinaryTreeNode(28)\n",
    "e = BinaryTreeNode(0)\n",
    "f = BinaryTreeNode(561)\n",
    "g = BinaryTreeNode(3)\n",
    "h = BinaryTreeNode(17)\n",
    "i = BinaryTreeNode(6)\n",
    "j = BinaryTreeNode(2)\n",
    "k = BinaryTreeNode(1)\n",
    "l = BinaryTreeNode(401)\n",
    "m = BinaryTreeNode(641)\n",
    "n = BinaryTreeNode(257)\n",
    "o = BinaryTreeNode(271)\n",
    "p = BinaryTreeNode(28)\n",
    "\n",
    "a.left = b\n",
    "a.right = i\n",
    "b.left = c\n",
    "b.right  = f\n",
    "c.left = d\n",
    "c.right = e\n",
    "f.right = g\n",
    "g.left = h\n",
    "i.left = j\n",
    "i.right = o\n",
    "j.right = k\n",
    "k.left = l\n",
    "k.right = n\n",
    "l.right = m\n",
    "o.right = p\n",
    "\n",
    "d.parent = c\n",
    "e.parent = c\n",
    "c.parent = b\n",
    "h.parent = g\n",
    "g.parent = f\n",
    "f.parent = b\n",
    "b.parent = a\n",
    "i.parent = a\n",
    "m.parent = l\n",
    "l.parent = k\n",
    "n.parent = k\n",
    "k.parent = j\n",
    "j.parent = i\n",
    "o.parent = i\n",
    "p.parent = o"
   ]
  },
  {
   "cell_type": "markdown",
   "metadata": {},
   "source": [
    "## Solution"
   ]
  },
  {
   "cell_type": "code",
   "execution_count": 4,
   "metadata": {},
   "outputs": [
    {
     "name": "stdout",
     "output_type": "stream",
     "text": [
      "[28, 271, 0, 6, 561, 17, 3, 314, 2, 401, 641, 1, 257, 6, 271, 28]\n"
     ]
    }
   ],
   "source": [
    "def constant_inorder_traversal(tree):\n",
    "\tprev = None\n",
    "\tresult = []\n",
    "\t\n",
    "\twhile tree:\n",
    "\t\tif prev is tree.parent:\n",
    "\t\t\tif tree.left:\n",
    "\t\t\t\tnext = tree.left\n",
    "\t\t\telse:\n",
    "\t\t\t\tresult.append(tree.data)\n",
    "\t\t\t\t# Go right if available, otherwise go to parent\n",
    "\t\t\t\tnext = tree.right or tree.parent\n",
    "\n",
    "\t\telif prev is tree.left:\n",
    "\t\t\t# coming up from left, finished with left\n",
    "\t\t\tresult.append(tree.data)\n",
    "\t\t\tnext = tree.right or tree.parent\n",
    "\t\t\t\n",
    "\t\t# finished both sides, go up the parent\n",
    "\t\telse:\n",
    "\t\t\tnext = tree.parent\n",
    "\n",
    "\t\tprev = tree\n",
    "\t\ttree = next\n",
    "\treturn result\n",
    "\n",
    "print(constant_inorder_traversal(a))"
   ]
  },
  {
   "cell_type": "markdown",
   "metadata": {},
   "source": [
    "## Alternative - constant space preorder with parent field\n",
    "\n",
    "It's basically the same thing, except we just add the nodes as soon as we run into them the for the first time\n",
    "\n",
    "Ex:  `next = tree.left` or `next = tree.right`"
   ]
  },
  {
   "cell_type": "code",
   "execution_count": 22,
   "metadata": {},
   "outputs": [
    {
     "name": "stdout",
     "output_type": "stream",
     "text": [
      "[314, 6, 271, 28, 0, 561, 3, 17, 6, 2, 1, 401, 641, 257, 271, 28]\n"
     ]
    }
   ],
   "source": [
    "def constant_preorder_traversal(tree):\n",
    "\tprev = None\n",
    "\tresult = []\n",
    "\tresult.append(tree.data)\n",
    "\t\n",
    "\twhile tree:\n",
    "\t\tif prev is tree.parent:\n",
    "\t\t\tif tree.left:\n",
    "\t\t\t\tnext = tree.left\n",
    "\t\t\telse:\n",
    "\t\t\t\t# Go right if available, otherwise go to parent\n",
    "\t\t\t\tnext = tree.right or tree.parent\n",
    "\n",
    "\t\telif prev is tree.left:\n",
    "\t\t\t# coming up from left, finished with left\n",
    "\t\t\tnext = tree.right or tree.parent\n",
    "\t\t\t\n",
    "\t\t# finished both sides, go up the parent\n",
    "\t\telse:\n",
    "\t\t\tnext = tree.parent\n",
    "\n",
    "\t\t# Just print when we visit a node for the first time, so soon as we move left or right\n",
    "\t\tif next is tree.left or next is tree.right:\n",
    "\t\t\tresult.append(next.data)\n",
    "\n",
    "\t\tprev = tree\n",
    "\t\ttree = next\n",
    "\n",
    "\treturn result\n",
    "\n",
    "print(constant_preorder_traversal(a))"
   ]
  },
  {
   "cell_type": "markdown",
   "metadata": {},
   "source": [
    "## Alternative - constant space postorder with parent field\n",
    "\n",
    "The only difference is we have to print whenever we have to go up the tree because with postorder, we print the root node last.\n",
    "\n",
    "Ex: `next = tree.parent`\n"
   ]
  },
  {
   "cell_type": "code",
   "execution_count": 24,
   "metadata": {},
   "outputs": [
    {
     "name": "stdout",
     "output_type": "stream",
     "text": [
      "[28, 0, 271, 17, 3, 561, 6, 641, 401, 257, 1, 2, 28, 271, 6, 314]\n"
     ]
    }
   ],
   "source": [
    "def constant_preorder_traversal(tree):\n",
    "\tprev = None\n",
    "\tresult = []\n",
    "\t\n",
    "\twhile tree:\n",
    "\t\tif prev is tree.parent:\n",
    "\t\t\tif tree.left:\n",
    "\t\t\t\tnext = tree.left\n",
    "\t\t\telse:\n",
    "\t\t\t\t# Go right if available, otherwise go to parent\n",
    "\t\t\t\tnext = tree.right or tree.parent\n",
    "\n",
    "\t\telif prev is tree.left:\n",
    "\t\t\t# coming up from left, finished with left\n",
    "\t\t\tnext = tree.right or tree.parent\n",
    "\t\t\t\n",
    "\t\t# finished both sides, go up the parent\n",
    "\t\telse:\n",
    "\t\t\tnext = tree.parent\n",
    "\n",
    "\t\tif next is tree.parent:\n",
    "\t\t\tresult.append(tree.data)\n",
    "\n",
    "\t\tprev = tree\n",
    "\t\ttree = next\n",
    "\n",
    "\treturn result\n",
    "\n",
    "print(constant_preorder_traversal(a))"
   ]
  }
 ],
 "metadata": {
  "interpreter": {
   "hash": "916dbcbb3f70747c44a77c7bcd40155683ae19c65e1c03b4aa3499c5328201f1"
  },
  "kernelspec": {
   "display_name": "Python 3.8.10 64-bit",
   "language": "python",
   "name": "python3"
  },
  "language_info": {
   "codemirror_mode": {
    "name": "ipython",
    "version": 3
   },
   "file_extension": ".py",
   "mimetype": "text/x-python",
   "name": "python",
   "nbconvert_exporter": "python",
   "pygments_lexer": "ipython3",
   "version": "3.8.10"
  },
  "orig_nbformat": 4
 },
 "nbformat": 4,
 "nbformat_minor": 2
}
