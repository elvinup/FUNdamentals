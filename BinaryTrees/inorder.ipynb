{
 "cells": [
  {
   "cell_type": "markdown",
   "metadata": {},
   "source": [
    "# Inorder Traversal\n",
    "\n",
    "- Traverse the left subtree\n",
    "- Visit the root\n",
    "- Traverse the right subtree"
   ]
  },
  {
   "cell_type": "markdown",
   "metadata": {},
   "source": [
    "# Creating a Binary Tree"
   ]
  },
  {
   "cell_type": "code",
   "execution_count": 2,
   "metadata": {},
   "outputs": [],
   "source": [
    "class BinaryTreeNode:\n",
    "    def __init__(self, data=None, left=None, right=None):\n",
    "        self.data = data\n",
    "        self.left = left\n",
    "        self.right = right\n",
    "\n",
    "a = BinaryTreeNode(314)\n",
    "b = BinaryTreeNode(6)\n",
    "c = BinaryTreeNode(271)\n",
    "d = BinaryTreeNode(28)\n",
    "e = BinaryTreeNode(0)\n",
    "f = BinaryTreeNode(561)\n",
    "g = BinaryTreeNode(3)\n",
    "h = BinaryTreeNode(17)\n",
    "i = BinaryTreeNode(6)\n",
    "j = BinaryTreeNode(2)\n",
    "k = BinaryTreeNode(1)\n",
    "l = BinaryTreeNode(401)\n",
    "m = BinaryTreeNode(641)\n",
    "n = BinaryTreeNode(257)\n",
    "o = BinaryTreeNode(271)\n",
    "p = BinaryTreeNode(28)\n",
    "\n",
    "a.left = b\n",
    "a.right = i\n",
    "b.left = c\n",
    "b.right  = f\n",
    "c.left = d\n",
    "c.right = e\n",
    "f.right = g\n",
    "g.left = h\n",
    "i.left = j\n",
    "i.right = o\n",
    "j.right = k\n",
    "k.left = l\n",
    "k.right = n\n",
    "l.right = m\n",
    "o.right = p"
   ]
  },
  {
   "cell_type": "markdown",
   "metadata": {},
   "source": [
    "## Inorder Traversal - Recursive"
   ]
  },
  {
   "cell_type": "code",
   "execution_count": 3,
   "metadata": {},
   "outputs": [
    {
     "name": "stdout",
     "output_type": "stream",
     "text": [
      "inorder: 28\n",
      "inorder: 271\n",
      "inorder: 0\n",
      "inorder: 6\n",
      "inorder: 561\n",
      "inorder: 17\n",
      "inorder: 3\n",
      "inorder: 314\n",
      "inorder: 2\n",
      "inorder: 401\n",
      "inorder: 641\n",
      "inorder: 1\n",
      "inorder: 257\n",
      "inorder: 6\n",
      "inorder: 271\n",
      "inorder: 28\n"
     ]
    }
   ],
   "source": [
    "def tree_traversal_inorder(root):\n",
    "    if root:\n",
    "        tree_traversal_inorder(root.left)\n",
    "        print('inorder: %d' % root.data)\n",
    "        tree_traversal_inorder(root.right)\n",
    "\n",
    "tree_traversal_inorder(a)"
   ]
  },
  {
   "cell_type": "markdown",
   "metadata": {},
   "source": [
    "## Inorder Traversal - Iterative"
   ]
  },
  {
   "cell_type": "code",
   "execution_count": 4,
   "metadata": {},
   "outputs": [
    {
     "name": "stdout",
     "output_type": "stream",
     "text": [
      "[28, 271, 0, 6, 561, 17, 3, 314, 2, 401, 641, 1, 257, 6, 271, 28]\n"
     ]
    }
   ],
   "source": [
    "def inorder_traversal_iterative(node):\n",
    "\n",
    "    tree = []\n",
    "    stack = []\n",
    "    while stack or node:\n",
    "        if node:\n",
    "            stack.append(node)\n",
    "            node = node.left\n",
    "        else:\n",
    "            node = stack.pop()\n",
    "            tree.append(node.data)\n",
    "            node = node.right\n",
    "\n",
    "        # Shows the stack in each step\n",
    "        #print([x.data for x in stack])\n",
    "\n",
    "    print(tree)\n",
    "\n",
    "inorder_traversal_iterative(a)        "
   ]
  }
 ],
 "metadata": {
  "interpreter": {
   "hash": "aee8b7b246df8f9039afb4144a1f6fd8d2ca17a180786b69acc140d282b71a49"
  },
  "kernelspec": {
   "display_name": "Python 3.9.7 64-bit",
   "language": "python",
   "name": "python3"
  },
  "language_info": {
   "codemirror_mode": {
    "name": "ipython",
    "version": 3
   },
   "file_extension": ".py",
   "mimetype": "text/x-python",
   "name": "python",
   "nbconvert_exporter": "python",
   "pygments_lexer": "ipython3",
   "version": "3.8.10"
  },
  "orig_nbformat": 4
 },
 "nbformat": 4,
 "nbformat_minor": 2
}
