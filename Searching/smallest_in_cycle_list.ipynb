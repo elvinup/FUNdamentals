{
 "cells": [
  {
   "cell_type": "markdown",
   "metadata": {},
   "source": [
    "# 11.3 Takeaway - Smallest element in a Cyclically Sorted Array\n",
    "\n"
   ]
  },
  {
   "cell_type": "code",
   "execution_count": 18,
   "metadata": {},
   "outputs": [
    {
     "name": "stdout",
     "output_type": "stream",
     "text": [
      "2\n"
     ]
    }
   ],
   "source": [
    "array = [378, 478, 550, 631, 103, 203, 220, 234, 279, 368]\n",
    "\n",
    "array = [4, 3, 1, 2]\n",
    "\n",
    "def smallest_element_in_cyclical_array(A):\n",
    "    real_end = len(A) - 1\n",
    "    start, end = 0, len(A) - 1\n",
    "    smallest = 0\n",
    "\n",
    "    while start <= end:\n",
    "        middle = start + (end - start) // 2\n",
    "        if A[middle] < A[real_end]:\n",
    "            smallest = middle\n",
    "            end = middle - 1\n",
    "        elif A[middle] > A[real_end]:\n",
    "            start = middle + 1\n",
    "        else:\n",
    "            return real_end\n",
    "    return smallest\n",
    "\n",
    "print(smallest_element_in_cyclical_array(array))"
   ]
  }
 ],
 "metadata": {
  "interpreter": {
   "hash": "916dbcbb3f70747c44a77c7bcd40155683ae19c65e1c03b4aa3499c5328201f1"
  },
  "kernelspec": {
   "display_name": "Python 3.8.10 64-bit",
   "language": "python",
   "name": "python3"
  },
  "language_info": {
   "codemirror_mode": {
    "name": "ipython",
    "version": 3
   },
   "file_extension": ".py",
   "mimetype": "text/x-python",
   "name": "python",
   "nbconvert_exporter": "python",
   "pygments_lexer": "ipython3",
   "version": "3.8.10"
  },
  "orig_nbformat": 4
 },
 "nbformat": 4,
 "nbformat_minor": 2
}
