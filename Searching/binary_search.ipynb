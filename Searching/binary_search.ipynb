{
 "cells": [
  {
   "cell_type": "markdown",
   "metadata": {},
   "source": [
    "# Binary Search\n",
    "\n",
    "Let's say you have a collection of n elements\n",
    "\n",
    "A normal search would get you a time complexity of O(n)\n",
    "\n",
    "If the data in the collection is sorted, binary search is a solid elimination based strategy to get O(log(n)) speed\n",
    "\n",
    "## How it Works\n",
    "\n",
    "We eliminate half the potential items every search until we find our element.\n",
    "\n",
    "`[1, 2, 3, 4, 5]`\n",
    "\n",
    "Let's say we're searching for 4.\n",
    "\n",
    "We go to the middle element first, 3.\n",
    "\n",
    "We check if what we're looking for is < or > 3. 4 is > 3, so we eliminate 1, 2 from our search\n",
    "\n",
    "`[4, 5]` is left.\n",
    "\n",
    "4 is found since it's first.\n",
    "\n",
    "## Binary Search Implementation"
   ]
  },
  {
   "cell_type": "code",
   "execution_count": 9,
   "metadata": {},
   "outputs": [],
   "source": [
    "# Binary Search\n",
    "\n",
    "def binary_search(element, sorted_list):\n",
    "    start = 0\n",
    "    end = len(sorted_list) - 1\n",
    "\n",
    "    while start <= end:\n",
    "        # Doing middle = (start + end) // 2 can potentially lead to overflow, so do below isntead\n",
    "        middle = start + (end - start) // 2\n",
    "        if sorted_list[middle] == element:\n",
    "            return middle\n",
    "        elif sorted_list[middle] < element:\n",
    "            start = middle + 1\n",
    "        else:\n",
    "            end = middle - 1\n",
    "    return -1"
   ]
  },
  {
   "cell_type": "code",
   "execution_count": 8,
   "metadata": {},
   "outputs": [
    {
     "name": "stdout",
     "output_type": "stream",
     "text": [
      "3\n"
     ]
    }
   ],
   "source": [
    "example = [1, 2, 3, 4, 5]\n",
    "\n",
    "print(binary_search(4, example))"
   ]
  },
  {
   "cell_type": "code",
   "execution_count": null,
   "metadata": {},
   "outputs": [],
   "source": []
  },
  {
   "cell_type": "markdown",
   "metadata": {},
   "source": [
    "## Searching in Array of Objects\n",
    "\n",
    "Given a bunch of student objects, we can find the student we're searching for by giving the binary serach library the comparator as the GPA."
   ]
  },
  {
   "cell_type": "code",
   "execution_count": 22,
   "metadata": {},
   "outputs": [
    {
     "name": "stdout",
     "output_type": "stream",
     "text": [
      "Location: 3\n",
      "True\n"
     ]
    }
   ],
   "source": [
    "import collections\n",
    "import bisect\n",
    "\n",
    "Student = collections.namedtuple('Student', ('name', 'GPA'))\n",
    "\n",
    "def comp_gpa(student):\n",
    "    return (student.GPA, student.name)\n",
    "\n",
    "def search_student(students, target_student, comp_gpa):\n",
    "    i = bisect.bisect_left([comp_gpa(s) for s in students], comp_gpa(target))\n",
    "    print('Location:', i)\n",
    "    return 0 <= i < len(students) and students[i] == target\n",
    "\n",
    "students = [Student('Jack', 3.7), Student('Jun Soo', 3.8), Student('Joel', 3.9), Student('Elvin', 4.0)]\n",
    "target = Student('Elvin', 4.0)\n",
    "\n",
    "print(search_student(students, target, comp_gpa))\n"
   ]
  },
  {
   "cell_type": "markdown",
   "metadata": {},
   "source": [
    "## Tips\n",
    "\n",
    "- Binary Search is effective with sorted lists. Also! It can be used to search an **interval of real numbers or integers**\n",
    "\n",
    "- If your solution uses sorting, and the computation done after sorting is faster than sorting aka (O(n) or O(log(n)), then **look for a solution that doesn't do a complete sort**\n",
    "\n",
    "- Consider time/space tradeoffs, like making multiple passes through data\n",
    "\n",
    "## Searching libaries\n",
    "\n",
    "- **bisect** module is a handy library \n",
    "  - bisect.bisect_left(array, x)\n",
    "    - Return index of the first element >= x\n",
    "  - bisect.bisect_right(array, x)\n",
    "    - Return index of the first element > x\n",
    "\n",
    "\n",
    "\n",
    "Typically, you wanna use bisect_left to get the actual location of the element you're searching for\n",
    "\n",
    "\n",
    "If allowed, definitely use the above functions in an interview"
   ]
  },
  {
   "cell_type": "code",
   "execution_count": 28,
   "metadata": {},
   "outputs": [
    {
     "name": "stdout",
     "output_type": "stream",
     "text": [
      "1\n",
      "2\n"
     ]
    }
   ],
   "source": [
    "# Example usage of bisect\n",
    "\n",
    "import bisect\n",
    "example = [2, 5, 9, 25, 37, 80]\n",
    "\n",
    "print(bisect.bisect_left(example, 5))\n",
    "print(bisect.bisect_right(example, 5))"
   ]
  }
 ],
 "metadata": {
  "interpreter": {
   "hash": "916dbcbb3f70747c44a77c7bcd40155683ae19c65e1c03b4aa3499c5328201f1"
  },
  "kernelspec": {
   "display_name": "Python 3.8.10 64-bit",
   "language": "python",
   "name": "python3"
  },
  "language_info": {
   "codemirror_mode": {
    "name": "ipython",
    "version": 3
   },
   "file_extension": ".py",
   "mimetype": "text/x-python",
   "name": "python",
   "nbconvert_exporter": "python",
   "pygments_lexer": "ipython3",
   "version": "3.8.10"
  },
  "orig_nbformat": 4
 },
 "nbformat": 4,
 "nbformat_minor": 2
}
