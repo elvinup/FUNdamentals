{
 "cells": [
  {
   "cell_type": "markdown",
   "metadata": {},
   "source": [
    "# 11.7 Find the min and max with < 2(n-1) Comparisons\n",
    "\n",
    "Doing a regular min (n-1) compares\n",
    "And a regular max (n-1) compares \n",
    "\n",
    "This is the brute force method 2(n-1)\n",
    "\n",
    "Instead, we can compare both min and max in 2 separate groups.\n",
    "\n",
    "Bigger elements get compared with each other.\n",
    "\n",
    "Smaller elements get compared with each other.\n",
    "\n"
   ]
  },
  {
   "cell_type": "markdown",
   "metadata": {},
   "source": [
    "## Example\n",
    "\n",
    "A = [2, 1, 3, 0]\n",
    "\n",
    "Compare 2 elements at a time\n",
    "\n",
    "A[0] > A[1]\n",
    "\n",
    "bigger one goes to max pool\n",
    "smaller one goes to min pool\n",
    "\n",
    "max_pool = [2]\n",
    "min_pool = [1]\n",
    "\n",
    "Go to next 2\n",
    "\n",
    "A[2] > A[3]\n",
    "\n",
    "bigger one goes to max pool \n",
    "\n",
    "max_pool = [2, 3]\n",
    "min_pool = [1, 0]\n",
    "\n",
    "max(max_pool) = 3\n",
    "min(min_pool) = 0\n",
    "\n",
    "\n",
    "## Analysis\n",
    "\n",
    "First run through the array `A` means n/2 comparisons\n",
    "\n",
    "(n/2 - 1) comparisons for max pool\n",
    "\n",
    "(n/2 - 1) comps for min pool\n",
    "\n",
    "\n",
    "\n",
    "\n"
   ]
  }
 ],
 "metadata": {
  "language_info": {
   "name": "python"
  },
  "orig_nbformat": 4
 },
 "nbformat": 4,
 "nbformat_minor": 2
}
