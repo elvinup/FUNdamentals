{
 "cells": [
  {
   "cell_type": "markdown",
   "metadata": {},
   "source": [
    "# 11.5 Takeaway - Compute Square root, given a float value\n",
    "\n",
    "At first as I was thinking about this problem, I thought the most straightforward solution was to just start at 1 as a lower bound and square it until we go over the expected answer,\n",
    "\n",
    "So like if we're asked to compute the square root of 25\n",
    "\n",
    "```\n",
    "1*1 = 1\n",
    "2*2 = 4\n",
    "3*3 = 9\n",
    "4*4 = 16\n",
    "5*5 = 25 # Found!\n",
    "\n",
    "```\n",
    "\n",
    "And if given a floating point number like 30.25\n",
    "\n",
    "```\n",
    "1*1 = 1\n",
    "...\n",
    "5*5 = 25\n",
    "6*6 = 36 # Wow too far, now lets starting iterating but every .1, or 10% less than where we started\n",
    "\n",
    "5.1*5.1 = ?\n",
    "5.2*5.2 = ?\n",
    "...\n",
    "5.5*5.5 = 30.25 # Found \n",
    "\n",
    "```\n",
    "\n",
    "This works, but this is moreso a O(n) solution. And we've seen with other problems, like the division without division problem, or int_sqiare_root (11.4), we can do this in O(logn) if we implement the principles of binary search.\n",
    "\n",
    "To do this, we can simple set a lower and upperbound from (1, x)\n",
    "\n",
    "But there's a **Gotcha!** This problem also allows for numbers < 1. For example\n",
    "\n",
    "`1/2 * 1/2 = 1/4`\n",
    "\n",
    "This means we need to set the lowerbound at `x` and upperbound as 1, if the number we're looking for is < 1.\n",
    "\n",
    "After this, just set the midpoint by multiplying the (upper + lower) bounds * 0.5.\n",
    "\n",
    "Then this works exactly like binary search as below:"
   ]
  },
  {
   "cell_type": "code",
   "execution_count": 3,
   "metadata": {},
   "outputs": [
    {
     "name": "stdout",
     "output_type": "stream",
     "text": [
      "5.499999997380655\n"
     ]
    }
   ],
   "source": [
    "import math\n",
    "def square_root(x: float) -> float:\n",
    "    # TODO - you fill in here.\n",
    "    lower, upper = (x, 1.0) if x < 1.0 else (1.0, x)\n",
    "    while not math.isclose(lower, upper):\n",
    "        mid = .5 * (lower + upper)\n",
    "        squared = mid * mid\n",
    "        if squared > x:\n",
    "            upper = mid\n",
    "        else:\n",
    "            lower = mid\n",
    "\n",
    "    return lower\n",
    "\n",
    "print(square_root(30.25))"
   ]
  },
  {
   "cell_type": "markdown",
   "metadata": {},
   "source": [
    "### Handy library function - math.isclose()\n",
    "\n",
    "Also math.isclose(number1, number2) can be a handy function to check if two floats are essentially close enough to be equal.\n",
    "\n",
    "It appears as long both numbers are at lest .000000001 (9 decimal places) away.they'll be considered close or \"the same.\""
   ]
  },
  {
   "cell_type": "code",
   "execution_count": 13,
   "metadata": {},
   "outputs": [
    {
     "name": "stdout",
     "output_type": "stream",
     "text": [
      "False\n",
      "False\n"
     ]
    }
   ],
   "source": [
    "import math\n",
    "\n",
    "print(math.isclose(1.0, 1.01))\n",
    "print(math.isclose(1.0, 1.000000001))"
   ]
  }
 ],
 "metadata": {
  "interpreter": {
   "hash": "916dbcbb3f70747c44a77c7bcd40155683ae19c65e1c03b4aa3499c5328201f1"
  },
  "kernelspec": {
   "display_name": "Python 3.8.10 64-bit",
   "language": "python",
   "name": "python3"
  },
  "language_info": {
   "codemirror_mode": {
    "name": "ipython",
    "version": 3
   },
   "file_extension": ".py",
   "mimetype": "text/x-python",
   "name": "python",
   "nbconvert_exporter": "python",
   "pygments_lexer": "ipython3",
   "version": "3.8.10"
  },
  "orig_nbformat": 4
 },
 "nbformat": 4,
 "nbformat_minor": 2
}
