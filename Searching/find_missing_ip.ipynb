{
 "cells": [
  {
   "cell_type": "markdown",
   "metadata": {},
   "source": [
    "# 11.9 Takeaway - Find Missing IP in Huge File\n",
    "\n",
    "\n",
    "This problem was very tricky, even just reading the answer was confusing. Still, this is a really good problem that tackles hardware constraints when trying to search.\n",
    "\n",
    "The question is: With just a few Mb of RAM, but infinite HDD storage space, how can we find the missing IP in a huge file?\n",
    "\n",
    "DISCLAIMER: The test cases with EPI Judge are only numbers from [1-999] rather than actual IP's, which made testing very confusing. Their test cases are really just simulating to find the first missing element.\n",
    "\n",
    "The actual problem asks us to look for a missing 32bit IP address in a file with billions of IPs, potentially all IP combinations but 1. For simplicity's sake, we can just return the first missing IP that doesn't appear.\n",
    "\n",
    "## All IP's available\n",
    "Example IP:\n",
    "\n",
    "`255.255.255.255`\n",
    "\n",
    "OR in Binary Representation\n",
    "\n",
    "`11111111.11111111.11111111.11111111`\n",
    "\n",
    "\n",
    "This shows there are 32 bits total, and this leads to the idea that there are 2^32 possiblities. 2^32 / 8 bytes = ~ 0.5 GB. This is far more than how much RAm we have available.\n",
    "\n",
    "## Using Our Available RAM\n",
    "\n",
    "Instead of looking at the whole IP, let's just look at first half of the IP first to compare. This allows us to just worry about 2^16 possibilities. \n",
    "\n",
    "2^16 / 8 bytes is < 1 Mb. We have plenty of RAM to handle this case."
   ]
  },
  {
   "cell_type": "markdown",
   "metadata": {},
   "source": [
    "## Implementation\n",
    "\n",
    "### 16 MSB (Most Significant bits)\n",
    "First we want to create \"buckets\". Essentially, the first bucket out of the 2^16 entries in the `counter` array that is less than the total potential bucket capacity. \n",
    "\n",
    "The way we will traverse the file is by using an iterator in python to stream the file, one IP at a time."
   ]
  },
  {
   "cell_type": "code",
   "execution_count": null,
   "metadata": {},
   "outputs": [],
   "source": [
    "\n",
    "import itertools\n",
    "\n",
    "# Each of these represents different IPS\n",
    "# Ex as shown below: 0.0.0.0, 0.0.0.1, 255.255.255.255, ..etc\n",
    "stream = iter([0, 1, 222200, 4294967295, 112])\n",
    "\n",
    "num_bucket = 1 << 16\n",
    "counter = [0] * num_bucket\n",
    "stream, stream_copy = itertools.tee(stream)\n",
    "# We can easily get the 16 Most significant bits by just right shifting the IP by 16 bits. The result is the MSB for making our buckets\n",
    "for x in stream:\n",
    "    upper_part_x = x >> 16\n",
    "    counter[upper_part_x] += 1\n",
    "\n",
    "print(counter)"
   ]
  },
  {
   "cell_type": "markdown",
   "metadata": {},
   "source": [
    "Since our test case is so small, the first bucket will be the first entry in the counter array."
   ]
  },
  {
   "cell_type": "code",
   "execution_count": 21,
   "metadata": {},
   "outputs": [
    {
     "name": "stdout",
     "output_type": "stream",
     "text": [
      "0\n"
     ]
    }
   ],
   "source": [
    "# Return the first bucket index that has less than the capacity\n",
    "bucket_capacity = 1 << 16\n",
    "candidate_bucket = next(i for i, c in enumerate(counter) if c < num_bucket)\n",
    "print(candidate_bucket)"
   ]
  },
  {
   "cell_type": "markdown",
   "metadata": {},
   "source": [
    "### 16 LSB (Least Significant bits)\n",
    "\n",
    "When we find a \"bucket\" that contains less entries than the potential capacity, we can deduce that there MUST be a missing IP in the last 16 least significant bits.\n",
    "\n",
    "We can drill down which element is the first missing one in that bucket. Let's also reset the stream so we can iterate through our testcase/list of IPs again"
   ]
  },
  {
   "cell_type": "code",
   "execution_count": null,
   "metadata": {},
   "outputs": [],
   "source": [
    "candidates = [0] * bucket_capacity\n",
    "stream = stream_copy\n",
    "\n",
    "# To get the last 16 bits, we can take ((1 << 16) - 1) to get 1111111111111111 and & that with x to get the 16 LSB value\n",
    "for x in stream:\n",
    "    lower_part_x = ((1 << 16) - 1) & x\n",
    "    candidates[lower_part_x] = 1\n",
    "\n",
    "print(candidates)"
   ]
  },
  {
   "cell_type": "markdown",
   "metadata": {},
   "source": [
    "Now that we've labeled all the elements in that bucket that have been scanned, 1 at a time using only 2^16 bits of memory at a time, we can go through the candidates and select the first one that's 0 to be our resulting value as the missing IP.\n",
    "\n",
    "We just need to reuse our old candidate bucket to derive the original value of the IP's `16 MSB`, and do an OR operation on the candidate index to derive the value of the IP's `16 LSB`. The OR will combine these together into the value we're looking for"
   ]
  },
  {
   "cell_type": "code",
   "execution_count": 27,
   "metadata": {},
   "outputs": [
    {
     "name": "stdout",
     "output_type": "stream",
     "text": [
      "2\n"
     ]
    }
   ],
   "source": [
    "for i in range(len(candidates)):\n",
    "    if candidates[i] == 0:\n",
    "        print((candidate_bucket << 16) | i)\n",
    "        break\n"
   ]
  },
  {
   "cell_type": "markdown",
   "metadata": {},
   "source": [
    "This is correct! `2` or `0.0.0.2` is the first IP that we don't have in our test case. PASS!"
   ]
  }
 ],
 "metadata": {
  "interpreter": {
   "hash": "916dbcbb3f70747c44a77c7bcd40155683ae19c65e1c03b4aa3499c5328201f1"
  },
  "kernelspec": {
   "display_name": "Python 3.8.10 64-bit",
   "language": "python",
   "name": "python3"
  },
  "language_info": {
   "codemirror_mode": {
    "name": "ipython",
    "version": 3
   },
   "file_extension": ".py",
   "mimetype": "text/x-python",
   "name": "python",
   "nbconvert_exporter": "python",
   "pygments_lexer": "ipython3",
   "version": "3.8.10"
  },
  "orig_nbformat": 4
 },
 "nbformat": 4,
 "nbformat_minor": 2
}
