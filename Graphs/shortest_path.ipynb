{
 "cells": [
  {
   "attachments": {},
   "cell_type": "markdown",
   "metadata": {},
   "source": [
    "## Shortest Path\n",
    "\n",
    "Record the length of the shortest path from a starting node to an ending node in an undirected graph.\n",
    "\n",
    "You are given a list of edges as input\n",
    "\n",
    "## Example\n",
    "\n",
    "```mermaid\n",
    "graph LR\n",
    "    W --> X --> y --> Z\n",
    "    W --> V --> Z\n",
    "```\n",
    "\n",
    "## Brainstorming\n",
    "\n",
    "First off, since we're given a list of edges we should translate that to an adjacency list. \n",
    "\n",
    "Afterwards, we need to pick between DFS and BFS. Let's compare the two approaches:\n",
    "\n",
    "### DFS Shortest Path\n",
    "\n",
    "![](../%20images/dfs_shortest_path.png)\n",
    "\n",
    "DFS could go in a random direction by accident, which is pretty inefficient\n",
    "\n",
    "### BFS Shortest Path\n",
    "\n",
    "![](../%20images/bfs_shortest_path.png)\n",
    "\n",
    "BFS will check each surrounding equally, so luck won't be a factor. Also, as soon as it reaches the destination node, we know immediately it's the shortest path. So BFS seems like the efficient approach here.\n",
    "\n",
    "Since we are choosing BFS, as we iterate through the graph with a queue, we should track the length the path has gone so far in a tuple object"
   ]
  },
  {
   "cell_type": "code",
   "execution_count": 5,
   "metadata": {},
   "outputs": [
    {
     "name": "stdout",
     "output_type": "stream",
     "text": [
      "2\n"
     ]
    }
   ],
   "source": [
    "from collections import deque\n",
    "\n",
    "def build_graph(edges):\n",
    "    graph = {}\n",
    "    for edge in edges:\n",
    "        a, b = edge[0], edge[1]\n",
    "        graph[a] = [b] if a not in graph else graph[a] + [b]\n",
    "        graph[b] = [a] if b not in graph else graph[b] + [a]\n",
    "\n",
    "    return graph\n",
    "\n",
    "edges = [\n",
    "    ['w', 'x'],\n",
    "    ['x', 'y'],\n",
    "    ['z', 'y'],\n",
    "    ['z', 'v'],\n",
    "    ['w', 'v']\n",
    "]\n",
    "\n",
    "def shortest_path(edges, src, dst):\n",
    "    graph = build_graph(edges)\n",
    "    visited = set()\n",
    "    # Storing 0 since the length traveled is 0 so far\n",
    "    queue = deque([ (src, 0) ])\n",
    "\n",
    "    while queue:\n",
    "        node = queue.popleft()\n",
    "        node_value, distance = node[0], node[1]\n",
    "        visited.add(node_value)\n",
    "\n",
    "        if node_value == dst:\n",
    "            return distance\n",
    "        \n",
    "        for neighbor in graph[node_value]:\n",
    "            if neighbor not in visited:\n",
    "                queue.append((neighbor, distance + 1))\n",
    "    \n",
    "    # if we get here, we never found the destination node from the src node\n",
    "    return -1\n",
    "\n",
    "print(shortest_path(edges, 'w', 'z'))\n",
    "        \n",
    "\n"
   ]
  }
 ],
 "metadata": {
  "kernelspec": {
   "display_name": "Python 3",
   "language": "python",
   "name": "python3"
  },
  "language_info": {
   "codemirror_mode": {
    "name": "ipython",
    "version": 3
   },
   "file_extension": ".py",
   "mimetype": "text/x-python",
   "name": "python",
   "nbconvert_exporter": "python",
   "pygments_lexer": "ipython3",
   "version": "3.8.10"
  },
  "orig_nbformat": 4,
  "vscode": {
   "interpreter": {
    "hash": "916dbcbb3f70747c44a77c7bcd40155683ae19c65e1c03b4aa3499c5328201f1"
   }
  }
 },
 "nbformat": 4,
 "nbformat_minor": 2
}
