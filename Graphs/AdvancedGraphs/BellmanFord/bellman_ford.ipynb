{
 "cells": [
  {
   "attachments": {},
   "cell_type": "markdown",
   "metadata": {},
   "source": [
    "# Bellman and Ford Algorithm\n",
    "\n",
    "A single source shortest path algorithm from one node to any other node in a graph.\n",
    "\n",
    "## Quick Facts\n",
    "\n",
    "- Not ideal for most SSSP problems because of O(E*V) time complexity\n",
    "  - Dijkstra's algorithm is much faster when paired with a heap priority queue at O((E+V)log(V))\n",
    "- Dijkstra's algorithm fails at negative edge weights because it keeps finding better paths in an infinite loop. BF can do this properly.\n",
    "  - BF can even detect **negative cycles** and where they occur.\n",
    "  - Finding negative cycles can be useful in some applications such as finance arbitrage between 2 or more markets\n",
    " \n",
    "## Algorithm Steps\n",
    "\n",
    "Variables:\n",
    "\n",
    "- E is number of edges\n",
    "- V is number of vertices\n",
    "- S is id of starting node\n",
    "- D = distances dictionary {} of size V, tracking best distance from S to each node\n",
    "\n",
    "Steps:\n",
    "- Set every entry in D to `float('inf')`\n",
    "- Set D[S] = 0\n",
    "- Relax each edge `V-1` times (Relax just means to update an edge with shorter cost as u go along)"
   ]
  },
  {
   "cell_type": "code",
   "execution_count": 4,
   "metadata": {},
   "outputs": [],
   "source": [
    "\n",
    "'''\n",
    "  * An implementation of the Bellman-Ford algorithm. The algorithm finds the shortest path between\n",
    " * a starting node and all other nodes in the graph. The algorithm also detects negative cycles.\n",
    " * If a node is part of a negative cycle then the minimum cost for that node is set to\n",
    " * Double.NEGATIVE_INFINITY.\n",
    " *\n",
    " * @param graph - An adjacency list containing directed edges forming the graph\n",
    " * @param V - The number of vertices in the graph.\n",
    " * @param start - The id of the starting node\n",
    "'''\n",
    "def bellman_ford(graph, V, start):\n",
    "\n",
    "    # Initialize the distance to all nodes to be infinity\n",
    "    # except for the start node which is zero.\n",
    "    dist = {vertex: float('inf') for vertex in graph}\n",
    "    dist[start] = 0\n",
    "    \n",
    "    # For each vertex, apply relaxation for all the edges\n",
    "    for i in range(V-1):\n",
    "        for vertex in graph:\n",
    "            for neighbor in graph[vertex]:\n",
    "                if dist[vertex] + graph[vertex][neighbor] < dist[neighbor]:\n",
    "                    dist[neighbor] = dist[vertex] + graph[vertex][neighbor]\n",
    "    # Run algorithm a second time to detect which nodes are part\n",
    "    # of a negative cycle. A negative cycle has occurred if we\n",
    "    # can find a better path beyond the optimal solution.\n",
    "    for i in range(V-1):\n",
    "        for vertex in graph:\n",
    "            for neighbor in graph[vertex]:\n",
    "                if dist[vertex] + graph[vertex][neighbor] < dist[neighbor]:\n",
    "                    dist[neighbor] = float('-inf')\n",
    "    # Return the array containing the shortest distance to every node\n",
    "    return dist"
   ]
  },
  {
   "attachments": {},
   "cell_type": "markdown",
   "metadata": {},
   "source": [
    "# Creating Graph for Testing Bellman Ford"
   ]
  },
  {
   "cell_type": "code",
   "execution_count": 5,
   "metadata": {},
   "outputs": [
    {
     "name": "stdout",
     "output_type": "stream",
     "text": [
      "{'Reykjavik': 0, 'Oslo': 5, 'Moscow': 8, 'London': 4, 'Rome': 8, 'Berlin': 6, 'Belgrade': 11, 'Athens': 10}\n"
     ]
    }
   ],
   "source": [
    "graph = {'Reykjavik': {'Oslo': 5, 'London': 4}, \n",
    "         'Oslo': {'Berlin': 1, 'Moscow': 3, 'Reykjavik': 5}, \n",
    "         'Moscow': {'Belgrade': 5, 'Athens': 4, 'Oslo': 3}, \n",
    "         'London': {'Reykjavik': 4}, \n",
    "         'Rome': {'Berlin': 2, 'Athens': 2}, \n",
    "         'Berlin': {'Oslo': 1, 'Rome': 2}, \n",
    "         'Belgrade': {'Moscow': 5, 'Athens': 1}, \n",
    "         'Athens': {'Belgrade': 1, 'Moscow': 4, 'Rome': 2}\n",
    "        }\n",
    "\n",
    "distances = bellman_ford(graph, 8, 'Reykjavik')\n",
    "print(distances)"
   ]
  },
  {
   "attachments": {},
   "cell_type": "markdown",
   "metadata": {},
   "source": [
    "Nice! We get the same answer as from the Dijkstra's example. The main use here is that we can also use this algorithm with negative weights like below!"
   ]
  },
  {
   "cell_type": "code",
   "execution_count": 6,
   "metadata": {},
   "outputs": [
    {
     "name": "stdout",
     "output_type": "stream",
     "text": [
      "{'Reykjavik': 0, 'Oslo': 5, 'Moscow': 8, 'London': 4, 'Rome': 8, 'Berlin': 6, 'Belgrade': 6, 'Athens': 7}\n"
     ]
    }
   ],
   "source": [
    "neg_graph = {'Reykjavik': {'Oslo': 5, 'London': 4}, \n",
    "         'Oslo': {'Berlin': 1, 'Moscow': 3, 'Reykjavik': 5}, \n",
    "         'Moscow': {'Belgrade': -2, 'Athens': 4, 'Oslo': -3}, \n",
    "         'London': {'Reykjavik': 4}, \n",
    "         'Rome': {'Berlin': 2, 'Athens': 2}, \n",
    "         'Berlin': {'Oslo': 1, 'Rome': 2}, \n",
    "         'Belgrade': {'Moscow': 5, 'Athens': 1}, \n",
    "         'Athens': {'Belgrade': 1, 'Moscow': 4, 'Rome': 2}\n",
    "        }\n",
    "\n",
    "distances = bellman_ford(neg_graph, 8, 'Reykjavik')\n",
    "print(distances)"
   ]
  },
  {
   "attachments": {},
   "cell_type": "markdown",
   "metadata": {},
   "source": [
    "## Analysis\n",
    "\n",
    "Runtime: O(VE) with all the for loops going on\n",
    "Space: O(V) for the distances dictionary\n",
    "\n",
    "### Example Problem Disclaimer\n",
    "\n",
    "Hard to find a problem on leetcode that uses negative weights, so for now there's no example problem included here."
   ]
  }
 ],
 "metadata": {
  "kernelspec": {
   "display_name": "Python 3",
   "language": "python",
   "name": "python3"
  },
  "language_info": {
   "codemirror_mode": {
    "name": "ipython",
    "version": 3
   },
   "file_extension": ".py",
   "mimetype": "text/x-python",
   "name": "python",
   "nbconvert_exporter": "python",
   "pygments_lexer": "ipython3",
   "version": "3.8.10"
  },
  "orig_nbformat": 4,
  "vscode": {
   "interpreter": {
    "hash": "916dbcbb3f70747c44a77c7bcd40155683ae19c65e1c03b4aa3499c5328201f1"
   }
  }
 },
 "nbformat": 4,
 "nbformat_minor": 2
}
