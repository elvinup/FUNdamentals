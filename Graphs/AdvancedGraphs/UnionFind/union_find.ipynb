{
 "cells": [
  {
   "attachments": {},
   "cell_type": "markdown",
   "metadata": {},
   "source": [
    "# Union Find\n",
    "\n",
    "Union Find, also known as the **disjoint set**, is a data structure that keeps track of elements which are split into 1 or more disjoint sets.\n",
    "\n",
    "Functions:\n",
    "- Union - Join sets together\n",
    "- Find - Find a set\n",
    "\n",
    "## What it's used for \n",
    "\n",
    "- [Kruzkal's Minimum Spanning Tree Algorithm](https://youtu.be/JZBQLXgSGfs)\n",
    "- Grid Percolation\n",
    "- Network Connectivity\n",
    "- LCA (Least Common Ancestor) in trees\n",
    "- Image Processing\n",
    "\n",
    "## Creating a Union Find\n",
    "\n",
    "We want to create an array based union find since it's pretty efficient and easy to work with.\n",
    "\n",
    "- Construct a bijection\n",
    "  - mapping between objects and the integers in the range [0, n)\n",
    "\n",
    "### Example bijection\n",
    "\n",
    "Let's say we're given these nodes and numbers to attach to them:\n",
    "\n",
    "![](../../%20images/bijection_example_input.png)\n",
    "\n",
    "Next we want to create a mapping of them like this:\n",
    "\n",
    "```mermaid\n",
    "graph LR\n",
    "    subgraph mappings\n",
    "        E --> 0\n",
    "        F --> 1\n",
    "        I --> 2\n",
    "        D --> 3\n",
    "        C --> 4\n",
    "        A --> 5\n",
    "        J --> 6\n",
    "        L --> 7\n",
    "        G --> 8\n",
    "        K --> 9\n",
    "        B --> 10\n",
    "        H --> 11\n",
    "    end\n",
    "```\n",
    "\n",
    "After this, we need to put these mapped objects into an array:\n",
    "\n",
    "![](../../%20images/mapped_bijection_array.png)\n",
    "\n",
    "To understand how to setup unions, [watch this clip from youtube with nice animations](https://youtu.be/0jNmHPfA_yE?t=180)\n",
    "\n",
    "Too lazy to draw all that out.\n",
    "\n",
    "This is without path compression.\n",
    "\n",
    "## Union Find Operations\n",
    "\n",
    "Find Operation:\n",
    "\n",
    "To find the root of a component by following the parent nodes until a self loop is reached (when a node's parent is itself)\n",
    "\n",
    "Union Operation:\n",
    "\n",
    "To unify two elements, find the root nodes of each element's component.\n",
    "  - If they are different, make one of the root nodes be the parent of the other (usually the smaller points to the larger) \n",
    "  - If both are the same, ignore b/c already unified\n",
    "\n",
    "## Path Compression\n",
    "\n",
    "With [path compression](https://youtu.be/VHRhJWacxis), we are dynamically making links to the root node as needed. \n",
    "- Makes the algorithm far more efficient since we don't have to traverse to find the root node each time.\n",
    "- amortized constant time to search using this implementation instead"
   ]
  },
  {
   "attachments": {},
   "cell_type": "markdown",
   "metadata": {},
   "source": [
    "# Data Structure\n",
    "\n",
    "Here's the actual data structure in python utilizing path compression. Translated Java from WilliamFiset's Video"
   ]
  },
  {
   "cell_type": "code",
   "execution_count": 56,
   "metadata": {},
   "outputs": [
    {
     "name": "stdout",
     "output_type": "stream",
     "text": [
      "[1, 1, 1, 1, 1, 1, 1, 1] [0, 1, 2, 3, 4, 5, 6, 7]\n",
      "2\n"
     ]
    }
   ],
   "source": [
    "class UnionFind:\n",
    "\n",
    "    def __init__(self, size):\n",
    "        if size < 0:\n",
    "            raise Exception(\"Size can't be < 0 for UnionFind\")\n",
    "\n",
    "        # Number of elements in the union find\n",
    "        self.size = size\n",
    "\n",
    "        # Number of components in the union find\n",
    "        self.num_components = size\n",
    "\n",
    "        # Track sizes of each component\n",
    "        # Each component is initially a size of 1\n",
    "        self.sizes = [1 for x in range(size)]\n",
    "\n",
    "        # ids[i] points to the parent of i, ex: if id[i] = i, it is a root node\n",
    "        self.ids = [x for x in range(size)]\n",
    "\n",
    "\n",
    "    # Find root of node\n",
    "    def find(self, node):\n",
    "        if node != self.ids[node]:\n",
    "            self.ids[node] = self.find(self.ids[node]) # Path compression which updates current node's root if they're not their own root node. Gives the amortized time complexity\n",
    "        return self.ids[node]\n",
    "    \n",
    "\n",
    "    def unify(self, node1, node2):\n",
    "\n",
    "        root1 = self.find(node1)\n",
    "        root2 = self.find(node2)\n",
    "\n",
    "        # If already in same group, return!\n",
    "        if (root1 == root2):\n",
    "            return\n",
    "\n",
    "        # Merge 2 components together, merge smaller into larger one\n",
    "        if (self.sizes[root1] < self.sizes[root2]):\n",
    "            self.sizes[root2] += self.sizes[root1]\n",
    "            self.ids[root1] = root2\n",
    "        else:\n",
    "            self.sizes[root1] += self.sizes[root2]\n",
    "            self.ids[root2] = root1\n",
    "        \n",
    "        # One less component after merging, optional if the problem you're on requires this info\n",
    "        self.num_components -= 1\n",
    "        \n",
    "# Real Example with 8 objects\n",
    "ex_unionfind = UnionFind(8)\n",
    "print(ex_unionfind.sizes, ex_unionfind.ids) # Shows sizes and ids array\n",
    "print(ex_unionfind.find(2)) # -> 2\n"
   ]
  },
  {
   "cell_type": "code",
   "execution_count": 57,
   "metadata": {},
   "outputs": [
    {
     "name": "stdout",
     "output_type": "stream",
     "text": [
      "After merging 0,1,2,3: \n",
      "ID's:  [0, 0, 0, 0, 4, 5, 6, 7]\n",
      "Sizes:  [4, 1, 1, 1, 1, 1, 1, 1] \n",
      "\n"
     ]
    }
   ],
   "source": [
    "# Merge first Half\n",
    "ex_unionfind.unify(0, 1)\n",
    "ex_unionfind.unify(1, 2)\n",
    "ex_unionfind.unify(2, 3)\n",
    "\n",
    "print(\"After merging 0,1,2,3: \")\n",
    "print(\"ID's: \", ex_unionfind.ids)\n",
    "print(\"Sizes: \", ex_unionfind.sizes, '\\n')"
   ]
  },
  {
   "cell_type": "code",
   "execution_count": 58,
   "metadata": {},
   "outputs": [
    {
     "name": "stdout",
     "output_type": "stream",
     "text": [
      "After merging 4,6,7: \n",
      "ID's:  [0, 0, 0, 0, 6, 5, 6, 6]\n",
      "Sizes:  [4, 1, 1, 1, 1, 1, 3, 1] \n",
      "\n"
     ]
    }
   ],
   "source": [
    "# Merge 2nd half\n",
    "ex_unionfind.unify(6, 7)\n",
    "ex_unionfind.unify(7, 4)\n",
    "\n",
    "print(\"After merging 4,6,7: \")\n",
    "print(\"ID's: \", ex_unionfind.ids)\n",
    "print(\"Sizes: \", ex_unionfind.sizes, '\\n')"
   ]
  },
  {
   "cell_type": "code",
   "execution_count": 59,
   "metadata": {},
   "outputs": [
    {
     "name": "stdout",
     "output_type": "stream",
     "text": [
      "After merging 1,7: \n",
      "ID's:  [0, 0, 0, 0, 6, 5, 0, 6]\n",
      "Sizes:  [7, 1, 1, 1, 1, 1, 3, 1]\n"
     ]
    }
   ],
   "source": [
    "# Merging group of 4 with group of 3\n",
    "ex_unionfind.unify(1, 7)\n",
    "\n",
    "print(\"After merging 1,7: \")\n",
    "print(\"ID's: \", ex_unionfind.ids)\n",
    "print(\"Sizes: \", ex_unionfind.sizes)"
   ]
  },
  {
   "cell_type": "code",
   "execution_count": 60,
   "metadata": {},
   "outputs": [
    {
     "name": "stdout",
     "output_type": "stream",
     "text": [
      "After merging 5,7: \n",
      "ID's:  [0, 0, 0, 0, 6, 0, 0, 0]\n",
      "Sizes:  [8, 1, 1, 1, 1, 1, 3, 1]\n"
     ]
    }
   ],
   "source": [
    "# At this point, 7's root is actually 1 and sort of \"lags\" with it's old root value\n",
    "# The next time we do a unify/find operation on that node, it will correct itself to the actual root\n",
    "# When we merge 5 and 7, now both have their roots point to 0 thanks to path compression to the root node\n",
    "ex_unionfind.unify(5, 7)\n",
    "print(\"After merging 5,7: \")\n",
    "print(\"ID's: \", ex_unionfind.ids)\n",
    "print(\"Sizes: \", ex_unionfind.sizes)"
   ]
  }
 ],
 "metadata": {
  "kernelspec": {
   "display_name": "Python 3",
   "language": "python",
   "name": "python3"
  },
  "language_info": {
   "codemirror_mode": {
    "name": "ipython",
    "version": 3
   },
   "file_extension": ".py",
   "mimetype": "text/x-python",
   "name": "python",
   "nbconvert_exporter": "python",
   "pygments_lexer": "ipython3",
   "version": "3.8.10 (default, Nov 14 2022, 12:59:47) \n[GCC 9.4.0]"
  },
  "orig_nbformat": 4,
  "vscode": {
   "interpreter": {
    "hash": "916dbcbb3f70747c44a77c7bcd40155683ae19c65e1c03b4aa3499c5328201f1"
   }
  }
 },
 "nbformat": 4,
 "nbformat_minor": 2
}
