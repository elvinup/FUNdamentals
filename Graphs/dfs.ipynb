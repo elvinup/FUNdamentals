{
 "cells": [
  {
   "attachments": {},
   "cell_type": "markdown",
   "metadata": {},
   "source": [
    "# DFS\n",
    "\n",
    "Depth First Search follows going down one path until we have nowhere else to go. Then we go to the next neighbor and follow down that path.\n",
    "\n",
    "## Example\n",
    "\n",
    "```mermaid\n",
    "graph LR\n",
    "    A --> C --> E\n",
    "    A --> B --> D --> F\n",
    "```\n",
    "\n",
    "If we want to traverse this graph with DFS, we need to use a **stack** data structure."
   ]
  },
  {
   "attachments": {},
   "cell_type": "markdown",
   "metadata": {},
   "source": [
    "## Algorithm\n",
    "\n",
    "We will essentially start from node A and push it to a stack. Next we pop A from the stack, and push it's neighbors. This cycle continues until the stack is empty.\n",
    "\n",
    "## Implementation\n",
    "\n",
    "### Iterative"
   ]
  },
  {
   "cell_type": "code",
   "execution_count": 4,
   "metadata": {},
   "outputs": [
    {
     "name": "stdout",
     "output_type": "stream",
     "text": [
      "a\n",
      "c\n",
      "e\n",
      "b\n",
      "d\n",
      "f\n"
     ]
    }
   ],
   "source": [
    "def dfs_print_graph_iterative(graph, node):\n",
    "    stack = [ node ]\n",
    "\n",
    "    while len(stack) > 0:\n",
    "        current = stack.pop()\n",
    "        # Process the node after you leave the stack, not when you enter! \n",
    "        print(current)\n",
    "        for neighbor in graph[current]:\n",
    "            stack.append(neighbor)\n",
    "\n",
    "graph = {\n",
    "    'a': ['b', 'c'],\n",
    "    'b': ['d'],\n",
    "    'c': ['e'],\n",
    "    'd': ['f'],\n",
    "    'e': [],\n",
    "    'f': []\n",
    "}\n",
    "\n",
    "dfs_print_graph_iterative(graph, 'a')"
   ]
  },
  {
   "attachments": {},
   "cell_type": "markdown",
   "metadata": {},
   "source": [
    "### Recursive"
   ]
  },
  {
   "cell_type": "code",
   "execution_count": 7,
   "metadata": {},
   "outputs": [
    {
     "name": "stdout",
     "output_type": "stream",
     "text": [
      "a\n",
      "b\n",
      "d\n",
      "f\n",
      "c\n",
      "e\n"
     ]
    }
   ],
   "source": [
    "def dfs_print_graph_recursive(graph, node):\n",
    "    print(node)\n",
    "    for neighbor in graph[node]:\n",
    "        dfs_print_graph_recursive(graph, neighbor)\n",
    "\n",
    "graph = {\n",
    "    'a': ['b', 'c'],\n",
    "    'b': ['d'],\n",
    "    'c': ['e'],\n",
    "    'd': ['f'],\n",
    "    'e': [],\n",
    "    'f': []\n",
    "}\n",
    "\n",
    "dfs_print_graph_recursive(graph, 'a')"
   ]
  },
  {
   "attachments": {},
   "cell_type": "markdown",
   "metadata": {},
   "source": [
    "## Takeaways\n",
    "\n",
    "- Using a stack\n",
    "- Print **AFTER** you pop\n",
    "- Use a set if you need to check previously visited nodes\n",
    "- Runtime is O(V+E)"
   ]
  }
 ],
 "metadata": {
  "kernelspec": {
   "display_name": "Python 3.8.10 64-bit",
   "language": "python",
   "name": "python3"
  },
  "language_info": {
   "codemirror_mode": {
    "name": "ipython",
    "version": 3
   },
   "file_extension": ".py",
   "mimetype": "text/x-python",
   "name": "python",
   "nbconvert_exporter": "python",
   "pygments_lexer": "ipython3",
   "version": "3.8.10 (default, Nov 14 2022, 12:59:47) \n[GCC 9.4.0]"
  },
  "orig_nbformat": 4,
  "vscode": {
   "interpreter": {
    "hash": "916dbcbb3f70747c44a77c7bcd40155683ae19c65e1c03b4aa3499c5328201f1"
   }
  }
 },
 "nbformat": 4,
 "nbformat_minor": 2
}
