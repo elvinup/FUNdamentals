{
 "cells": [
  {
   "attachments": {},
   "cell_type": "markdown",
   "metadata": {},
   "source": [
    "## Minimum Island Count\n",
    "\n",
    "Similar to Island Count, we'll be given a 2D grid. Return the length of the smallest island.\n",
    "\n",
    "## Example\n",
    "\n",
    "## Example\n",
    "\n",
    "Input: 6x5 2D matrix\n",
    "\n",
    "| W | L | W | W | W |\n",
    "|---|---|---|---|---|\n",
    "| W | L | W | W | W |\n",
    "| W | W | W | L | W |\n",
    "| W | W | L | L | W |\n",
    "| L | W | W | L | L |\n",
    "| L | L | W | W | W |\n",
    "\n",
    "Output: 2\n",
    "\n",
    "## Brainstorming\n",
    "\n",
    "- Visualize the graph\n",
    "- Double for loop to iterate through the graph\n",
    "- When we run into an island or an 'L', we should do a DFS search to explore it's length\n",
    "  - Each DFS iteration, we should look up, down, left, right. Check for boundaries\n",
    "  - Add each node like (r, c) object into a visited set to prevent cycles\n",
    "  - Add to a counter on each search\n",
    "- Store the smallest count found\n",
    "\n",
    "## DFS Recurive"
   ]
  },
  {
   "cell_type": "code",
   "execution_count": 1,
   "metadata": {},
   "outputs": [
    {
     "data": {
      "text/plain": [
       "2"
      ]
     },
     "execution_count": 1,
     "metadata": {},
     "output_type": "execute_result"
    }
   ],
   "source": [
    "def minimum_island_count(grid):\n",
    "\n",
    "    def explore(r, c, visited, grid):\n",
    "        # Check boundaries\n",
    "        if r < 0 or r >= len(grid):\n",
    "            return 0\n",
    "        if c < 0 or c >= len(grid[i]):\n",
    "            return 0\n",
    "        # Check if water\n",
    "        if grid[r][c] == 'W':\n",
    "            return 0\n",
    "        # Check if already explored\n",
    "        if (r, c) in visited:\n",
    "            return 0\n",
    "\n",
    "        visited.add((r, c))\n",
    "\n",
    "        counter = 1\n",
    "        \n",
    "        counter += explore(r+1, c, visited, grid)\n",
    "        counter += explore(r-1, c, visited, grid)\n",
    "        counter += explore(r, c-1, visited, grid)\n",
    "        counter += explore(r, c+1, visited, grid)\n",
    "\n",
    "        return counter\n",
    "\n",
    "\n",
    "    visited = set()\n",
    "    smallest = float('inf')\n",
    "\n",
    "    for i in range(len(grid)):\n",
    "        for j in range(len(grid[i])):            \n",
    "            island_length = explore(i, j, visited, grid) # Return length of island\n",
    "            if island_length > 0:\n",
    "                smallest = min(smallest, island_length)\n",
    "\n",
    "    return smallest\n",
    "\n",
    "grid = [\n",
    "  ['W', 'L', 'W', 'W', 'W'],\n",
    "  ['W', 'L', 'W', 'W', 'W'],\n",
    "  ['W', 'W', 'W', 'L', 'W'],\n",
    "  ['W', 'W', 'L', 'L', 'W'],\n",
    "  ['L', 'W', 'W', 'L', 'L'],\n",
    "  ['L', 'L', 'W', 'W', 'W'],\n",
    "]\n",
    "\n",
    "minimum_island_count(grid) # -> 2"
   ]
  },
  {
   "attachments": {},
   "cell_type": "markdown",
   "metadata": {},
   "source": [
    "## Analysis\n",
    "\n",
    "Time: O(r * c)\n",
    "Space: O(r * c)"
   ]
  }
 ],
 "metadata": {
  "kernelspec": {
   "display_name": "Python 3",
   "language": "python",
   "name": "python3"
  },
  "language_info": {
   "codemirror_mode": {
    "name": "ipython",
    "version": 3
   },
   "file_extension": ".py",
   "mimetype": "text/x-python",
   "name": "python",
   "nbconvert_exporter": "python",
   "pygments_lexer": "ipython3",
   "version": "3.8.10 (default, Nov 14 2022, 12:59:47) \n[GCC 9.4.0]"
  },
  "orig_nbformat": 4,
  "vscode": {
   "interpreter": {
    "hash": "916dbcbb3f70747c44a77c7bcd40155683ae19c65e1c03b4aa3499c5328201f1"
   }
  }
 },
 "nbformat": 4,
 "nbformat_minor": 2
}
