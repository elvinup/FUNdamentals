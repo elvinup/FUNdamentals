{
 "cells": [
  {
   "attachments": {},
   "cell_type": "markdown",
   "metadata": {},
   "source": [
    "# 18.7 Takeaway - Transform one String to another\n",
    "\n",
    "Given a Set `D` filled with strings of the same length, and two strings `s` and `t` that also have the same length, compute the length of the shortest sequence to turn `s` into `t` using strings in `D`. Each transformation involves changing 1 letter at a time.\n",
    "\n",
    "## Example\n",
    "\n",
    "```\n",
    "D = {bat, cot, dog, dag, dot, cat}\n",
    "s = cat\n",
    "t = dog\n",
    "```\n",
    "\n",
    "Output: 3 because this would be the sequence {cat, cot, dot, dog}\n",
    "\n",
    "## Brainstorming - Session 1 Naiive\n",
    "\n",
    "- Thinking about this problem, it's evident that it would be way too expensive to try every combination and go down every path.\n",
    "- Considering the word path, this can be similar to a graph problem if we consider the vertices as the words in the dictionary, and the edges as words that are a difference of 1 to those vertices. It's a good idea to take a graph approach to this problem.\n",
    "- Since the problem asks for a shortest path aka an optimization, we should likely use BFS to get there.\n",
    "- Let's start by building the graph\n",
    "\n",
    "![](../%20images/string_transform_example_graph.png)\n",
    "\n",
    "  - To do this, we need to create a vertex out of every item in D. \n",
    "  - Then we need to compare against every other word to see if the edit distance = 1. likely with a double for loop (O(D^2) runtime)\n",
    "- After the graph is built, we can do a simple BFS shortest path algorithm to get there\n",
    "  - Have a queue starting the (s, 0), 0 representing how many transformations we've had to make\n",
    "  - Every time we pop a node and go through it's neighbor strings, we need to append (neighbor of s, +1) to the queue\n",
    "  - When the node popped = string `t`, return the count\n",
    "- If we reach the end of the queue, return -1 because it wasn't found to be possible to reach `t`\n",
    "\n",
    "## Implementation - Naiive"
   ]
  },
  {
   "cell_type": "code",
   "execution_count": 37,
   "metadata": {},
   "outputs": [],
   "source": [
    "from collections import deque\n",
    "\n",
    "def transform_string_naiive(D, s, t):\n",
    "    def build_graph(D):\n",
    "        graph = {vertex: [] for vertex in D}\n",
    "        for word1 in D:\n",
    "            for word2 in D:\n",
    "                if word1 == word2:\n",
    "                    continue\n",
    "                diff, i = 0, 0\n",
    "                while i < len(word1) and diff < 2:\n",
    "                    if word1[i] != word2[i]:\n",
    "                        diff += 1\n",
    "                    i += 1\n",
    "                \n",
    "                if diff == 1:\n",
    "                    graph[word1].append(word2)\n",
    "        return graph\n",
    "\n",
    "    graph = build_graph(D)\n",
    "    queue = deque([(s, 0)])\n",
    "    visited = set()\n",
    "    while queue:\n",
    "        vertex, count = queue.popleft()\n",
    "        if vertex in visited:\n",
    "            continue   \n",
    "        visited.add(vertex)\n",
    "\n",
    "        if vertex == t:\n",
    "            return count\n",
    "\n",
    "        for neighbor in graph[vertex]:\n",
    "            new_vertex = (neighbor, count + 1)\n",
    "            queue.append(new_vertex)\n",
    "\n",
    "    return -1"
   ]
  },
  {
   "cell_type": "code",
   "execution_count": 38,
   "metadata": {},
   "outputs": [
    {
     "name": "stdout",
     "output_type": "stream",
     "text": [
      "3\n"
     ]
    }
   ],
   "source": [
    "D = {'bat', 'cot', 'dog', 'dag', 'dot', 'cat'}\n",
    "s = 'cat'\n",
    "t = 'dog'\n",
    "result = transform_string_naiive(D, s, t)\n",
    "print(result)"
   ]
  },
  {
   "attachments": {},
   "cell_type": "markdown",
   "metadata": {},
   "source": [
    "## Brainstorming - Session 2 Optimized\n",
    "\n",
    "- Realizing that this was too slow because of the massive amount of checks, and the fact that we aren't really taking advantage of the Set we're given\n",
    "- It turns out building our path as we go is a much more efficient way to go. \n",
    "- Starting from our first word s popped out of the queue\n",
    "  - We need to explore all other 1 diff words that exist in the set. This takes advantage of the set's properties with its O(1) lookup time, and there's a finite amount of 1 letter diff words we can make. Roughly (O(len of word*number of ascii letters))."
   ]
  },
  {
   "cell_type": "code",
   "execution_count": 39,
   "metadata": {},
   "outputs": [],
   "source": [
    "from collections import deque\n",
    "import string \n",
    "def transform_string(D, s, t):\n",
    "    queue = deque([(s, 0)])\n",
    "    visited = set()\n",
    "\n",
    "    while queue:\n",
    "        word, count = queue.popleft()\n",
    "        if word == t:\n",
    "            return count\n",
    "        \n",
    "        for i in range(len(word)):\n",
    "            # Grabs all ascii lowercase letters\n",
    "            for letter in string.ascii_lowercase:\n",
    "                new_word = word[:i] + letter + word[i+1:]\n",
    "                if new_word not in visited and new_word in D:\n",
    "                    visited.add(new_word)\n",
    "                    queue.append((new_word, count + 1))\n",
    "\n",
    "    return -1"
   ]
  },
  {
   "cell_type": "code",
   "execution_count": 40,
   "metadata": {},
   "outputs": [
    {
     "name": "stdout",
     "output_type": "stream",
     "text": [
      "3\n"
     ]
    }
   ],
   "source": [
    "D = {'bat', 'cot', 'dog', 'dag', 'dot', 'cat'}\n",
    "s = 'cat'\n",
    "t = 'dog'\n",
    "result = transform_string(D, s, t)\n",
    "print(result)"
   ]
  },
  {
   "attachments": {},
   "cell_type": "markdown",
   "metadata": {},
   "source": [
    "# Analysis\n",
    "\n",
    "Runtime: Still O(d^2) at worst case to process all different possible edges \n",
    "Space: O(d) considering each word ends up in the queue one time max. Much better than d^2 for creating a whole initial graph in the naiive approach"
   ]
  }
 ],
 "metadata": {
  "kernelspec": {
   "display_name": "Python 3",
   "language": "python",
   "name": "python3"
  },
  "language_info": {
   "codemirror_mode": {
    "name": "ipython",
    "version": 3
   },
   "file_extension": ".py",
   "mimetype": "text/x-python",
   "name": "python",
   "nbconvert_exporter": "python",
   "pygments_lexer": "ipython3",
   "version": "3.8.10"
  },
  "orig_nbformat": 4,
  "vscode": {
   "interpreter": {
    "hash": "916dbcbb3f70747c44a77c7bcd40155683ae19c65e1c03b4aa3499c5328201f1"
   }
  }
 },
 "nbformat": 4,
 "nbformat_minor": 2
}
