{
 "cells": [
  {
   "cell_type": "markdown",
   "metadata": {},
   "source": [
    "# All Construct\n",
    "\n",
    "Given a function all_construct(target, word_bank)\n",
    "\n",
    "target - target string\n",
    "word_bank - array of strings\n",
    "\n",
    "Function should return an array of arrays containing all the ways **target** can be created with words in the **word_bank**\n",
    "\n",
    "## Example\n",
    "\n",
    "all_construct('abcdef', ['ab', 'abc', 'cd', 'def', 'abcd', 'ef', 'c'])\n",
    "\n",
    "Answer = \n",
    "[\n",
    "    [ab, cd, ef],\n",
    "    [ab, c, def],\n",
    "    [abc, def],\n",
    "    [abcd, ef]\n",
    "]\n",
    "\n",
    "\n",
    "## Visualize as a Tree\n",
    "\n",
    "To visualize this problem as a tree, we should make the root of the tree be the target string. The bottom leaf nodes should represent the base case, or words that can't be reduced further with the given word bank.\n",
    "\n",
    "\n",
    "As we go down the tree, we should branch into paths using words that start with letters that prefix the root node. We remove the prefix, and make the suffix the next node.\n",
    "\n",
    "Keep reducing the words from the original target string, until the base case is reached, which makes sense to be an empty string '' to signify this is an answer to be returned. \n",
    "\n",
    "The base case should return a list of lists, or `[[]]`.\n",
    "\n",
    "With each rise back up to the parent in the recursion tree, the letter should get added to each subarray available.\n",
    "\n",
    "![](../../%20images/all_construct_tree.png)\n",
    "    \n",
    "Eventually we repeat this pattern even to the root node, where we append all the answers together as shown above\n",
    "\n",
    "## Unoptimized Solution\n",
    "\n",
    "Using the above information, let's make a draft of this implementation without a memo object to cache repeat values first"
   ]
  },
  {
   "cell_type": "code",
   "execution_count": 26,
   "metadata": {},
   "outputs": [
    {
     "name": "stdout",
     "output_type": "stream",
     "text": [
      "[['ab', 'cd', 'ef'], ['ab', 'c', 'def'], ['abc', 'def'], ['abcd', 'ef']]\n",
      "[]\n"
     ]
    }
   ],
   "source": [
    "def all_construct(target, word_bank):\n",
    "    if target == '':\n",
    "        return [[]]\n",
    "    \n",
    "    result = [] # Default value covers what we want to return if we can't build the string, an empty array\n",
    "\n",
    "    for word in word_bank:\n",
    "        if word in target and target.index(word) == 0:\n",
    "            suffix = target[len(word):]\n",
    "            suffix_ways = all_construct(suffix, word_bank)\n",
    "            target_ways = [[word] + suffix for suffix in suffix_ways]\n",
    "            result.extend(target_ways) # Extend allows for adding more subarray values to our existing result array, without creating a 3d array\n",
    "\n",
    "    return result\n",
    "\n",
    "print(all_construct('abcdef', ['ab', 'abc', 'cd', 'def', 'abcd', 'ef', 'c']))\n",
    "print(all_construct('skateboard', ['bo', 'rd', 'ate', 't', 'ska', 'sk', 'boar']))\n",
    "\n",
    "# Too inefficient to run this properly\n",
    "#print(all_construct('aaaaaaaaaaaaaaaaaaaaaaaaaz', ['a', 'aa', 'aaa', 'aaaa', 'aaaaa']))"
   ]
  },
  {
   "cell_type": "markdown",
   "metadata": {},
   "source": [
    "## Analysis\n",
    "\n",
    "If m = len(**target**)\n",
    "If n = len(**word_bank**)\n",
    "\n",
    "m would be the height of the tree, since we could at worst, go down one letter at a time, being m leaves down.\n",
    "\n",
    "For n, at worst each level branches out n times. This multiplies each level down.\n",
    "\n",
    "so that's n branches multiplied by itself m levels down, so O(n^m) subarrays\n",
    "\n",
    "Time: O(n^m)\n",
    "Space: O(m) because of the height of the tree\n",
    "\n",
    "## Optimized Solution with Memo cache"
   ]
  },
  {
   "cell_type": "code",
   "execution_count": 27,
   "metadata": {},
   "outputs": [
    {
     "name": "stdout",
     "output_type": "stream",
     "text": [
      "[['ab', 'cd', 'ef'], ['ab', 'c', 'def'], ['abc', 'def'], ['abcd', 'ef']]\n",
      "[]\n",
      "[]\n"
     ]
    }
   ],
   "source": [
    "def all_construct(target, word_bank, memo={}):\n",
    "    if target in memo:\n",
    "        return memo[target]\n",
    "    if target == '':\n",
    "        return [[]]\n",
    "    \n",
    "    result = [] # Default value covers what we want to return if we can't build the string, an empty array\n",
    "\n",
    "    for word in word_bank:\n",
    "        if word in target and target.index(word) == 0:\n",
    "            suffix = target[len(word):]\n",
    "            suffix_ways = all_construct(suffix, word_bank, memo)\n",
    "            target_ways = [[word] + suffix for suffix in suffix_ways]\n",
    "            result.extend(target_ways) # Extend allows for adding more subarray values to our existing result array, without creating a 3d array\n",
    "\n",
    "    memo[target] = result\n",
    "    return result\n",
    "\n",
    "print(all_construct('abcdef', ['ab', 'abc', 'cd', 'def', 'abcd', 'ef', 'c']))\n",
    "print(all_construct('skateboard', ['bo', 'rd', 'ate', 't', 'ska', 'sk', 'boar']))\n",
    "\n",
    "# Too inefficient to run this properly\n",
    "print(all_construct('aaaaaaaaaaaaaaaaaaaaaaaaaz', ['a', 'aa', 'aaa', 'aaaa', 'aaaaa']))"
   ]
  },
  {
   "cell_type": "markdown",
   "metadata": {},
   "source": [
    "## Analysis\n",
    "\n",
    "If m = len(**target**)\n",
    "If n = len(**word_bank**)\n",
    "\n",
    "m would be the height of the tree, since we could at worst, go down one letter at a time, being m leaves down.\n",
    "\n",
    "For n, at the first level, at worst branches out n times. But since we cache, subsequent levels will require that less.\n",
    "so that's n branches multiplied by m levels down, so O(n*m) subarrays\n",
    "\n",
    "Time: O(n*m)\n",
    "Space: O(m) because of the height of the tree"
   ]
  }
 ],
 "metadata": {
  "kernelspec": {
   "display_name": "Python 3.8.10 64-bit",
   "language": "python",
   "name": "python3"
  },
  "language_info": {
   "codemirror_mode": {
    "name": "ipython",
    "version": 3
   },
   "file_extension": ".py",
   "mimetype": "text/x-python",
   "name": "python",
   "nbconvert_exporter": "python",
   "pygments_lexer": "ipython3",
   "version": "3.8.10"
  },
  "orig_nbformat": 4,
  "vscode": {
   "interpreter": {
    "hash": "916dbcbb3f70747c44a77c7bcd40155683ae19c65e1c03b4aa3499c5328201f1"
   }
  }
 },
 "nbformat": 4,
 "nbformat_minor": 2
}
