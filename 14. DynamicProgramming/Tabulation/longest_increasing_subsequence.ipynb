{
 "cells": [
  {
   "cell_type": "markdown",
   "metadata": {},
   "source": [
    "# 16.12 Takeaway - Longest Increasing Subsequence\n",
    "\n",
    "Count the longest increasing subsequence\n",
    "\n",
    "## Example:\n",
    "nums = [4,10,4,3,8,9]\n",
    "\n",
    "Answer = 3 b/c of [4,8,9]\n",
    "\n",
    "## Unoptimized\n",
    "\n",
    "The unoptimized solution isn't even really worth writing, but it's O(2^n) as you need to go through the array and either choose a number as part of your subsequence, or not. \n",
    "\n",
    "## Optimized\n",
    "\n",
    "This was really tricky, but what really helped clear confusion was that our dp array at the end of our earlier example should not result like this\n",
    "\n",
    "dp = `[1, 2, 2, 2, 2, 3]`\n",
    "\n",
    "but rather should look like this\n",
    "\n",
    "dp = `[1, 2, 1, 1, 2, 3]`\n",
    "\n",
    "Because of this, we will have to return the max(dp) instead of the usual dp[-1]\n",
    "\n",
    "With this in mind, we need to have 2 pointers, `i` and `j` which can go back and tell us what the largest subsequence is at each new iteration. It helps to initialize everything as `1` in our dp array, since that's by default the answer.\n",
    "\n",
    "After this, we use the dp array to cache our earlier answers. As we're swinging back through, with the `j loop`, we want to save our latest maximum for dp[i], and we want to just make sure everytime a number we saw earlier was smaller that we check if we can get a new maximum."
   ]
  },
  {
   "cell_type": "code",
   "execution_count": 8,
   "metadata": {},
   "outputs": [
    {
     "name": "stdout",
     "output_type": "stream",
     "text": [
      "1 1 1\n",
      "4 1 1\n",
      "4 2 1\n",
      "4 2 1\n",
      "5 1 1\n",
      "5 2 1\n",
      "5 2 1\n",
      "5 2 2\n",
      "[1, 2, 1, 1, 2, 3]\n",
      "3\n"
     ]
    }
   ],
   "source": [
    "def lengthOfLIS(nums):\n",
    "    dp = [1] * len(nums)\n",
    "    for i in range(len(nums)):\n",
    "        for j in range(i):\n",
    "            if nums[j] < nums[i]:\n",
    "                dp[i] = max(dp[i], 1 + dp[j])\n",
    "    \n",
    "    return max(dp)\n",
    "\n",
    "print(lengthOfLIS([4,10,4,3,8,9]))"
   ]
  },
  {
   "cell_type": "markdown",
   "metadata": {},
   "source": [
    "## Analysis\n",
    "\n",
    "O(n^2) time due to the double for loop\n",
    "\n",
    "O(n) space"
   ]
  },
  {
   "cell_type": "markdown",
   "metadata": {},
   "source": [
    "## Alternate nlog(n) approach\n",
    "\n",
    "Using binary search, we can make this n log n.\n",
    "\n",
    "\n",
    "Solution 2 in [this leetcode answer](https://leetcode.com/problems/longest-increasing-subsequence/solutions/1326308/c-python-dp-binary-search-bit-solutions-picture-explain-o-nlogn/?orderBy=most_votes) explains this best.\n",
    "\n",
    "Analysis is O(n log n) time, O(n) space"
   ]
  },
  {
   "cell_type": "code",
   "execution_count": 12,
   "metadata": {},
   "outputs": [
    {
     "name": "stdout",
     "output_type": "stream",
     "text": [
      "3\n"
     ]
    }
   ],
   "source": [
    "import bisect\n",
    "def lengthOfLIS(nums):\n",
    "    dp = []\n",
    "    for i in range(len(nums)):\n",
    "        if len(dp) == 0 or nums[i] > dp[-1]:\n",
    "            dp.append(nums[i])\n",
    "        # Otherwise we need to find the first element > nums[i] in the dp array\n",
    "        # And swap the values\n",
    "        else:\n",
    "            index = bisect.bisect_left(dp, nums[i])\n",
    "            dp[index] = nums[i]\n",
    "    return len(dp)\n",
    "\n",
    "print(lengthOfLIS([4,10,4,3,8,9]))"
   ]
  }
 ],
 "metadata": {
  "kernelspec": {
   "display_name": "Python 3.8.10 64-bit",
   "language": "python",
   "name": "python3"
  },
  "language_info": {
   "codemirror_mode": {
    "name": "ipython",
    "version": 3
   },
   "file_extension": ".py",
   "mimetype": "text/x-python",
   "name": "python",
   "nbconvert_exporter": "python",
   "pygments_lexer": "ipython3",
   "version": "3.8.10"
  },
  "orig_nbformat": 4,
  "vscode": {
   "interpreter": {
    "hash": "916dbcbb3f70747c44a77c7bcd40155683ae19c65e1c03b4aa3499c5328201f1"
   }
  }
 },
 "nbformat": 4,
 "nbformat_minor": 2
}
