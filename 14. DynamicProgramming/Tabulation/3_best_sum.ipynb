{
 "cells": [
  {
   "cell_type": "markdown",
   "metadata": {},
   "source": [
    "## How_sum problem \n",
    "\n",
    "Notice that the how_sum problem is very similar to best_sum's answer!"
   ]
  },
  {
   "cell_type": "code",
   "execution_count": 15,
   "metadata": {},
   "outputs": [
    {
     "name": "stdout",
     "output_type": "stream",
     "text": [
      "[3, 2, 2]\n",
      "[4, 3]\n"
     ]
    }
   ],
   "source": [
    "def how_sum(target_sum, numbers):\n",
    "    table = [None]*(target_sum + 1)\n",
    "\n",
    "    table[0] = []\n",
    "\n",
    "    for i in range(target_sum + 1):\n",
    "        if table[i] is not None:\n",
    "            for num in numbers:\n",
    "                if i + num <= target_sum:\n",
    "                    table[i + num] = [x for x in table[i]] + [num]\n",
    "    \n",
    "    return table[target_sum]\n",
    "\n",
    "print(how_sum(7, [2,3]))\n",
    "print(how_sum(7, [5,3,4,7]))"
   ]
  },
  {
   "cell_type": "markdown",
   "metadata": {},
   "source": [
    "# Best Sum Tabulation Method\n",
    "\n",
    "Function best_sum(target_sum, numbers) should return the shortest combination of numbers that add up to the target_sum exactly\n",
    "\n",
    "If there's a tie, return either of the shortest\n",
    "\n",
    "## Simple Example\n",
    "\n",
    "best_sum(8, [2,3,5])\n",
    "\n",
    "Possiblities would be: \n",
    "\n",
    "[2, 2, 2, 2]\n",
    "\n",
    "[2, 3, 3]\n",
    "\n",
    "[3, 5] = the answer\n",
    "\n",
    "## Visualize problem as a table\n",
    "\n",
    "Let's initialize them all as Null values, but set the first table[0] = [], since we don't need any values to make up 0\n",
    "\n",
    "| [] | None | None | None | None | None | None | None | None |\n",
    "|----|------|------|------|------|------|------|------|------|\n",
    "\n",
    "The algorithm is to loop through each cell, and then loop through each number in `numbers` to find a spot where it can land.\n",
    "\n",
    "After going through the first index, we should come up with this\n",
    "\n",
    "| [] | None | [2] | [3] | None | [5] | None | None | None |\n",
    "|----|------|-----|-----|------|-----|------|------|------|\n",
    "\n",
    "On the next index, we see that it's set to None, so we know reaching this with our number set is impossible, so we move to the next.\n",
    "\n",
    "\n",
    "Index 2 has a value, so we need to copy it and a number from the `numbers` array to add to the next sectoin, so we add [2,2] to index 4, but index 5 is where things get interesting. We have to choose between copying the current value [2,3] or what's already there [5]. To resolve this, just pick the one with the minimum length. In this case, [5]. When there's a None value, we can just replace it.\n",
    "\n",
    "| [] | None | [2] | [3] | [2,2] | [5] | None | [2,5] | None |\n",
    "|----|------|-----|-----|-------|-----|------|-------|------|\n",
    "\n",
    "\n",
    "On Index 3:\n",
    "\n",
    "| [] | None | [2] | [3] | [2,2] | [5] | [3,3] | [2,5] | [3,5] |\n",
    "|----|------|-----|-----|-------|-----|-------|-------|-------|\n",
    "\n",
    "From here it is no longer necessary to swap out values as it will only grow the length of the index values. \n",
    "\n",
    "\n",
    "## Implementation"
   ]
  },
  {
   "cell_type": "code",
   "execution_count": 17,
   "metadata": {},
   "outputs": [
    {
     "name": "stdout",
     "output_type": "stream",
     "text": [
      "[3, 5]\n",
      "[25, 25, 25, 25]\n"
     ]
    }
   ],
   "source": [
    "def best_sum(target_sum, numbers):\n",
    "    table = [None] * (target_sum + 1)\n",
    "    table[0] = []\n",
    "\n",
    "    for i in range(target_sum + 1):\n",
    "        if table[i] is not None:\n",
    "            for num in numbers:\n",
    "                if i + num <= target_sum:\n",
    "                    new_sum = [x for x in table[i]] + [num]\n",
    "                    if table[i + num] == None or len(new_sum) < len(table[i + num]):\n",
    "                        table[i + num] = new_sum\n",
    "    \n",
    "    return table[target_sum]\n",
    "\n",
    "print(best_sum(8, [2,3,5]))\n",
    "print(best_sum(100, [1,2,5, 25]))"
   ]
  },
  {
   "cell_type": "markdown",
   "metadata": {},
   "source": [
    "## Analysis\n",
    "\n",
    "Time complexity for sure is m x n since we need to go through each num in `numbers` in each table index, where table is length m.\n",
    "Also, we are creating a new_sum which could potentially be length of m each time. Because of this:\n",
    "\n",
    "Time: O(n\\*m\\*m) or O(m^2*n)\n",
    "\n",
    "Space: O(m^2)"
   ]
  }
 ],
 "metadata": {
  "kernelspec": {
   "display_name": "Python 3.8.10 64-bit",
   "language": "python",
   "name": "python3"
  },
  "language_info": {
   "codemirror_mode": {
    "name": "ipython",
    "version": 3
   },
   "file_extension": ".py",
   "mimetype": "text/x-python",
   "name": "python",
   "nbconvert_exporter": "python",
   "pygments_lexer": "ipython3",
   "version": "3.8.10"
  },
  "orig_nbformat": 4,
  "vscode": {
   "interpreter": {
    "hash": "916dbcbb3f70747c44a77c7bcd40155683ae19c65e1c03b4aa3499c5328201f1"
   }
  }
 },
 "nbformat": 4,
 "nbformat_minor": 2
}
