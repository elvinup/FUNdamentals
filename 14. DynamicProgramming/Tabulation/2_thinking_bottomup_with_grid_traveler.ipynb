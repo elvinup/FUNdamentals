{
 "cells": [
  {
   "cell_type": "markdown",
   "metadata": {},
   "source": [
    "# Grid Traveler Problem\n",
    "\n",
    "You're a traveler on a 2D grid. You start in the top-left corner, and your goal is to get to the bottom-right corner.\n",
    "You may only move **down** or **right**.\n",
    "\n",
    "How many ways can you travel to the goal in a n*m matrix?\n",
    "\n",
    "Function: grid_traveler(m, n)\n",
    "\n",
    "## Thought Process\n",
    "\n",
    "### Simple Example\n",
    "\n",
    "We should always start with a simple example to make a DP problem approachable.\n",
    "\n",
    "Let's start with a 3x3 grid, grid_traveler(3, 3)\n",
    "\n",
    "We need to make space for 0's\n",
    "\n",
    "| 0 | 0 | 0 | 0 |\n",
    "|---|---|---|---|\n",
    "| 0 | 0 | 0 | 0 |\n",
    "| 0 | 0 | 0 | 0 |\n",
    "| 0 | 0 | 0 | 0 |\n",
    "\n",
    "Thinking about a base case like grid_traveler(1,1), a 1x1 matrix should always = 1\n",
    "\n",
    "So this is a good starting point. Especially since a grid with 0 rows or columns should remain 0 (first row, first column)\n",
    "\n",
    "| 0 | 0 | 0 | 0 |\n",
    "|---|---|---|---|\n",
    "| 0 | 1 | 0 | 0 |\n",
    "| 0 | 0 | 0 | 0 |\n",
    "| 0 | 0 | 0 | 0 |\n",
    "\n",
    "\n",
    "### Process through table\n",
    "\n",
    "Since we are only able to go right and down, the logic is to iterate through each cell, and add the current value to the right cell and bottom cell.\n",
    "\n",
    "| 0 | 0 | 0 | 0 |\n",
    "|---|---|---|---|\n",
    "| 0 | 1 | 1 | 1 |\n",
    "| 0 | 1 | 2 | 3 |\n",
    "| 0 | 1 | 3 | 6 |\n",
    "\n",
    "The answer is the bottom right cell, which is 6"
   ]
  },
  {
   "cell_type": "code",
   "execution_count": 1,
   "metadata": {},
   "outputs": [
    {
     "name": "stdout",
     "output_type": "stream",
     "text": [
      "1\n",
      "3\n",
      "3\n",
      "6\n",
      "2333606220\n"
     ]
    }
   ],
   "source": [
    "def grid_traveler(m, n):\n",
    "    table = [[0]*(n+1) for i in range(m+1)] # Use list comprehension to initialize a 2d matrix\n",
    "    \n",
    "    table[1][1] = 1 # Intialize this important truth value\n",
    "\n",
    "    # For each row\n",
    "    for i in range(m+1):\n",
    "        # For each column\n",
    "        for j in range(n+1):\n",
    "            # Rows, insert below if within boundary\n",
    "            if i +1 <= m:\n",
    "                table[i+1][j] += table[i][j]\n",
    "            # Columns, insert right if within boundary\n",
    "            if j + 1 <= n:\n",
    "                table[i][j+1] += table[i][j]\n",
    "    \n",
    "    # Return last index for answer\n",
    "    return table[m][n]\n",
    "                \n",
    "print(grid_traveler(1,1))\n",
    "print(grid_traveler(2,3))\n",
    "print(grid_traveler(3,2))\n",
    "print(grid_traveler(3,3))\n",
    "print(grid_traveler(18,18))"
   ]
  },
  {
   "cell_type": "markdown",
   "metadata": {},
   "source": [
    "# Analysis\n",
    "Everything happens within the 2d m*n matrix\n",
    "\n",
    "Time: O(n*m)\n",
    "\n",
    "Space: O(n*m)"
   ]
  }
 ],
 "metadata": {
  "kernelspec": {
   "display_name": "Python 3.8.10 64-bit",
   "language": "python",
   "name": "python3"
  },
  "language_info": {
   "codemirror_mode": {
    "name": "ipython",
    "version": 3
   },
   "file_extension": ".py",
   "mimetype": "text/x-python",
   "name": "python",
   "nbconvert_exporter": "python",
   "pygments_lexer": "ipython3",
   "version": "3.10.12"
  },
  "orig_nbformat": 4,
  "vscode": {
   "interpreter": {
    "hash": "916dbcbb3f70747c44a77c7bcd40155683ae19c65e1c03b4aa3499c5328201f1"
   }
  }
 },
 "nbformat": 4,
 "nbformat_minor": 2
}
