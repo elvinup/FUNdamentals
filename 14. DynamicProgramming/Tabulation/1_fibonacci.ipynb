{
 "cells": [
  {
   "cell_type": "markdown",
   "metadata": {},
   "source": [
    "# Fibonacci Bottom Up\n",
    "\n",
    "Let's do Fibonacci again, but with tabulation, or the **bottom up** strategy.\n",
    "\n",
    "Function: fib(n)\n",
    "\n",
    "0th number is 0\n",
    "1st number is 1\n",
    "\n",
    "To generate the next number, add the previous 2 numbers.\n",
    "\n",
    "## Simple Example\n",
    "\n",
    "fib(6) = 8\n",
    "\n",
    "## Visualize in Table Form\n",
    "\n",
    "\n",
    "The first two values are the base case, where fib(0) = 0, and fib(1) = 1\n",
    "\n",
    "Note that we have an array of length 7 (n+1) to do this problem.\n",
    "\n",
    "| 0 | 1 | 0 | 0 | 0 | 0 | 0 |\n",
    "|---|---|---|---|---|---|---|\n",
    "\n",
    "\n"
   ]
  },
  {
   "cell_type": "code",
   "execution_count": 2,
   "metadata": {},
   "outputs": [
    {
     "name": "stdout",
     "output_type": "stream",
     "text": [
      "8\n",
      "13\n",
      "21\n",
      "12586269025\n"
     ]
    }
   ],
   "source": [
    "\n",
    "def fib(n):\n",
    "    fib_array = [0] * (n + 1)\n",
    "    fib_array[1] = 1\n",
    "\n",
    "    for i in range(2, n + 1):\n",
    "        fib_array[i] = fib_array[i-2] + fib_array[i-1]\n",
    "    \n",
    "    return fib_array[n]\n",
    "\n",
    "\n",
    "print(fib(6))\n",
    "print(fib(7))\n",
    "print(fib(8))\n",
    "print(fib(50))\n"
   ]
  },
  {
   "cell_type": "markdown",
   "metadata": {},
   "source": [
    "# Analysis\n",
    "Just using the single array to do everything.\n",
    "\n",
    "O(n) time\n",
    "\n",
    "O(n) space"
   ]
  }
 ],
 "metadata": {
  "kernelspec": {
   "display_name": "Python 3.8.10 64-bit",
   "language": "python",
   "name": "python3"
  },
  "language_info": {
   "codemirror_mode": {
    "name": "ipython",
    "version": 3
   },
   "file_extension": ".py",
   "mimetype": "text/x-python",
   "name": "python",
   "nbconvert_exporter": "python",
   "pygments_lexer": "ipython3",
   "version": "3.10.12"
  },
  "orig_nbformat": 4,
  "vscode": {
   "interpreter": {
    "hash": "916dbcbb3f70747c44a77c7bcd40155683ae19c65e1c03b4aa3499c5328201f1"
   }
  }
 },
 "nbformat": 4,
 "nbformat_minor": 2
}
