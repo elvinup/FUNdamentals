{
 "cells": [
  {
   "cell_type": "markdown",
   "metadata": {},
   "source": [
    "# Basic Recursion\n",
    "\n",
    "Watch the first 38 mins of this: https://www.youtube.com/watch?v=oBt53YbR9Kk to visualize and understand the recursive tree fully!\n",
    "\n",
    "Possibly the most noob friendly DP problem is the fibonacci problem.\n",
    "\n",
    "Calculating the nth fibonacci number requires\n",
    "\n",
    "Fibonacci Sequence: 1, 1, 2, 3, 5, 8, 13, 21, etc...\n",
    "\n",
    "input: n\n",
    "output: Fibonacci value"
   ]
  },
  {
   "cell_type": "code",
   "execution_count": 1,
   "metadata": {},
   "outputs": [
    {
     "data": {
      "text/plain": [
       "9227465"
      ]
     },
     "execution_count": 1,
     "metadata": {},
     "output_type": "execute_result"
    }
   ],
   "source": [
    "def fib(n):\n",
    "    if n <= 2:\n",
    "        return 1\n",
    "    return fib(n-1) + fib(n-2)\n",
    "\n",
    "fib(35)"
   ]
  },
  {
   "cell_type": "markdown",
   "metadata": {},
   "source": [
    "## Analysis\n",
    "The most basic recursion answer is simple, but extremely inefficient as we are recalculating values so many times\n",
    "\n",
    "O(2^n) time - because the number of calls doubles every level of the stack\n",
    "O(n) space - because this is the maximum depth of the recursion stack"
   ]
  },
  {
   "cell_type": "markdown",
   "metadata": {},
   "source": [
    "## Memoization Algorithm\n",
    "\n",
    "As can be seen above, anything above fib(35) will take > 1 second to compute because of how inefficient all the extra calls are.\n",
    "\n",
    "Let's cache the fibonacci value as we find them in the recursive tree."
   ]
  },
  {
   "cell_type": "code",
   "execution_count": 2,
   "metadata": {},
   "outputs": [
    {
     "data": {
      "text/plain": [
       "9227465"
      ]
     },
     "execution_count": 2,
     "metadata": {},
     "output_type": "execute_result"
    }
   ],
   "source": [
    "def fib(n, fib_cache = {}):\n",
    "    \n",
    "    if n <= 2:\n",
    "        return 1\n",
    "\n",
    "    if n in fib_cache:\n",
    "        return fib_cache[n]\n",
    "    \n",
    "    fib_cache[n] = fib(n-1, fib_cache) + fib(n-2 ,fib_cache)\n",
    "    return fib_cache[n]\n",
    "\n",
    "fib(35)"
   ]
  },
  {
   "cell_type": "markdown",
   "metadata": {},
   "source": [
    "## Analysis\n",
    "\n",
    "We are already getting much faster performance by caching with a hashmap. This is because we are not doing duplicate work going down some recursive trees after referencing the cache for a fibonacci number's value \n",
    "\n",
    "O(n) time - because we are not making more than 1 recursive call per number thanks to caching. The recursive tree goes all the way down the left side, and quickly checks the right leaf nodes to prevent itself from doing extra work\n",
    "\n",
    "O(n) Space"
   ]
  }
 ],
 "metadata": {
  "kernelspec": {
   "display_name": "Python 3.8.10 64-bit",
   "language": "python",
   "name": "python3"
  },
  "language_info": {
   "codemirror_mode": {
    "name": "ipython",
    "version": 3
   },
   "file_extension": ".py",
   "mimetype": "text/x-python",
   "name": "python",
   "nbconvert_exporter": "python",
   "pygments_lexer": "ipython3",
   "version": "3.8.10"
  },
  "orig_nbformat": 4,
  "vscode": {
   "interpreter": {
    "hash": "916dbcbb3f70747c44a77c7bcd40155683ae19c65e1c03b4aa3499c5328201f1"
   }
  }
 },
 "nbformat": 4,
 "nbformat_minor": 2
}
