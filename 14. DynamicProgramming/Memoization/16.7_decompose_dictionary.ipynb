{
 "cells": [
  {
   "cell_type": "markdown",
   "metadata": {},
   "source": [
    "# 16.7 Takeaway\n",
    "\n",
    "Decompose words into Dictionary.\n",
    "\n",
    "This will especially help with understanding how to form recursive solutions when you want to get the value from one specific recursive path only, and ignore the rest."
   ]
  },
  {
   "cell_type": "markdown",
   "metadata": {},
   "source": [
    "## Visual\n",
    "\n",
    "![](../../%20images/decompose_dict_image_tree.png)"
   ]
  },
  {
   "cell_type": "markdown",
   "metadata": {},
   "source": [
    "## Unoptimized Solution\n",
    "\n",
    "We want to make sure that it only returns 1 solution only. \n",
    "\n",
    "This is quite similar to all_construct, technically we could get all the combinations and just return one of them, but that's too simple and asking much more than what this problem asks for. "
   ]
  },
  {
   "cell_type": "code",
   "execution_count": 2,
   "metadata": {},
   "outputs": [
    {
     "name": "stdout",
     "output_type": "stream",
     "text": [
      "['bed', 'bat', 'hand', 'beyond']\n"
     ]
    }
   ],
   "source": [
    "def decompose_into_dictionary_words(domain, dictionary):\n",
    "    def decompose_recursion(domain, dictionary):\n",
    "        if domain == '':\n",
    "            return []\n",
    "\n",
    "        result = []\n",
    "\n",
    "        for word in dictionary:\n",
    "            # domain.index throws an error if we don't check if the word is there in the firstplace first\n",
    "            if word in domain and domain.index(word) == 0:\n",
    "                suffix = domain[len(word):]\n",
    "                suffix_ways = decompose_recursion(suffix, dictionary)\n",
    "                # Need to explicitly check if suffix_ways wasn't set to False already\n",
    "                if suffix_ways != False:\n",
    "                    target_ways = [word] + suffix_ways\n",
    "                    result += target_ways\n",
    "                    # Return first result we find\n",
    "                    return result\n",
    "\n",
    "        return False\n",
    "\n",
    "    final_result = decompose_recursion(domain, dictionary)\n",
    "    # If false, return [] to cover our tracks\n",
    "    return final_result if final_result != False else []\n",
    "\n",
    "\n",
    "print(decompose_into_dictionary_words('bedbathandbeyond', ['bed', 'bath', 'beyond', 'bat', 'hand']))"
   ]
  },
  {
   "cell_type": "markdown",
   "metadata": {},
   "source": [
    "## Main Takeaway\n",
    "\n",
    "The part I struggled with the longest was attempting to exit early, but i wanted my base cases for whether it was True or False to return `[]`. This does not work, because then there's no way to know otherwise.\n",
    "\n",
    "Also it is quite confusing when looking at the recursion tree and deciding how to get a different result for a single array in different paths. The key is to set the result array = [] in every recursive function and only add onto it based on answers further downstream. Starting from an empty array [] until the final answer.\n",
    "\n",
    "The way we set it up, as long as there is ONE answer that works, it will return it, because we are returning it before we reach the `return False` statement."
   ]
  },
  {
   "cell_type": "markdown",
   "metadata": {},
   "source": [
    "## Optimized Solution\n",
    "\n",
    "Now the easy part, caching the result! It's easiest if we just cache the domain each time, as that will return if it's possible or not to create the domain with the words each time."
   ]
  },
  {
   "cell_type": "code",
   "execution_count": 6,
   "metadata": {},
   "outputs": [
    {
     "name": "stdout",
     "output_type": "stream",
     "text": [
      "['bed', 'bat', 'hand', 'beyond']\n"
     ]
    }
   ],
   "source": [
    "def decompose_into_dictionary_words(domain, dictionary):\n",
    "    def decompose_recursion(domain, dictionary, memo={}):\n",
    "        if domain in memo:\n",
    "            return memo[domain]\n",
    "        if domain == '':\n",
    "            return []\n",
    "\n",
    "        result = []\n",
    "\n",
    "        for word in dictionary:\n",
    "            # domain.index throws an error if we don't check if the word is there in the firstplace first\n",
    "            if word in domain and domain.index(word) == 0:\n",
    "                suffix = domain[len(word):]\n",
    "                suffix_ways = decompose_recursion(suffix, dictionary, memo)\n",
    "                # Need to explicitly check if suffix_ways wasn't set to False already\n",
    "                if suffix_ways != False:\n",
    "                    target_ways = [word] + suffix_ways\n",
    "                    result += target_ways\n",
    "                    # Return first result we find\n",
    "                    # Don't need to store this in dictionary since we will return right away anyways\n",
    "                    return result\n",
    "\n",
    "        memo[domain] = False\n",
    "        return False\n",
    "\n",
    "    final_result = decompose_recursion(domain, dictionary)\n",
    "    # If false, return [] to cover our tracks\n",
    "    return final_result if final_result != False else []\n",
    "\n",
    "\n",
    "print(decompose_into_dictionary_words('bedbathandbeyond', ['bed', 'bath', 'beyond', 'bat', 'hand']))"
   ]
  }
 ],
 "metadata": {
  "kernelspec": {
   "display_name": "Python 3.8.10 64-bit",
   "language": "python",
   "name": "python3"
  },
  "language_info": {
   "codemirror_mode": {
    "name": "ipython",
    "version": 3
   },
   "file_extension": ".py",
   "mimetype": "text/x-python",
   "name": "python",
   "nbconvert_exporter": "python",
   "pygments_lexer": "ipython3",
   "version": "3.10.12"
  },
  "orig_nbformat": 4,
  "vscode": {
   "interpreter": {
    "hash": "916dbcbb3f70747c44a77c7bcd40155683ae19c65e1c03b4aa3499c5328201f1"
   }
  }
 },
 "nbformat": 4,
 "nbformat_minor": 2
}
