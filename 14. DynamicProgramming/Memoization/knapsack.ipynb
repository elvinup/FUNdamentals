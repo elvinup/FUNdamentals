{
 "cells": [
  {
   "cell_type": "markdown",
   "metadata": {},
   "source": [
    "# Knapsack with Memoization\n",
    "\n",
    "## Problem\n",
    "\n",
    "You need to pack a set of items, and are given a weight capacity. Grab the items in the container with the maximum value without going over the weight limit\n",
    "\n",
    "## Visualization\n",
    "\n",
    "I got stuck trying to put both the capacity AND the price, when actually that will not give us overlapping subproblems we can cache. Instead, we need to use the current index and the capacity which does show below the potential to create overlapping subproblems, which allows us to get out of that inefficiency.\n",
    "\n",
    "![](../../%20images/knapsack_recursion_tree.png)\n",
    "\n",
    "## Implemetation Brute Force Recursion"
   ]
  },
  {
   "cell_type": "code",
   "execution_count": 1,
   "metadata": {},
   "outputs": [
    {
     "name": "stdout",
     "output_type": "stream",
     "text": [
      "90\n"
     ]
    }
   ],
   "source": [
    "import collections\n",
    "\n",
    "Item = collections.namedtuple('Item', ('weight', 'value'))\n",
    "\n",
    "def knapsack(items, capacity):\n",
    "    def knapsackRecursed(items, capacity, index):\n",
    "        if capacity <= 0 or index >= len(items):\n",
    "            return 0\n",
    "        \n",
    "        take_item = 0\n",
    "        \n",
    "        # Note: Forgot to make sure to only add if there's capacity\n",
    "        if items[index].weight <= capacity:\n",
    "            take_item = items[index].value + knapsackRecursed(items, capacity-items[index].weight, index+1)\n",
    "        dont_take_item = knapsackRecursed(items, capacity, index+1)\n",
    "\n",
    "        total_value = max(take_item, dont_take_item)\n",
    "\n",
    "        return total_value\n",
    "\n",
    "    print(knapsackRecursed(items, capacity, 0))\n",
    "\n",
    "\n",
    "knapsack([Item(5, 60), Item(3, 50), Item(4, 70), Item(2, 30), Item(1, 20)], 5)"
   ]
  },
  {
   "cell_type": "markdown",
   "metadata": {},
   "source": [
    "## Brute Force Analysis\n",
    "\n",
    "Starting from the top, the tree keeps doubling, and the height of the tree is purely dictated by the number of items.\n",
    "\n",
    "The number of items N dictates the height of the tree, and at worst every level will be filled up with nodes.\n",
    "\n",
    "Time complexity: O(2<sup>N</sup>)\n",
    "\n",
    "Space complexity is the height of the recursive stack, which is N items.\n",
    "\n",
    "Space complexity: O(N)"
   ]
  },
  {
   "cell_type": "markdown",
   "metadata": {},
   "source": [
    "## Optimized Implementation with Memoization"
   ]
  },
  {
   "cell_type": "code",
   "execution_count": 2,
   "metadata": {},
   "outputs": [
    {
     "name": "stdout",
     "output_type": "stream",
     "text": [
      "90\n"
     ]
    }
   ],
   "source": [
    "import collections\n",
    "\n",
    "Item = collections.namedtuple('Item', ('weight', 'value'))\n",
    "\n",
    "def knapsack(items, capacity):\n",
    "    def knapsackRecursed(items, capacity, index, memo={}):\n",
    "        if capacity <= 0 or index >= len(items):\n",
    "            return 0\n",
    "\n",
    "        if (capacity, index) in memo:\n",
    "            return memo[(capacity, index)]\n",
    "        \n",
    "        take_item = 0\n",
    "        \n",
    "        # Note: Forgot to make sure to only add if there's capacity\n",
    "        if items[index].weight <= capacity:\n",
    "            take_item = items[index].value + knapsackRecursed(items, capacity-items[index].weight, index+1, memo)\n",
    "        dont_take_item = knapsackRecursed(items, capacity, index+1, memo)\n",
    "\n",
    "        total_value = max(take_item, dont_take_item)\n",
    "\n",
    "        memo[(capacity, index)] = total_value\n",
    "        return total_value\n",
    "\n",
    "    print(knapsackRecursed(items, capacity, 0))\n",
    "\n",
    "\n",
    "knapsack([Item(5, 60), Item(3, 50), Item(4, 70), Item(2, 30), Item(1, 20)], 5)"
   ]
  },
  {
   "cell_type": "markdown",
   "metadata": {},
   "source": [
    "## Optimized Analysis\n",
    "\n",
    "Starting from the top the tree will not always double thanks to caching. With this, it won't be exponential with cached results, so it's just N*C\n",
    "\n",
    "Time complexity: O(N*C)\n",
    "\n",
    "Space complexity is the same since it's just the height of the recursive stack, which is N items.\n",
    "\n",
    "Space complexity: O(N)"
   ]
  },
  {
   "cell_type": "code",
   "execution_count": 3,
   "metadata": {},
   "outputs": [
    {
     "data": {
      "text/plain": [
       "'bc'"
      ]
     },
     "execution_count": 3,
     "metadata": {},
     "output_type": "execute_result"
    }
   ],
   "source": [
    "test = 'abc'\n",
    "test[1:]"
   ]
  }
 ],
 "metadata": {
  "kernelspec": {
   "display_name": "Python 3.8.10 64-bit",
   "language": "python",
   "name": "python3"
  },
  "language_info": {
   "codemirror_mode": {
    "name": "ipython",
    "version": 3
   },
   "file_extension": ".py",
   "mimetype": "text/x-python",
   "name": "python",
   "nbconvert_exporter": "python",
   "pygments_lexer": "ipython3",
   "version": "3.10.12"
  },
  "orig_nbformat": 4,
  "vscode": {
   "interpreter": {
    "hash": "916dbcbb3f70747c44a77c7bcd40155683ae19c65e1c03b4aa3499c5328201f1"
   }
  }
 },
 "nbformat": 4,
 "nbformat_minor": 2
}
