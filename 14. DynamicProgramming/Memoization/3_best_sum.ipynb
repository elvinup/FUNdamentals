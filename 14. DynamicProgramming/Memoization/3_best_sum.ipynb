{
 "cells": [
  {
   "cell_type": "markdown",
   "metadata": {},
   "source": [
    "## Best Sum\n",
    "\n",
    "Write a function best_sum(target_sum, numbers)\n",
    "\n",
    "Input: \n",
    "- int target_sum\n",
    "- array numbers\n",
    "\n",
    "Output:\n",
    "Array containing the shortest combination of numbers that adds up to the target_sum\n",
    "\n",
    "## Simple Example\n",
    "\n",
    "best_sum(7, [5,3,4,7])\n",
    "\n",
    "The correct answer would be [7] since it's the shortest sized array that meets the sum of 7\n",
    "\n",
    "## Visualize as a tree\n",
    "\n",
    "If we want to do this recursively, we should think of this as a tree.\n",
    "\n",
    "Start with our target **7** as the root node, and go through [5,3,4,7] one at a time as a different branch, and subtract each of those numbers from the root.\n",
    "\n",
    "![](../../%20images/best_sum_tree.png)\n",
    "\n",
    "## Base Case\n",
    "\n",
    "Base case should be when one of 2 things happen\n",
    "\n",
    "- A leaf node is 0\n",
    "  - Return an empty array, add the number that was subtracted to it\n",
    "- A leaf node is < 0\n",
    "  - Return a null array, we don't want to consider this path"
   ]
  },
  {
   "cell_type": "code",
   "execution_count": 1,
   "metadata": {},
   "outputs": [
    {
     "name": "stdout",
     "output_type": "stream",
     "text": [
      "[7]\n"
     ]
    }
   ],
   "source": [
    "def best_sum(target, nums):\n",
    "    if target == 0:\n",
    "        return []\n",
    "    elif target < 0:\n",
    "        return None\n",
    "\n",
    "    \n",
    "    shortest_combination = None\n",
    "    \n",
    "    for num in nums:\n",
    "        new_best_sum = best_sum(target-num, nums)\n",
    "        if new_best_sum is not None:\n",
    "            combination = new_best_sum + [num]\n",
    "            if shortest_combination is None or len(combination) < len(shortest_combination):\n",
    "                shortest_combination = combination\n",
    "    return shortest_combination\n",
    "\n",
    "print(best_sum(7, [5,7,4,3]))\n",
    "\n",
    "# Too inefficient for below input\n",
    "##print(best_sum(100, [1,2,5,25]))\n",
    "# O(n^m * m)\n",
    "# O(m^2)"
   ]
  },
  {
   "cell_type": "markdown",
   "metadata": {},
   "source": [
    "## Optimized"
   ]
  },
  {
   "cell_type": "code",
   "execution_count": 2,
   "metadata": {},
   "outputs": [
    {
     "name": "stdout",
     "output_type": "stream",
     "text": [
      "[7]\n",
      "[25, 25, 25, 25]\n"
     ]
    }
   ],
   "source": [
    "def best_sum(target, nums, memo={}):\n",
    "    if target in memo:\n",
    "        return memo[target]\n",
    "    if target == 0:\n",
    "        return []\n",
    "    elif target < 0:\n",
    "        return None\n",
    "    \n",
    "    shortest_combination = None\n",
    "    \n",
    "    for num in nums:\n",
    "        new_best_sum = best_sum(target-num, nums, memo)\n",
    "        if new_best_sum is not None:\n",
    "            combination = new_best_sum + [num]\n",
    "            if shortest_combination is None or len(combination) < len(shortest_combination):\n",
    "                shortest_combination = combination\n",
    "\n",
    "    memo[target] = shortest_combination\n",
    "    return shortest_combination\n",
    "\n",
    "print(best_sum(7, [5,7,4,3]))\n",
    "print(best_sum(100, [1,2,5,25]))    \n",
    "\n",
    "## Time O(m^2 * n)\n",
    "## Space O(m^2) because there could be m keys of the hashmap, each of which can be an array of length m"
   ]
  }
 ],
 "metadata": {
  "kernelspec": {
   "display_name": "Python 3.8.10 64-bit",
   "language": "python",
   "name": "python3"
  },
  "language_info": {
   "codemirror_mode": {
    "name": "ipython",
    "version": 3
   },
   "file_extension": ".py",
   "mimetype": "text/x-python",
   "name": "python",
   "nbconvert_exporter": "python",
   "pygments_lexer": "ipython3",
   "version": "3.8.10"
  },
  "orig_nbformat": 4,
  "vscode": {
   "interpreter": {
    "hash": "916dbcbb3f70747c44a77c7bcd40155683ae19c65e1c03b4aa3499c5328201f1"
   }
  }
 },
 "nbformat": 4,
 "nbformat_minor": 2
}
