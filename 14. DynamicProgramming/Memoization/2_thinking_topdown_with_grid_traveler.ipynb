{
 "cells": [
  {
   "cell_type": "markdown",
   "metadata": {},
   "source": [
    "# Grid Traveler Problem\n",
    "\n",
    "You're a traveler on a 2D grid. You start in the top-left corner, and your goal is to get to the bottom-right corner.\n",
    "You may only move **down** or **right**.\n",
    "\n",
    "How many ways can you travel to the goal in a n*m matrix?\n",
    "\n",
    "Function: grid_traveler(m, n)\n",
    "\n",
    "## Thought Process\n",
    "\n",
    "### Simple Example\n",
    "\n",
    "We should always start with a simple example to make a DP problem approachable.\n",
    "\n",
    "Let's start with a 2x3 grid, grid_traveler(2, 3)\n",
    "\n",
    "| S |   |   |\n",
    "|---|---|---|\n",
    "|   |   | E |"
   ]
  },
  {
   "cell_type": "markdown",
   "metadata": {},
   "source": [
    "There are 3 ways to travel through this\n",
    "\n",
    "| X |   |   |\n",
    "|---|---|---|\n",
    "| X | X | X |\n",
    "--------------\n",
    "\n",
    "| X | X |   |\n",
    "|---|---|---|\n",
    "|   | X | X |\n",
    "--------------\n",
    "\n",
    "| X | X | X |\n",
    "|---|---|---|\n",
    "|   |   | X |\n",
    "\n",
    "\n"
   ]
  },
  {
   "cell_type": "markdown",
   "metadata": {},
   "source": [
    "### Deriving Base Case\n",
    "\n",
    "Next it's important to figure out what's the smallest valid grid we can have\n",
    "\n",
    "grid_traveler(1, 1)\n",
    "\n",
    "| S/E  |\n",
    "|---|\n",
    "\n",
    "There is only one path and that is 1. So this \"subproblem\" is already solved if we see this.\n",
    "\n",
    "What if one of our inputs is 0 for m or n? In that case, we are saying 0 rows, or 0 columns. This is not a valid grid, so we would return 0\n",
    "\n",
    "Knowing grid_traveler(1, 1) returns 1 and grid_traveler(0, 0) returns 0 is a great way to already understand what our **base case** is!"
   ]
  },
  {
   "cell_type": "markdown",
   "metadata": {},
   "source": [
    "### Identifying Subproblems\n",
    "\n",
    "Now let's think of slightly bigger parameters.\n",
    "\n",
    "grid_traveler(3, 3)\n",
    "\n",
    "| S |   |   |\n",
    "|---|---|---|\n",
    "|   |   |   |\n",
    "|   |   | E |\n",
    "\n",
    "Note something important!\n",
    "\n",
    "\n",
    "There's a subproblem grid_traveler(2, 3) living in here!\n",
    "\n",
    "\n",
    "|   |   |   |\n",
    "|---|---|---|\n",
    "| - | - | - |\n",
    "| - | - | - |\n",
    "\n",
    "This is the key insight that this is a DP problem, because there are **overlapping subproblems**\n",
    "\n",
    "aka grid_traveler(3, 3) overlaps with grid_traveler(2, 3), etc. "
   ]
  },
  {
   "cell_type": "markdown",
   "metadata": {},
   "source": [
    "### Tree-Based Visualization\n",
    "\n",
    "Going back to the grid_traveler(2, 3) problem, let's visualize it as a tree to easily see how the recursion would work.\n",
    "\n",
    "Starting at root node or position (2,3) to represent the problem of grid_travelers (2, 3)\n",
    "\n",
    "We have 2 options:\n",
    "\n",
    "- Child can go down (going left) row -1\n",
    "- Child can go right (going right) column - 1\n",
    "\n",
    "```mermaid\n",
    "graph TB;\n",
    "    A((2,3))-->|Down|B((1, 3))\n",
    "    A-->|Right| C((2,2));\n",
    "    B-->E((0,3))\n",
    "    B-->F((1,2))\n",
    "    C-->H((1,2))\n",
    "    H-->H2((0,1))\n",
    "    H-->H3((1,1))\n",
    "    C-->I((2,1))\n",
    "    I-->I2((1,1))\n",
    "    I-->I3((2,0))\n",
    "    F-->G((0,2))\n",
    "    F-->J((1,1))\n",
    "```\n",
    "\n",
    "\n",
    "Leaf nodes with 0, will return 0. Nodes with 1,1 or base case will return 1\n",
    "\n",
    "Parent nodes should add left and right child node to get their value. All the way until the parent node.\n",
    "\n",
    "This graph shows the answers for each of these nodes when translating the above tree to the recursively resolved paths\n",
    "\n"
   ]
  },
  {
   "cell_type": "markdown",
   "metadata": {},
   "source": [
    "```mermaid\n",
    "graph TB;\n",
    "    A((3))-->|Down|B((1))\n",
    "    A-->|Right| C((2));\n",
    "    B-->E((0))\n",
    "    B-->F((1))\n",
    "    C-->H((1))\n",
    "    H-->H2((0))\n",
    "    H-->H3((1))\n",
    "    C-->I((1))\n",
    "    I-->I2((1))\n",
    "    I-->I3((0))\n",
    "    F-->G((0))\n",
    "    F-->J((1))\n",
    "```\n",
    "\n",
    "Looking at it this way, this is quite similar to how we would create the fibonacci memoized solution. This is a common theme with DP problems.\n",
    "\n",
    "### Creating an initial Recursive Algorithm"
   ]
  },
  {
   "cell_type": "code",
   "execution_count": 1,
   "metadata": {},
   "outputs": [
    {
     "data": {
      "text/plain": [
       "3"
      ]
     },
     "execution_count": 1,
     "metadata": {},
     "output_type": "execute_result"
    }
   ],
   "source": [
    "def grid_traveler(m, n):\n",
    "\n",
    "    # Get base cases we figured out done first\n",
    "    if m == 1 and n == 1:\n",
    "        return 1\n",
    "    if m == 0 or n == 0:\n",
    "        return 0\n",
    "\n",
    "    return grid_traveler(m-1, n) + grid_traveler(m, n-1)\n",
    "\n",
    "# Works no problem!\n",
    "grid_traveler(2,3)\n",
    "\n",
    "# Way too slow\n",
    "#grid_traveler(18, 18)"
   ]
  },
  {
   "cell_type": "code",
   "execution_count": 2,
   "metadata": {},
   "outputs": [
    {
     "data": {
      "text/plain": [
       "2333606220"
      ]
     },
     "execution_count": 2,
     "metadata": {},
     "output_type": "execute_result"
    }
   ],
   "source": [
    "\n",
    "def grid_traveler(m, n, cache={}):\n",
    "    # Get base cases we figured out done first\n",
    "    if m == 1 and n == 1:\n",
    "        return 1\n",
    "    if m == 0 or n == 0:\n",
    "        return 0\n",
    "\n",
    "    # This time let's use a tuple for the key of the cache\n",
    "    grid_obj = (m, n)\n",
    "    if (m, n) in cache:\n",
    "        return cache[grid_obj]\n",
    "\n",
    "    # Also let's realize that the answer (m, n) will be the same as (n, m)\n",
    "    # so let's cache both!\n",
    "    grid_obj_inverse = (n, m)\n",
    "    cache[grid_obj] = grid_traveler(m-1, n, cache) + grid_traveler(m, n-1, cache)\n",
    "    cache[grid_obj_inverse] = cache[grid_obj]\n",
    "\n",
    "    return cache[grid_obj]\n",
    "\n",
    "\n",
    "# Works way faster now with the cache!\n",
    "grid_traveler(18, 18)\n"
   ]
  },
  {
   "cell_type": "markdown",
   "metadata": {},
   "source": [
    "### Analysis\n",
    "\n",
    "Time - O(n + m) with our optimization of adding the inverse key to the cache. \n",
    "  - Without it, it would be O(n*m) since that's how many recursive calls we'd go down the tree dependent on the combinations of m and n\n",
    "\n",
    "Space - O(n + m)\n",
    "\n",
    "Here's all the calls we make with the cache. Otherwise it would be O(2^(m+n))\n",
    "```mermaid\n",
    "graph TB;\n",
    "    A([2,3])-->|Down|B([1, 3])\n",
    "    A-->|Right| C([2,2]);\n",
    "    B-->E([0,3])\n",
    "    B-->F([1,2])\n",
    "    C-->H(1,2-cached)\n",
    "    C-->I(2,1-cached)\n",
    "    F-->G([0,2])\n",
    "    F-->J([1,1])\n",
    "```"
   ]
  }
 ],
 "metadata": {
  "kernelspec": {
   "display_name": "Python 3.8.10 64-bit",
   "language": "python",
   "name": "python3"
  },
  "language_info": {
   "codemirror_mode": {
    "name": "ipython",
    "version": 3
   },
   "file_extension": ".py",
   "mimetype": "text/x-python",
   "name": "python",
   "nbconvert_exporter": "python",
   "pygments_lexer": "ipython3",
   "version": "3.8.10"
  },
  "orig_nbformat": 4,
  "vscode": {
   "interpreter": {
    "hash": "916dbcbb3f70747c44a77c7bcd40155683ae19c65e1c03b4aa3499c5328201f1"
   }
  }
 },
 "nbformat": 4,
 "nbformat_minor": 2
}
