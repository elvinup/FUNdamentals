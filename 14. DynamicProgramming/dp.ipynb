{
 "cells": [
  {
   "cell_type": "markdown",
   "metadata": {},
   "source": [
    "# Terminology\n",
    "\n",
    "\n",
    "## Top - Down\n",
    "\n",
    "**Memoization** - Caching our results after we see the first time\n",
    "\n",
    "The top down approach: take the given problem and break it down into smaller subproblems\n",
    "\n",
    "### Pros\n",
    "- Easier to code edge cases and gets less complicated\n",
    "- More natural to think about\n",
    "\n",
    "\n",
    "## Bottom - Up\n",
    "\n",
    "**Tabulation** - Uses a table to cache\n",
    "\n",
    "The bottom up approach: take a smaller simpler subproblem, and work the solution up towards the given problem\n",
    "\n",
    "### Pros\n",
    "- Faster performance by getting info directly from a table\n",
    "- If all subproblems need to be solved at least once, bottom up performs better"
   ]
  },
  {
   "cell_type": "markdown",
   "metadata": {},
   "source": [
    "## Common DP Subproblem Patterns\n",
    "\n",
    "Ref: https://www.youtube.com/watch?v=aPQY__2H3tE\n",
    "\n",
    "### Pattern 1\n",
    "- Input: Array length n\n",
    "- Subproblem: Ordered subsequence of length i\n",
    "- Example: Longest Increasing Subsequence\n",
    "\n",
    "### Pattern 2\n",
    "- Input: Array length n\n",
    "- Subproblem: Ordered subsequence of length i, but in random order\n",
    "- Example: Box stacking problem\n",
    "\n",
    "### Pattern 3\n",
    "- Input: 2 arrays length n and m\n",
    "- Subproblem: Ordered subsequence of length i, Ordered subsequence of length j\n",
    "- Note: Slightly more complex version of above problems\n",
    "\n",
    "### Pattern 4\n",
    "- Input: Array length n\n",
    "- Subproblem: subsequence expanding from the middle of the array, and going outwards left and right\n",
    "- Note: Not quite as common as above patterns\n",
    "\n",
    "### Pattern 5\n",
    "- Input: 2D Matrix Array of dimensions m x n\n",
    "- Subproblem: Sub-matrix of sub dimension i x j\n",
    "- Note: Some of the most common DP problems use a 2D matrix"
   ]
  },
  {
   "cell_type": "markdown",
   "metadata": {},
   "source": [
    "# Alvin the Programmer's Memoization Technique\n",
    "\n",
    "1. Make it work\n",
    "    - Visualize the problem as a tree\n",
    "    - Implement the tree using recursion\n",
    "    - Test it\n",
    "2. Make it Efficient\n",
    "    - Add a memo cache or hashmap\n",
    "    - Add a base case to return memo values\n",
    "    - Store return values into memo cache, then return the value"
   ]
  },
  {
   "cell_type": "markdown",
   "metadata": {},
   "source": [
    "# Alvin the Programmer's Tabulation Technique\n",
    "\n",
    "You will have the most efficient version of the problem usually from the get-go, instead of starting unoptimized, ending optimized like in memoization.\n",
    "\n",
    "- Visualize the problem as a table\n",
    "- Size the table based on inputs\n",
    "- Initialize the table with some default values\n",
    "- Seed the trivial answer into the table ~ Examples: (grid_traveler(1,1), fib(0), fib(1)..etc)\n",
    "- Iterate through the table (hard part)\n",
    "- fill further positions based on the current position"
   ]
  },
  {
   "cell_type": "markdown",
   "metadata": {},
   "source": [
    "# Typical DP solving Strategy\n",
    "\n",
    "## Recursion First \n",
    "1. Solve the most basic subproblem (using 1 or 0s as input) like any other problem to get a base case\n",
    "\n",
    "2. Solve a very simple version of the problem with low parameters, and build a recursive tree out of it\n",
    "\n",
    "3. Observe the tree, to see where we can optimize the calls\n",
    "\n",
    "4. Implement the recursive function with the optimization\n",
    "\n",
    "5. Give analysis based on the tree after optimizing\n",
    "\n",
    "\n",
    "\n",
    "## Transitioning Memoization Recursion to Tabulation Iterative\n",
    "\n",
    "Take a look at the parameters you are passing to the recursive function. Then check which parameters change between calls\n",
    "\n",
    "Those are likely the coordinate in your dp array/matrix.\n",
    "\n",
    "Understand how the recursive call generates its answer from the sub recursive calls, try to put that into an equation, like currentRes = f(subRes). That would be your DP build up equation.\n",
    "\n",
    "Lastly find the exit case of the recursive function, that is the base case that you need to built up from in DP."
   ]
  },
  {
   "cell_type": "markdown",
   "metadata": {},
   "source": [
    "In other words:\n",
    "\n",
    "1. Write recursion\n",
    "2. Add memoization\n",
    "3. Once you get AC with the top-down, do implementation using bottom up (for loops).\n",
    "4. Space optimization in bottom up dp(if possible)\n"
   ]
  }
 ],
 "metadata": {
  "kernelspec": {
   "display_name": "Python 3.8.10 64-bit",
   "language": "python",
   "name": "python3"
  },
  "language_info": {
   "name": "python",
   "version": "3.8.10"
  },
  "orig_nbformat": 4,
  "vscode": {
   "interpreter": {
    "hash": "916dbcbb3f70747c44a77c7bcd40155683ae19c65e1c03b4aa3499c5328201f1"
   }
  }
 },
 "nbformat": 4,
 "nbformat_minor": 2
}
