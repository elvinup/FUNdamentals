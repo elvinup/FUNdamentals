{
 "cells": [
  {
   "cell_type": "markdown",
   "metadata": {},
   "source": [
    "# Stack Data Structure\n",
    "\n"
   ]
  },
  {
   "cell_type": "markdown",
   "metadata": {},
   "source": [
    "Let's Implement a simple Stack first, just using an array"
   ]
  },
  {
   "cell_type": "code",
   "execution_count": 4,
   "metadata": {},
   "outputs": [],
   "source": [
    "class Stack:\n",
    "    def __init__(self):\n",
    "        self.stack = []\n",
    "    \n",
    "    def push(self, x: int) -> None:\n",
    "        self.stack.append(x)\n",
    "\n",
    "    def pop(self) -> int:\n",
    "        return self.stack.pop()\n",
    "\n",
    "    def print(self) -> None:\n",
    "        print(self.stack)"
   ]
  },
  {
   "cell_type": "code",
   "execution_count": 9,
   "metadata": {},
   "outputs": [
    {
     "name": "stdout",
     "output_type": "stream",
     "text": [
      "2\n",
      "[1]\n"
     ]
    }
   ],
   "source": [
    "# Instantiate the stack, push 2 elements, pop 1, and print the result\n",
    "new_stack = Stack()\n",
    "new_stack.push(1)\n",
    "new_stack.push(2)\n",
    "print(new_stack.pop())\n",
    "new_stack.print()"
   ]
  },
  {
   "cell_type": "markdown",
   "metadata": {},
   "source": [
    "## 8.1 Takeaway: Stack with Max Function\n",
    "\n",
    "This is like a custom stack class, but keeping track of the max element in the stack with every action"
   ]
  },
  {
   "cell_type": "code",
   "execution_count": 28,
   "metadata": {},
   "outputs": [],
   "source": [
    "class MaxStack:\n",
    "    def __init__(self):\n",
    "        self.stack = []\n",
    "        self.cached_max = []\n",
    "    \n",
    "    def push(self, x: int) -> None:\n",
    "        self.stack.append(x)\n",
    "        self.cached_max.append(self.cached_max[-1] if self.cached_max and self.cached_max[-1] > x else x)\n",
    "\n",
    "    def pop(self) -> int:\n",
    "        self.cached_max.pop()\n",
    "        return self.stack.pop()\n",
    "\n",
    "    def max(self) -> int:\n",
    "        return self.cached_max[-1] if self.cached_max else None\n",
    "\n",
    "    def print(self) -> None:\n",
    "        print(self.stack)"
   ]
  },
  {
   "cell_type": "code",
   "execution_count": 30,
   "metadata": {},
   "outputs": [
    {
     "name": "stdout",
     "output_type": "stream",
     "text": [
      "5\n",
      "5\n",
      "7\n",
      "5\n",
      "5\n",
      "None\n"
     ]
    }
   ],
   "source": [
    "max_stack = MaxStack()\n",
    "\n",
    "max_stack.push(5)\n",
    "print(max_stack.max())\n",
    "max_stack.push(2)\n",
    "print(max_stack.max())\n",
    "max_stack.push(7)\n",
    "print(max_stack.max())\n",
    "\n",
    "max_stack.pop()\n",
    "print(max_stack.max())\n",
    "max_stack.pop()\n",
    "print(max_stack.max())\n",
    "max_stack.pop()\n",
    "print(max_stack.max())"
   ]
  },
  {
   "cell_type": "markdown",
   "metadata": {},
   "source": [
    "### Visual of Cache"
   ]
  },
  {
   "cell_type": "code",
   "execution_count": 31,
   "metadata": {},
   "outputs": [],
   "source": [
    "s1 = [5]       \n",
    "cache = [5]\n",
    "\n",
    "s1 = [2, 5]\n",
    "cache = [5, 5]\n",
    "\n",
    "s1 = [7, 2, 5]\n",
    "cache = [7, 5, 5]\n",
    "\n"
   ]
  },
  {
   "cell_type": "markdown",
   "metadata": {},
   "source": [
    "# Popping an empty stack\n",
    "\n",
    "## 8.3 Takeaway \n",
    "\n",
    "Be careful not to pop an empty stack, it will lead to an error! Be sure to handle the case where you might pop an empty stack in a problem"
   ]
  }
 ],
 "metadata": {
  "interpreter": {
   "hash": "aee8b7b246df8f9039afb4144a1f6fd8d2ca17a180786b69acc140d282b71a49"
  },
  "kernelspec": {
   "display_name": "Python 3.9.7 64-bit",
   "language": "python",
   "name": "python3"
  },
  "language_info": {
   "codemirror_mode": {
    "name": "ipython",
    "version": 3
   },
   "file_extension": ".py",
   "mimetype": "text/x-python",
   "name": "python",
   "nbconvert_exporter": "python",
   "pygments_lexer": "ipython3",
   "version": "3.9.7"
  },
  "orig_nbformat": 4
 },
 "nbformat": 4,
 "nbformat_minor": 2
}
