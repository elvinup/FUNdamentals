{
 "cells": [
  {
   "cell_type": "markdown",
   "metadata": {},
   "source": [
    "# 12.3 Takeaway - LRU (Least Recently Used) Cache \n",
    "\n",
    "This problem was pretty much a LRU cache problem disguised as an ISBN class creator for books. (Really had nothing to do with ISBNs, so ignore it)\n",
    "\n",
    "## Need 3 methods\n",
    "\n",
    "- Insert\n",
    "  - Adds an ISBN, price key value to add\n",
    "  - If the ISBN already exists, don’t update the price. Instead just update this ISBN to be the MRU (most recently used ISBN)\n",
    "- Lookup\n",
    "  - Lookup price by ISBN\n",
    "  - if not present, return -1\n",
    "  - if present, update this ISBN as the MRU (most recently used) ISBN\n",
    "- Erase\n",
    "  - Return True if the ISBN was present, else False\n",
    "\n",
    "## Using the Right Data Structure (OrderedDict)\n",
    "Least recently used is more like a queue, first in is the first out.\n",
    "\n",
    "Keeping the LRU up to date is tricky. it’s O(n) to find the least recently used every time and move it to the head\n",
    "\n",
    "To move an item in the middle of the array to the head, we need a data structure not like a queue alone, but like a queue with a linked list implementation. Best to implement the LRU cache with an `collections.OrderedDict()` class.\n",
    "\n",
    "OrderedDict isn’t oriented like a queue, actually it has the opposite orientation. \n",
    "\n",
    "Because of this, the least recently used will stay in the beginning of the data structure list, so need to use `popitem(last=False)` to get the first item instead.\n",
    "\n",
    "## LRU Policy\n",
    "Important!!! Inserting an item to the cache requires tracking the capacity of the cache as an attribute of the class. This is the LRU cache eviction policy.\n",
    "\n",
    "Basically, after exceeding the capacity upon insert, we need to evict the LRU cache entry.\n",
    "\n",
    "To erase the LRU item, we just need to pop the first item in the list. Updating items to most recently used with an ordered dict just means removing the item in the dict, and then adding it to the end.\n"
   ]
  },
  {
   "cell_type": "code",
   "execution_count": 1,
   "metadata": {},
   "outputs": [
    {
     "data": {
      "text/plain": [
       "10"
      ]
     },
     "execution_count": 1,
     "metadata": {},
     "output_type": "execute_result"
    }
   ],
   "source": [
    "import collections\n",
    "\n",
    "class LRUCache:\n",
    "    def __init__(self, capacity):\n",
    "        self.isbn_map = collections.OrderedDict()\n",
    "        self.capacity = capacity\n",
    "\n",
    "    def insert(self, isbn, price):\n",
    "        # If already exists, pop price, and make most recently used\n",
    "        if self.isbn_map.get(isbn, 0):\n",
    "            price = self.isbn_map.pop(isbn)\n",
    "        # Evict if at capacity of cache, dont need to do this if only replacing existing isbn\n",
    "        elif len(self.isbn_map) == self.capacity:\n",
    "            self.isbn_map.popitem(last=False)\n",
    "\n",
    "        self.isbn_map[isbn] = price\n",
    "\n",
    "    def lookup(self, isbn):\n",
    "        # Re add if it exists to make it most recently used\n",
    "        if self.isbn_map.get(isbn, 0):\n",
    "            price = self.isbn_map.pop(isbn)\n",
    "            self.isbn_map[isbn] = price\n",
    "            return price\n",
    "        return -1\n",
    "    def erase(self, isbn):\n",
    "        return self.isbn_map.pop(isbn, None) is not None\n",
    "\n",
    "lru_cache = LRUCache(6)\n",
    "lru_cache.insert('isbn1', 10)\n",
    "lru_cache.lookup('isbn1')\n"
   ]
  }
 ],
 "metadata": {
  "interpreter": {
   "hash": "916dbcbb3f70747c44a77c7bcd40155683ae19c65e1c03b4aa3499c5328201f1"
  },
  "kernelspec": {
   "display_name": "Python 3.8.10 64-bit",
   "language": "python",
   "name": "python3"
  },
  "language_info": {
   "codemirror_mode": {
    "name": "ipython",
    "version": 3
   },
   "file_extension": ".py",
   "mimetype": "text/x-python",
   "name": "python",
   "nbconvert_exporter": "python",
   "pygments_lexer": "ipython3",
   "version": "3.8.10"
  },
  "orig_nbformat": 4
 },
 "nbformat": 4,
 "nbformat_minor": 2
}
