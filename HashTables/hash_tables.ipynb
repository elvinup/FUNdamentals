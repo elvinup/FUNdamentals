{
 "cells": [
  {
   "cell_type": "markdown",
   "metadata": {},
   "source": [
    "# Hash Tables\n",
    "\n",
    "## When to use them\n",
    "\n",
    "- Storing a set of strings/numbers\n",
    "- When you want O(1) performance for\n",
    "  - Lookups\n",
    "  - Insertions (Can actually be O(n) if the hash table must be resized)\n",
    "  - Deletions\n",
    "\n",
    "## Efficiency Tips\n",
    "Looking up if a key is in a dict?\n",
    "\n",
    "`if key in dict` is what you should use!\n",
    "\n",
    "The `in` operation on a dict, or the dict_keys object you get back from calling keys() on it (in 3.x), is not O(N), it's O(1)!\n",
    "\n",
    "No need to use .get() in an if statement\n",
    "\n",
    "## Anagrams Example\n",
    "\n",
    "Using the collections class we can avoid KeyErrors by setting each key we add to have a default value. In this case, an empty list"
   ]
  },
  {
   "cell_type": "code",
   "execution_count": 11,
   "metadata": {},
   "outputs": [
    {
     "name": "stdout",
     "output_type": "stream",
     "text": [
      "dict_keys(['abcddeirt', 'eilsv', 'eilnst', 'deefmor', 'emnoy'])\n",
      "[['debitcard', 'badcredit'], ['elvis', 'lives', 'levis'], ['silent', 'listen']]\n"
     ]
    }
   ],
   "source": [
    "anagrams = ['debitcard', 'elvis', 'silent', 'badcredit', 'lives', 'freedom', 'listen', 'levis', 'money']\n",
    "\n",
    "import collections\n",
    "\n",
    "def find_anagrams(anagram_list):\n",
    "    sorted_string_to_anagrams = collections.defaultdict(list)\n",
    "    for s in anagram_list:\n",
    "        # We have to use sorted() to sort the specific chars in the string\n",
    "        # Results in a string list that we must convert with join in order to use it as a key for the dictionary\n",
    "        sorted_string_to_anagrams[''.join(sorted(s))].append(s)\n",
    "    \n",
    "    print(sorted_string_to_anagrams.keys())\n",
    "    return [group for group in sorted_string_to_anagrams.values() if len(group) > 1]\n",
    "\n",
    "print(find_anagrams(anagrams))\n"
   ]
  },
  {
   "cell_type": "markdown",
   "metadata": {},
   "source": [
    "## Hash Table Libraries\n",
    "\n",
    "- dict\n",
    "- set (only keys, no values)\n",
    "- collections.defaultdict\n",
    "- collections.Counter\n",
    "- collections.OrderedDict\n",
    "\n",
    "\n",
    "### collections.Counter \n",
    "\n",
    "collections.Counter can be used to count number of occurences of keys conveniently. Example below"
   ]
  },
  {
   "cell_type": "code",
   "execution_count": 12,
   "metadata": {},
   "outputs": [
    {
     "name": "stdout",
     "output_type": "stream",
     "text": [
      "Counter({'a': 4, 'b': 3})\n",
      "Counter({'a': 2})\n",
      "Counter({'a': 1, 'b': 1})\n",
      "Counter({'a': 3, 'b': 2})\n"
     ]
    }
   ],
   "source": [
    "import collections\n",
    "\n",
    "c = collections.Counter(a=3, b=1)\n",
    "d = collections.Counter(a=1, b=2)\n",
    "\n",
    "# Adds 2 counters together\n",
    "print(c + d)\n",
    "\n",
    "# Subtract them, keeps only the positive counts\n",
    "print(c - d)\n",
    "\n",
    "# Intersection (min(c[x], d[x]))\n",
    "print(c & d)\n",
    "\n",
    "# Union (max(c[x], d[x]))\n",
    "print(c | d)"
   ]
  },
  {
   "cell_type": "markdown",
   "metadata": {},
   "source": [
    "### Set\n",
    "\n",
    "Sets have these important operations\n",
    "\n",
    "- s.add(42)\n",
    "- s.remove(42)\n",
    "- s.discard(123)"
   ]
  },
  {
   "cell_type": "code",
   "execution_count": 22,
   "metadata": {},
   "outputs": [
    {
     "name": "stdout",
     "output_type": "stream",
     "text": [
      "{1, 2, 3, 42} {3, 5}\n",
      "False\n",
      "{1, 2, 42}\n"
     ]
    }
   ],
   "source": [
    "s = set([1, 2, 3])\n",
    "t = set([3, 4, 5])\n",
    "\n",
    "\n",
    "s.add(42)\n",
    "t.remove(4)\n",
    "\n",
    "# Discard is the same as remove, but doesnt error if value doesnt exist\n",
    "s.discard(100)\n",
    "\n",
    "print(s, t)\n",
    "\n",
    "# Says s is a subset of t\n",
    "print(s <= t)\n",
    "\n",
    "# Elements in s that arent in t\n",
    "print(s - t)\n",
    "\n"
   ]
  },
  {
   "cell_type": "markdown",
   "metadata": {},
   "source": [
    "### Hash Table functions\n",
    "\n",
    "- items() iterates over key-value pairs\n",
    "- keys() iterates over keys\n",
    "- values() iterates over values\n",
    "\n",
    "Note: Mutable types like lists cannot be set as keys. This is to deter change the key after adding it so lookup wont fail later"
   ]
  },
  {
   "cell_type": "code",
   "execution_count": 31,
   "metadata": {},
   "outputs": [
    {
     "name": "stdout",
     "output_type": "stream",
     "text": [
      "dict_items([('a', 1), ('b', 2), ('c', 3)])\n",
      "a 1\n",
      "b 2\n",
      "c 3\n",
      "dict_keys(['a', 'b', 'c'])\n",
      "dict_values([1, 2, 3])\n"
     ]
    }
   ],
   "source": [
    "somedict = {'a': 1, 'b': 2, 'c': 3}\n",
    "\n",
    "print(somedict.items())\n",
    "\n",
    "# How to access them\n",
    "for item in somedict.items():\n",
    "    print(item[0], item[1])\n",
    "\n",
    "print(somedict.keys())\n",
    "print(somedict.values())"
   ]
  },
  {
   "cell_type": "markdown",
   "metadata": {},
   "source": [
    "### OrderedDict\n",
    "\n",
    "OrderedDict is useful when you want to simulate have a dictionary that keeps items in order from when you inserted them.\n",
    "\n",
    "This acts like a queue, but with fast lookup and pop times.\n",
    "\n",
    "pop(key) is especially useful if you're trying to remove a key in middle of the data structure quickly. (LRU Cache problem)\n",
    "\n",
    "Tip! Use `pop(key, None)` to ensure you get None as default if the key doesn't exist and won't error out\n",
    "\n",
    "popitem methods\n",
    "- popitem() pops the last element\n",
    "- popitem(last = False) pops the first element\n"
   ]
  },
  {
   "cell_type": "code",
   "execution_count": 41,
   "metadata": {},
   "outputs": [
    {
     "name": "stdout",
     "output_type": "stream",
     "text": [
      "OrderedDict([('b', 2), ('a', 1), ('d', 4), ('c', 3)])\n",
      "None\n",
      "OrderedDict([('b', 2), ('d', 4), ('c', 3)])\n",
      "3\n"
     ]
    },
    {
     "data": {
      "text/plain": [
       "('b', 2)"
      ]
     },
     "execution_count": 41,
     "metadata": {},
     "output_type": "execute_result"
    }
   ],
   "source": [
    "import collections\n",
    "\n",
    "ordered_dict = collections.OrderedDict()\n",
    "\n",
    "ordered_dict['b'] = 2\n",
    "ordered_dict['a'] = 1\n",
    "ordered_dict['d'] = 4\n",
    "ordered_dict['c'] = 3\n",
    "\n",
    "print(ordered_dict)\n",
    "\n",
    "ordered_dict.pop('a')\n",
    "\n",
    "# This shouldn't exist, using None to handle potential error\n",
    "print(ordered_dict.pop('f', None))\n",
    "\n",
    "# Aftermath of popping a\n",
    "print(ordered_dict)\n",
    "\n",
    "# Showing what happens when trying to pop the last item in the queue aka first item in the dict\n",
    "ordered_dict.popitem(last=False)"
   ]
  },
  {
   "cell_type": "code",
   "execution_count": 45,
   "metadata": {},
   "outputs": [
    {
     "name": "stdout",
     "output_type": "stream",
     "text": [
      "yo\n"
     ]
    }
   ],
   "source": [
    "hmap = {'1':1, '2':2}\n",
    "\n",
    "if not hmap.get('3'):\n",
    "    print('yo')"
   ]
  }
 ],
 "metadata": {
  "interpreter": {
   "hash": "916dbcbb3f70747c44a77c7bcd40155683ae19c65e1c03b4aa3499c5328201f1"
  },
  "kernelspec": {
   "display_name": "Python 3.8.10 64-bit",
   "language": "python",
   "name": "python3"
  },
  "language_info": {
   "codemirror_mode": {
    "name": "ipython",
    "version": 3
   },
   "file_extension": ".py",
   "mimetype": "text/x-python",
   "name": "python",
   "nbconvert_exporter": "python",
   "pygments_lexer": "ipython3",
   "version": "3.8.10 (default, Nov 14 2022, 12:59:47) \n[GCC 9.4.0]"
  },
  "orig_nbformat": 4
 },
 "nbformat": 4,
 "nbformat_minor": 2
}
