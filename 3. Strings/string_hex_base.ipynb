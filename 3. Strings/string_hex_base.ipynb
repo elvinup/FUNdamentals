{
 "cells": [
  {
   "cell_type": "markdown",
   "source": [
    "# Slick Base Conversions\n",
    "\n",
    "## 6.2 Takeaway\n",
    "\n",
    "The string.hexdigits library is a good reference for hexdigits if you forget later"
   ],
   "metadata": {}
  },
  {
   "cell_type": "code",
   "execution_count": 13,
   "source": [
    "import string\n",
    "\n",
    "hex_letters = ['9', 'a', 'b', 'c', 'd', 'e', 'f']\n",
    "for letter in hex_letters:\n",
    "    print(string.hexdigits.index(letter))"
   ],
   "outputs": [
    {
     "output_type": "stream",
     "name": "stdout",
     "text": [
      "9\n",
      "10\n",
      "11\n",
      "12\n",
      "13\n",
      "14\n",
      "15\n"
     ]
    }
   ],
   "metadata": {}
  },
  {
   "cell_type": "code",
   "execution_count": 11,
   "source": [
    "ex_list = [6, 1, 5, 12]\n",
    "\n",
    "for num in ex_list:\n",
    "    print(string.hexdigits[num])"
   ],
   "outputs": [
    {
     "output_type": "stream",
     "name": "stdout",
     "text": [
      "6\n",
      "1\n",
      "5\n",
      "c\n"
     ]
    }
   ],
   "metadata": {}
  },
  {
   "cell_type": "code",
   "execution_count": 9,
   "source": [
    "# The full string\n",
    "print(string.hexdigits)"
   ],
   "outputs": [
    {
     "output_type": "stream",
     "name": "stdout",
     "text": [
      "0123456789abcdefABCDEF\n"
     ]
    }
   ],
   "metadata": {}
  }
 ],
 "metadata": {
  "orig_nbformat": 4,
  "language_info": {
   "name": "python",
   "version": "3.8.10",
   "mimetype": "text/x-python",
   "codemirror_mode": {
    "name": "ipython",
    "version": 3
   },
   "pygments_lexer": "ipython3",
   "nbconvert_exporter": "python",
   "file_extension": ".py"
  },
  "kernelspec": {
   "name": "python3",
   "display_name": "Python 3.8.10 64-bit"
  },
  "interpreter": {
   "hash": "916dbcbb3f70747c44a77c7bcd40155683ae19c65e1c03b4aa3499c5328201f1"
  }
 },
 "nbformat": 4,
 "nbformat_minor": 2
}