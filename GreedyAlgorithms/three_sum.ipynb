{
 "cells": [
  {
   "cell_type": "markdown",
   "metadata": {},
   "source": [
    "# 17.4 Takeaway - Three Sum\n",
    "\n",
    "The three sum problem is simply having an array and a determining if three values add up it.\n",
    "\n",
    "## Example \n",
    "array = [11, 2, 5, 7, 3]\n",
    "value = 21\n",
    "\n",
    "Answer:\n",
    "Yes,\n",
    "\n",
    "both [3, 7, 11]\n",
    "and  [5, 5, 11] (duplicates allowed)\n",
    "add up to 21\n",
    "\n",
    "## Brainstorming\n",
    "\n",
    "What we can do is simply grab a number, starting with a sorted list, and then compute the two_sum(Array, value - number) at every iteration of the array.\n",
    "\n",
    "However, we still need an optimal **two_sum** function, so let’s solve that.\n",
    "\n",
    "The brute force for finding 2 numbers that add up is O(n^2). If we go with this, our final runtime of threesum will end up O(n^3) or O(n * n^2)\n",
    "\n",
    "Normally, I’d just go for using a hashmap to simply do it in O(n) time and O(n) space. This would be ideal if we were only dealing with 2 sum, and not a 3sum problem upstream. \n",
    "\n",
    "However, doing this will incur O(n^2) anyways, because we’ll be calling the 2sum method at every iteration of the array in 3sum(). Because of this, we should make use of sorting O(nlogn) in the beginning of the 3sum problem since it won’t affect the runtime asymptotically.\n",
    "\n",
    "Doing this, we have the ability to toss out the usage of the hashmap, and therefore reducing space to O(1). \n",
    "\n",
    "We can do this because now twoSum is working with a sorted array at every iteration. To visualize this, let’s look at it this way.\n",
    "\n",
    "## Visual Example of 2 Sum\n",
    "\n",
    "(Two Sum Logic)\n",
    "\n",
    "array = [11, 2, 5, 7, 3]\n",
    "\n",
    "sorted_array = [2, 3, 5, 7, 11]\n",
    "\n",
    "(Downstream value)\n",
    "\n",
    "value = 18 \n",
    "\n",
    "i = start of array, j = end of array\n",
    "\n",
    "i               j\n",
    "\n",
    "[2, 3, 5, 7, 11]\n",
    "\n",
    "if i + j < value, 2 + 11 = 13. 13 < 18\n",
    "\n",
    "we should bump up i to get higher and closer to the value.\n",
    "\n",
    "So i += 1\n",
    "\n",
    "If i + j > value, we should reduce j so that we get lower and closer to the value.\n",
    "\n",
    "Stop when i >= j and return False if answer not found\n"
   ]
  },
  {
   "cell_type": "code",
   "execution_count": 5,
   "metadata": {},
   "outputs": [
    {
     "data": {
      "text/plain": [
       "True"
      ]
     },
     "execution_count": 5,
     "metadata": {},
     "output_type": "execute_result"
    }
   ],
   "source": [
    "\n",
    "def has_three_sum(A, t):\n",
    "    A.sort() # Makes this at least O(n log n)\n",
    "    for num in A:\n",
    "        if has_two_sum(A, (t - num)):\n",
    "            return True\n",
    "    return False\n",
    "\n",
    "# Array is sorted\n",
    "def has_two_sum(A, t):\n",
    "    i, j = 0, len(A) - 1\n",
    "    while i <= j:\n",
    "        if A[i] + A[j] < t:\n",
    "            i += 1\n",
    "        elif A[i] + A[j] > t:\n",
    "            j -= 1\n",
    "        elif A[i] + A[j] == t:\n",
    "            return True\n",
    "    return False\n",
    "\n",
    "array = [11, 2, 5, 7, 3]\n",
    "value = 21\n",
    "has_three_sum(array, value) # True, Ex: [3, 7, 11]\n"
   ]
  },
  {
   "cell_type": "markdown",
   "metadata": {},
   "source": [
    "## Analysis\n",
    "\n",
    "Sorting incurs O(nlogn)\n",
    "\n",
    "But this doesn't matter since we are calling two_sum n times. Two_sum has a runtime of O(n) *n = O(n^2)\n",
    "\n",
    "So our final runtime is O(n^2), overshadowing the sorting O(nlogn)\n",
    "\n",
    "No extra space is used since we ditched the hashmap, so simply O(1) space."
   ]
  }
 ],
 "metadata": {
  "kernelspec": {
   "display_name": "Python 3.8.10 64-bit",
   "language": "python",
   "name": "python3"
  },
  "language_info": {
   "codemirror_mode": {
    "name": "ipython",
    "version": 3
   },
   "file_extension": ".py",
   "mimetype": "text/x-python",
   "name": "python",
   "nbconvert_exporter": "python",
   "pygments_lexer": "ipython3",
   "version": "3.8.10 (default, Nov 14 2022, 12:59:47) \n[GCC 9.4.0]"
  },
  "orig_nbformat": 4,
  "vscode": {
   "interpreter": {
    "hash": "916dbcbb3f70747c44a77c7bcd40155683ae19c65e1c03b4aa3499c5328201f1"
   }
  }
 },
 "nbformat": 4,
 "nbformat_minor": 2
}
