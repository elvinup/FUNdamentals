{
 "cells": [
  {
   "attachments": {},
   "cell_type": "markdown",
   "metadata": {},
   "source": [
    "# 17.8 Takeaway - Largest Rectangle Under Skyline\n",
    "\n",
    "You are given a an array of heights, representing rectangles on a graph, and you need to calculate the largest rectangle that fits under the skyline like below\n",
    "\n",
    "![](../%20images/rectangle_skyline_example.png)\n",
    "\n",
    "\n",
    "The answer here is 6, since the largest rectangle has a width of 3 and a height of 2."
   ]
  },
  {
   "attachments": {},
   "cell_type": "markdown",
   "metadata": {},
   "source": [
    "## What got me hung up\n",
    "\n",
    "This problem is very tricky, and may just require some practice. \n",
    "\n",
    "I knew pretty early on that the main issue that caps the maximum area is the smaller rectangle in a group of rectangles. With this in mind, it's important to not that the lowest rectangle's height (as you are iterating through the heights array) only stays relevant as a potential maximum area until we run into a rectangle that is less than it. \n",
    "\n",
    "We want to keep track of these heights as the heights get bigger before we start doing lookbacks. The moment we start going less than the previous height, we want to remove the last height we kept track of. This gives the impression that a stack is the best data structure to help handle this logic. When that happens, then we take the height of the previously tracked height, and multiply it by \n",
    "\n",
    "```\n",
    "width = current_index - last_index - 1 (to exclude the current bar). \n",
    "```\n",
    "\n",
    "If there's nothing in the stack, then we can assume that the current_index is the width of the whole rectangle area we're calculating. Remember, the last item in the stack represents the last place where a smaller building is behind your current building. If there's nothing there, there's no smaller buildings capping your width.\n",
    "\n",
    "Then just do `max(height x width, old_max)` to get the maximum area.\n",
    "\n",
    "From here, we can move on from anything related to the last bar.\n",
    "\n",
    "I kept going down different rabbit holes trying to decide if i should store both the height and the index in the stack as a tuple object. But this complicated things as I could just store the index and put that index in the heights array to get the height whenever I needed it.\n"
   ]
  },
  {
   "cell_type": "code",
   "execution_count": 1,
   "metadata": {},
   "outputs": [
    {
     "name": "stdout",
     "output_type": "stream",
     "text": [
      "6\n"
     ]
    }
   ],
   "source": [
    "def calculate_largest_rectangle(heights):\n",
    "    # stack of indexes\n",
    "    stack = []\n",
    "    max_area = 0\n",
    "\n",
    "    for i, h in enumerate(heights + [0]):\n",
    "\n",
    "        while len(stack) > 0 and heights[stack[-1]] >= h:\n",
    "            height = heights[stack.pop()]\n",
    "            width = i if not stack else i - stack[-1] - 1\n",
    "            area = height * width\n",
    "            max_area = max(max_area, area)\n",
    "\n",
    "        stack.append(i)\n",
    "\n",
    "\n",
    "    return max_area\n",
    "\n",
    "# Our example\n",
    "print(calculate_largest_rectangle([1, 3, 2, 3]))\n"
   ]
  },
  {
   "attachments": {},
   "cell_type": "markdown",
   "metadata": {},
   "source": [
    "## The neat trick\n",
    "\n",
    "As seen above, the slickest trick is adding the [0] at the end of the heights array that we are iterating.\n",
    "\n",
    "This is so that the height of 0, will be compared to any buildings leftover in the stack at the end, until the stack is empty. That allows us to cover all our bases and be fully sure of what the maximum area is.\n",
    "\n",
    "\n",
    "Also the use of enumerate made distinguishing between height and index much cleaner. Definitely should take advantage of that."
   ]
  },
  {
   "attachments": {},
   "cell_type": "markdown",
   "metadata": {},
   "source": [
    "## Analysis\n",
    "\n",
    "Time: O(n) since we just iterate through the array once\n",
    "\n",
    "Space: O(n) with the use of the stack which can be as high as the amount of elements of available"
   ]
  }
 ],
 "metadata": {
  "kernelspec": {
   "display_name": "Python 3.8.10 64-bit",
   "language": "python",
   "name": "python3"
  },
  "language_info": {
   "codemirror_mode": {
    "name": "ipython",
    "version": 3
   },
   "file_extension": ".py",
   "mimetype": "text/x-python",
   "name": "python",
   "nbconvert_exporter": "python",
   "pygments_lexer": "ipython3",
   "version": "3.8.10 (default, Nov 14 2022, 12:59:47) \n[GCC 9.4.0]"
  },
  "orig_nbformat": 4,
  "vscode": {
   "interpreter": {
    "hash": "916dbcbb3f70747c44a77c7bcd40155683ae19c65e1c03b4aa3499c5328201f1"
   }
  }
 },
 "nbformat": 4,
 "nbformat_minor": 2
}
