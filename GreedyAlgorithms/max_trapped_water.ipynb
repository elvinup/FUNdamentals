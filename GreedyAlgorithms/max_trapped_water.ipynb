{
 "cells": [
  {
   "cell_type": "markdown",
   "metadata": {},
   "source": [
    "# 17.7 Takeaway - Max Trapped Water\n",
    "\n",
    "Given an array of heights, each of which represents a vertical line on a graph, find the point at which the maximum amount of water can be stored. \n",
    "\n",
    "\n",
    "## Visual\n",
    "\n",
    "In this graph, the filled gap is the maximum amount of water trapped between two lines.\n",
    "\n",
    "![](../%20images/max_trapped_water_ex.png)"
   ]
  },
  {
   "cell_type": "markdown",
   "metadata": {},
   "source": [
    "## Brainstorming\n",
    "\n",
    "Looking at the graph, it is apparent that we could easily do this in O(n^2) by checking each pair of lines to see which one has the highest volume of water (doing length x width)\n",
    "\n",
    "The easier way to do this, however, is to simply have 2 pointers.\n",
    "\n",
    "Have i = 0, j = len(array)-1, so essentially 2 pointers on each side of the graph. Have them go inwards one iteration at a time.\n",
    "\n",
    "## Key Observations\n",
    "\n",
    "Observations:\n",
    "- The maximum amount of water capacity is bottlenecked only by the side with the smaller height.\n",
    "  - This means we need to update the highest height (on both sides) we’ve seen so far as the two pointers get closer to each other.\n",
    "- We need to sacrifice width every time we move a pointer. With this in mind, it makes sense to move a pointer if it hasn’t found a height bigger than the other pointer yet. In other words, only the smaller pointer should be moving in hopes to find a bigger height.\n",
    "- The formula to calculate height will be (j-i) * min(max_i, max_j) because the smaller one will dictate how much water can be trapped.\n",
    "\n",
    "## Implementation\n"
   ]
  },
  {
   "cell_type": "code",
   "execution_count": 1,
   "metadata": {},
   "outputs": [],
   "source": [
    "def get_max_trapped_water(heights):\n",
    "    i, j = 0, len(heights)-1\n",
    "    max_i = 0\n",
    "    max_j = 0\n",
    "    max_water = 0\n",
    "\n",
    "    while i < j:\n",
    "            max_i = max(heights[i], max_i)\n",
    "            max_j = max(heights[j], max_j)\n",
    "\n",
    "            water = (j - i) * min(max_i, max_j)\n",
    "            max_water = max(max_water, water)\n",
    "\n",
    "            if heights[i] <= heights[j]:\n",
    "                    i += 1\n",
    "            elif heights[j] <= heights[i]:\n",
    "                    j -= 1\n",
    "    return max_water"
   ]
  },
  {
   "cell_type": "markdown",
   "metadata": {},
   "source": [
    "## Analysis\n",
    "\n",
    "O(n) time to do one pass through the array\n",
    "\n",
    "O(1) space "
   ]
  }
 ],
 "metadata": {
  "kernelspec": {
   "display_name": "Python 3.8.10 64-bit",
   "language": "python",
   "name": "python3"
  },
  "language_info": {
   "codemirror_mode": {
    "name": "ipython",
    "version": 3
   },
   "file_extension": ".py",
   "mimetype": "text/x-python",
   "name": "python",
   "nbconvert_exporter": "python",
   "pygments_lexer": "ipython3",
   "version": "3.8.10"
  },
  "orig_nbformat": 4,
  "vscode": {
   "interpreter": {
    "hash": "916dbcbb3f70747c44a77c7bcd40155683ae19c65e1c03b4aa3499c5328201f1"
   }
  }
 },
 "nbformat": 4,
 "nbformat_minor": 2
}
