{
 "cells": [
  {
   "cell_type": "markdown",
   "metadata": {},
   "source": [
    "# Greedy Algorithms\n",
    "\n",
    "The essence of greedy algorithms are to choose the optimal solution at every iteration.\n",
    "\n",
    "Once a greedy decision is made, this decision does not change later on.\n",
    "\n",
    "## Tips\n",
    "\n",
    "- Greedy is usually the right choice for an **optimization** problem when there's a natural set of choices to select from.\n",
    "- Usually easier to think greedy recursively, but then implement iteratively for performance\n",
    "- Even if not the optimum solution, can give insights to the optimum solution\n",
    "- Won't always be obvious\n",
    "- Usually **sorting** input can make an answer go from O(n^2+) down to O(nlogn)\n",
    "- As you're brainstorming ideas, if you have a theory, make sure you attempt to disprove that theory with a different testcase\n",
    "- Sometimes if you decide to go with a greedy approach (like justifying sorting as optimal etc), you may need to prove why being greedy is optimal. [Like in this video example](https://youtu.be/bC7o8P_Ste4?t=4860)\n",
    "- If asked to go to a crazy O(1) optimal solution, start to think in terms of bits"
   ]
  },
  {
   "cell_type": "markdown",
   "metadata": {},
   "source": [
    "## Simple Greedy Algorithm Example\n",
    "\n",
    "Let's say with U.S. Coins, we want to select the minimum coins needed to = n cents. The greedy solution is to start with the biggest coin values that will fit, given the nature of US Coins which make this greedy solution optimal in every case, but no so much in other currencies."
   ]
  },
  {
   "cell_type": "code",
   "execution_count": 2,
   "metadata": {},
   "outputs": [
    {
     "name": "stdout",
     "output_type": "stream",
     "text": [
      "5\n"
     ]
    }
   ],
   "source": [
    "def change_making(cents):\n",
    "    coins = [100, 50, 25, 10, 5, 1]\n",
    "    num_coins = 0\n",
    "    for coin in coins:\n",
    "        num_coins += cents // coin\n",
    "        cents %= coin\n",
    "    return num_coins\n",
    "\n",
    "print(change_making(157))"
   ]
  }
 ],
 "metadata": {
  "kernelspec": {
   "display_name": "Python 3.8.10 64-bit",
   "language": "python",
   "name": "python3"
  },
  "language_info": {
   "codemirror_mode": {
    "name": "ipython",
    "version": 3
   },
   "file_extension": ".py",
   "mimetype": "text/x-python",
   "name": "python",
   "nbconvert_exporter": "python",
   "pygments_lexer": "ipython3",
   "version": "3.8.10"
  },
  "orig_nbformat": 4,
  "vscode": {
   "interpreter": {
    "hash": "916dbcbb3f70747c44a77c7bcd40155683ae19c65e1c03b4aa3499c5328201f1"
   }
  }
 },
 "nbformat": 4,
 "nbformat_minor": 2
}
