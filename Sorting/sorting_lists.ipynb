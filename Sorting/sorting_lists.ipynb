{
 "cells": [
  {
   "cell_type": "markdown",
   "metadata": {},
   "source": [
    "# 13.11 Takeaway \n",
    "\n",
    "This question simply asks to make a fast sorting algorithm for *lists*. When a problem mentions lists, do not think about an array or simple lists as they normally appear in Python. Rather, this question is more literally asking how to sort a *linked list* efficiently and doing it in a stable fashion.\n",
    "\n",
    "So there's 2 main problem points:\n",
    "\n",
    "- Only need to consider quick sort and merge sort since they're the two best sorting algos. It needs to be stable, so can't just go to quick sort. We need to use merge sort since it's stable.\n",
    "- The nature of this problem is interesting. It's generic and asks to make a sorting algorithm, BUT we need to use the fact that it's asking how to sort a linked list as a clue that there's some difference between sorting an array and a linked list. In other words, is there a way to take advantage of the fact that this is a linked list rather than an array?\n",
    "\n",
    "\n",
    "To answer these 3 points, essentially we need to stick to merge sort since it's stable with arrays. To take advantage of the fact we're using linked lists, it's important to realize that using merge sort on arrays uses a space time complexity of O(n) because we copy over 2 sorted lists into a new array each time. \n",
    "\n",
    "### The advantage of Linked Lists with Merge Sort\n",
    "\n",
    "With linked lists, we can skip the allocation to a new array during the merge of merge sort, by simply moving next pointers between two sorted linked lists in one iteration, essentially using no space! We'll still be doing log(n) calls with the recursion stack though, so our new space would be O(logN), which is an improvement and meets all our criteria!\n",
    "\n",
    "## Brainstorming\n",
    "\n",
    "We need to approach this problem like merge sort, but for linked lists. To do this, we need to refer back to how merge sort works.\n",
    "\n",
    "### Splitting the lists in half\n",
    "\n",
    "Start by creating a way to split the linked list in half.\n",
    "\n",
    "We can use a slow and fast pointer to find the middle of the linkedlist to separate the 2 sublists.\n",
    "\n",
    "To make the algorithm faster that will likely work for all cases, it's better to start with just the example of 2 nodes, as explained in the comments below. This will show that having a prev_slow pointer is essential to splitting the list, which we'll feed into the recursive merge function."
   ]
  },
  {
   "cell_type": "code",
   "execution_count": null,
   "metadata": {},
   "outputs": [],
   "source": [
    "def stable_sort_list(L):\n",
    "    # Handle in case L is empty, or there's only 1 element. Our recursive base case\n",
    "    if L is None or L.next is None:\n",
    "        return L\n",
    "\n",
    "    slow, fast = L, L\n",
    "\n",
    "    while fast and fast.next:\n",
    "        prev_slow = slow\n",
    "        slow = slow.next\n",
    "        fast = fast.next.next\n",
    "\n",
    "    # Need to take 2 sublists. Need to break the .next between the slow and fast pointers. Use just 2 nodes to make the algo work for all cases\n",
    "    # s,f     s      f\n",
    "    # <1> -> <2> -> None\n",
    "    #\n",
    "    # We need to have a pointer before s, called prev_slow so that we can return everything before slow\n",
    "    if prev_slow:\n",
    "        prev_slow.next = None\n",
    "\n",
    "    # This will be our imaginary function to merge these sublists, which we will implement after!\n",
    "    # L is the beginning of the list, up to prev_slow. Slow is everything after prev_slow, aka our midpoint\n",
    "    return merge_sorted_sublists(stable_sort_list(L), stable_sort_list(slow))"
   ]
  },
  {
   "cell_type": "markdown",
   "metadata": {},
   "source": [
    "### Creating the merge function\n",
    "\n",
    "For creating the merge function, we need to take advantage of the linked list data structure. \n",
    "\n",
    "Let's use head and tail pointers to track this.\n",
    "\n",
    "We should iterate through both, one at a time. When one list is smaller than the other, we point the tail.next to that. then update that list = list.next to keep moving. Also don't forget to update the tail variable itself to get ready for the next iteration!\n",
    "\n",
    "Once we've exhausted through all of one of the lists, we need to simple point to the rest of the other list. To do this easily in 1 line, picking List1 or List2, we just need to say\n",
    "\n",
    "```\n",
    "tail.next = L1 or L2 \n",
    "```\n",
    "\n",
    "This works because it will only pick the list with elements remaining, and not pointing to None.\n",
    "\n",
    "Also, don't just return the head since we set it to an empty list node. START at the first element, not the empty node before it!!! Easy mistake to make."
   ]
  },
  {
   "cell_type": "code",
   "execution_count": null,
   "metadata": {},
   "outputs": [],
   "source": [
    "def merge_sorted_sublists(L1, L2):\n",
    "    head = tail = ListNode()\n",
    "    while L1 and L2:\n",
    "        if L1.data < L2.data:\n",
    "            tail.next = L1\n",
    "            L1 = L1.next\n",
    "        else:\n",
    "            tail.next = L2\n",
    "            L2 = L2.next\n",
    "        \n",
    "        tail = tail.next\n",
    "    \n",
    "    # Point to the remainder\n",
    "    tail.next = L1 or L2\n",
    "    \n",
    "    return head.next"
   ]
  },
  {
   "cell_type": "markdown",
   "metadata": {},
   "source": [
    "## Analysis\n",
    "\n",
    "O(nlogn) runtime, as expected of the best possible merge sorts\n",
    "\n",
    "But!\n",
    "\n",
    "O(log n) is the space complexity due to the recursion stack, which is only log n since we only recurse as many times as we need to halve the list."
   ]
  }
 ],
 "metadata": {
  "language_info": {
   "name": "python"
  },
  "orig_nbformat": 4
 },
 "nbformat": 4,
 "nbformat_minor": 2
}
