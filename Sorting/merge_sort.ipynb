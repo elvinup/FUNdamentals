{
 "cells": [
  {
   "cell_type": "markdown",
   "metadata": {},
   "source": [
    "# Merge Sort\n",
    "\n",
    "## Time Complexities\n",
    "\n",
    "Worst case is O(n log n)\n",
    "\n",
    "Merge sort works better when dealing with linked lists. This is because we don't need O(n) for the merge operation, we just move pointers which is a O(1) operation.\n",
    "\n",
    "Quicksort is probably more effective for datasets that fit in memory. For stuff that's larger, it's *better* to use mergesort because it's guaranteed O(nlogn) vs quick sort's worst case being O(n^2)\n",
    "\n",
    "Merge sort is also better if the dataset values are largely the same, since quick sort relies on the pivot. The pivot will usually be a poor choice leading to unbalanced partitions leading to O(n^2)\n",
    "\n",
    "## Top Down\n",
    "\n",
    "Starting at the top and proceeding downward\n",
    "\n",
    "- Split the array in 2\n",
    "- Make recursive call\n",
    "- merge the results\n",
    "- Recursion base case is when there's only 2 elements to compare at the bottom of the recursion tree\n",
    "\n",
    "When merging, we just need a pointer on each subarray. Since both subarrays have been sorted already, we can compare pointers to each other until reaching the end of both subarrays.\n",
    "\n",
    "## Top Down Algorithm"
   ]
  },
  {
   "cell_type": "code",
   "execution_count": 18,
   "metadata": {},
   "outputs": [
    {
     "name": "stdout",
     "output_type": "stream",
     "text": [
      "[0, 1, 2, 3, 5, 6, 7, 9]\n"
     ]
    }
   ],
   "source": [
    "# Top Down\n",
    "\n",
    "def merge_sort_td(array):\n",
    "    if len(array) > 1:\n",
    "        mid = len(array) // 2\n",
    "        left = array[:mid]\n",
    "        right = array[mid:]\n",
    "\n",
    "        merge_sort_td(left)\n",
    "        merge_sort_td(right)\n",
    "\n",
    "        merge(array, left, right)\n",
    "        \n",
    "def merge(array, left, right):\n",
    "    # 3 iterators\n",
    "    i, j, k = 0, 0, 0\n",
    "\n",
    "    while i < len(left) and j < len(right):\n",
    "        if left[i] <= right[j]:\n",
    "            array[k] = left[i]\n",
    "            i += 1\n",
    "        else:\n",
    "            array[k] = right[j]\n",
    "            j += 1\n",
    "        k += 1\n",
    "\n",
    "    # Finish rest of first subarray if leftovers\n",
    "    while i < len(left):\n",
    "        array[k] = left[i]\n",
    "        i += 1\n",
    "        k += 1\n",
    "    \n",
    "    # Finish rest of second subarray if leftovers\n",
    "    while j < len(right):\n",
    "        array[k] = right[j]\n",
    "        j += 1\n",
    "        k += 1\n",
    "\n",
    "\n",
    "ex_array = [0, 5, 2, 6, 1, 3, 7, 9]\n",
    "merge_sort_td(ex_array)\n",
    "print(ex_array)"
   ]
  },
  {
   "cell_type": "markdown",
   "metadata": {},
   "source": [
    "## Bottom Up\n",
    "\n",
    "This uses an iterative approach.\n",
    "\n",
    "Insteadof using recursion, we compare every 2 elements, the merge them\n",
    "\n",
    "Then every 4 elements just like in our merge algorithm, we merge 2 pairs\n",
    "\n",
    "Then every 8 elems, we merge 2 * len(4) "
   ]
  }
 ],
 "metadata": {
  "interpreter": {
   "hash": "916dbcbb3f70747c44a77c7bcd40155683ae19c65e1c03b4aa3499c5328201f1"
  },
  "kernelspec": {
   "display_name": "Python 3.8.10 64-bit",
   "language": "python",
   "name": "python3"
  },
  "language_info": {
   "codemirror_mode": {
    "name": "ipython",
    "version": 3
   },
   "file_extension": ".py",
   "mimetype": "text/x-python",
   "name": "python",
   "nbconvert_exporter": "python",
   "pygments_lexer": "ipython3",
   "version": "3.8.10"
  },
  "orig_nbformat": 4
 },
 "nbformat": 4,
 "nbformat_minor": 2
}
