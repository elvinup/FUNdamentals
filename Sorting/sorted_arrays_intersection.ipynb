{
 "cells": [
  {
   "cell_type": "markdown",
   "metadata": {},
   "source": [
    "# 13.1 Takeaway - Getting the intersection of 2 sorted arrays\n",
    "\n",
    "We need to simply get the unique common elements from 2 input arrays, and return them as a separate array.\n",
    "\n",
    "## Example:\n",
    "\n",
    "input arrays = \n",
    "[2, 3, 3, 5, 5, 6, 7, 7, 8 , 12] and\n",
    "[5, 5, 6, 8, 8 , 9, 10, 10]\n",
    "\n",
    "output = [5, 6, 8]\n",
    "\n",
    "## What I missed when first doing this\n",
    "\n",
    "I didn't necessarily do anything wrong and actually jumped to the optimized solution of taking advantage of the fact both arrays are sorted.\n",
    "\n",
    "However, it didn't even cross my mind to use binary search since these arrays were sorted! Binary search to find each common element would result in \n",
    "mlog(n) or nlog(m) depending on which array you pick first. Even though this isn't the optimal solution, it is important to remember to keep binary search in your arsenal when dealing with sorted elements!!\n",
    "\n",
    "The actual solution was something I unnecessarily complicated. What stumped me was making sure not to add duplicates. A really easy trick is to check if we are at i = 0. If so add the element anyways. The other condition is to check if the previous element is equivalent to the current one. This isn't risky if we use this as the 2nd part of the *or* condition.\n",
    "\n",
    "Shown as below\n",
    "\n",
    "## Algorithm"
   ]
  },
  {
   "cell_type": "code",
   "execution_count": 2,
   "metadata": {},
   "outputs": [
    {
     "name": "stdout",
     "output_type": "stream",
     "text": [
      "[5, 6, 8]\n"
     ]
    }
   ],
   "source": [
    "def intersect_two_sorted_arrays(A, B):\n",
    "    i, j, result = 0, 0, []\n",
    "    while i < len(A) and j < len(B):\n",
    "        if A[i] == B[j]:\n",
    "            # This is a neat way to add if none, or don't add if already seen before (avoiding duplicate entries). Don't overthink it!\n",
    "            if i == 0 or A[i] != A[i-1]:\n",
    "                result.append(A[i])\n",
    "            i, j = i+1, j+1\n",
    "        elif A[i] < B[j]:\n",
    "            i += 1\n",
    "        else:\n",
    "            j += 1\n",
    "    return result\n",
    "\n",
    "A = [2, 3, 3, 5, 5, 6, 7, 7, 8 , 12] \n",
    "B = [5, 5, 6, 8, 8 , 9, 10, 10]\n",
    "\n",
    "print(intersect_two_sorted_arrays(A, B))"
   ]
  },
  {
   "cell_type": "markdown",
   "metadata": {},
   "source": [
    "# Analysis\n",
    "\n",
    "Time: O(n + m)\n",
    "Space: O(1), no extra space used"
   ]
  }
 ],
 "metadata": {
  "interpreter": {
   "hash": "916dbcbb3f70747c44a77c7bcd40155683ae19c65e1c03b4aa3499c5328201f1"
  },
  "kernelspec": {
   "display_name": "Python 3.8.10 64-bit",
   "language": "python",
   "name": "python3"
  },
  "language_info": {
   "codemirror_mode": {
    "name": "ipython",
    "version": 3
   },
   "file_extension": ".py",
   "mimetype": "text/x-python",
   "name": "python",
   "nbconvert_exporter": "python",
   "pygments_lexer": "ipython3",
   "version": "3.8.10"
  },
  "orig_nbformat": 4
 },
 "nbformat": 4,
 "nbformat_minor": 2
}
