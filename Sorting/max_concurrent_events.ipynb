{
 "cells": [
  {
   "cell_type": "markdown",
   "metadata": {},
   "source": [
    "# 13.6 Takeaway - Max Concurrent Events\n",
    "\n",
    "This problem asks, given an input of events, what the maximum concurrent events on a calendar is.\n",
    "\n",
    "## Example:\n",
    "\n",
    "Event = (start, finish)\n",
    "\n",
    "array = [(1, 5), (2, 7), (4, 5), (6, 10), (8, 9), (9, 17), (11, 13), (12, 15), (14, 15)]\n",
    "\n",
    "answer = 3\n",
    "\n",
    "## Brainstorming:\n",
    "\n",
    "This is a greedy algorithm. But the trick is that we need to realize when an event is starting and when it's ending.\n",
    "\n",
    "So we need to build a list of endpoints which track if this is a starting time an ending time, and track with a counter as we go along.\n",
    "\n",
    "This will be a O(nlogn), but we'll need to exercise our object sorting skills!\n",
    "\n",
    "## What I missed the first time\n",
    "\n",
    "If we run into ties between starting and ending times, we should break the tie by counting the starting event first! This way we don’t miss a potential maximum when there’s this crossover!!\n",
    "\n",
    "## Figuring out how to sort this info properly\n"
   ]
  },
  {
   "cell_type": "code",
   "execution_count": 10,
   "metadata": {},
   "outputs": [
    {
     "data": {
      "text/plain": [
       "[Endpoint(time=1, is_event_start=True),\n",
       " Endpoint(time=2, is_event_start=True),\n",
       " Endpoint(time=4, is_event_start=True),\n",
       " Endpoint(time=5, is_event_start=False),\n",
       " Endpoint(time=5, is_event_start=False),\n",
       " Endpoint(time=6, is_event_start=True),\n",
       " Endpoint(time=7, is_event_start=False),\n",
       " Endpoint(time=8, is_event_start=True),\n",
       " Endpoint(time=9, is_event_start=True),\n",
       " Endpoint(time=9, is_event_start=False),\n",
       " Endpoint(time=10, is_event_start=False),\n",
       " Endpoint(time=11, is_event_start=True),\n",
       " Endpoint(time=12, is_event_start=True),\n",
       " Endpoint(time=13, is_event_start=False),\n",
       " Endpoint(time=14, is_event_start=True),\n",
       " Endpoint(time=15, is_event_start=False),\n",
       " Endpoint(time=15, is_event_start=False),\n",
       " Endpoint(time=17, is_event_start=False)]"
      ]
     },
     "execution_count": 10,
     "metadata": {},
     "output_type": "execute_result"
    }
   ],
   "source": [
    "import collections\n",
    "\n",
    "# The input given to us are in this format\n",
    "Event = collections.namedtuple('Event', ('start', 'finish'))\n",
    "\n",
    "# We need an endpoint object to track if this is a starting or ending time\n",
    "Endpoint = collections.namedtuple('Endpoint', ('time', 'is_event_start'))\n",
    "\n",
    "\n",
    "array = [Event(1, 5), Event(2, 7), Event(4, 5), Event(6, 10), Event(8, 9), Event(9, 17), Event(11, 13), Event(12, 15), Event(14, 15)]\n",
    "\n",
    "endpoints = [e for event in array for e in [Endpoint(event.start, True), Endpoint(event.finish, False)]]\n",
    "\n",
    "# This breaks the tie between starting and ending times, prioritizing starting times first\n",
    "# We need to say \"not\" because it's going to sort by False then True, or 0 or 1 by default, so we need to say not so it's opposite\n",
    "endpoints.sort(key=lambda e: (e.time, not e.is_event_start))\n",
    "endpoints"
   ]
  },
  {
   "cell_type": "markdown",
   "metadata": {},
   "source": [
    "## Final Algorithm"
   ]
  },
  {
   "cell_type": "code",
   "execution_count": 11,
   "metadata": {},
   "outputs": [
    {
     "name": "stdout",
     "output_type": "stream",
     "text": [
      "3\n"
     ]
    }
   ],
   "source": [
    "import collections\n",
    "\n",
    "# Event is a tuple (start_time, end_time)\n",
    "Event = collections.namedtuple('Event', ('start', 'finish'))\n",
    "\n",
    "# We need an endpoint object to track if this is a starting or ending time\n",
    "Endpoint = collections.namedtuple('Endpoint', ('time', 'is_event_start'))\n",
    "\n",
    "def find_max_simultaneous_events(A):\n",
    "    # Need to build list of endpoints\n",
    "    endpoints = [e for event in A for e in [Endpoint(event.start, True), Endpoint(event.finish, False)]]\n",
    "    endpoints.sort(key=lambda e: (e.time, not e.is_event_start))\n",
    "    curr_events, max_events = 0, 0\n",
    "    for e in endpoints:\n",
    "        if e.is_event_start:\n",
    "            curr_events += 1\n",
    "            max_events = max(max_events, curr_events)\n",
    "        else:\n",
    "            curr_events -= 1\n",
    "\n",
    "    return max_events\n",
    "\n",
    "array = [Event(1, 5), Event(2, 7), Event(4, 5), Event(6, 10), Event(8, 9), Event(9, 17), Event(11, 13), Event(12, 15), Event(14, 15)]\n",
    "print(find_max_simultaneous_events(array))"
   ]
  }
 ],
 "metadata": {
  "interpreter": {
   "hash": "916dbcbb3f70747c44a77c7bcd40155683ae19c65e1c03b4aa3499c5328201f1"
  },
  "kernelspec": {
   "display_name": "Python 3.8.10 64-bit",
   "language": "python",
   "name": "python3"
  },
  "language_info": {
   "codemirror_mode": {
    "name": "ipython",
    "version": 3
   },
   "file_extension": ".py",
   "mimetype": "text/x-python",
   "name": "python",
   "nbconvert_exporter": "python",
   "pygments_lexer": "ipython3",
   "version": "3.8.10"
  },
  "orig_nbformat": 4
 },
 "nbformat": 4,
 "nbformat_minor": 2
}
