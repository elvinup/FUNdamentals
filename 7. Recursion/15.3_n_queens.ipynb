{
 "cells": [
  {
   "cell_type": "markdown",
   "metadata": {},
   "source": [
    "# 15.3 N Queens Takeaway\n",
    "\n",
    "Notoriously difficult problem, but can be made easier with simple recursion techniques. \n",
    "\n",
    "Here's the **key**:\n",
    "\n",
    "- Visualize the problem as a tree\n",
    "- Have the data stored as an array of length n, called **result_list**. \n",
    "  - Each index represents the row (because there will be 1 queen per row)\n",
    "  - Each value in each index represents which column it will be placed on\n",
    "- Can use a set called **result_set** to keep track of columns used so far, and to check if one is already used in O(1) time\n",
    "- Can use a convenience function to check diagonals of your current index.\n",
    "  - The trick for diagonals is to do a few examples. The answer will be clear to just take the absolute value of the rows subtracted from each other, and the columns subtracted from each other. \n",
    "  - Do this for all the rows you've gone through so far. The set can be handy for tracking how far.\n",
    "Recursion is used, HOWEVER, DON'T do the above 2 checks as base cases! Just do it as a check before you decide to make a recursive call, not after! Otherwise you  will get really hairy results.\n",
    "- For the base case, this is where we append our currently found list. Make sure to append a copy of the list, since recursion will cause this list to be overwritten otherwise, and you'll see duplicate values in the end as a result.\n",
    "\n"
   ]
  },
  {
   "cell_type": "markdown",
   "metadata": {},
   "source": [
    "## Visualization\n",
    "\n",
    "![](../%20images/nqueens_brainstorming.png)"
   ]
  },
  {
   "cell_type": "code",
   "execution_count": 4,
   "metadata": {},
   "outputs": [],
   "source": [
    "def solveNQueens(n: int):\n",
    "    # Convenience function to spit it out in Leetcode's desired output format\n",
    "    def convert_set_to_output_list(results):\n",
    "        output = []\n",
    "        for row in results:\n",
    "            board = []\n",
    "            for col in row:\n",
    "                board.append(\".\" * col + \"Q\" + \".\" * (len(row) - col - 1))\n",
    "            output.append(board)\n",
    "        return output\n",
    "    \n",
    "    # Need to check diagonal\n",
    "    # O(1), check if not in the same column\n",
    "    def is_valid(n, col, index, result_set, result_list):\n",
    "        for row_idx in range(index):\n",
    "            if abs(row_idx - index) == abs(result_list[row_idx] - col):\n",
    "                return False\n",
    "        return True\n",
    "    \n",
    "    def recurse_nqueens(n, index, result_set, result_list, results):\n",
    "        if len(result_set) == n:\n",
    "            results.append(result_list.copy())\n",
    "            return\n",
    "        if index >= n:\n",
    "            return\n",
    "        # Try all possible values for column value\n",
    "        for col in range(n):\n",
    "            result_list[index] = col\n",
    "            # Do checks OUTSIDE your recursion, NOT as part of base case and your answer will work out\n",
    "            if col not in result_set:\n",
    "                if is_valid(n, col, index, result_set, result_list):\n",
    "                    result_set.add(col)\n",
    "                    result = recurse_nqueens(n, index+1, result_set, result_list, results)\n",
    "                    result_set.remove(col)\n",
    "        return results\n",
    "        \n",
    "    result_list = [-1] * n\n",
    "    results = recurse_nqueens(n, 0, set(), result_list, [])\n",
    "    return convert_set_to_output_list(results)"
   ]
  },
  {
   "cell_type": "code",
   "execution_count": 5,
   "metadata": {},
   "outputs": [
    {
     "data": {
      "text/plain": [
       "[['.Q..', '...Q', 'Q...', '..Q.'], ['..Q.', 'Q...', '...Q', '.Q..']]"
      ]
     },
     "execution_count": 5,
     "metadata": {},
     "output_type": "execute_result"
    }
   ],
   "source": [
    "solveNQueens(4)"
   ]
  }
 ],
 "metadata": {
  "kernelspec": {
   "display_name": "Python 3",
   "language": "python",
   "name": "python3"
  },
  "language_info": {
   "codemirror_mode": {
    "name": "ipython",
    "version": 3
   },
   "file_extension": ".py",
   "mimetype": "text/x-python",
   "name": "python",
   "nbconvert_exporter": "python",
   "pygments_lexer": "ipython3",
   "version": "3.10.12"
  }
 },
 "nbformat": 4,
 "nbformat_minor": 2
}
