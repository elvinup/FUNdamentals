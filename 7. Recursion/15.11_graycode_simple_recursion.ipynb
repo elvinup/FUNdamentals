{
 "cells": [
  {
   "cell_type": "markdown",
   "metadata": {},
   "source": [
    "# 15.11 Takeaway"
   ]
  },
  {
   "cell_type": "code",
   "execution_count": 5,
   "metadata": {},
   "outputs": [
    {
     "name": "stdout",
     "output_type": "stream",
     "text": [
      "['0b0', '0b1', '0b11', '0b10', '0b110', '0b111', '0b101', '0b100', '0b1100', '0b1101', '0b1111', '0b1110', '0b1010', '0b1011', '0b1001', '0b1000']\n"
     ]
    }
   ],
   "source": [
    "def gray_code(num_bits):\n",
    "\tif num_bits == 0:\n",
    "\t\treturn [0]\n",
    "\t\n",
    "\tdef recurse_gray_code(num_bits):\n",
    "\t\tif num_bits == 1:\n",
    "\t\t\treturn [0, 1]\n",
    "\n",
    "\t\t# need to create right half of reversed gray codes\n",
    "\t\tfirst_half = recurse_gray_code(num_bits - 1)\n",
    "\t\tresults = [x for x in first_half]\n",
    "\t\tmask = 1 << num_bits - 1\n",
    "\t\tfor elem in reversed(first_half):\n",
    "\t\t\tresults.append(elem ^ mask)\n",
    "\t\treturn results\n",
    "\n",
    "\treturn recurse_gray_code(num_bits)\n",
    "\n",
    "print([bin(x) for x in gray_code(4)])\n"
   ]
  }
 ],
 "metadata": {
  "interpreter": {
   "hash": "916dbcbb3f70747c44a77c7bcd40155683ae19c65e1c03b4aa3499c5328201f1"
  },
  "kernelspec": {
   "display_name": "Python 3.8.10 64-bit",
   "language": "python",
   "name": "python3"
  },
  "language_info": {
   "codemirror_mode": {
    "name": "ipython",
    "version": 3
   },
   "file_extension": ".py",
   "mimetype": "text/x-python",
   "name": "python",
   "nbconvert_exporter": "python",
   "pygments_lexer": "ipython3",
   "version": "3.8.10"
  },
  "orig_nbformat": 4
 },
 "nbformat": 4,
 "nbformat_minor": 2
}
