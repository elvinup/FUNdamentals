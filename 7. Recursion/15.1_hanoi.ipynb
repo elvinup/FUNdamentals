{
 "cells": [
  {
   "cell_type": "markdown",
   "metadata": {},
   "source": [
    "# 15.1 Takeaway\n",
    "\n",
    "Tower of Hanoi can be solved with a recursive strategy\n",
    "\n",
    "\n",
    "You have 3 pegs, and want to transfer all n rings from p0 to p2. Bigger rings not allowed to be stacked on top of smaller rings.\n",
    "\n",
    "(numbers 1, 2, 3 just represent rings and their size)\n",
    "\n",
    "1\n",
    "\n",
    "2\n",
    "\n",
    "3\n",
    "\n",
    "\n",
    "p0            p1           p2\n",
    "\n",
    "This was NOT easy to pick up on my own. \n",
    "\n",
    "Let's reference the 3 key rules to challenging recursion problems\n",
    "\n",
    "### Recursive Problem Solving\n",
    "\n",
    "f(n) is a recursive function\n",
    "\n",
    "1. Show f(1) works (base case)\n",
    "2. Assume f(n - 1) works (hardest pill to swallow)\n",
    "3. Show f(n) works using f(n - 1)\n",
    "\n",
    "\n",
    "### Following the recursion rules on Hanoi\n",
    "\n",
    "## 1. Base Case\n",
    "1. f(1), or the base case can be visualized as the act of moving the bottom/biggest ring to p2. \n",
    "\n",
    "Because this has to be done at the **end** of **every** tower of hanoi problem"
   ]
  },
  {
   "cell_type": "code",
   "execution_count": 13,
   "metadata": {},
   "outputs": [
    {
     "name": "stdout",
     "output_type": "stream",
     "text": [
      "[[0, 2]]\n"
     ]
    }
   ],
   "source": [
    "NUM_PEGS = 3\n",
    "\n",
    "num_rings = 3\n",
    "\n",
    "result = []\n",
    "pegs  = [list(reversed(range(1, num_rings + 1))), [], []]\n",
    "\n",
    "# Making a helper function for the easy stuff is a great way to ease your mind while solving this\n",
    "def move_ring(from_peg, to_peg):\n",
    "    result.append([from_peg, to_peg])\n",
    "\n",
    "def compute_tower_hanoi(num_rings):\n",
    "    # Recursive function\n",
    "    def compute_tower_hanoi_steps(num_rings_to_move, from_peg, to_peg, intermed_peg):\n",
    "        if num_rings == 1:\n",
    "            move_ring(from_peg, to_peg)\n",
    "    \n",
    "    compute_tower_hanoi_steps(num_rings, 0, 2, 1)\n",
    "\n",
    "compute_tower_hanoi(1)\n",
    "print(result)\n"
   ]
  },
  {
   "cell_type": "markdown",
   "metadata": {},
   "source": [
    "## 2. Assume it'll work for the top n-1 runs\n",
    "2. f(n-1) is equivalent to moving all the rings from p0 -> p1, so that there's space from the bottom ring \n",
    "\n",
    "We need to move every ring but the last ring to the **other** peg.\n",
    "\n",
    "This allows the last ring to go to the destination peg.\n"
   ]
  },
  {
   "cell_type": "code",
   "execution_count": 18,
   "metadata": {},
   "outputs": [
    {
     "name": "stdout",
     "output_type": "stream",
     "text": [
      "[[3], [1], [2]]\n",
      "[[0, 2], [0, 1], [0, 2]]\n"
     ]
    }
   ],
   "source": [
    "NUM_PEGS = 3\n",
    "\n",
    "num_rings = 3\n",
    "\n",
    "result = []\n",
    "pegs  = [list(reversed(range(1, num_rings + 1))), [], []]\n",
    "\n",
    "# Making a helper function for the easy stuff is a great way to ease your mind while solving this\n",
    "def move_ring(from_peg, to_peg):\n",
    "    result.append([from_peg, to_peg])\n",
    "\n",
    "def compute_tower_hanoi(num_rings):\n",
    "    # Recursive function\n",
    "    def compute_tower_hanoi_steps(num_rings_to_move, from_peg, to_peg):\n",
    "        if num_rings_to_move == 1:\n",
    "            move_ring(from_peg, to_peg)\n",
    "        else:\n",
    "            intermed_peg = 3 - (from_peg + to_peg)\n",
    "            compute_tower_hanoi_steps(num_rings_to_move - 1, from_peg, intermed_peg)\n",
    "            # Just for visualization purpose\n",
    "            pegs[to_peg].append(pegs[from_peg].pop())\n",
    "            move_ring(from_peg, to_peg)\n",
    "    \n",
    "    compute_tower_hanoi_steps(num_rings, 0, 2)\n",
    "\n",
    "compute_tower_hanoi(3)\n",
    "print(pegs)\n",
    "print(result)"
   ]
  },
  {
   "cell_type": "markdown",
   "metadata": {},
   "source": [
    "\n",
    "# 3. Show f(n) work using f(n-1)\n",
    "\n",
    "Relate the hard case to a simpler case\n",
    "\n",
    "Can we relate f(3) to f(2)?\n",
    "\n",
    "aka f(n) to f(n-1)? **IMPORTANT**! This is where n-1 is coming from when calling the function recursively!\n",
    "\n",
    "3. After moving the top n-1 rings from the source peg to the **other** peg, we need to move the top n-1 rings from the other peg to the destination peg as well. \n",
    "\n",
    "(After the last ring was moved to the destination ring)"
   ]
  },
  {
   "cell_type": "code",
   "execution_count": 17,
   "metadata": {},
   "outputs": [
    {
     "name": "stdout",
     "output_type": "stream",
     "text": [
      "[[3], [], [2, 1]]\n",
      "[[0, 2], [0, 1], [2, 1], [0, 2], [1, 0], [1, 2], [0, 2]]\n"
     ]
    }
   ],
   "source": [
    "NUM_PEGS = 3\n",
    "\n",
    "num_rings = 3\n",
    "\n",
    "result = []\n",
    "pegs  = [list(reversed(range(1, num_rings + 1))), [], []]\n",
    "\n",
    "# Making a helper function for the easy stuff is a great way to ease your mind while solving this\n",
    "def move_ring(from_peg, to_peg):\n",
    "    result.append([from_peg, to_peg])\n",
    "\n",
    "def compute_tower_hanoi(num_rings):\n",
    "    # Recursive function\n",
    "    def compute_tower_hanoi_steps(num_rings_to_move, from_peg, to_peg):\n",
    "        if num_rings_to_move == 1:\n",
    "            move_ring(from_peg, to_peg)\n",
    "        else:\n",
    "            intermed_peg = 3 - (from_peg + to_peg)\n",
    "            compute_tower_hanoi_steps(num_rings_to_move - 1, from_peg, intermed_peg)\n",
    "            # Just for visualization purpose\n",
    "            pegs[to_peg].append(pegs[from_peg].pop())\n",
    "            move_ring(from_peg, to_peg)\n",
    "            compute_tower_hanoi_steps(num_rings_to_move - 1, intermed_peg, to_peg)\n",
    "\n",
    "    \n",
    "    compute_tower_hanoi_steps(num_rings, 0, 2)\n",
    "\n",
    "compute_tower_hanoi(3)\n",
    "print(pegs)\n",
    "print(result)"
   ]
  }
 ],
 "metadata": {
  "interpreter": {
   "hash": "aee8b7b246df8f9039afb4144a1f6fd8d2ca17a180786b69acc140d282b71a49"
  },
  "kernelspec": {
   "display_name": "Python 3.9.7 64-bit",
   "language": "python",
   "name": "python3"
  },
  "language_info": {
   "codemirror_mode": {
    "name": "ipython",
    "version": 3
   },
   "file_extension": ".py",
   "mimetype": "text/x-python",
   "name": "python",
   "nbconvert_exporter": "python",
   "pygments_lexer": "ipython3",
   "version": "3.9.9"
  },
  "orig_nbformat": 4
 },
 "nbformat": 4,
 "nbformat_minor": 2
}
