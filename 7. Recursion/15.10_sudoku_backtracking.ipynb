{
 "cells": [
  {
   "cell_type": "markdown",
   "metadata": {},
   "source": [
    "# 15.10 Sudoku Solver Takeaway\n",
    "\n",
    "In order to solve this with backtracking recursion, we need to go through each empty index starting from (0, 0) and run a solve_partial_sudoku recursive function.  \n",
    "If it's empty, we need to try numbers 1-9, checking if these 3 conditions are met:\n",
    "- No other numbers in the row are the same\n",
    "- No other numbers in the column are the same\n",
    "- No other numbers in the subgrid are the same\n",
    "These 3 checks will be encapsulated in a valid_to_add() function\n",
    "\n",
    "\n",
    "If  the numer is *valid_to_add()* we need to recurse from here, and go to the next empty index\n",
    "\n",
    "\n",
    "[Video Explanation](https://www.youtube.com/watch?v=eAFcj_2quWI) in case this text is too confusing."
   ]
  },
  {
   "cell_type": "markdown",
   "metadata": {},
   "source": [
    "## The hard condition: checking current subgrid\n",
    "\n",
    "We need to get the subgrid's size by just doing a squareroot, since we know it's a nxn grid.\n",
    "\n",
    "Then we can locate the specific region by integer dividing the location i and j by the subgrid's size\n",
    "\n",
    "Afterwards, we can make slick use of itertools.product to get all the combinations of elements (or indices) in the subgrid, and check if any already hold the value in our sudoku example in a single **if any()** statement"
   ]
  },
  {
   "cell_type": "code",
   "execution_count": 22,
   "metadata": {},
   "outputs": [
    {
     "name": "stdout",
     "output_type": "stream",
     "text": [
      "We can add 6 to the subgrid\n",
      "How itertools.product works\n",
      "0 0\n",
      "0 1\n",
      "0 2\n",
      "1 0\n",
      "1 1\n",
      "1 2\n",
      "2 0\n",
      "2 1\n",
      "2 2\n"
     ]
    }
   ],
   "source": [
    "import math\n",
    "import itertools\n",
    "\n",
    "# Example sudoku list\n",
    "sudoku_assignment = [[0, 3, 2, 0, 0, 0, 8, 0, 4], [8, 0, 0, 2, 0, 0, 0, 7, 0], [0, 1, 7, 0, 0, 5, 9, 0, 6], [5, 8, 0, 0, 2, 0, 0, 3, 0], [0, 0, 6, 0, 4, 0, 7, 0, 0], [0, 0, 4, 9, 1, 3, 0, 6, 0], [0, 0, 0, 7, 3, 0, 2, 0, 0], [0, 5, 9, 0, 0, 0, 0, 0, 1], [1, 0, 0, 8, 0, 9, 0, 0, 0]]\n",
    "\n",
    "def checksubgrid(i, j, value):\n",
    "    region_size = int(math.sqrt(len(sudoku_assignment)))\n",
    "    # I and J are selecting which of the 9 subgrids, from (0, 0) to (2, 2) we are checking\n",
    "    I = i // region_size\n",
    "    J = j // region_size\n",
    "    if any(value == sudoku_assignment[region_size * I + a][region_size * J + b] for a, b in itertools.product(range(region_size), repeat=2)):\n",
    "        return False\n",
    "    return True    \n",
    "\n",
    "value = 6\n",
    "result = checksubgrid(0, 0, value)\n",
    "if result:\n",
    "    print(\"We can add %s to the subgrid\" % value)\n",
    "else:\n",
    "    print(\"%s already exists in this subgrid\" % value)\n",
    "\n",
    "\n",
    "print(\"How itertools.product works\")\n",
    "for a, b in itertools.product([0, 1, 2], repeat=2):\n",
    "        print(a, b)"
   ]
  },
  {
   "cell_type": "markdown",
   "metadata": {},
   "source": [
    "# Full Answer"
   ]
  },
  {
   "cell_type": "code",
   "execution_count": null,
   "metadata": {},
   "outputs": [],
   "source": [
    "import math\n",
    "import itertools\n",
    "\n",
    "def solve_sudoku(partial_assignment: List[List[int]]) -> bool:\n",
    "    def solve_partial_sudoku(i, j):\n",
    "        if i == len(partial_assignment):\n",
    "            i = 0  # Starts a row.\n",
    "            j += 1\n",
    "            if j == len(partial_assignment[i]):\n",
    "                return True  # Entire matrix has been filled without conflict.\n",
    "\n",
    "        # Skips nonempty entries.\n",
    "        if partial_assignment[i][j] != empty_entry:\n",
    "            return solve_partial_sudoku(i + 1, j)\n",
    "\n",
    "        def valid_to_add(i, j, val):\n",
    "            # Check row constraints.\n",
    "            if any(val == partial_assignment[k][j] for k in range(len(partial_assignment))):\n",
    "                return False\n",
    "\n",
    "            # Check column constraints.\n",
    "            if val in partial_assignment[i]:\n",
    "                return False\n",
    "\n",
    "            # Check region constraints.\n",
    "            region_size = int(math.sqrt(len(partial_assignment)))\n",
    "            I = i // region_size\n",
    "            J = j // region_size\n",
    "            return not any(\n",
    "                val == partial_assignment[region_size * I +\n",
    "                                          a][region_size * J + b]\n",
    "                for a, b in itertools.product(range(region_size), repeat=2))\n",
    "\n",
    "        for val in range(1, len(partial_assignment) + 1):\n",
    "            # It's substantially quicker to check if entry val with any of the\n",
    "            # constraints if we add it at (i,j) adding it, rather than adding it and\n",
    "            # then checking all constraints. The reason is that we know we are\n",
    "            # starting with a valid configuration, and the only entry which can\n",
    "            # cause a problem is entry val at (i,j).\n",
    "            if valid_to_add(i, j, val):\n",
    "                partial_assignment[i][j] = val\n",
    "                if solve_partial_sudoku(i + 1, j):\n",
    "                    return True\n",
    "\n",
    "        # If none of the plays work, reset to empty as we jump out of each solve_partial_sudoku\n",
    "\t\t# THIS is the essence of backtracking!! we are covering our tracks for the next attempt so the board is reset\n",
    "        partial_assignment[i][j] = empty_entry  # Undo assignment.\n",
    "        return False\n",
    "\n",
    "    empty_entry = 0\n",
    "    return solve_partial_sudoku(0, 0)"
   ]
  }
 ],
 "metadata": {
  "interpreter": {
   "hash": "916dbcbb3f70747c44a77c7bcd40155683ae19c65e1c03b4aa3499c5328201f1"
  },
  "kernelspec": {
   "display_name": "Python 3.8.10 64-bit",
   "language": "python",
   "name": "python3"
  },
  "language_info": {
   "codemirror_mode": {
    "name": "ipython",
    "version": 3
   },
   "file_extension": ".py",
   "mimetype": "text/x-python",
   "name": "python",
   "nbconvert_exporter": "python",
   "pygments_lexer": "ipython3",
   "version": "3.8.10"
  },
  "orig_nbformat": 4
 },
 "nbformat": 4,
 "nbformat_minor": 2
}
