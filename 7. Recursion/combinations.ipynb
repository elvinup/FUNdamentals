{
 "cells": [
  {
   "cell_type": "markdown",
   "metadata": {},
   "source": [
    "# Combinations with Recursion\n",
    "\n",
    "Key thing to remember about combinations: Order does NOT matter. \n",
    "\n",
    "Each unique combination doesn't involve order.\n",
    "\n",
    "## Combination Visualization\n",
    "\n",
    "Example: Combination of these elements `['a', 'b', 'c']`\n",
    "\n",
    "![](../%20images/combination_expansion.png)\n",
    "\n",
    "Showcases why the result is always 2^n, 3 elements = 2^3 results = 8\n",
    "\n",
    "Explanation of tree:\n",
    "- Going left means we exclude that element on the left column\n",
    "- Going right means we include that element on the left column.\n",
    "\n",
    "This pattern allows for an easy translation to recursive code."
   ]
  },
  {
   "cell_type": "code",
   "execution_count": 1,
   "metadata": {},
   "outputs": [
    {
     "data": {
      "text/plain": [
       "[[], ['c'], ['b'], ['b', 'c'], ['a'], ['a', 'c'], ['a', 'b'], ['a', 'b', 'c']]"
      ]
     },
     "execution_count": 1,
     "metadata": {},
     "output_type": "execute_result"
    }
   ],
   "source": [
    "def combination(elements):\n",
    "    def recurse_combination(elements, combination, final_list):\n",
    "        # Base case is when we run out of elements\n",
    "        if len(elements) == 0:\n",
    "            final_list.append(combination)\n",
    "            return combination\n",
    "            \n",
    "        combs_without_first_element = recurse_combination(elements[1:], combination, final_list) # without element\n",
    "        combs_with_first_element = recurse_combination(elements[1:], combination + [elements[0]], final_list) # with element\n",
    "\n",
    "        return final_list\n",
    "\n",
    "    return recurse_combination(elements, [], [])\n",
    "\n",
    "\n",
    "combination(['a', 'b', 'c'])"
   ]
  },
  {
   "cell_type": "code",
   "execution_count": 11,
   "metadata": {},
   "outputs": [
    {
     "data": {
      "text/plain": [
       "['b', 'c']"
      ]
     },
     "execution_count": 11,
     "metadata": {},
     "output_type": "execute_result"
    }
   ],
   "source": [
    "elements = ['a', 'b', 'c']\n",
    "elements[1:]"
   ]
  }
 ],
 "metadata": {
  "kernelspec": {
   "display_name": "Python 3",
   "language": "python",
   "name": "python3"
  },
  "language_info": {
   "codemirror_mode": {
    "name": "ipython",
    "version": 3
   },
   "file_extension": ".py",
   "mimetype": "text/x-python",
   "name": "python",
   "nbconvert_exporter": "python",
   "pygments_lexer": "ipython3",
   "version": "3.10.12"
  }
 },
 "nbformat": 4,
 "nbformat_minor": 2
}
