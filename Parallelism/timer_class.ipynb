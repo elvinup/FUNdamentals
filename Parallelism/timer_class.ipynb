{
 "cells": [
  {
   "attachments": {},
   "cell_type": "markdown",
   "metadata": {},
   "source": [
    "# Timer Class - 19.8 Takeaway\n",
    "\n",
    "Develop a timer class that manages the execution of deferred tasks. The timer constructor takes as its argument an object which includes a run method and a string valued name field. The class must support\n",
    "\n",
    "- starting a thread, identified by name, at a given time in the future\n",
    "- canceling a thread, identified by name (the cancel request is to be ignored if the thread has already started).\n",
    "\n",
    "## Brainstorming\n",
    "\n",
    "We need a heap and a hash table to keep track of the tasks.\n",
    "\n",
    "The min heap is perfect for ordering the tasks by time and popping accordingly. Entries into the heap should be a tuple with this value:\n",
    "\n",
    "`entry = (launch_time, task_id, task)`\n",
    "\n",
    "\n",
    "With the hashtable, we can keep correlate the task_id with the entries that pop out of the heapq. It's perfect for cancelling tasks that haven't been scheduled yet, because we can easily use a `del` operation on a hastable key-value pair, and then when we pop the entry out of the queue, if it's not in the hash table, we can assume the task was cancelled and skip the run of the task.\n",
    "\n",
    "\n",
    "We also use a simple 1 counter semaphore for all reads and writes into the hash table and heap queue."
   ]
  },
  {
   "cell_type": "code",
   "execution_count": 52,
   "metadata": {},
   "outputs": [],
   "source": [
    "import heapq\n",
    "import threading\n",
    "import time\n",
    "\n",
    "class Timer:\n",
    "    def __init__(self):\n",
    "        self.task_heap = []     # min-heap of tasks\n",
    "        self.task_table = {}    # task table, maps task ids to entries in the heap\n",
    "        self.semaphore = threading.Semaphore(1)  # semaphore to control access to the shared data structures\n",
    "        self._stop = False      # flag to indicate whether the dispatch thread should stop\n",
    "    \n",
    "    def add_task(self, task_id, launch_time, task):\n",
    "        \"\"\"Add a task to the timer.\"\"\"\n",
    "        entry = (launch_time, task_id, task)\n",
    "        with self.semaphore:\n",
    "            heapq.heappush(self.task_heap, entry)\n",
    "            self.task_table[task_id] = entry\n",
    "            if entry == self.task_heap[0]:\n",
    "                self.semaphore.release()\n",
    "                return True\n",
    "        # self.semaphore.release()\n",
    "        return False\n",
    "    \n",
    "    def cancel_task(self, task_id):\n",
    "        \"\"\"Cancel a task from the timer.\"\"\"\n",
    "        with self.semaphore:\n",
    "            if task_id in self.task_table:\n",
    "                del self.task_table[task_id]\n",
    "                return True\n",
    "        return False\n",
    "    \n",
    "    def dispatch_thread(self):\n",
    "        \"\"\"Thread that dispatches tasks at their scheduled launch time.\"\"\"\n",
    "        while not self._stop:\n",
    "            with self.semaphore:\n",
    "                while self.task_heap and self.task_heap[0][0] <= time.time():\n",
    "                    entry = heapq.heappop(self.task_heap)\n",
    "                    task_id, task = entry[1], entry[2]\n",
    "                    \n",
    "                    # If task id isn't here, it was cancelled. Skip the run\n",
    "                    if task_id not in self.task_table:\n",
    "                        continue\n",
    "\n",
    "                    if task:\n",
    "                        task.run()\n",
    "                    if task_id in self.task_table:\n",
    "                        del self.task_table[task_id]\n",
    "                if not self.task_heap:\n",
    "                    self.semaphore.release()\n",
    "                    break\n",
    "                else:\n",
    "                    remaining_time = self.task_heap[0][0] - time.time()\n",
    "                    self.semaphore.release()\n",
    "                    time.sleep(remaining_time)\n",
    "    \n",
    "    def start(self):\n",
    "        \"\"\"Start the dispatch thread.\"\"\"\n",
    "        self.dispatch_thread = threading.Thread(target=self.dispatch_thread)\n",
    "        self.dispatch_thread.start()\n",
    "    \n",
    "    def stop(self):\n",
    "        \"\"\"Stop the dispatch thread.\"\"\"\n",
    "        #self._stop = False\n",
    "        self.dispatch_thread.join()"
   ]
  },
  {
   "cell_type": "code",
   "execution_count": 54,
   "metadata": {},
   "outputs": [
    {
     "name": "stdout",
     "output_type": "stream",
     "text": [
      "Hello, world!\n"
     ]
    }
   ],
   "source": [
    "# Let's test this class!\n",
    "\n",
    "class PrintTask:\n",
    "    def __init__(self, message):\n",
    "        self.message = message\n",
    "    \n",
    "    def run(self):\n",
    "        print(self.message)\n",
    "\n",
    "timer = Timer()\n",
    "\n",
    "# Typical format for tasks\n",
    "task_id = 1\n",
    "launch_time = time.time() + 5  # launch the task after 5 seconds\n",
    "\n",
    "timer.add_task(task_id, launch_time, PrintTask(\"This msg could get cancelled!\"))\n",
    "timer.add_task(2, time.time() + 2, PrintTask(\"Hello, world!\")) # Scheduling another task 2 seconds from now\n",
    "\n",
    "timer.start()\n",
    "timer.cancel_task(1) # Try commenting this line out to see the difference in behavior. Will cancel task_id 1 before it's scheduled\n",
    "\n",
    "# Wait for the dispatch thread to complete\n",
    "timer.stop()"
   ]
  }
 ],
 "metadata": {
  "kernelspec": {
   "display_name": "Python 3",
   "language": "python",
   "name": "python3"
  },
  "language_info": {
   "codemirror_mode": {
    "name": "ipython",
    "version": 3
   },
   "file_extension": ".py",
   "mimetype": "text/x-python",
   "name": "python",
   "nbconvert_exporter": "python",
   "pygments_lexer": "ipython3",
   "version": "3.8.10"
  },
  "orig_nbformat": 4,
  "vscode": {
   "interpreter": {
    "hash": "916dbcbb3f70747c44a77c7bcd40155683ae19c65e1c03b4aa3499c5328201f1"
   }
  }
 },
 "nbformat": 4,
 "nbformat_minor": 2
}
