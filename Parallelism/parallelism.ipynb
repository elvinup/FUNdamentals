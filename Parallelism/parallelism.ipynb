{
 "cells": [
  {
   "attachments": {},
   "cell_type": "markdown",
   "metadata": {},
   "source": [
    "# Parallelism\n",
    "\n",
    "## Threads\n",
    "\n",
    "**Multithreading** - a way to achieve concurrency within a single process\n",
    "\n",
    "Multithreading refers to a process where a single process creates multiple threads of execution that run concurrently. The threads share the same memory space, so they can communicate and access the same data. This makes it easier to write concurrent programs, as the threads can communicate and synchronize with each other easily. However, multithreading has some drawbacks, including the potential for race conditions and other concurrency-related bugs.\n",
    "\n",
    "Since I/O-bound tasks involve waiting for data to be read from or written to a resource, the Python interpreter can switch between threads while waiting for I/O operations to complete, allowing the CPU to work on other tasks in the meantime. This can result in better overall performance and faster completion times for the program.\n",
    "\n",
    "## Processes\n",
    "\n",
    "**MultiProcessing** - a way to achieve parallelism across multiple processes\n",
    "\n",
    "Multiprocessing, on the other hand, refers to a process where multiple independent processes are running in parallel. Each process has its own memory space, so they cannot communicate or access the same data without explicit communication mechanisms like pipes or message queues. Multiprocessing can be more efficient for tasks that are CPU-bound, as it can take advantage of multiple CPU cores to execute tasks in parallel. However, it can be more difficult to write and debug multiprocessing code, since the processes do not share memory and require explicit communication mechanisms.\n",
    "\n",
    "\n",
    "\n",
    "## Semaphore Data Structure"
   ]
  },
  {
   "cell_type": "code",
   "execution_count": 5,
   "metadata": {},
   "outputs": [],
   "source": [
    "import threading\n",
    "\n",
    "class Semaphore():\n",
    "    def __init__(self, max_available):\n",
    "        self.cv = threading.Condition()\n",
    "        self.MAX_AVAILABLE = max_available\n",
    "        self.taken = 0\n",
    "\n",
    "    def acquire(self):\n",
    "        self.cv.acquire() # Acquire thread\n",
    "        while (self.taken == self.MAX_AVAILABLE):\n",
    "            self.cv.wait()\n",
    "        self.taken += 1\n",
    "        self.cv.release() # Release thread\n",
    "    \n",
    "    def release(self):\n",
    "        self.cv.acquire() # Acquire Thread\n",
    "        self.taken -= 1\n",
    "        self.cv.notify()\n",
    "        self.cv.release() # Release Thread"
   ]
  },
  {
   "attachments": {},
   "cell_type": "markdown",
   "metadata": {},
   "source": [
    "## Example Usage"
   ]
  },
  {
   "cell_type": "code",
   "execution_count": 6,
   "metadata": {},
   "outputs": [],
   "source": [
    "import time\n",
    "\n",
    "class Resource():\n",
    "    def __init__(self):\n",
    "        self.semaphore = Semaphore(1)\n",
    "\n",
    "    def access(self):\n",
    "        self.semaphore.acquire()\n",
    "        print(\"Accessing resource...\")\n",
    "        time.sleep(1)\n",
    "        print(\"Done accessing resource.\")\n",
    "        self.semaphore.release()"
   ]
  },
  {
   "cell_type": "code",
   "execution_count": 7,
   "metadata": {},
   "outputs": [
    {
     "name": "stdout",
     "output_type": "stream",
     "text": [
      "Accessing resource...\n",
      "Done accessing resource.\n",
      "Accessing resource...\n",
      "Done accessing resource.\n",
      "Accessing resource...\n",
      "Done accessing resource.\n",
      "Accessing resource...\n",
      "Done accessing resource.\n",
      "Accessing resource...\n",
      "Done accessing resource.\n",
      "Accessing resource...\n",
      "Done accessing resource.\n",
      "Accessing resource...\n",
      "Done accessing resource.\n",
      "Accessing resource...\n",
      "Done accessing resource.\n",
      "Accessing resource...\n",
      "Done accessing resource.\n",
      "Accessing resource...\n",
      "Done accessing resource.\n"
     ]
    }
   ],
   "source": [
    "# create a shared resource object\n",
    "resource = Resource()\n",
    "\n",
    "# define a function that accesses the resource\n",
    "def worker():\n",
    "    resource.access()\n",
    "\n",
    "# create several threads that will run the worker function\n",
    "threads = [threading.Thread(target=worker) for i in range(10)]\n",
    "\n",
    "# start the threads\n",
    "for t in threads:\n",
    "    t.start()\n",
    "\n",
    "# wait for the threads to finish\n",
    "for t in threads:\n",
    "    t.join()"
   ]
  }
 ],
 "metadata": {
  "kernelspec": {
   "display_name": "Python 3.11.1 64-bit",
   "language": "python",
   "name": "python3"
  },
  "language_info": {
   "codemirror_mode": {
    "name": "ipython",
    "version": 3
   },
   "file_extension": ".py",
   "mimetype": "text/x-python",
   "name": "python",
   "nbconvert_exporter": "python",
   "pygments_lexer": "ipython3",
   "version": "3.11.1"
  },
  "orig_nbformat": 4,
  "vscode": {
   "interpreter": {
    "hash": "5429598658487648514089c864bbc05ff958d230f3c17d25a3ec922d7150c62d"
   }
  }
 },
 "nbformat": 4,
 "nbformat_minor": 2
}
