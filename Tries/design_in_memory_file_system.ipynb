{
 "cells": [
  {
   "attachments": {},
   "cell_type": "markdown",
   "metadata": {},
   "source": [
    "# Design In-Memory File System\n",
    "\n",
    "Here we need to make use of a Trie. The branching of files and directories plays very similar to storing characters and words in a Trie. \n",
    "\n",
    "The description is in the comment below."
   ]
  },
  {
   "cell_type": "code",
   "execution_count": 10,
   "metadata": {},
   "outputs": [],
   "source": [
    "# Time:  ls: O(l + klogk), l is the path length, k is the number of entries in the last level directory\n",
    "#        mkdir: O(l)\n",
    "#        addContentToFile: O(l + c), c is the content size\n",
    "#        readContentFromFile: O(l + c)\n",
    "# Space: O(n + s), n is the number of dir/file nodes, s is the total content size.\n",
    "\n",
    "# Design an in-memory file system to simulate the following functions:\n",
    "#\n",
    "# ls: Given a path in string format. If it is a file path,\n",
    "#     return a list that only contains this file's name.\n",
    "#     If it is a directory path, return the list of file and directory names in this directory.\n",
    "#     Your output (file and directory names together) should in lexicographic order.\n",
    "#\n",
    "# mkdir: Given a directory path that does not exist,\n",
    "#       you should make a new directory according to the path.\n",
    "#       If the middle directories in the path don't exist either,\n",
    "#       you should create them as well. This function has void return type.\n",
    "#\n",
    "# addContentToFile: Given a file path and file content in string format.\n",
    "#                   If the file doesn't exist, you need to create that file containing given content.\n",
    "#                   If the file already exists, you need to append given content to original content.\n",
    "#                   This function has void return type.\n",
    "#\n",
    "# readContentFromFile: Given a file path, return its content in string format.\n",
    "#\n",
    "# Example:\n",
    "# Input:\n",
    "# [\"FileSystem\",\"ls\",\"mkdir\",\"addContentToFile\",\"ls\",\"readContentFromFile\"]\n",
    "# [[],[\"/\"],[\"/a/b/c\"],[\"/a/b/c/d\",\"hello\"],[\"/\"],[\"/a/b/c/d\"]]\n",
    "# Output:\n",
    "# [null,[],null,null,[\"a\"],\"hello\"]\n",
    "#\n",
    "# Note:\n",
    "# 1. You can assume all file or directory paths are absolute paths\n",
    "#   which begin with / and do not end with / except that the path is just \"/\".\n",
    "# 2. You can assume that all operations will be passed valid parameters and\n",
    "#   users will not attempt to retrieve file content or list a directory or file that does not exist.\n",
    "# 3. You can assume that all directory names and file names only contain lower-case letters,\n",
    "#   and same names won't exist in the same directory.\n",
    "\n",
    "\n",
    "class TrieNode(object):\n",
    "\n",
    "    def __init__(self):\n",
    "        self.is_file = False\n",
    "        self.children = {}\n",
    "        self.content = \"\"\n",
    "\n",
    "class FileSystem(object):\n",
    "\n",
    "    def __init__(self):\n",
    "        self.__root = TrieNode()\n",
    "\n",
    "\n",
    "    def ls(self, path):\n",
    "        \"\"\"\n",
    "        :type path: str\n",
    "        :rtype: List[str]\n",
    "        \"\"\"\n",
    "        curr = self.__getNode(path)\n",
    "\n",
    "        if curr.is_file:\n",
    "            return [self.__split(path, '/')[-1]]\n",
    "\n",
    "        return sorted(curr.children.keys())\n",
    "\n",
    "\n",
    "    def mkdir(self, path):\n",
    "        \"\"\"\n",
    "        :type path: str\n",
    "        :rtype: void\n",
    "        \"\"\"\n",
    "        curr = self.__putNode(path)\n",
    "        curr.is_file = False\n",
    "\n",
    "\n",
    "    def addContentToFile(self, filePath, content):\n",
    "        \"\"\"\n",
    "        :type filePath: str\n",
    "        :type content: str\n",
    "        :rtype: void\n",
    "        \"\"\"\n",
    "        curr = self.__putNode(filePath)\n",
    "        curr.is_file = True\n",
    "        curr.content += content\n",
    "\n",
    "\n",
    "    def readContentFromFile(self, filePath):\n",
    "        \"\"\"\n",
    "        :type filePath: str\n",
    "        :rtype: str\n",
    "        \"\"\"\n",
    "        return self.__getNode(filePath).content\n",
    "\n",
    "\n",
    "    def __getNode(self, path):\n",
    "        curr = self.__root\n",
    "        for s in self.__split(path, '/'):\n",
    "            curr = curr.children[s]\n",
    "        return curr\n",
    "\n",
    "\n",
    "    def __putNode(self, path):\n",
    "        curr = self.__root\n",
    "        for s in self.__split(path, '/'):\n",
    "            if s not in curr.children:\n",
    "                curr.children[s] = TrieNode()\n",
    "            curr = curr.children[s]\n",
    "        return curr\n",
    "\n",
    "\n",
    "    def __split(self, path, delim):\n",
    "        if path == '/':\n",
    "            return []\n",
    "        return path.split('/')[1:]"
   ]
  },
  {
   "cell_type": "code",
   "execution_count": 11,
   "metadata": {},
   "outputs": [
    {
     "data": {
      "text/plain": [
       "[]"
      ]
     },
     "execution_count": 11,
     "metadata": {},
     "output_type": "execute_result"
    }
   ],
   "source": [
    "# Example how it should behave:\n",
    "# Input:\n",
    "# [\"FileSystem\",\"ls\",\"mkdir\",\"addContentToFile\",\"ls\",\"readContentFromFile\"]\n",
    "# [[],[\"/\"],[\"/a/b/c\"],[\"/a/b/c/d\",\"hello\"],[\"/\"],[\"/a/b/c/d\"]]\n",
    "# Output:\n",
    "# [null,[],null,null,[\"a\"],\"hello\"]\n",
    "\n",
    "fs = FileSystem()\n",
    "\n",
    "fs.ls('/')"
   ]
  },
  {
   "cell_type": "code",
   "execution_count": 12,
   "metadata": {},
   "outputs": [
    {
     "data": {
      "text/plain": [
       "['a']"
      ]
     },
     "execution_count": 12,
     "metadata": {},
     "output_type": "execute_result"
    }
   ],
   "source": [
    "fs.mkdir(\"/a/b/c\")\n",
    "fs.addContentToFile(\"/a/b/c/d\", \"hello\")\n",
    "fs.ls(\"/\")"
   ]
  },
  {
   "cell_type": "code",
   "execution_count": 13,
   "metadata": {},
   "outputs": [
    {
     "data": {
      "text/plain": [
       "'hello'"
      ]
     },
     "execution_count": 13,
     "metadata": {},
     "output_type": "execute_result"
    }
   ],
   "source": [
    "fs.readContentFromFile(\"/a/b/c/d\")"
   ]
  }
 ],
 "metadata": {
  "kernelspec": {
   "display_name": "Python 3",
   "language": "python",
   "name": "python3"
  },
  "language_info": {
   "codemirror_mode": {
    "name": "ipython",
    "version": 3
   },
   "file_extension": ".py",
   "mimetype": "text/x-python",
   "name": "python",
   "nbconvert_exporter": "python",
   "pygments_lexer": "ipython3",
   "version": "3.8.10"
  },
  "orig_nbformat": 4,
  "vscode": {
   "interpreter": {
    "hash": "916dbcbb3f70747c44a77c7bcd40155683ae19c65e1c03b4aa3499c5328201f1"
   }
  }
 },
 "nbformat": 4,
 "nbformat_minor": 2
}
