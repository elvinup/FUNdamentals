{
 "cells": [
  {
   "attachments": {},
   "cell_type": "markdown",
   "metadata": {},
   "source": [
    "## Design Add and search Words Data Structure\n",
    "\n",
    "This problem is based off [this leetcode problem](https://leetcode.com/problems/design-add-and-search-words-data-structure/description/)\n",
    "\n",
    "Read the instructions there. "
   ]
  },
  {
   "attachments": {},
   "cell_type": "markdown",
   "metadata": {},
   "source": [
    "## Brainstorming\n",
    "\n",
    "This problem almost screams to use a Trie, but the trick is that we have to account for the `.` character which results in any character being valid during a search operation.\n",
    "\n",
    "To handle this search, it makes sense that we need to check for every letter available and go down those paths. Going down each of those paths sounds very similar to recursion. And if we view this problem as a set of nodes, this feels like an applicable choice for DFS as a graph problem.\n",
    "\n",
    "- addWord will be a typical Trie implementation\n",
    "- create a TrieNode() data structure just like how we learned in tries.ipynb\n",
    "- create a root triedNode in our WordDictionary class\n",
    "- For our search, we can keep it simple by just returning a dfs check\n",
    "- Our base case in the dfs function is checking if we get to the end of a word. To do this, we'll go one letter at a time per recursive call. \n",
    "  - if that Trie node we are on says it's a word, we return True\n",
    "  - if the character we're on is a `.`, we need to explore the neighbors and check them with the recursive dfs call, and go up 1 character and the next character's TrieNode()\n",
    "  - Our else is the typical check for a Trie search, but we need to be consistent with DFS so we should also iterate to the next character with recursion"
   ]
  },
  {
   "cell_type": "code",
   "execution_count": 4,
   "metadata": {},
   "outputs": [],
   "source": [
    "class TrieNode:\n",
    "    def __init__(self):\n",
    "        self.children = {}\n",
    "        self.is_word = False\n",
    "\n",
    "class WordDictionary:\n",
    "\n",
    "    def __init__(self):\n",
    "        self.root = TrieNode()\n",
    "        \n",
    "\n",
    "    def addWord(self, word: str) -> None:\n",
    "        curr = self.root\n",
    "        for c in word:\n",
    "            if c not in curr.children:\n",
    "                curr.children[c] = TrieNode()\n",
    "            curr = curr.children[c]\n",
    "        curr.is_word = True\n",
    "\n",
    "    def search(self, word: str) -> bool:\n",
    "        curr = self.root\n",
    "        return self.dfs(curr, word)\n",
    "\n",
    "    def dfs(self, curr, word):\n",
    "        if not word:\n",
    "            return curr.is_word\n",
    "        \n",
    "        if word[0] == '.':\n",
    "            for c in curr.children.keys():\n",
    "                if self.dfs(curr.children[c], word[1:]):\n",
    "                    return True\n",
    "        else:\n",
    "            if word[0] not in curr.children:\n",
    "                return False\n",
    "            curr = curr.children[word[0]]\n",
    "            return self.dfs(curr, word[1:])\n",
    "        \n",
    "\n",
    "\n",
    "# Your WordDictionary object will be instantiated and called as such:\n",
    "# obj = WordDictionary()\n",
    "# obj.addWord(word)\n",
    "# param_2 = obj.search(word)"
   ]
  }
 ],
 "metadata": {
  "kernelspec": {
   "display_name": "Python 3",
   "language": "python",
   "name": "python3"
  },
  "language_info": {
   "codemirror_mode": {
    "name": "ipython",
    "version": 3
   },
   "file_extension": ".py",
   "mimetype": "text/x-python",
   "name": "python",
   "nbconvert_exporter": "python",
   "pygments_lexer": "ipython3",
   "version": "3.8.10 (default, Nov 14 2022, 12:59:47) \n[GCC 9.4.0]"
  },
  "orig_nbformat": 4,
  "vscode": {
   "interpreter": {
    "hash": "916dbcbb3f70747c44a77c7bcd40155683ae19c65e1c03b4aa3499c5328201f1"
   }
  }
 },
 "nbformat": 4,
 "nbformat_minor": 2
}
