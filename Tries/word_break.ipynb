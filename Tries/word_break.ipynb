{
 "cells": [
  {
   "attachments": {},
   "cell_type": "markdown",
   "metadata": {},
   "source": [
    "# Word Break\n",
    "\n",
    "\n",
    "This problem is based off [this leetcode problem](https://leetcode.com/problems/word-break/description/)\n",
    "\n",
    "Read the instructions there. "
   ]
  },
  {
   "attachments": {},
   "cell_type": "markdown",
   "metadata": {},
   "source": [
    "## Brainstorming\n",
    "\n",
    "- This plays off as a typical DP problem that can be handled with recursion using a top down approach\n",
    "- Let's draw a visual\n",
    "\n",
    "![](../%20images/word_break_visual.png)\n",
    "\n",
    "- With a memo object for caching and reducing the word with each available word, we come to a pretty standard DP solution"
   ]
  },
  {
   "cell_type": "code",
   "execution_count": 26,
   "metadata": {},
   "outputs": [],
   "source": [
    "def wordBreak(self, s, wordDict):\n",
    "    def dp_recurse(s, wordDict, memo={}):\n",
    "        if s in memo:\n",
    "            return memo[s]\n",
    "        # Base case to return True\n",
    "        if s == \"\":\n",
    "            return True\n",
    "        for word in wordDict:\n",
    "            if word in s and s.index(word) == 0:\n",
    "                if dp_recurse(s[len(word):], wordDict, memo):\n",
    "                    memo[s] = True\n",
    "                    return True\n",
    "        memo[s] = False\n",
    "        return False\n",
    "    \n",
    "    return dp_recurse(s, wordDict)"
   ]
  },
  {
   "attachments": {},
   "cell_type": "markdown",
   "metadata": {},
   "source": [
    "## Analysis\n",
    "\n",
    "words in array = m\n",
    "length of s = n\n",
    "\n",
    "Runtime: O(n * m)"
   ]
  },
  {
   "attachments": {},
   "cell_type": "markdown",
   "metadata": {},
   "source": [
    "## Alternate Trie Approach\n",
    "\n",
    "Since we're looking up words in the dictionary along the way, we check if the string starts with a word. `startsWith` is a pretty good function we can steal from a Trie to make the algorithm a bit more efficient at the substring search, but not by much."
   ]
  },
  {
   "cell_type": "code",
   "execution_count": 27,
   "metadata": {},
   "outputs": [],
   "source": [
    "class TrieNode:\n",
    "    def __init__(self):\n",
    "        self.is_word = False\n",
    "        self.children = {}\n",
    "class Trie:\n",
    "    def __init__(self):\n",
    "        self.root = TrieNode()\n",
    "\n",
    "    def insert(self, word):\n",
    "        curr = self.root\n",
    "        for c in word:\n",
    "            if c not in curr.children:\n",
    "                curr.children[c] = TrieNode()\n",
    "            curr = curr.children[c]\n",
    "        curr.is_word = True\n",
    "    \n",
    "    def search(self, word):\n",
    "        curr = self.root\n",
    "        for c in word:\n",
    "            if c not in curr.children:\n",
    "                return False\n",
    "            curr = curr.children[c]\n",
    "        return curr.is_word\n",
    "    \n",
    "    def startsWith(self, word):\n",
    "        curr = self.root\n",
    "        for c in word:\n",
    "            if c not in curr.children:\n",
    "                return False\n",
    "            curr = curr.children[c]\n",
    "        return True\n",
    "\n",
    "def wordBreak(s, wordDict):\n",
    "    trie = Trie()\n",
    "    for word in wordDict:\n",
    "        trie.insert(word)\n",
    "        \n",
    "    def dp_recurse(s, wordDict, trie, memo={}):\n",
    "        if s in memo:\n",
    "            return memo[s]\n",
    "        # Base case to return True\n",
    "        if s == \"\":\n",
    "            return True\n",
    "        for i in range(len(s)):\n",
    "            if trie.startsWith(s[:i+1]):\n",
    "                if trie.search(s[:i+1]):\n",
    "                    if dp_recurse(s[i+1:], wordDict, trie, memo):\n",
    "                        memo[s] = True\n",
    "                        return True\n",
    "            else:\n",
    "                break\n",
    "        memo[s] = False\n",
    "        return False\n",
    "    \n",
    "    return dp_recurse(s, wordDict, trie)"
   ]
  },
  {
   "cell_type": "code",
   "execution_count": 28,
   "metadata": {},
   "outputs": [
    {
     "data": {
      "text/plain": [
       "True"
      ]
     },
     "execution_count": 28,
     "metadata": {},
     "output_type": "execute_result"
    }
   ],
   "source": [
    "wordBreak(\"leetcode\", [\"leet\", \"code\"])"
   ]
  },
  {
   "attachments": {},
   "cell_type": "markdown",
   "metadata": {},
   "source": [
    "## Analysis\n",
    "\n",
    "words in array = m\n",
    "length of s = n\n",
    "size of Trie = T\n",
    "\n",
    "Runtime: O(n * m)\n",
    "Space: O(n + T)"
   ]
  }
 ],
 "metadata": {
  "kernelspec": {
   "display_name": "Python 3",
   "language": "python",
   "name": "python3"
  },
  "language_info": {
   "codemirror_mode": {
    "name": "ipython",
    "version": 3
   },
   "file_extension": ".py",
   "mimetype": "text/x-python",
   "name": "python",
   "nbconvert_exporter": "python",
   "pygments_lexer": "ipython3",
   "version": "3.8.10"
  },
  "orig_nbformat": 4,
  "vscode": {
   "interpreter": {
    "hash": "916dbcbb3f70747c44a77c7bcd40155683ae19c65e1c03b4aa3499c5328201f1"
   }
  }
 },
 "nbformat": 4,
 "nbformat_minor": 2
}
