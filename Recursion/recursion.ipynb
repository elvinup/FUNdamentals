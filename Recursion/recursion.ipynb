{
 "cells": [
  {
   "cell_type": "markdown",
   "metadata": {},
   "source": [
    "# Recursion Tips\n",
    "\n",
    "- Recursion is a good choice for \n",
    "  - search\n",
    "  - enumeration\n",
    "  - divide and conquer\n",
    "- Running into deeply nested iterative loops (undefined # of loops)? Try recursion instead!\n",
    "- If asked to remove recursion, try mimicing the call stack with a *stack*\n",
    "- Easily remove recursion from tail-recursive programs by using a while loop (No stack required)\n",
    "- Same arguments being called more than once? Cache them like in Dynamic Programming"
   ]
  },
  {
   "cell_type": "markdown",
   "metadata": {},
   "source": [
    "# Recursive Problem Solving\n",
    "\n",
    "Do these 3 steps to approach a challenging recursion problem\n",
    "\n",
    "f(n) is a recursive function\n",
    "\n",
    "1. Show f(1) works (base case)\n",
    "2. Assume f(n - 1) works (hardest pill to swallow)\n",
    "3. Show f(n) works using f(n - 1)\n",
    "\n",
    "Credit to this video: https://www.youtube.com/watch?v=rf6uf3jNjbo"
   ]
  },
  {
   "cell_type": "code",
   "execution_count": 25,
   "metadata": {},
   "outputs": [
    {
     "data": {
      "text/plain": [
       "False"
      ]
     },
     "execution_count": 25,
     "metadata": {},
     "output_type": "execute_result"
    }
   ],
   "source": [
    "0 not in (0, 2)"
   ]
  },
  {
   "attachments": {},
   "cell_type": "markdown",
   "metadata": {},
   "source": [
    "## Fibonacci\n",
    "\n",
    "Let's do fibonacci. Starts like 0, 1, 1, 2, 3, 5, 8.. you get the gist, you've done this before."
   ]
  },
  {
   "attachments": {},
   "cell_type": "markdown",
   "metadata": {},
   "source": [
    "### Naiive way\n",
    "\n",
    "The easy, yet exponential recursive calls way. "
   ]
  },
  {
   "cell_type": "code",
   "execution_count": 26,
   "metadata": {},
   "outputs": [
    {
     "data": {
      "text/plain": [
       "9227465"
      ]
     },
     "execution_count": 26,
     "metadata": {},
     "output_type": "execute_result"
    }
   ],
   "source": [
    "def fib(num):\n",
    "    if num <= 1:\n",
    "        return num\n",
    "    return fib(num - 1) + fib(num - 2)\n",
    "\n",
    "fib(35)"
   ]
  },
  {
   "attachments": {},
   "cell_type": "markdown",
   "metadata": {},
   "source": [
    "Complexity is O(2^n) because each call we make 2 more recursive calls. Terrible efficiency soon as we try a number > 30"
   ]
  },
  {
   "cell_type": "code",
   "execution_count": 32,
   "metadata": {},
   "outputs": [
    {
     "data": {
      "text/plain": [
       "0"
      ]
     },
     "execution_count": 32,
     "metadata": {},
     "output_type": "execute_result"
    }
   ],
   "source": [
    "def fib(num, last_two=[0, 1]):\n",
    "    if num <= 1:\n",
    "        return last_two[num]\n",
    "    \n",
    "    last_two[0], last_two[1] = last_two[1], last_two[0] + last_two[1]\n",
    "\n",
    "    return fib(num - 1, last_two)\n",
    "\n",
    "fib(0)"
   ]
  },
  {
   "attachments": {},
   "cell_type": "markdown",
   "metadata": {},
   "source": [
    "Time complexity is just O(n) time and space (goes down 1 call stack) thanks to the beauty of dynamic programming"
   ]
  }
 ],
 "metadata": {
  "interpreter": {
   "hash": "aee8b7b246df8f9039afb4144a1f6fd8d2ca17a180786b69acc140d282b71a49"
  },
  "kernelspec": {
   "display_name": "Python 3.9.9 64-bit",
   "language": "python",
   "name": "python3"
  },
  "language_info": {
   "codemirror_mode": {
    "name": "ipython",
    "version": 3
   },
   "file_extension": ".py",
   "mimetype": "text/x-python",
   "name": "python",
   "nbconvert_exporter": "python",
   "pygments_lexer": "ipython3",
   "version": "3.10.12"
  },
  "orig_nbformat": 4
 },
 "nbformat": 4,
 "nbformat_minor": 2
}
