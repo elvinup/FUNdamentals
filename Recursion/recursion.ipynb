{
 "cells": [
  {
   "cell_type": "markdown",
   "metadata": {},
   "source": [
    "# Recursion Tips\n",
    "\n",
    "- Recursion is a good choice for \n",
    "  - search\n",
    "  - enumeration\n",
    "  - divide and conquer\n",
    "- Running into deeply nested iterative loops (undefined # of loops)? Try recursion instead!\n",
    "- If asked to remove recursion, try mimicing the call stack with a *stack*\n",
    "- Easily remove recursion from tail-recursive programs by using a while loop (No stack required)\n",
    "- Same arguments being called more than once? Cache them like in Dynamic Programming"
   ]
  },
  {
   "cell_type": "markdown",
   "metadata": {},
   "source": [
    "# Recursive Problem Solving\n",
    "\n",
    "Do these 3 steps to approach a challenging recursion problem\n",
    "\n",
    "f(n) is a recursive function\n",
    "\n",
    "1. Show f(1) works (base case)\n",
    "2. Assume f(n - 1) works (hardest pill to swallow)\n",
    "3. Show f(n) works using f(n - 1)\n",
    "\n",
    "Credit to this video: https://www.youtube.com/watch?v=rf6uf3jNjbo"
   ]
  },
  {
   "cell_type": "code",
   "execution_count": 6,
   "metadata": {},
   "outputs": [
    {
     "data": {
      "text/plain": [
       "False"
      ]
     },
     "execution_count": 6,
     "metadata": {},
     "output_type": "execute_result"
    }
   ],
   "source": [
    "0 not in (0, 2)"
   ]
  }
 ],
 "metadata": {
  "interpreter": {
   "hash": "aee8b7b246df8f9039afb4144a1f6fd8d2ca17a180786b69acc140d282b71a49"
  },
  "kernelspec": {
   "display_name": "Python 3.9.9 64-bit",
   "language": "python",
   "name": "python3"
  },
  "language_info": {
   "codemirror_mode": {
    "name": "ipython",
    "version": 3
   },
   "file_extension": ".py",
   "mimetype": "text/x-python",
   "name": "python",
   "nbconvert_exporter": "python",
   "pygments_lexer": "ipython3",
   "version": "3.9.9"
  },
  "orig_nbformat": 4
 },
 "nbformat": 4,
 "nbformat_minor": 2
}
