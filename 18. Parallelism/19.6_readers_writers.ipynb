{
 "cells": [
  {
   "attachments": {},
   "cell_type": "markdown",
   "metadata": {},
   "source": [
    "# 19.6 Takeaway - Readers Writers First Problem\n",
    "\n",
    "Consider an object s which is read from and written to by many threads. You need to ensure that no thread may access s for reading or writing while another thread is writing to s. Two or more readers may access s at the same time.\n",
    "\n",
    "Implement a synchronization mechanism for this readers-writers problem in python without busy waiting. \n",
    "\n",
    "## Brainstorming\n",
    "\n",
    "- We need 1 ReaderWriter class that holds two locks. LR for the read lock, LW for the write lock.\n",
    "- Have an int called `data` as an attribute of the ReaderWriter class.\n",
    "- Have another int for a `read_count` that counts how many read threads are active.\n",
    "- Need 1 class for a Reader Thread\n",
    "- Need 1 class for a Writer Thread"
   ]
  },
  {
   "cell_type": "code",
   "execution_count": 25,
   "metadata": {},
   "outputs": [],
   "source": [
    "import threading\n",
    "import time\n",
    "\n",
    "class ReaderWriter:\n",
    "    def __init__(self):\n",
    "        self.LR = threading.Condition()\n",
    "        self.LW = threading.Condition()\n",
    "        self.read_count = 0\n",
    "        self.data = 0\n",
    "\n",
    "class Reader(threading.Thread):\n",
    "    def __init__(self, rw):\n",
    "        super().__init__()\n",
    "        self.rw = rw\n",
    "\n",
    "    def run(self):\n",
    "        # Removing while True to test this properly\n",
    "        #while True:\n",
    "            with self.rw.LR:\n",
    "                self.rw.read_count += 1\n",
    "\n",
    "            print(f'Reader {self.name} reading data {self.rw.data}')\n",
    "            with self.rw.LR:\n",
    "                self.rw.read_count -= 1\n",
    "                self.rw.LR.notify()\n",
    "\n",
    "class Writer(threading.Thread):\n",
    "    def __init__(self, rw):\n",
    "        super().__init__()\n",
    "        self.rw = rw\n",
    "\n",
    "    def run(self):\n",
    "        # Removing while True to test this properly\n",
    "        # while True: \n",
    "            with self.rw.LW:\n",
    "                done = False\n",
    "                while not done:\n",
    "                    with self.rw.LR:\n",
    "                        if self.rw.read_count == 0:\n",
    "                            self.rw.data += 1\n",
    "                            done = True\n",
    "                        else:\n",
    "                            self.rw.LR.wait()\n",
    "                print(f'Writer {self.name} wrote data {self.rw.data}')\n",
    "\n"
   ]
  },
  {
   "cell_type": "code",
   "execution_count": 26,
   "metadata": {},
   "outputs": [
    {
     "name": "stdout",
     "output_type": "stream",
     "text": [
      "Reader Thread-141 reading data 0\n",
      "Reader Thread-142 reading data 0\n",
      "Reader Thread-143 reading data 0\n",
      "Reader Thread-144 reading data 0\n",
      "Reader Thread-145 reading data 0\n",
      "Writer Thread-146 wrote data 1\n",
      "Writer Thread-147 wrote data 2\n",
      "Final data value is 2\n"
     ]
    }
   ],
   "source": [
    "# Create a ReaderWriter instance\n",
    "rw = ReaderWriter()\n",
    "\n",
    "# Create some Reader and Writer threads\n",
    "readers = [Reader(rw) for i in range(5)]\n",
    "writers = [Writer(rw) for i in range(2)]\n",
    "\n",
    "# Start all the threads\n",
    "for t in readers:\n",
    "    t.start()\n",
    "\n",
    "for t in writers:\n",
    "    t.start()\n",
    "\n",
    "# Wait for all the threads to terminate\n",
    "for t in readers + writers:\n",
    "    t.join()\n",
    "\n",
    "# Check that the data is correct\n",
    "print(f'Final data value is {rw.data}')                "
   ]
  },
  {
   "attachments": {},
   "cell_type": "markdown",
   "metadata": {},
   "source": [
    "## Problem with the First Readers Writers Problem\n",
    "\n",
    "The implementation of the first reader-writer problem that uses a counter to keep track of the number of readers in the critical section can potentially lead to starvation of writers.\n",
    "\n",
    "The implementation gives priority to readers over writers. Specifically, the implementation ensures that any waiting reader thread can enter the critical section before any waiting writer thread can enter the critical section, even if the writer thread has been waiting longer. This can cause a situation where a writer is waiting indefinitely, while readers keep accessing the critical section.\n",
    "\n",
    "Therefore, if the system has a high number of readers, this implementation could potentially starve writers."
   ]
  },
  {
   "attachments": {},
   "cell_type": "markdown",
   "metadata": {},
   "source": [
    "# 19.7 Takeaway - With Writer Preference aka 2nd Readers Writer Problem\n",
    "\n",
    "We can try giving writers the preference because of the above problem."
   ]
  },
  {
   "cell_type": "code",
   "execution_count": 27,
   "metadata": {},
   "outputs": [],
   "source": [
    "import threading\n",
    "import time\n",
    "import random\n",
    "\n",
    "class ReaderWriter:\n",
    "\n",
    "    def __init__(self):\n",
    "        self.data = 0\n",
    "        self.read_count = 0\n",
    "        self.write_count = 0\n",
    "        self.lock = threading.Lock()\n",
    "        self.can_read = threading.Condition(self.lock)\n",
    "        self.can_write = threading.Condition(self.lock)\n",
    "\n",
    "    def read(self, name):\n",
    "        with self.can_read:\n",
    "            # Wait until there are no writers\n",
    "            while self.write_count > 0:\n",
    "                self.can_read.wait()\n",
    "\n",
    "            # Increment read count\n",
    "            self.read_count += 1\n",
    "\n",
    "        # Read data\n",
    "        print(f'{name} reading {self.data}')\n",
    "\n",
    "        with self.can_read:\n",
    "            # Decrement read count\n",
    "            self.read_count -= 1\n",
    "\n",
    "            # Notify waiting writers if no readers\n",
    "            if self.read_count == 0:\n",
    "                self.can_write.notify()\n",
    "\n",
    "    def write(self, name):\n",
    "        with self.can_write:\n",
    "            # Wait until there are no readers or writers\n",
    "            while self.read_count > 0 or self.write_count > 0:\n",
    "                self.can_write.wait()\n",
    "\n",
    "            # Increment write count\n",
    "            self.write_count += 1\n",
    "\n",
    "        # Write data\n",
    "        self.data += 1\n",
    "        print(f'{name} writing {self.data}')\n",
    "\n",
    "        with self.can_write:\n",
    "            # Decrement write count\n",
    "            self.write_count -= 1\n",
    "\n",
    "            # Notify waiting readers or writers\n",
    "            self.can_write.notify()\n",
    "            self.can_read.notify()"
   ]
  },
  {
   "cell_type": "code",
   "execution_count": 28,
   "metadata": {},
   "outputs": [
    {
     "name": "stdout",
     "output_type": "stream",
     "text": [
      "reader 0 reading 0\n",
      "reader 1 reading 0\n",
      "reader 2 reading 0\n",
      "reader 3 reading 0\n",
      "reader 4 reading 0\n",
      "writer 0 writing 1\n",
      "writer 1 writing 2\n"
     ]
    }
   ],
   "source": [
    "# Test the implementation\n",
    "def test():\n",
    "    rw = ReaderWriter()\n",
    "\n",
    "    # Start reader threads\n",
    "    for i in range(5):\n",
    "        t = threading.Thread(target=rw.read, args=(f\"reader {i}\",))\n",
    "        t.start()\n",
    "\n",
    "    # Start writer threads\n",
    "    for i in range(2):\n",
    "        t = threading.Thread(target=rw.write, args=(f\"writer {i}\",))\n",
    "        t.start()\n",
    "\n",
    "    '''\n",
    "    # Wait for all threads to finish\n",
    "    for t in threading.enumerate():\n",
    "        t.join()\n",
    "    '''\n",
    "\n",
    "test()"
   ]
  }
 ],
 "metadata": {
  "kernelspec": {
   "display_name": "Python 3.9.9 64-bit",
   "language": "python",
   "name": "python3"
  },
  "language_info": {
   "codemirror_mode": {
    "name": "ipython",
    "version": 3
   },
   "file_extension": ".py",
   "mimetype": "text/x-python",
   "name": "python",
   "nbconvert_exporter": "python",
   "pygments_lexer": "ipython3",
   "version": "3.10.9"
  },
  "orig_nbformat": 4,
  "vscode": {
   "interpreter": {
    "hash": "aee8b7b246df8f9039afb4144a1f6fd8d2ca17a180786b69acc140d282b71a49"
   }
  }
 },
 "nbformat": 4,
 "nbformat_minor": 2
}
