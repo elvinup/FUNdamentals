{
 "cells": [
  {
   "cell_type": "markdown",
   "metadata": {},
   "source": [
    "# 10.1 Takeaway\n",
    "\n",
    "## Merging 3+ Sorted Arrays\n",
    "\n",
    "In this problem, we are tasked with merging multiple sorted arrays into one.\n",
    "\n",
    "This is harder than the easy problem of just merging 2 sorted arrays where you can just grab the min of each.\n",
    "\n",
    "KEY WORD: SORTED!\n",
    "\n",
    "If a problem tells you stuff is already sorted, you almost 100% of the time need to take advantage of that.\n",
    "\n",
    "In this case, it's easy to keep the heap size as large as the number of arrays, by just getting the minimum of each array.\n",
    "\n",
    "\n",
    "Quick Tip: If an element can potentially be the number `0`, do NOT say `if elem:` as your condition, instead use `if elem is not None:`\n",
    "This is because you could skip 0's if you needed to include them. This happened to me while dealing with this problem..\n",
    "\n",
    "## Enumerate\n",
    "\n",
    "Python's enumerate is great for grabbing an iterator and the index number"
   ]
  },
  {
   "cell_type": "code",
   "execution_count": 19,
   "metadata": {},
   "outputs": [
    {
     "name": "stdout",
     "output_type": "stream",
     "text": [
      "index:  0 \telement: 5\n",
      "index:  1 \telement: 3\n",
      "index:  2 \telement: 2\n",
      "index:  3 \telement: 1\n"
     ]
    }
   ],
   "source": [
    "elems = [5, 3, 2, 1]\n",
    "\n",
    "for i, it in enumerate(elems):\n",
    "    print('index: ', i, '\\telement:', it)"
   ]
  },
  {
   "cell_type": "markdown",
   "metadata": {},
   "source": [
    "### iter() function\n",
    "\n",
    "Now let's say we want to grab iterators across a list of lists. This way we can keep track of iterations between them.\n",
    "\n",
    "The iter() function creates an object which can be iterated one element at a time, using the next() function\n",
    "\n",
    "### next() function\n",
    "\n",
    "THe next() function is used to sequentially get elements from an iterator.\n",
    "\n",
    "Important! \n",
    "Best practice is to use next(iter_object, None), so that the default return is None if that's the end of the list."
   ]
  },
  {
   "cell_type": "code",
   "execution_count": 20,
   "metadata": {},
   "outputs": [
    {
     "name": "stdout",
     "output_type": "stream",
     "text": [
      "3\n",
      "5\n",
      "7\n",
      "None\n"
     ]
    }
   ],
   "source": [
    "elems = [[3, 5, 7], [0, 6], [0, 6, 28]]\n",
    "\n",
    "sorted_array_iters = [iter(x) for x in elems]\n",
    "\n",
    "# Watch how next iterates through a list, remember to use None as the second argument to be safe!\n",
    "elem = 1\n",
    "while elem:\n",
    "    elem = next(sorted_array_iters[0], None)\n",
    "    print(elem)"
   ]
  },
  {
   "cell_type": "markdown",
   "metadata": {},
   "source": [
    "## Combining functions\n",
    "\n",
    "Now for our merge sort, we want to \n",
    "\n",
    "- take this list of sorted arrays\n",
    "- create a list of iterators starting from the beginning of each array\n",
    "- use next to iterate through\n",
    "- push to a min-heap along the way\n",
    "    - Track 2 elements as a tuple\n",
    "\n",
    "\n",
    "## Heap property\n",
    "\n",
    "Fun Fact!\n",
    "\n",
    "If you push tuples to a heapq object, it will prioritize the min-heap by the first element in the tuple! Very convenient, but must remember that"
   ]
  },
  {
   "cell_type": "code",
   "execution_count": 1,
   "metadata": {},
   "outputs": [
    {
     "name": "stdout",
     "output_type": "stream",
     "text": [
      "Min heap initially:  [(0, 1), (3, 0), (0, 2)]\n",
      "0 1\n",
      "0 2\n",
      "3 0\n"
     ]
    }
   ],
   "source": [
    "import heapq\n",
    "\n",
    "min_heap = []\n",
    "\n",
    "elems = [[3, 5, 7], [0, 6], [0, 6, 28]]\n",
    "sorted_array_iters = [iter(x) for x in elems]\n",
    "for index, it in enumerate(sorted_array_iters):\n",
    "    first_elem = next(it, None)\n",
    "    # Pushing a tuple, will prioritize by the first element\n",
    "    heapq.heappush(min_heap, (first_elem, index))\n",
    "\n",
    "print(\"Min heap initially: \", min_heap)\n",
    "\n",
    "# Watch as the min heap pops and releases by the minimum first element\n",
    "while min_heap:\n",
    "    elem, index = heapq.heappop(min_heap)\n",
    "    print(elem, index)"
   ]
  }
 ],
 "metadata": {
  "kernelspec": {
   "display_name": "Python 3.8.10 64-bit",
   "language": "python",
   "name": "python3"
  },
  "language_info": {
   "codemirror_mode": {
    "name": "ipython",
    "version": 3
   },
   "file_extension": ".py",
   "mimetype": "text/x-python",
   "name": "python",
   "nbconvert_exporter": "python",
   "pygments_lexer": "ipython3",
   "version": "3.8.10"
  },
  "orig_nbformat": 4,
  "vscode": {
   "interpreter": {
    "hash": "916dbcbb3f70747c44a77c7bcd40155683ae19c65e1c03b4aa3499c5328201f1"
   }
  }
 },
 "nbformat": 4,
 "nbformat_minor": 2
}
