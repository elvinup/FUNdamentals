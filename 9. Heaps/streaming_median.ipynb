{
 "cells": [
  {
   "cell_type": "markdown",
   "metadata": {},
   "source": [
    "# 10.5 Takeaway - Streaming Median\n",
    "\n",
    "In this problem, we have to go through a list. And without reading previous values, we must calculate the running median and return a list of those medians.\n",
    "\n",
    "Example: \n",
    "\n",
    "```\n",
    "Input:\n",
    "1, 0, 3, 5\n",
    "\n",
    "Output:\n",
    "1, 0.5, 1, 2\n",
    "```\n",
    "\n",
    "\n",
    "The key trick is to actually make use of 2 heaps. A min heap and a max heap\n",
    "\n",
    "Put each elem in both heaps\n",
    "\n",
    "- Flip between runs\n",
    "    - Push to min heap\n",
    "    - Pop min value out of min heap, and push it to max heap\n",
    "- Iteratio 2\n",
    "    - Push to max heap\n",
    "    - Pop max value out of max heap, and push it to min heap\n",
    "\n",
    "\n",
    "\n",
    "Tips learned along the way"
   ]
  },
  {
   "cell_type": "code",
   "execution_count": 2,
   "metadata": {},
   "outputs": [
    {
     "name": "stdout",
     "output_type": "stream",
     "text": [
      "[-5, -3, -1, 0]\n",
      "5\n"
     ]
    }
   ],
   "source": [
    "# Even though python's heapq only supplies a min heap, we can simulate a max heap by adding the negative of a value for every push. \n",
    "# Just remember to multiply it by -1 again when you pop the value out of it or peek from the top!\n",
    "import heapq\n",
    "\n",
    "example = [1, 0, 3, 5]\n",
    "maxheap = []\n",
    "\n",
    "for elem in example:\n",
    "    heapq.heappush(maxheap, -elem)\n",
    "\n",
    "# Notice how the values are sorted by highest to lowest now if you imagine dropping off the - sign\n",
    "print(maxheap)\n",
    "\n",
    "# Peeking the top is just a matter of checking the first index\n",
    "print(-maxheap[0])"
   ]
  },
  {
   "cell_type": "markdown",
   "metadata": {},
   "source": [
    "## Slicker Code\n",
    "\n",
    "My first draft of a solution has if statements checking if the max heap was bigger or if the min heap was bigger, peek on the bigger one.\n",
    "\n",
    "My original solution looked like:"
   ]
  },
  {
   "cell_type": "code",
   "execution_count": 4,
   "metadata": {},
   "outputs": [],
   "source": [
    "# My First working example\n",
    "\n",
    "import heapq\n",
    "\n",
    "# Loop through the sequence\n",
    "# we need to alternate between heaps\n",
    "# Need to calculate the median from top of min and top of max heaps based on len\n",
    "\n",
    "def online_median(sequence):\n",
    "    # TODO - you fill in here.\n",
    "    # 2 heaps\n",
    "    results = []\n",
    "\n",
    "    min_heap = []\n",
    "    max_heap = []\n",
    "\n",
    "    item, i = next(sequence), 0\n",
    "\n",
    "    while item != None:\n",
    "        if i % 2 == 0:\n",
    "            heapq.heappush(min_heap, item)\n",
    "            smallest_elem = heapq.heappop(min_heap)\n",
    "            heapq.heappush(max_heap,  -1 * smallest_elem)\n",
    "        else:\n",
    "            heapq.heappush(max_heap, -1 * item)\n",
    "            biggest_elem = -1 * heapq.heappop(max_heap)\n",
    "            heapq.heappush(min_heap, biggest_elem)\n",
    "\n",
    "        if len(min_heap) == len(max_heap):\n",
    "            median = float( (min_heap[0] + max_heap[0] * -1) / 2)\n",
    "        elif len(min_heap) > len(max_heap):\n",
    "            median = min_heap[0]\n",
    "        elif len(max_heap) > len(min_heap):\n",
    "            median = max_heap[0] * -1\n",
    "\n",
    "        #print('Min heap: ', min_heap, 'Max heap: ', max_heap)\n",
    "        results.append(float(median))\n",
    "        item = next(sequence, None)\n",
    "        i += 1\n",
    "\n",
    "    return results\n"
   ]
  },
  {
   "cell_type": "markdown",
   "metadata": {},
   "source": [
    "- We can set a default value if a heap is empty"
   ]
  },
  {
   "cell_type": "code",
   "execution_count": 8,
   "metadata": {},
   "outputs": [
    {
     "data": {
      "text/plain": [
       "[1]"
      ]
     },
     "execution_count": 8,
     "metadata": {},
     "output_type": "execute_result"
    }
   ],
   "source": [
    "example = [1, 0, 3, 5]\n",
    "\n",
    "min_heap = []\n",
    "max_heap = []\n",
    "\n",
    "\n",
    "heapq.heappush(min_heap, heapq.heappushpop(max_heap, example[0]))\n",
    "min_heap"
   ]
  },
  {
   "cell_type": "markdown",
   "metadata": {},
   "source": [
    "We can reduce the fluff by choosing to set the min heap or max heap as the bigger one every time if there's a difference in length!\n",
    "\n",
    "This way we can get rid of some ugly if else logic"
   ]
  },
  {
   "cell_type": "code",
   "execution_count": null,
   "metadata": {},
   "outputs": [],
   "source": [
    "import heapq\n",
    "\n",
    "# Loop through the sequence\n",
    "# we need to alternate between heaps\n",
    "# Need to calculate the median from top of min and top of max heaps based on len\n",
    "\n",
    "def online_median(sequence):\n",
    "    # TODO - you fill in here.\n",
    "    # 2 heaps\n",
    "    results = []\n",
    "\n",
    "    min_heap = []\n",
    "    max_heap = []\n",
    "\n",
    "    item, i = next(sequence), 0\n",
    "\n",
    "    # We are ensuring the only heap that every gets bigger is the max heap since we push there first\n",
    "    while item != None:\n",
    "        heapq.heappush(min_heap, item)\n",
    "        smallest_elem = heapq.heappop(min_heap)\n",
    "        heapq.heappush(max_heap,  -1 * smallest_elem)\n",
    "\n",
    "        if len(max_heap) > len(min_heap):\n",
    "            heapq.heappush(max_heap, -1 * item)\n",
    "            biggest_elem = -1 * heapq.heappop(max_heap)\n",
    "            heapq.heappush(min_heap, biggest_elem)\n",
    "\n",
    "        if len(min_heap) == len(max_heap):\n",
    "            median = float( (min_heap[0] + max_heap[0] * -1) / 2)\n",
    "        else:\n",
    "            median = max_heap[0] * -1\n",
    "\n",
    "        #print('Min heap: ', min_heap, 'Max heap: ', max_heap)\n",
    "        results.append(float(median))\n",
    "        item = next(sequence, None)\n",
    "        i += 1\n",
    "\n",
    "    return results"
   ]
  }
 ],
 "metadata": {
  "interpreter": {
   "hash": "916dbcbb3f70747c44a77c7bcd40155683ae19c65e1c03b4aa3499c5328201f1"
  },
  "kernelspec": {
   "display_name": "Python 3.8.10 64-bit",
   "language": "python",
   "name": "python3"
  },
  "language_info": {
   "codemirror_mode": {
    "name": "ipython",
    "version": 3
   },
   "file_extension": ".py",
   "mimetype": "text/x-python",
   "name": "python",
   "nbconvert_exporter": "python",
   "pygments_lexer": "ipython3",
   "version": "3.8.10"
  },
  "orig_nbformat": 4
 },
 "nbformat": 4,
 "nbformat_minor": 2
}
