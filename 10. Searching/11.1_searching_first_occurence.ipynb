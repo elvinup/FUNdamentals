{
 "cells": [
  {
   "cell_type": "markdown",
   "metadata": {},
   "source": [
    "## 11.1 Takeaway - Search sorted array for first Occurence of k\n",
    "\n",
    "This is basically a good practice problem for implementing binary search by hand since the solution is the same but with a slight twist to it. \n",
    "\n",
    "We just need to keep doing binary search as long as it's not the first result.\n",
    "\n",
    "Only thing i tripped up on was remembering the while condition.\n",
    "\n",
    "It's `while start <= end` not `while start != end`\n",
    "\n",
    "O(log(n))"
   ]
  },
  {
   "cell_type": "code",
   "execution_count": 12,
   "metadata": {},
   "outputs": [
    {
     "name": "stdout",
     "output_type": "stream",
     "text": [
      "6\n"
     ]
    }
   ],
   "source": [
    "n = [-14, -10, 2, 108, 108, 243, 285, 285, 285, 401]\n",
    "\n",
    "\n",
    "def binary_search_first_occurence(array, k):\n",
    "    start, end = 0, len(array) - 1\n",
    "    while start <= end:\n",
    "        middle = start + (end - start) // 2\n",
    "        if array[middle] == k and (middle == 0 or array[middle-1] != k):\n",
    "            return middle\n",
    "        if array[middle] == k and (middle != 0 and array[middle-1] == k):\n",
    "            end = middle - 1\n",
    "        elif array[middle] < k:\n",
    "            start = middle + 1\n",
    "        else:\n",
    "            end = middle - 1\n",
    "    return -1\n",
    "\n",
    "\n",
    "print(binary_search_first_occurence(n, 285))\n"
   ]
  }
 ],
 "metadata": {
  "interpreter": {
   "hash": "916dbcbb3f70747c44a77c7bcd40155683ae19c65e1c03b4aa3499c5328201f1"
  },
  "kernelspec": {
   "display_name": "Python 3.8.10 64-bit",
   "language": "python",
   "name": "python3"
  },
  "language_info": {
   "codemirror_mode": {
    "name": "ipython",
    "version": 3
   },
   "file_extension": ".py",
   "mimetype": "text/x-python",
   "name": "python",
   "nbconvert_exporter": "python",
   "pygments_lexer": "ipython3",
   "version": "3.8.10"
  },
  "orig_nbformat": 4
 },
 "nbformat": 4,
 "nbformat_minor": 2
}
