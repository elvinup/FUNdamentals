{
 "cells": [
  {
   "cell_type": "markdown",
   "metadata": {},
   "source": [
    "# 11.4 Takeaway - Get the last integer who's square is below a given value\n",
    "\n",
    "Example:\n",
    "\n",
    "Input = 300\n",
    "\n",
    "17 ^ 2 = 289\n",
    "\n",
    "answer = 17\n",
    "\n",
    "The use of left shifting kinda acts as binary search. The naiive approach is to start from 1^2, and go all the way to 18^2 and return 17 as soon it goes over the value. This is O(n) time, but we can reduce this to O(log(n)) by left shifting to find the answer faster.\n",
    "\n",
    "```\n",
    "0001 ^ 2 = 1\n",
    "\n",
    "0010^2 = 4\n",
    "\n",
    "0100^2 = 16\n",
    "\n",
    "1000^2 = 64\n",
    "\n",
    "10000^2 = 256\n",
    "\n",
    "110000^2 = 1024\n",
    "```\n",
    "\n",
    "The above make 6 calculations instead of 17 before realizing we should start at 16, and then go up one at a time till we reach an answer."
   ]
  },
  {
   "cell_type": "code",
   "execution_count": 4,
   "metadata": {},
   "outputs": [
    {
     "name": "stdout",
     "output_type": "stream",
     "text": [
      "17\n"
     ]
    }
   ],
   "source": [
    "\n",
    "def square_root(k):\n",
    "\n",
    "\tif k <= 1:\n",
    "\t\treturn k\n",
    "\t\n",
    "\tresult, squared_result  = 1, 1\n",
    "\twhile squared_result <= k:\n",
    "\t\tresult <<= 1\n",
    "\t\tsquared_result = result ** 2\n",
    "\t\n",
    "\tif squared_result > k:\n",
    "\t\tresult >>= 1\n",
    "\t\tsquared_result = result ** 2\n",
    "\n",
    "\twhile squared_result <= k:\n",
    "\t\tresult += 1\n",
    "\t\tsquared_result = result ** 2\n",
    "\n",
    "\tif squared_result > k:\n",
    "\t\treturn result - 1\n",
    "\n",
    "\treturn result\n",
    "\n",
    "print(square_root(300))"
   ]
  }
 ],
 "metadata": {
  "interpreter": {
   "hash": "916dbcbb3f70747c44a77c7bcd40155683ae19c65e1c03b4aa3499c5328201f1"
  },
  "kernelspec": {
   "display_name": "Python 3.8.10 64-bit",
   "language": "python",
   "name": "python3"
  },
  "language_info": {
   "codemirror_mode": {
    "name": "ipython",
    "version": 3
   },
   "file_extension": ".py",
   "mimetype": "text/x-python",
   "name": "python",
   "nbconvert_exporter": "python",
   "pygments_lexer": "ipython3",
   "version": "3.8.10"
  },
  "orig_nbformat": 4
 },
 "nbformat": 4,
 "nbformat_minor": 2
}
