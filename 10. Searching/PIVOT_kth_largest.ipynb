{
 "cells": [
  {
   "cell_type": "markdown",
   "metadata": {},
   "source": [
    "# 11.8 Takeaway - Kth Largest Element (AND learning to Pivot!)\n",
    "\n",
    "Given an unsorted array, get the kth largest element.\n",
    "\n",
    "This problem is pretty tricky.\n",
    "\n",
    "Mainly because an initial gut reaction is to use a heap because of the *kth* word in the problem.\n",
    "\n",
    "This *would* lead to a n(log(k)) solution, which is better than an n(log(n)) solution that just sorts the array and returns array[k-1]. \n",
    "\n",
    "\n",
    "HOWEVER!\n",
    "\n",
    "Key thing to understand here is that if we go with this, we're doing more work than the problem requires by getting everything from the first largest to the kth largest array. We JUST want the kth element, nothing else.\n",
    "\n",
    "\n",
    "An even better solution to take advantage of this, which an interviewer is looking for, is to instead practice the use of binary search to optimize the solution even better. \n",
    "\n",
    "We can simulate binary search by using a **pivot**, kinda like in quick sort. \n",
    "\n",
    "Just like how we update the **start** and **end** variables in binary search, we can make a pivot to dance around and only move around the pivot until we reach an index that's *k* spaces from the end.\n",
    "\n",
    "\n",
    "Pivot Example\n",
    "\n",
    "From https://youtu.be/berc1oR-iPk?t=442\n",
    "\n",
    "O(n) time, O(1) in place pivot"
   ]
  },
  {
   "cell_type": "code",
   "execution_count": 2,
   "metadata": {},
   "outputs": [
    {
     "name": "stdout",
     "output_type": "stream",
     "text": [
      "[3, 2, 1, 4, 5, 6, 7, 8]\n"
     ]
    }
   ],
   "source": [
    "\n",
    "\n",
    "array = [3, 8, 2, 5, 1, 4, 7, 6]\n",
    "\n",
    "#pivot_value = 5\n",
    "\n",
    "#[3, 8, 2, 6, 1, 4, 7, 5]\n",
    "\n",
    "#[3, 2, 1, 6, 8]\n",
    "\n",
    "#first_greater = 1\n",
    "#curr = 1\n",
    "\n",
    "'''\n",
    "Swap 5 with the last value to put it in the end, away from the partition algorithm\n",
    "\n",
    "Only iterate from start to end-1, or \"for i in range(start, end)\"\n",
    "\n",
    "We need 1 extra pointer, first_greater tracks the first number greater than the pivot value (5)\n",
    "\n",
    "If we run into a number < pivot_value (5), swap it with the first_greater variable\n",
    "Then increase first_greater += 1 since you're now on a smaller number, next number is the new first_greater.\n",
    "\n",
    "Keep doing this till the end, then we swap the first_greater with the pivot_value we saved at the end of the array\n",
    "'''\n",
    "array = [3, 8, 2, 5, 1, 4, 7, 6]\n",
    "\n",
    "\n",
    "def partition_around_pivot(start, end, pivot_idx):\n",
    "\n",
    "    # Move pivot to the end of the array\n",
    "    pivot_value = array[pivot_idx]\n",
    "    array[pivot_idx], array[end] = array[end], array[pivot_idx]\n",
    "\n",
    "    first_greater_idx = start\n",
    "    for i in range(start, end):\n",
    "        # If running into a smaller value than the pivot\n",
    "        if array[i] < pivot_value:\n",
    "            array[i], array[first_greater_idx] = array[first_greater_idx], array[i]\n",
    "            first_greater_idx += 1\n",
    "        \n",
    "    array[end], array[first_greater_idx] = array[first_greater_idx], array[end]\n",
    "\n",
    "\n",
    "pivot_index = 3\n",
    "partition_around_pivot(0, len(array) - 1, pivot_index)\n",
    "print(array)"
   ]
  },
  {
   "cell_type": "code",
   "execution_count": 18,
   "metadata": {},
   "outputs": [
    {
     "name": "stdout",
     "output_type": "stream",
     "text": [
      "6\n"
     ]
    }
   ],
   "source": [
    "import random\n",
    "\n",
    "def find_kth_largest(k, A):\n",
    "    if k > len(A) or k < 0:\n",
    "        return -1\n",
    "\n",
    "    def partition_around_pivot(start, end, pivot_idx):\n",
    "\n",
    "        # Move pivot to the end of the array\n",
    "        pivot_value = A[pivot_idx]\n",
    "        A[pivot_idx], A[end] = A[end], A[pivot_idx]\n",
    "\n",
    "        first_greater_idx = start\n",
    "        for i in range(start, end):\n",
    "            # If running into a smaller value than the pivot\n",
    "            if A[i] < pivot_value:\n",
    "                A[i], A[first_greater_idx] = A[first_greater_idx], A[i]\n",
    "                first_greater_idx += 1\n",
    "        \n",
    "        A[end], A[first_greater_idx] = A[first_greater_idx], A[end]\n",
    "        return first_greater_idx\n",
    "\n",
    "    \n",
    "    first_greater_idx = -1\n",
    "\n",
    "    start = 0\n",
    "    end = len(A) - 1\n",
    "\n",
    "    target = len(A) - k\n",
    "    while first_greater_idx != target:\n",
    "        pivot_index = random.randint(start, end)\n",
    "        first_greater_idx = partition_around_pivot(start, end, pivot_index)\n",
    "        \n",
    "        if target < first_greater_idx:\n",
    "            end = first_greater_idx - 1\n",
    "        elif target > first_greater_idx:\n",
    "            start = first_greater_idx + 1\n",
    "\n",
    "    return A[first_greater_idx]\n",
    "\n",
    "array = [3, 8, 2, 5, 1, 4, 7, 6]\n",
    "print(find_kth_largest(3, array))"
   ]
  },
  {
   "cell_type": "markdown",
   "metadata": {},
   "source": [
    "# Time Complexity\n",
    "\n",
    "Like quicksort, the Average run time is O(n), which in reality this algorithm is better the bigger the array typically, especially as we pick a random pivot each time.\n",
    "\n",
    "O(n^2) worst time for the small chance we keep picking the biggest or smallest value randomly\n",
    "\n",
    "O(1) space for doing everything in place with the pivot"
   ]
  }
 ],
 "metadata": {
  "interpreter": {
   "hash": "916dbcbb3f70747c44a77c7bcd40155683ae19c65e1c03b4aa3499c5328201f1"
  },
  "kernelspec": {
   "display_name": "Python 3.8.10 64-bit",
   "language": "python",
   "name": "python3"
  },
  "language_info": {
   "codemirror_mode": {
    "name": "ipython",
    "version": 3
   },
   "file_extension": ".py",
   "mimetype": "text/x-python",
   "name": "python",
   "nbconvert_exporter": "python",
   "pygments_lexer": "ipython3",
   "version": "3.8.10"
  },
  "orig_nbformat": 4
 },
 "nbformat": 4,
 "nbformat_minor": 2
}
