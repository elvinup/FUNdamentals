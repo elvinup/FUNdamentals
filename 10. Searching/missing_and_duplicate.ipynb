{
 "cells": [
  {
   "cell_type": "markdown",
   "metadata": {},
   "source": [
    "# 11.10 Takeaway - Missing and Duplicate Number\n",
    "\n",
    "This problem starts out by listing 3 ways to calculate different useful numbers\n",
    "\n",
    "- array[0..n-1], with 1 missing number\n",
    "  - ((n-1)n / 2) is the theoretical sum of such an array\n",
    "  - ((n-1)n) / 2) - sum(array) = missing number\n",
    "- array[0..n+1], with 1 duplicate\n",
    "  - sum(array) - ((n-1)n) / 2) = duplicate number\n",
    "- array[0..n-1], with 1 missing number\n",
    "  - (XORing each element in array[0..n-1]) XOR (XORing each element in [0..n-1]) = missing number\n",
    "  - This is because XOR'ing 2 arrays will **cancel out** equivalent values. That's the nature of *exclusive* OR! \n",
    "  - Also, XOR is **commutative**, so numbers can be done XOR'd in any order and end up with the same result!\n",
    "  \n",
    "\n",
    "In this problem, we need to calculate the duplicate AND the missing number when given an array of n integers, [0..n-1]\n",
    "\n",
    "Example:\n",
    "\n",
    "Input = [4, 2, 0, 1, 2]\n",
    "Output: duplicate = 2; missing = 3\n",
    "\n",
    "(For the output, we can return a collection that has a duplicate and missing object)\n",
    "\n",
    "We are shooting for O(n) time, O(1) space, so no hashmaps for easy caching!"
   ]
  },
  {
   "cell_type": "markdown",
   "metadata": {},
   "source": [
    "## The Trick\n",
    "\n",
    "We know that the missing and duplicate numbers MUST be different numbers. \n",
    "\n",
    "Because of this, we can XOR all the numbers in the input array, and the theoretical [0..n-1] array. Altogether, we are left with a number.\n",
    "\n",
    "For example:\n",
    "\n",
    "[4, 2, 0, 1, 2] XOR [0, 1, 2, 3, 4] = 001\n",
    "\n",
    "(An easier way to look at it is)\n",
    "\n",
    "[0, 1, 2, 2, 4]\n",
    "[0, 1, 2, 3, 4]\n",
    "\n",
    "Common numbers cancel out, leaving 2 and 3 aka 010 XOR 011 = 001\n",
    "\n",
    "\n",
    "Basically we want to take the LSB of this number, and XOR every number in both arrays that have that common LSB. In this case, XOR'ing anything common with 001.\n",
    "\n",
    "This will leave us with AN answer, but it will either be the missing OR the duplicate number.\n",
    "\n",
    "We can deduce if it's the duplicate if it's already in the array. For the other element, just do the duplicate XOR 001, and we'll get the opposite or missing number.\n",
    "\n",
    "We do missing XOR 001 otherwise to get the duplicate if it's not already in the array.\n"
   ]
  },
  {
   "cell_type": "markdown",
   "metadata": {},
   "source": [
    "# NOT Operator\n",
    "\n",
    "~ is the NOT operator."
   ]
  },
  {
   "cell_type": "code",
   "execution_count": 10,
   "metadata": {},
   "outputs": [
    {
     "name": "stdout",
     "output_type": "stream",
     "text": [
      "-1\n",
      "1\n"
     ]
    }
   ],
   "source": [
    "one = 1\n",
    "\n",
    "not_one = ~(1-1)\n",
    "print(not_one)\n",
    "\n",
    "print(one & not_one)\n"
   ]
  }
 ],
 "metadata": {
  "interpreter": {
   "hash": "916dbcbb3f70747c44a77c7bcd40155683ae19c65e1c03b4aa3499c5328201f1"
  },
  "kernelspec": {
   "display_name": "Python 3.8.10 64-bit",
   "language": "python",
   "name": "python3"
  },
  "language_info": {
   "codemirror_mode": {
    "name": "ipython",
    "version": 3
   },
   "file_extension": ".py",
   "mimetype": "text/x-python",
   "name": "python",
   "nbconvert_exporter": "python",
   "pygments_lexer": "ipython3",
   "version": "3.8.10"
  },
  "orig_nbformat": 4
 },
 "nbformat": 4,
 "nbformat_minor": 2
}
