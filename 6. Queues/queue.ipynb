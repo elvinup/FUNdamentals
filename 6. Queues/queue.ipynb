{
 "cells": [
  {
   "cell_type": "markdown",
   "metadata": {},
   "source": [
    "# Implement a Queue\n",
    "\n",
    "It's ideal to use a doubly linked list using the deque class lib so we can use the popleft() method for dequeues\n",
    "\n",
    "But we can implement a queue with an array as well"
   ]
  },
  {
   "cell_type": "code",
   "execution_count": 11,
   "metadata": {},
   "outputs": [],
   "source": [
    "from collections import deque \n",
    "\n",
    "class Queue:\n",
    "    def __init__(self) -> None:\n",
    "        self._data = deque()\n",
    "    \n",
    "    def enqueue(self, x: int) -> None: \n",
    "        self._data.append(x)\n",
    "\n",
    "    def dequeue(self) -> int:\n",
    "        return self._data.popleft()\n",
    "\n",
    "    def max(self) -> int:\n",
    "        return max(self._data)"
   ]
  },
  {
   "cell_type": "markdown",
   "metadata": {},
   "source": [
    "## When to use a Queue\n",
    "\n",
    "When Order is Important!\n",
    "\n",
    "### 8.6 Takeaway for an Example"
   ]
  },
  {
   "cell_type": "markdown",
   "metadata": {},
   "source": [
    "Let's say we want to take this tree\n",
    "\n",
    "```mermaid\n",
    "flowchart TD\n",
    "      a[314] \n",
    "      a --> b[6]\n",
    "      a --> c[6]\n",
    "      b --> d[271]\n",
    "      b --> e[561]\n",
    "      c --> f[2]\n",
    "      c --> g[271]\n",
    "      d --> h[28]\n",
    "      d --> i[0]\n",
    "      e --> j[3]\n",
    "      f --> k[1]\n",
    "      g --> l[28]\n",
    "      j --> m[17]\n",
    "      k --> n[401]\n",
    "      k --> o[257]\n",
    "      n --> p[641]\n",
    "\n",
    "```\n",
    "\n",
    "And make let's retrieve the binary nodes based on increasing depth\n",
    "\n",
    "So answer would be\n",
    "[[314 ], [6, 6], ..etc]"
   ]
  },
  {
   "cell_type": "code",
   "execution_count": 13,
   "metadata": {},
   "outputs": [],
   "source": [
    "levels = []\n",
    "initial_queue = Queue()\n",
    "levels_queue = Queue()\n",
    "\n",
    "\n",
    "#Enqueue first node to queue1\n",
    "initial_queue.enqueue(314)\n",
    "\n",
    "sub_level = []\n",
    "for i in range(len(initial_queue._data)):    \n",
    "    node = initial_queue.dequeue()\n",
    "    sub_level.append(node)\n",
    "\n",
    "levels.append(sub_level)\n",
    "    \n",
    "#Dequeue first node and put in "
   ]
  },
  {
   "cell_type": "code",
   "execution_count": 14,
   "metadata": {},
   "outputs": [],
   "source": [
    "init = [314]\n",
    "init = [6, 6]\n",
    "\n",
    "sublevel_queue = [271, 561]\n",
    "init = [6]\n",
    "\n",
    "sublevel_queue = [271, 561, 2, 271]\n",
    "init = sublevel_queue\n",
    "\n",
    "sublevel_queue = Queue()"
   ]
  }
 ],
 "metadata": {
  "interpreter": {
   "hash": "aee8b7b246df8f9039afb4144a1f6fd8d2ca17a180786b69acc140d282b71a49"
  },
  "kernelspec": {
   "display_name": "Python 3.9.7 64-bit",
   "language": "python",
   "name": "python3"
  },
  "language_info": {
   "codemirror_mode": {
    "name": "ipython",
    "version": 3
   },
   "file_extension": ".py",
   "mimetype": "text/x-python",
   "name": "python",
   "nbconvert_exporter": "python",
   "pygments_lexer": "ipython3",
   "version": "3.9.7"
  },
  "orig_nbformat": 4
 },
 "nbformat": 4,
 "nbformat_minor": 2
}
