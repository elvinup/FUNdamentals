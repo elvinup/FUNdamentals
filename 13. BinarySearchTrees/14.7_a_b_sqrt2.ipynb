{
 "cells": [
  {
   "cell_type": "markdown",
   "metadata": {},
   "source": [
    "# 14.7 Takeaway - K first values of (a + b * sqrt(2))\n",
    "\n",
    "This problem is the first we get where we can leverage the power of the bintrees library. This is because of the efficiency in insertion and branching off `a` and `b` values easily by adding + 1 to each in the formula. Grabbing the minimum is also efficient (logk)\n",
    "\n",
    "Following this psuedo-algorithm\n",
    "\n",
    "\n",
    "- add 0,0 object to tree t\n",
    "- new_min = pop_min(t) and add it to the result array\n",
    "- from new_min, add (a+1) + b*sqrt(2) and a+(b+1)* sqrt(2) \n",
    "- repeat until result array is of length k\n",
    "\n",
    "## Lesson Learned - pop_min return value\n",
    "\n",
    "When you use pop_min(), if you only need the key of the key-value pair, don't forget to index [0] the tree node object to get the value you want."
   ]
  },
  {
   "cell_type": "code",
   "execution_count": 2,
   "metadata": {},
   "outputs": [
    {
     "name": "stdout",
     "output_type": "stream",
     "text": [
      "(4, 'Apple')\n",
      "4\n"
     ]
    }
   ],
   "source": [
    "import bintrees\n",
    "\n",
    "tree = bintrees.RBTree([(7, 'Banana'), (4, 'Apple'), (5, 'Orange')])\n",
    "\n",
    "new_min = tree.pop_min()\n",
    "\n",
    "print(new_min)\n",
    "print(new_min[0])"
   ]
  },
  {
   "cell_type": "markdown",
   "metadata": {},
   "source": [
    "## Lesson Learned - Necessary class functions for comparisons to work\n",
    "\n",
    "For this algorithm, we have to feed it a class representing the a + b * sqrt(2) formula like below since we'll be iterating the `a` and `b` values each iteration of finding the next lowest number.\n",
    "\n",
    "In this class, it important to define\n",
    "- `__lt__` or `__gt__`\n",
    "- `__eq__` \n",
    "\n",
    "This is because bintrees nodes will have `Number` objects as keys of each tree node to compare values with. So it needs those methods defined to decide what the minimum value is each time and to shuffle the nodes around upon insertion."
   ]
  },
  {
   "cell_type": "code",
   "execution_count": 3,
   "metadata": {},
   "outputs": [],
   "source": [
    "import math\n",
    "\n",
    "class Number:\n",
    "    def __init__(self, a, b):\n",
    "        self.a = a\n",
    "        self.b = b\n",
    "        self.val = a + b * math.sqrt(2)\n",
    "\n",
    "    def __lt__(self, other): # Instead defining __gt__ and saying self.val > other.val would also suffice\n",
    "        return self.val < other.val\n",
    "\n",
    "    def __eq__(self, other):\n",
    "        return self.val == other.val"
   ]
  },
  {
   "cell_type": "code",
   "execution_count": 6,
   "metadata": {},
   "outputs": [
    {
     "name": "stdout",
     "output_type": "stream",
     "text": [
      "[0.0, 1.0, 1.4142135623730951, 2.0, 2.414213562373095, 2.8284271247461903, 3.0, 3.414213562373095]\n"
     ]
    }
   ],
   "source": [
    "import bintrees\n",
    "\n",
    "def generate_first_k_a_b_sqrt2(k):\n",
    "    result = []\n",
    "    candidates = bintrees.RBTree([(Number(0, 0), None)])\n",
    "\n",
    "    while len(result) < k:\n",
    "        smallest = candidates.pop_min()[0]\n",
    "        result.append(smallest.val)\n",
    "        candidates.insert(Number(smallest.a + 1, smallest.b), None)\n",
    "        candidates.insert(Number(smallest.a, smallest.b + 1), None)\n",
    "\n",
    "    return result\n",
    "\n",
    "print(generate_first_k_a_b_sqrt2(8))"
   ]
  },
  {
   "cell_type": "markdown",
   "metadata": {},
   "source": [
    "## Lesson Learned - Bintrees nodes all have to be unique\n",
    "\n",
    "At first when doing this problem, I was worried because I knew I'd run into duplicates as I branched off into multiple subtrees the formula values. \n",
    "\n",
    "The good thing is, the values in bintrees acts like a `set`, where adding the same node already preexisting will just get dropped. So duplicates ended up being a nonissue with bintrees!"
   ]
  },
  {
   "cell_type": "code",
   "execution_count": 8,
   "metadata": {},
   "outputs": [
    {
     "name": "stdout",
     "output_type": "stream",
     "text": [
      "RBTree({4: 'Apple', 5: 'Orange', 7: 'Banana'})\n"
     ]
    }
   ],
   "source": [
    "import bintrees\n",
    "\n",
    "tree = bintrees.RBTree([(7, 'Banana'), (4, 'Apple'), (5, 'Orange')])\n",
    "print(tree)"
   ]
  },
  {
   "cell_type": "code",
   "execution_count": 9,
   "metadata": {},
   "outputs": [
    {
     "name": "stdout",
     "output_type": "stream",
     "text": [
      "RBTree({4: 'Apple', 5: 'Orange', 7: 'Banana', 12: 'Banana'})\n"
     ]
    }
   ],
   "source": [
    "# Adds to tree fine, key 12 is different so node gets added\n",
    "tree.insert(12, 'Banana') \n",
    "print(tree)"
   ]
  },
  {
   "cell_type": "code",
   "execution_count": 11,
   "metadata": {},
   "outputs": [
    {
     "name": "stdout",
     "output_type": "stream",
     "text": [
      "RBTree({4: 'Apple', 5: 'Orange', 7: 'Banana', 12: 'Banana'})\n"
     ]
    }
   ],
   "source": [
    "# Node not added, (4, 'Apple') already exists in the tree set\n",
    "tree.insert(4, 'Apple') \n",
    "print(tree)"
   ]
  }
 ],
 "metadata": {
  "kernelspec": {
   "display_name": "Python 3.8.10 64-bit",
   "language": "python",
   "name": "python3"
  },
  "language_info": {
   "codemirror_mode": {
    "name": "ipython",
    "version": 3
   },
   "file_extension": ".py",
   "mimetype": "text/x-python",
   "name": "python",
   "nbconvert_exporter": "python",
   "pygments_lexer": "ipython3",
   "version": "3.8.10"
  },
  "orig_nbformat": 4,
  "vscode": {
   "interpreter": {
    "hash": "916dbcbb3f70747c44a77c7bcd40155683ae19c65e1c03b4aa3499c5328201f1"
   }
  }
 },
 "nbformat": 4,
 "nbformat_minor": 2
}
