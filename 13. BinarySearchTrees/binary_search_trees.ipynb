{
 "cells": [
  {
   "cell_type": "markdown",
   "metadata": {},
   "source": [
    "# Key Terms\n",
    "\n",
    "Binary Search Trees have these properties:\n",
    "\n",
    "- The left subtree of a node has elements less than the node's key\n",
    "- The right subtree of a node has elements greater than the node's key \n",
    "- Left and right subtrees must also be BST's\n",
    "\n",
    "KEY THING VS Binary Trees: ORDER MATTERS!\n",
    "\n",
    "BST's can elude a lot of people, including myself. So here's a section on where it can be used in real life\n",
    "\n",
    "# Why It's Useful\n",
    "\n",
    "Let's say we have a flight time schedule tracker, and we want to add a new flight to the dataset.\n",
    "\n",
    "Here are the times: 1, 3, 5, 9, 12\n",
    "And we want to add 6 to this set.\n",
    "\n",
    "## Using a sorted array\n",
    "[1, 3, 5, 9, 12]\n",
    "\n",
    "Finding insertion point: O(logn) with binary search\n",
    "\n",
    "Insertion is O(n) (shifting)\n",
    "\n",
    "## Using a list\n",
    "1 -> 3 -> 5 -> 9 -> 12\n",
    "\n",
    "Insertion: O(1)\n",
    "\n",
    "Finding insertion point: Can't use binary search on a list, so O(n) starting from the head\n",
    "\n",
    "## Using a heap\n",
    "\n",
    "Min or Max element has to be the root\n",
    "\n",
    "Finding insertion point: O(n)\n",
    "\n",
    "## Using a Binary Search Tree\n",
    "\n",
    "Finding insertion point: O(logn) (binary search)\n",
    "\n",
    "Insertion: O(height) or O(logn) if tree is guaranteed balanced\n",
    "\n",
    "Binary Search Trees are a bit more complicated than heap trees. You need a few more bytes per data structure of the node vs a heap .\n",
    "\n",
    "For this problem, it's perfect!\n",
    "\n",
    "## Rank\n",
    "\n",
    "Let's throw a twist to this problem. Let's say after solving this, we're also asked to give the rank(t), or how many flights are scheduled <= time t?\n",
    "\n",
    "We need to add more info to the node structure. One data point we can add is how many nodes are less than it, or the \"subtree size\".\n",
    "\n",
    "If we do this, we'll need to modify the subtree size when doing *inserts* and *deletes*\n",
    "\n",
    "Once we have each node representing it's subtree size, this is the algorithm to get the rank.\n",
    "\n",
    "- Go to the insertion point where t is\n",
    "- For each node on the way down to node with value t, add 1 for the node itself, then add the tree.left.size to the rank value\n",
    "- Do this for the node with value t as well.\n",
    "\n",
    "The resulting value is the rank we are looking for in O(h) time\n",
    "\n",
    "# Data Structure\n",
    "\n",
    "### BST Node"
   ]
  },
  {
   "cell_type": "code",
   "execution_count": 1,
   "metadata": {},
   "outputs": [],
   "source": [
    "class BSTNode:\n",
    "    def __init__(self, data=None, left=None, right=None):\n",
    "        self.data = data\n",
    "        self.left = left\n",
    "        self.right = right\n",
    "\n",
    "    def printTree(self):\n",
    "        printBTree(self,lambda n:(str(n.data),n.left,n.right))\n",
    "\n",
    "import functools as fn\n",
    "def printBTree(node, nodeInfo=None, inverted=False, isTop=True):\n",
    "\n",
    "   # node value string and sub nodes\n",
    "   stringValue, leftNode, rightNode = nodeInfo(node)\n",
    "\n",
    "   stringValueWidth  = len(stringValue)\n",
    "\n",
    "   # recurse to sub nodes to obtain line blocks on left and right\n",
    "   leftTextBlock     = [] if not leftNode else printBTree(leftNode,nodeInfo,inverted,False)\n",
    "\n",
    "   rightTextBlock    = [] if not rightNode else printBTree(rightNode,nodeInfo,inverted,False)\n",
    "\n",
    "   # count common and maximum number of sub node lines\n",
    "   commonLines       = min(len(leftTextBlock),len(rightTextBlock))\n",
    "   subLevelLines     = max(len(rightTextBlock),len(leftTextBlock))\n",
    "\n",
    "   # extend lines on shallower side to get same number of lines on both sides\n",
    "   leftSubLines      = leftTextBlock  + [\"\"] *  (subLevelLines - len(leftTextBlock))\n",
    "   rightSubLines     = rightTextBlock + [\"\"] *  (subLevelLines - len(rightTextBlock))\n",
    "\n",
    "   # compute location of value or link bar for all left and right sub nodes\n",
    "   #   * left node's value ends at line's width\n",
    "   #   * right node's value starts after initial spaces\n",
    "   leftLineWidths    = [ len(line) for line in leftSubLines  ]                            \n",
    "   rightLineIndents  = [ len(line)-len(line.lstrip(\" \")) for line in rightSubLines ]\n",
    "\n",
    "   # top line value locations, will be used to determine position of current node & link bars\n",
    "   firstLeftWidth    = (leftLineWidths   + [0])[0]  \n",
    "   firstRightIndent  = (rightLineIndents + [0])[0] \n",
    "\n",
    "   # width of sub node link under node value (i.e. with slashes if any)\n",
    "   # aims to center link bars under the value if value is wide enough\n",
    "   # \n",
    "   # ValueLine:    v     vv    vvvvvv   vvvvv\n",
    "   # LinkLine:    / \\   /  \\    /  \\     / \\ \n",
    "   #\n",
    "   linkSpacing       = min(stringValueWidth, 2 - stringValueWidth % 2)\n",
    "   leftLinkBar       = 1 if leftNode  else 0\n",
    "   rightLinkBar      = 1 if rightNode else 0\n",
    "   minLinkWidth      = leftLinkBar + linkSpacing + rightLinkBar\n",
    "   valueOffset       = (stringValueWidth - linkSpacing) // 2\n",
    "\n",
    "   # find optimal position for right side top node\n",
    "   #   * must allow room for link bars above and between left and right top nodes\n",
    "   #   * must not overlap lower level nodes on any given line (allow gap of minSpacing)\n",
    "   #   * can be offset to the left if lower subNodes of right node \n",
    "   #     have no overlap with subNodes of left node                                                                                                                                 \n",
    "   minSpacing        = 2\n",
    "   rightNodePosition = fn.reduce(lambda r,i: max(r,i[0] + minSpacing + firstRightIndent - i[1]), \\\n",
    "                                 zip(leftLineWidths,rightLineIndents[0:commonLines]), \\\n",
    "                                 firstLeftWidth + minLinkWidth)\n",
    "\n",
    "   # extend basic link bars (slashes) with underlines to reach left and right\n",
    "   # top nodes.  \n",
    "   #\n",
    "   #        vvvvv\n",
    "   #       __/ \\__\n",
    "   #      L       R\n",
    "   #\n",
    "   linkExtraWidth    = max(0, rightNodePosition - firstLeftWidth - minLinkWidth )\n",
    "   rightLinkExtra    = linkExtraWidth // 2\n",
    "   leftLinkExtra     = linkExtraWidth - rightLinkExtra\n",
    "\n",
    "   # build value line taking into account left indent and link bar extension (on left side)\n",
    "   valueIndent       = max(0, firstLeftWidth + leftLinkExtra + leftLinkBar - valueOffset)\n",
    "   valueLine         = \" \" * max(0,valueIndent) + stringValue\n",
    "   slash             = \"\\\\\" if inverted else  \"/\"\n",
    "   backslash         = \"/\" if inverted else  \"\\\\\"\n",
    "   uLine             = \"¯\" if inverted else  \"_\"\n",
    "\n",
    "   # build left side of link line\n",
    "   leftLink          = \"\" if not leftNode else ( \" \" * firstLeftWidth + uLine * leftLinkExtra + slash)\n",
    "\n",
    "   # build right side of link line (includes blank spaces under top node value) \n",
    "   rightLinkOffset   = linkSpacing + valueOffset * (1 - leftLinkBar)                      \n",
    "   rightLink         = \"\" if not rightNode else ( \" \" * rightLinkOffset + backslash + uLine * rightLinkExtra )\n",
    "\n",
    "   # full link line (will be empty if there are no sub nodes)                                                                                                    \n",
    "   linkLine          = leftLink + rightLink\n",
    "\n",
    "   # will need to offset left side lines if right side sub nodes extend beyond left margin\n",
    "   # can happen if left subtree is shorter (in height) than right side subtree                                                \n",
    "   leftIndentWidth   = max(0,firstRightIndent - rightNodePosition) \n",
    "   leftIndent        = \" \" * leftIndentWidth\n",
    "   indentedLeftLines = [ (leftIndent if line else \"\") + line for line in leftSubLines ]\n",
    "\n",
    "   # compute distance between left and right sublines based on their value position\n",
    "   # can be negative if leading spaces need to be removed from right side\n",
    "   mergeOffsets      = [ len(line) for line in indentedLeftLines ]\n",
    "   mergeOffsets      = [ leftIndentWidth + rightNodePosition - firstRightIndent - w for w in mergeOffsets ]\n",
    "   mergeOffsets      = [ p if rightSubLines[i] else 0 for i,p in enumerate(mergeOffsets) ]\n",
    "\n",
    "   # combine left and right lines using computed offsets\n",
    "   #   * indented left sub lines\n",
    "   #   * spaces between left and right lines\n",
    "   #   * right sub line with extra leading blanks removed.\n",
    "   mergedSubLines    = zip(range(len(mergeOffsets)), mergeOffsets, indentedLeftLines)\n",
    "   mergedSubLines    = [ (i,p,line + (\" \" * max(0,p)) )       for i,p,line in mergedSubLines ]\n",
    "   mergedSubLines    = [ line + rightSubLines[i][max(0,-p):]  for i,p,line in mergedSubLines ]                        \n",
    "\n",
    "   # Assemble final result combining\n",
    "   #  * node value string\n",
    "   #  * link line (if any)\n",
    "   #  * merged lines from left and right sub trees (if any)\n",
    "   treeLines = [leftIndent + valueLine] + ( [] if not linkLine else [leftIndent + linkLine] ) + mergedSubLines\n",
    "\n",
    "   # invert final result if requested\n",
    "   treeLines = reversed(treeLines) if inverted and isTop else treeLines\n",
    "\n",
    "   # return intermediate tree lines or print final result\n",
    "   if isTop : print(\"\\n\".join(treeLines))\n",
    "   else     : return treeLines      "
   ]
  },
  {
   "cell_type": "markdown",
   "metadata": {},
   "source": [
    "\n",
    "# Tips\n",
    "\n",
    "- Searching is the most common use of BSTs. Unlike hash tables, a good BST library can in O(h) or O(logn)\n",
    "  - get the min element (keep going down the left leaves)\n",
    "  - get the max element (keep going down the right leaves)\n",
    "  - find the next largest/smallest element\n",
    "  - lookup\n",
    "  - delete\n",
    "  - find\n",
    "\n",
    "- Common mistake: If updating a BST node, it's easy for that node to act like it's not in the tree when querying for it after.\n",
    "\n",
    "  - When updating a node, remove it from the tree, update the value, and add it to the tree to avoid this.\n",
    "\n",
    "- Combining a hashtable with a BST can be powerful.\n",
    "  - Let's say student objects in a BST are ordered by GPA, and you wanna update a student node's GPA value.\n",
    "  - To find the student would take a full traversal, but with a hashtable we can get to it directly\n",
    "\n",
    "# Analysis\n",
    "\n",
    "Key lookup, insertion and deletion are worst case the height of the tree: O(n) in many cases\n",
    "\n",
    "But for some trees like red-black trees that are guaranteed to be balance or height of O(logn) are O(logn) worst case.\n",
    "The tradeoff is additional data on the tree nodes.\n",
    "\n",
    "# Implementation\n",
    "\n",
    "### Searching in a BST"
   ]
  },
  {
   "cell_type": "code",
   "execution_count": 22,
   "metadata": {},
   "outputs": [],
   "source": [
    "def search_bst(tree: BSTNode, key: int):\n",
    "    # Base case\n",
    "    if tree is None or tree.data == key:\n",
    "        return tree\n",
    "    \n",
    "    # If key is greater than current node, go right\n",
    "    if key > tree.data:\n",
    "        return search_bst(tree.right, key)\n",
    "\n",
    "    # Else check left\n",
    "    return search_bst(tree.left, key)"
   ]
  },
  {
   "cell_type": "markdown",
   "metadata": {},
   "source": [
    "# Python Library\n",
    "\n",
    "`bintrees` is a good python library that makes use of sorted sets and sorted dicts using balanced BSTs.\n",
    "\n",
    "`sortedcontainers` is the current go to for sorted sets, dicts, and lists, but for the sake of education and following EPI, let's continue to use bintrees for interview prep"
   ]
  },
  {
   "cell_type": "code",
   "execution_count": 2,
   "metadata": {},
   "outputs": [
    {
     "name": "stdout",
     "output_type": "stream",
     "text": [
      "RBTree({2: 'Bravo', 3: 'Delta', 5: 'Alpha', 6: 'Echo', 7: 'Charlie'})\n",
      "Bravo\n",
      "(2, 'Bravo') (7, 'Charlie')\n"
     ]
    }
   ],
   "source": [
    "import bintrees\n",
    "\n",
    "t = bintrees.RBTree([(5, 'Alpha'), (2, 'Bravo'), (7, 'Charlie'), (3, 'Delta'), (6, 'Echo')])\n",
    "\n",
    "print(t)\n",
    "print(t[2])\n",
    "print(t.min_item(), t.max_item())\n",
    "\n"
   ]
  },
  {
   "cell_type": "code",
   "execution_count": 15,
   "metadata": {},
   "outputs": [
    {
     "name": "stdout",
     "output_type": "stream",
     "text": [
      "RBTree({2: 'Bravo', 3: 'Delta', 5: 'Alpha', 6: 'Echo', 7: 'Charlie', 9: 'Golf'})\n"
     ]
    }
   ],
   "source": [
    "t.insert(9, 'Golf')\n",
    "print(t)"
   ]
  },
  {
   "cell_type": "code",
   "execution_count": 12,
   "metadata": {},
   "outputs": [
    {
     "name": "stdout",
     "output_type": "stream",
     "text": [
      "2 9\n"
     ]
    }
   ],
   "source": [
    "print(t.min_key(), t.max_key())\n"
   ]
  },
  {
   "cell_type": "code",
   "execution_count": 18,
   "metadata": {},
   "outputs": [
    {
     "name": "stdout",
     "output_type": "stream",
     "text": [
      "RBTree({2: 'Bravo', 5: 'Alpha', 6: 'Echo', 7: 'Charlie', 9: 'Golf'})\n"
     ]
    }
   ],
   "source": [
    "t.discard(3)\n",
    "print(t)"
   ]
  },
  {
   "cell_type": "code",
   "execution_count": 19,
   "metadata": {},
   "outputs": [
    {
     "name": "stdout",
     "output_type": "stream",
     "text": [
      "RBTree({5: 'Alpha', 6: 'Echo', 7: 'Charlie', 9: 'Golf'})\n"
     ]
    }
   ],
   "source": [
    "a = t.pop_min()\n",
    "print(t)"
   ]
  },
  {
   "cell_type": "code",
   "execution_count": 20,
   "metadata": {},
   "outputs": [
    {
     "name": "stdout",
     "output_type": "stream",
     "text": [
      "RBTree({5: 'Alpha', 6: 'Echo', 7: 'Charlie'})\n"
     ]
    }
   ],
   "source": [
    "b = t.pop_max()\n",
    "print(t)"
   ]
  }
 ],
 "metadata": {
  "kernelspec": {
   "display_name": "Python 3.8.10 64-bit",
   "language": "python",
   "name": "python3"
  },
  "language_info": {
   "codemirror_mode": {
    "name": "ipython",
    "version": 3
   },
   "file_extension": ".py",
   "mimetype": "text/x-python",
   "name": "python",
   "nbconvert_exporter": "python",
   "pygments_lexer": "ipython3",
   "version": "3.8.10 (default, Nov 14 2022, 12:59:47) \n[GCC 9.4.0]"
  },
  "orig_nbformat": 4,
  "vscode": {
   "interpreter": {
    "hash": "916dbcbb3f70747c44a77c7bcd40155683ae19c65e1c03b4aa3499c5328201f1"
   }
  }
 },
 "nbformat": 4,
 "nbformat_minor": 2
}
