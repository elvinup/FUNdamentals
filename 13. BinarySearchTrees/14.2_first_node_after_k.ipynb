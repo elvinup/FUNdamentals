{
 "cells": [
  {
   "cell_type": "markdown",
   "metadata": {},
   "source": [
    "# 14.2 Takeaway - Get the first node after node with value K\n",
    "\n",
    "At first it would be tempting to just say, search for the key, then check right. \n",
    "\n",
    "**Main Takeaway**: Go LEFT as soon as you find a number that's > k, to find the next best answer\n",
    "\n",
    "## Example\n",
    "```\n",
    "     5\n",
    "    / \\\n",
    "   2   8\n",
    "  / \\ / \\\n",
    " 1  3 7 9\n",
    "\n",
    "Input: 5\n",
    "Output: 7\n",
    "```\n",
    "\n",
    "But given this example tree, it proves that will not always work, the answer could be a much farther descendant.\n",
    "\n",
    "Another naiive solution i had was doing an inorder traversal until we found our key, and just returned the next inorder value. Problem is, the next key could be above it, and inorder doesn’t go above the root it starts from. For example, input = 3, output = 5\n",
    "\n",
    "The best algorithm is to use binary search to find the smallest number bigger than the key.\n",
    "\n",
    "Starting from the root\n",
    "\n",
    "Go left if k < the curr node\n",
    "\n",
    "Capture k as the curr node value, it will be by design less than what we’ve seen so far\n",
    "\n",
    "Go right if the k >= curr node\n",
    "\n",
    "Don’t capture k, it is greater than the current node. We’re looking for the first number after the k node."
   ]
  },
  {
   "cell_type": "code",
   "execution_count": 4,
   "metadata": {},
   "outputs": [],
   "source": [
    "class BSTNode:\n",
    "    def __init__(self, data=None, left=None, right=None):\n",
    "        self.data = data\n",
    "        self.left = left\n",
    "        self.right = right\n"
   ]
  },
  {
   "cell_type": "code",
   "execution_count": 5,
   "metadata": {},
   "outputs": [],
   "source": [
    "def find_first_key(tree, k):\n",
    "    first_after = None\n",
    "    while tree:\n",
    "        if k < tree.data:\n",
    "            first_after, tree = tree, tree.left\n",
    "        else:\n",
    "            tree = tree.right\n",
    "    return first_after"
   ]
  },
  {
   "cell_type": "markdown",
   "metadata": {},
   "source": [
    "## Walkthrough\n",
    "Input = 8\n",
    "\n",
    "Output = 9\n",
    "```\n",
    "first_after = None\n",
    "8 < 5? No\n",
    "tree = 8\n",
    "\n",
    "8 < 8? No\n",
    "tree = 9\n",
    "\n",
    "9 < 8? Yes\n",
    "first_after = 9\n",
    "tree = None\n",
    "\n",
    "Return first_after\n",
    "```"
   ]
  },
  {
   "cell_type": "code",
   "execution_count": 6,
   "metadata": {},
   "outputs": [
    {
     "name": "stdout",
     "output_type": "stream",
     "text": [
      "9\n"
     ]
    }
   ],
   "source": [
    "leaf_1 = BSTNode(1)\n",
    "leaf_3 = BSTNode(3)\n",
    "leaf_7 = BSTNode(7)\n",
    "leaf_9 = BSTNode(9)\n",
    "\n",
    "node_2 = BSTNode(2, leaf_1, leaf_3)\n",
    "node_8 = BSTNode(2, leaf_7, leaf_9)\n",
    "\n",
    "root_5 = BSTNode(5, node_2, node_8)\n",
    "\n",
    "print(find_first_key(root_5, 3).data)"
   ]
  }
 ],
 "metadata": {
  "kernelspec": {
   "display_name": "Python 3.8.10 64-bit",
   "language": "python",
   "name": "python3"
  },
  "language_info": {
   "codemirror_mode": {
    "name": "ipython",
    "version": 3
   },
   "file_extension": ".py",
   "mimetype": "text/x-python",
   "name": "python",
   "nbconvert_exporter": "python",
   "pygments_lexer": "ipython3",
   "version": "3.10.12"
  },
  "orig_nbformat": 4,
  "vscode": {
   "interpreter": {
    "hash": "916dbcbb3f70747c44a77c7bcd40155683ae19c65e1c03b4aa3499c5328201f1"
   }
  }
 },
 "nbformat": 4,
 "nbformat_minor": 2
}
