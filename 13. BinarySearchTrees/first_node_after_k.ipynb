{
 "cells": [
  {
   "cell_type": "markdown",
   "metadata": {},
   "source": [
    "# 14.2 Takeaway - Get the first node after node with value K\n",
    "\n",
    "At first it would be tempting to just say, search for the key, then check right. \n",
    "\n",
    "\n",
    "## Example\n",
    "```\n",
    "     5    \n",
    "    / \\\n",
    "   3   8\n",
    "  / \\ / \\\n",
    " 2  1 7 9\n",
    "\n",
    "Input: 5\n",
    "Output: 7\n",
    "```\n",
    "\n",
    "But given this example tree, it proves that will not always work, the answer could be a much farther descendant.\n",
    "\n",
    "Another naiive solution i had was doing an inorder traversal until we found our key, and just returned the next inorder value. Problem is, the next key could be above it, and inorder doesn’t go above the root it starts from. For example, input = 3, output = 5\n",
    "\n",
    "The best algorithm is to use binary search to find the smallest number bigger than the key.\n",
    "\n",
    "Starting from the root\n",
    "Go left if k < the curr node\n",
    "Capture k as the curr node value, it will be by design less than what we’ve seen so far\n",
    "Go right if the k >= curr node\n",
    "Don’t capture k, it is greater than the current node. We’re looking for the first number after the k node."
   ]
  },
  {
   "cell_type": "code",
   "execution_count": 5,
   "metadata": {},
   "outputs": [],
   "source": [
    "def find_first_key(tree, k):\n",
    "    first_after = None\n",
    "    while tree:\n",
    "        if k < tree.data:\n",
    "            first_after, tree = tree, tree.left\n",
    "        else:\n",
    "            tree = tree.right\n",
    "    return first_after"
   ]
  }
 ],
 "metadata": {
  "kernelspec": {
   "display_name": "Python 3.8.10 64-bit",
   "language": "python",
   "name": "python3"
  },
  "language_info": {
   "codemirror_mode": {
    "name": "ipython",
    "version": 3
   },
   "file_extension": ".py",
   "mimetype": "text/x-python",
   "name": "python",
   "nbconvert_exporter": "python",
   "pygments_lexer": "ipython3",
   "version": "3.8.10"
  },
  "orig_nbformat": 4,
  "vscode": {
   "interpreter": {
    "hash": "916dbcbb3f70747c44a77c7bcd40155683ae19c65e1c03b4aa3499c5328201f1"
   }
  }
 },
 "nbformat": 4,
 "nbformat_minor": 2
}
