{
 "cells": [
  {
   "cell_type": "markdown",
   "metadata": {},
   "source": [
    "# Linked List Data Structure"
   ]
  },
  {
   "cell_type": "code",
   "execution_count": 60,
   "metadata": {},
   "outputs": [],
   "source": [
    "class ListNode:\n",
    "    def __init__(self, data=0, next=None):\n",
    "        self.data = data\n",
    "        self.next = next"
   ]
  },
  {
   "cell_type": "code",
   "execution_count": 61,
   "metadata": {},
   "outputs": [],
   "source": [
    "    def search_list(L: ListNode, key: int) -> ListNode:\n",
    "        while L and L != L.data:\n",
    "            L = L.next\n",
    "        return L"
   ]
  },
  {
   "cell_type": "code",
   "execution_count": 62,
   "metadata": {},
   "outputs": [],
   "source": [
    "    def insert_after(node: ListNode, new_node: ListNode) -> None:\n",
    "        new_node.next = node.next\n",
    "        node.next = new_node\n"
   ]
  },
  {
   "cell_type": "code",
   "execution_count": 63,
   "metadata": {},
   "outputs": [],
   "source": [
    "    def delete_after(node: ListNode) -> None:\n",
    "        node.next = node.next.next"
   ]
  },
  {
   "cell_type": "markdown",
   "metadata": {},
   "source": [
    "## Good Practices\n",
    "\n",
    "1. Make sure to leave a dummy head to return the result of a whole linked list at the end."
   ]
  },
  {
   "cell_type": "code",
   "execution_count": 64,
   "metadata": {},
   "outputs": [
    {
     "name": "stdout",
     "output_type": "stream",
     "text": [
      "1\n"
     ]
    }
   ],
   "source": [
    "# Instantiate 2 list nodes\n",
    "# [1] [2]\n",
    "node1 = ListNode(1)\n",
    "node2 = ListNode(2)\n",
    "\n",
    "# dummy is same as iterator. Set up to return later\n",
    "dummy_head = iterator = ListNode()\n",
    "\n",
    "# Do not just set iterator = node, then dummy_head will point to nothing because it's a shallow copy\n",
    "iterator.next = node1\n",
    "iterator = iterator.next\n",
    "\n",
    "#               [iter]\n",
    "# dummy_head -> node1\n",
    "iterator.next = node2\n",
    "iterator = iterator.next\n",
    "\n",
    "#                        [iter]\n",
    "# dummy_head -> node1 -> node2\n",
    "print(dummy_head.next.data)"
   ]
  },
  {
   "cell_type": "markdown",
   "metadata": {},
   "source": [
    "## Reversing a linked list\n",
    "\n",
    "Reversing a linked list required 3 pointers. Think of them as \n",
    "\n",
    "  - prev\n",
    "  - curr\n",
    "  - next\n",
    "\n",
    "These will help you reverse the entire linked list."
   ]
  },
  {
   "cell_type": "code",
   "execution_count": 65,
   "metadata": {},
   "outputs": [
    {
     "name": "stdout",
     "output_type": "stream",
     "text": [
      "Linked List Order: \n",
      "1 -> 2 -> 3 -> \n"
     ]
    }
   ],
   "source": [
    "# Forming LinkedList: 1 -> 2 -> 3\n",
    "\n",
    "# Handy linked list printer function\n",
    "def printLinkedList(node_list):\n",
    "    printStr = ''\n",
    "    while node_list:\n",
    "        printStr += (str(node_list.data) + ' -> ')\n",
    "        node_list = node_list.next\n",
    "    print(printStr)\n",
    "\n",
    "# Creating a basic linked list\n",
    "node3 = ListNode(3)\n",
    "node2 = ListNode(2, node3)\n",
    "node1 = ListNode(1, node2)\n",
    "dummy = node1\n",
    "print(\"Linked List Order: \")\n",
    "printLinkedList(dummy)\n",
    "\n"
   ]
  },
  {
   "cell_type": "markdown",
   "metadata": {},
   "source": [
    "This will actually reverse the above linked list by using a prev pointer. "
   ]
  },
  {
   "cell_type": "code",
   "execution_count": 66,
   "metadata": {},
   "outputs": [
    {
     "name": "stdout",
     "output_type": "stream",
     "text": [
      "3 -> 2 -> 1 -> \n"
     ]
    }
   ],
   "source": [
    "prev = None\n",
    "curr = node1\n",
    "\n",
    "while curr:\n",
    "    next = curr.next\n",
    "    curr.next = prev\n",
    "    prev = curr\n",
    "    curr = next\n",
    "\n",
    "printLinkedList(prev)"
   ]
  }
 ],
 "metadata": {
  "interpreter": {
   "hash": "916dbcbb3f70747c44a77c7bcd40155683ae19c65e1c03b4aa3499c5328201f1"
  },
  "kernelspec": {
   "display_name": "Python 3.8.10 64-bit",
   "name": "python3"
  },
  "language_info": {
   "codemirror_mode": {
    "name": "ipython",
    "version": 3
   },
   "file_extension": ".py",
   "mimetype": "text/x-python",
   "name": "python",
   "nbconvert_exporter": "python",
   "pygments_lexer": "ipython3",
   "version": "3.10.12"
  },
  "orig_nbformat": 4
 },
 "nbformat": 4,
 "nbformat_minor": 2
}
