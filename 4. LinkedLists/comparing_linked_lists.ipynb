{
 "cells": [
  {
   "cell_type": "markdown",
   "metadata": {},
   "source": [
    "# Comparing Two Linked List Nodes\n",
    "\n",
    "## Takeaway from 7.3\n",
    "\n",
    "When you want to compare list nodes, make sure you are using `is` and not `==` to compare them, otherwise it may not work\n",
    "\n",
    "- `is` -> use this when comparing object identities\n",
    "- `==` -> only use this for comparing values"
   ]
  },
  {
   "cell_type": "code",
   "execution_count": 18,
   "metadata": {},
   "outputs": [],
   "source": [
    "class ListNode:\n",
    "    def __init__(self, data=0, next=None):\n",
    "        self.data = data\n",
    "        self.next = next"
   ]
  },
  {
   "cell_type": "code",
   "execution_count": 20,
   "metadata": {},
   "outputs": [
    {
     "name": "stdout",
     "output_type": "stream",
     "text": [
      "True\n",
      "False\n",
      "True\n"
     ]
    }
   ],
   "source": [
    "# Start it the same\n",
    "node1 = ListNode(1)\n",
    "node2 = ListNode(1)\n",
    "iter = node1\n",
    "\n",
    "#Linking them cyclically so they eventually find each other\n",
    "node1.next = node2\n",
    "node2.next = node1\n",
    "\n",
    "for i in range(3):\n",
    "    iter = iter.next\n",
    "    print(iter is node2)\n"
   ]
  },
  {
   "cell_type": "markdown",
   "metadata": {},
   "source": [
    "## Takeaway from 7.4\n",
    "\n",
    "It is important to realize a lot of these multi-linked list problems boil down to having an iterator on each list.\n",
    "\n",
    "Just grab each list's length, and subtract length differences. From there, it's just a matter of iterating both until a requirement is met."
   ]
  }
 ],
 "metadata": {
  "interpreter": {
   "hash": "aee8b7b246df8f9039afb4144a1f6fd8d2ca17a180786b69acc140d282b71a49"
  },
  "kernelspec": {
   "display_name": "Python 3.9.7 64-bit",
   "language": "python",
   "name": "python3"
  },
  "language_info": {
   "codemirror_mode": {
    "name": "ipython",
    "version": 3
   },
   "file_extension": ".py",
   "mimetype": "text/x-python",
   "name": "python",
   "nbconvert_exporter": "python",
   "pygments_lexer": "ipython3",
   "version": "3.9.7"
  },
  "orig_nbformat": 4
 },
 "nbformat": 4,
 "nbformat_minor": 2
}
