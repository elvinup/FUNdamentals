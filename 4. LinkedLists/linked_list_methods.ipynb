{
 "cells": [
  {
   "cell_type": "markdown",
   "metadata": {},
   "source": [
    "## Takeaway from 7.4\n",
    "\n",
    "If you toss a linked list into a method, expecting to make changes on iterating it, make sure you return the list!\n",
    "\n",
    "Example below"
   ]
  },
  {
   "cell_type": "code",
   "execution_count": 1,
   "metadata": {},
   "outputs": [],
   "source": [
    "class ListNode:\n",
    "    def __init__(self, data=0, next=None):\n",
    "        self.data = data\n",
    "        self.next = next"
   ]
  },
  {
   "cell_type": "code",
   "execution_count": 5,
   "metadata": {},
   "outputs": [
    {
     "name": "stdout",
     "output_type": "stream",
     "text": [
      "0\n"
     ]
    }
   ],
   "source": [
    "# Creating linked list like this: [0 -> 1]\n",
    "node0 = ListNode(0)\n",
    "node1 = ListNode(1)\n",
    "node0.next = node1\n",
    "\n",
    "iterator = node0\n",
    "\n",
    "# WRONG\n",
    "def iterate_list_without_return(node, steps):\n",
    "        for i in range(steps):\n",
    "            node = node.next\n",
    "\n",
    "iterate_list_without_return(iterator, 1)\n",
    "\n",
    "# You would think we'd get the data from node1, but no because that iteration is local to the method we called\n",
    "print(iterator.data)"
   ]
  },
  {
   "cell_type": "code",
   "execution_count": 6,
   "metadata": {},
   "outputs": [
    {
     "name": "stdout",
     "output_type": "stream",
     "text": [
      "1\n"
     ]
    }
   ],
   "source": [
    "# Correct\n",
    "def iterate_list(node, steps):\n",
    "        for i in range(steps):\n",
    "            node = node.next\n",
    "        return node\n",
    "\n",
    "# We get proper iteration because we have to return the node itself to keep the state\n",
    "desired_result = iterate_list(iterator, 1)\n",
    "print(desired_result.data)"
   ]
  }
 ],
 "metadata": {
  "interpreter": {
   "hash": "aee8b7b246df8f9039afb4144a1f6fd8d2ca17a180786b69acc140d282b71a49"
  },
  "kernelspec": {
   "display_name": "Python 3.9.7 64-bit",
   "language": "python",
   "name": "python3"
  },
  "language_info": {
   "codemirror_mode": {
    "name": "ipython",
    "version": 3
   },
   "file_extension": ".py",
   "mimetype": "text/x-python",
   "name": "python",
   "nbconvert_exporter": "python",
   "pygments_lexer": "ipython3",
   "version": "3.9.7"
  },
  "orig_nbformat": 4
 },
 "nbformat": 4,
 "nbformat_minor": 2
}
