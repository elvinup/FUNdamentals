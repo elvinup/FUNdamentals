{
 "cells": [
  {
   "cell_type": "markdown",
   "metadata": {},
   "source": [
    "# 12.9 Takeaway - Longest Contained Interval\n",
    "\n",
    "## Problem:\n",
    "\n",
    "Find the length of a longest contained interval\n",
    "\n",
    "## Explain:\n",
    "\n",
    "Input is a list of integers represented by an array.\n",
    "\n",
    "Return size of the largest subset of integers where if 2 integers are in the subset, so are all the integers between them.\n",
    "\n",
    "## Example:\n",
    "\n",
    "Input = [3, -2, 7, 9, 8, 1, 2, 0, -1, 5, 8]\n",
    "\n",
    "largest such subset is [-2, -1, 0, 1, 2, 3]\n",
    "\n",
    "Therefore, output = 6\n",
    "\n",
    "## Brainstorming:\n",
    "\n",
    "Let’s put every element into a set()\n",
    "\n",
    "set([3, -2, 7, 9, 8, 1, 2, 0, -1, 5, 8])\n",
    "\n",
    "starting at 3, \n",
    "\n",
    "max_length = 1\n",
    "\n",
    "starting at sub_length=1\n",
    "Let’s go left, is there a 2? Yes\n",
    "1? y \n",
    "0? y\n",
    "-1? y\n",
    "-2? y\n",
    "-3? N\n",
    "\n",
    "Along the way just do += 1 on the sub_length var\n",
    "Also do a set.remove() on the element each time. They won’t be a part of another subset so it’s okay. \n",
    "\n",
    "Now let’s go right,\n",
    "\tis there a 4? N\n",
    "\n",
    "Next starting at 7\n",
    "\n",
    "go left,\n",
    "\n",
    "go right,\n",
    "\n",
    "Then starting at 5\n",
    "\n",
    "Then we just need to return the lnogest sub_length we've recorded\n",
    "\n",
    "## Analysis\n",
    "\n",
    "O(n) time and space for using a hashmap and going through each element once"
   ]
  },
  {
   "cell_type": "markdown",
   "metadata": {},
   "source": [
    "## Where I messed up\n",
    "\n",
    "Initially when i wrote the problem, I thought i could access the first index in a set. This is not possible.\n",
    "\n",
    "Instead, to get a random element (technically not random since it'll be consistent with the hash algorithm) from a set, simply do set.pop() "
   ]
  },
  {
   "cell_type": "code",
   "execution_count": 31,
   "metadata": {},
   "outputs": [
    {
     "data": {
      "text/plain": [
       "2"
      ]
     },
     "execution_count": 31,
     "metadata": {},
     "output_type": "execute_result"
    }
   ],
   "source": [
    "test_set = set([22, 2, 5, 8, 9])\n",
    "test_set.pop()"
   ]
  },
  {
   "cell_type": "markdown",
   "metadata": {},
   "source": [
    "## Algorithm"
   ]
  },
  {
   "cell_type": "code",
   "execution_count": 36,
   "metadata": {},
   "outputs": [
    {
     "data": {
      "text/plain": [
       "6"
      ]
     },
     "execution_count": 36,
     "metadata": {},
     "output_type": "execute_result"
    }
   ],
   "source": [
    "def longest_contained_range(A) -> int:\n",
    "    s = set(A)\n",
    "    highest_length = 0\n",
    "    while s:\n",
    "        # Reset sublength and middle\n",
    "        sub_length = 1\n",
    "        middle = s.pop()\n",
    "\n",
    "        # start left of entry\n",
    "        entry = middle - 1\n",
    "        while entry in s:\n",
    "            s.remove(entry)\n",
    "            sub_length += 1\n",
    "            entry -= 1\n",
    "\n",
    "        entry = middle + 1\n",
    "        while entry in s:\n",
    "            s.remove(entry)\n",
    "            sub_length += 1\n",
    "            entry += 1\n",
    "\n",
    "        highest_length = max(highest_length, sub_length)\n",
    "    return highest_length\n",
    "\n",
    "input = [3, -2, 7, 9, 8, 1, 2, 0, -1, 5, 8]\n",
    "# Answer [-2, -1, 0, 1, 2, 3], length of 6\n",
    "longest_contained_range(input)"
   ]
  }
 ],
 "metadata": {
  "interpreter": {
   "hash": "916dbcbb3f70747c44a77c7bcd40155683ae19c65e1c03b4aa3499c5328201f1"
  },
  "kernelspec": {
   "display_name": "Python 3.8.10 64-bit",
   "language": "python",
   "name": "python3"
  },
  "language_info": {
   "codemirror_mode": {
    "name": "ipython",
    "version": 3
   },
   "file_extension": ".py",
   "mimetype": "text/x-python",
   "name": "python",
   "nbconvert_exporter": "python",
   "pygments_lexer": "ipython3",
   "version": "3.8.10"
  },
  "orig_nbformat": 4
 },
 "nbformat": 4,
 "nbformat_minor": 2
}
