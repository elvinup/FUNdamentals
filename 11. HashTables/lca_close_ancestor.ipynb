{
 "cells": [
  {
   "cell_type": "markdown",
   "metadata": {},
   "source": [
    "# 12.4 Takeaway - LCA (Lowest Common Ancestor) optimized for close ancestors\n",
    "\n",
    "Given 2 BinaryTreeNodes, find the first ancestor above them.\n",
    "\n",
    "In problem 9.4, we shoot for a O(height) runtime, and O(1) space.\n",
    "\n",
    "The solution was to find the depth of the two nodes by traveling all the way up to the root from both. Then adjust the lower node to match the higher node's depth.\n",
    "\n",
    "From there, we just move both up at the same time till they are at the same node and return that node. \n",
    "\n",
    "\n",
    "## Going even faster, but trading for more space\n",
    "\n",
    "In this problem, we want the runtime to actually be O(distance between the 2 nodes)\n",
    "\n",
    "In other words, we don't want to have to travel all the way to the root just to come to our answer. \n",
    "\n",
    "Example:\n",
    "\n",
    "2 nodes towards the bottom of a big tree are siblings, and the answer is right above them. The prior solution requires wasting quite a bit of time just to reach the answer.\n",
    "\n",
    "A simple way to handle this is to use extra space in the form of a hashtable!\n",
    "\n",
    "## Solution\n",
    "\n",
    "We just need to travel both nodes up the parent pointer at the same time. Along the way, just store each node in the hashmap, and if we find that a node is already in there, that's the LCA!\n",
    "\n",
    "This way, we achieve our O(distance) runtime, but at the cost of O(distance) space"
   ]
  },
  {
   "cell_type": "code",
   "execution_count": null,
   "metadata": {},
   "outputs": [],
   "source": [
    "# My First Solution where I just used a regular old hashmap\n",
    "def lca(node0: BinaryTreeNode,\n",
    "        node1: BinaryTreeNode) -> Optional[BinaryTreeNode]:\n",
    "    # TODO - you fill in here.\n",
    "    visited_nodes = {}\n",
    "    while node0 is not None or node1 is not None:\n",
    "        if node0:\n",
    "            if node0 in visited_nodes:\n",
    "                return node0\n",
    "            visited_nodes[node0] = 1\n",
    "            node0 = node0.parent\n",
    "\n",
    "        if node1:\n",
    "            if node1 in visited_nodes:\n",
    "                return node1\n",
    "            visited_nodes[node1] = 1\n",
    "            node1 = node1.parent\n",
    "\n",
    "    return None"
   ]
  },
  {
   "cell_type": "markdown",
   "metadata": {},
   "source": [
    "## Hashmap doesnt really need values? Use a set!\n",
    "\n",
    "My first solution used a hashmap and stored 1 as the value just to have something there to track visited nodes.\n",
    "\n",
    "It turns out, using a set is a perfect solution since it also is using a hash algorithm for O(1) lookups for the keys, and there's no value to assign which looks probably a bit more slick to the interviewer."
   ]
  },
  {
   "cell_type": "code",
   "execution_count": null,
   "metadata": {},
   "outputs": [],
   "source": [
    "# A better solution\n",
    "# My First Solution where I just used a regular old hashmap\n",
    "def lca(node0: BinaryTreeNode,\n",
    "        node1: BinaryTreeNode) -> Optional[BinaryTreeNode]:\n",
    "    # TODO - you fill in here.\n",
    "    visited_nodes = set()\n",
    "    while node0 is not None or node1 is not None:\n",
    "        if node0:\n",
    "            if node0 in visited_nodes:\n",
    "                return node0\n",
    "            visited_nodes.add(node0)\n",
    "            node0 = node0.parent\n",
    "\n",
    "        if node1:\n",
    "            if node1 in visited_nodes:\n",
    "                return node1\n",
    "            visited_nodes.add(node1)\n",
    "            node1 = node1.parent\n",
    "\n",
    "    return None"
   ]
  }
 ],
 "metadata": {
  "language_info": {
   "name": "python"
  },
  "orig_nbformat": 4
 },
 "nbformat": 4,
 "nbformat_minor": 2
}
