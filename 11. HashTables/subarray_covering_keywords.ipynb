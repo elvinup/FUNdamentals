{
 "cells": [
  {
   "cell_type": "markdown",
   "metadata": {},
   "source": [
    "# 12.6 Takeaway - Subarray covering keywords or Sliding Window\n",
    "\n",
    "## Problem:\n",
    "Find the smallest subarray of an array1 covering all the keywords in array2.\n",
    "\n",
    "## Example:\n",
    "paragraph = ['a', 'b', 'c', 'b', 'a', 'd', 'c', 'a', 'e', 'a', 'a', 'b', 'e']\n",
    "keywords = ['b', 'c', 'e']\n",
    "\n",
    "Output = Subarray(3, 8)\n",
    "\n",
    "## Brainstorming\n",
    "\n",
    "- This problem is doable with a hashtable to track the indexes of where the keywords are located. \n",
    "\n",
    "- We can essentially just iterate through the paragraph array, and we just need 2 variables (start and end) to track between the keywords.\n",
    "  - The start, end variales should be updated whenever we find a keyword in paragraph\n",
    "\n",
    "- To make this problem simpler, we can create a helper function for comparing subarrays.\n",
    "\n",
    "- This problem also benefits from using a namedtuple class since we are returning a range including the start and end variables.\n",
    "\n",
    "\n",
    "## First Algorithm (O(n * keywords))\n",
    "\n",
    "My first version of this was doing a min and max on the keyword hashmap's values to track where the start and end need to be whenever we updated the hashmap.\n",
    "\n",
    "This is a problem because the runtime ends up being O(n * k) because we could potentially check up to the length of the keywords array on every iteration of the paragraph array."
   ]
  },
  {
   "cell_type": "code",
   "execution_count": 1,
   "metadata": {},
   "outputs": [
    {
     "name": "stdout",
     "output_type": "stream",
     "text": [
      "Subarray(start=3, end=8)\n"
     ]
    }
   ],
   "source": [
    "import collections\n",
    "\n",
    "Subarray = collections.namedtuple('Subarray', ('start', 'end'))\n",
    "\n",
    "def find_smallest_subarray_covering_set(paragraph, keywords):\n",
    "    # Convenience function for comparing minimum Subarrays\n",
    "    def min_subarray(sub1, sub2):\n",
    "        return sub2 if (sub2.end - sub2.start) < (sub1.end - sub1.start) else sub1\n",
    "\n",
    "    kw_map = {}\n",
    "    smallest_subarray = Subarray(0, len(paragraph))\n",
    "\n",
    "    start, end = 0, 0\n",
    "\n",
    "    for i, entry in enumerate(paragraph):\n",
    "        if entry in keywords:\n",
    "            # If a match is found, update the kw_map[entry]\n",
    "            kw_map[entry] = i\n",
    "            # Only need to update if we’re replacing an existing key in the map\n",
    "            if entry in kw_map:\n",
    "                start = min(kw_map.values())\n",
    "                end = max(kw_map.values())\n",
    "            if len(kw_map.keys()) == len(keywords):\n",
    "                smallest_subarray = min_subarray(smallest_subarray, Subarray(start, end))\n",
    "    return smallest_subarray\n",
    "\n",
    "    \n",
    "\n",
    "paragraph = ['a', 'b', 'c', 'b', 'a', 'd', 'c', 'a', 'e', 'a', 'a', 'b', 'e']\n",
    "keywords = ['b', 'c', 'e']\n",
    "\n",
    "print(find_smallest_subarray_covering_set(paragraph, keywords))"
   ]
  },
  {
   "cell_type": "markdown",
   "metadata": {},
   "source": [
    "\n",
    "## O(n) Optimization with a Doubly Linked List\n",
    "\n",
    "We want to shoot for O(n). To do this, we need a more optimized solution that shouldn't call min() and max() on the kw_map's values. \n",
    "\n",
    "The end/max is *always* going to be the current index we are on because it is the latest we've seen so far! This is an easy fix.\n",
    "\n",
    "Now the hard part is updating the start/min inside kw_map. (This'll be a good refresher on linked lists :) )\n",
    "\n",
    "We can keep track of this with a doubly linked list. Our inserts whether using a deque or linked list will be O(1), but removals from the middle of the list will only be O(1) with a doubly linked list. With a deque library, it will be O(n) to remove from the middle of list, so let's implement the doubly linked list!\n",
    "\n",
    "Basically we can track the start variable as the head of the list. \n",
    "\n",
    "We would have the hashmap store linkedlist nodes, so that when it comes time to replace a value in the hashmap, we can easily reference the node and remove it with it's prev and next pointer in O(1) rather than iterating to find it in O(n) time.\n",
    "\n",
    "We must also update the tail as the latest entry"
   ]
  },
  {
   "cell_type": "code",
   "execution_count": 3,
   "metadata": {},
   "outputs": [],
   "source": [
    "import collections\n",
    "\n",
    "Subarray = collections.namedtuple('Subarray', ('start', 'end'))\n",
    "\n",
    "class DoublyLinkedListNode:\n",
    "    def __init__(self, data=None):\n",
    "        self.data = data\n",
    "        self.next = self.prev = None\n",
    "\n",
    "class LinkedList:\n",
    "    def __init__(self):\n",
    "        self.head = self.tail = None\n",
    "        self.length = 0\n",
    "    \n",
    "    def __len__(self):\n",
    "        return self.length\n",
    "\n",
    "    def append(self, value):\n",
    "        node = DoublyLinkedListNode(value)\n",
    "        node.prev = self.tail\n",
    "        if self.tail:\n",
    "            self.tail.next = node\n",
    "        else:\n",
    "            self.head = node\n",
    "        self.tail = node\n",
    "        self.length += 1\n",
    "\n",
    "    def remove(self, node):\n",
    "        if node.next:\n",
    "            node.next.prev = node.prev\n",
    "        else:\n",
    "            self.tail = node.prev\n",
    "        if node.prev:\n",
    "            node.prev.next = node.next\n",
    "        else:\n",
    "            self.head = node.next\n",
    "        \n",
    "        node.next = node.prev = None\n",
    "        self.length -= 1"
   ]
  },
  {
   "cell_type": "code",
   "execution_count": 4,
   "metadata": {},
   "outputs": [
    {
     "name": "stdout",
     "output_type": "stream",
     "text": [
      "Subarray(start=3, end=8)\n"
     ]
    }
   ],
   "source": [
    "def find_smallest_subarray_covering_set_w_linkedlist(paragraph, keywords):\n",
    "    # Convenience function for comparing minimum Subarrays\n",
    "    def min_subarray(sub1, sub2):\n",
    "        return sub2 if (sub2.end - sub2.start) < (sub1.end - sub1.start) else sub1\n",
    "\n",
    "    kw_map = {}\n",
    "    link_list = LinkedList()\n",
    "    smallest_subarray = Subarray(0, len(paragraph))\n",
    "\n",
    "    start, end = 0, 0\n",
    "\n",
    "    for i, entry in enumerate(paragraph):\n",
    "        if entry in keywords:\n",
    "            \n",
    "            # Get node from a hashmap\n",
    "            node = kw_map.get(entry, None)\n",
    "            \n",
    "            # Only need to update if we’re replacing an existing key in the map. Remove so there won't be a duplicate\n",
    "            if entry in kw_map:\n",
    "                link_list.remove(node)\n",
    "            \n",
    "            # If a match is found, update the kw_map[entry] to our newly added value aka our tail of the linked list \n",
    "            link_list.append(i)\n",
    "            kw_map[entry] = link_list.tail\n",
    "\n",
    "            # Start will always be at the beginning of the linked list\n",
    "            start = link_list.head.data\n",
    "            end = i\n",
    "            \n",
    "            if len(kw_map.keys()) == len(keywords):\n",
    "                smallest_subarray = min_subarray(smallest_subarray, Subarray(start, end))\n",
    "    return smallest_subarray\n",
    "\n",
    "paragraph = ['a', 'b', 'c', 'b', 'a', 'd', 'c', 'a', 'e', 'a', 'a', 'b', 'e']\n",
    "keywords = ['b', 'c', 'e']\n",
    "\n",
    "print(find_smallest_subarray_covering_set_w_linkedlist(paragraph, keywords))"
   ]
  }
 ],
 "metadata": {
  "interpreter": {
   "hash": "916dbcbb3f70747c44a77c7bcd40155683ae19c65e1c03b4aa3499c5328201f1"
  },
  "kernelspec": {
   "display_name": "Python 3.8.10 64-bit",
   "language": "python",
   "name": "python3"
  },
  "language_info": {
   "codemirror_mode": {
    "name": "ipython",
    "version": 3
   },
   "file_extension": ".py",
   "mimetype": "text/x-python",
   "name": "python",
   "nbconvert_exporter": "python",
   "pygments_lexer": "ipython3",
   "version": "3.8.10"
  },
  "orig_nbformat": 4
 },
 "nbformat": 4,
 "nbformat_minor": 2
}
