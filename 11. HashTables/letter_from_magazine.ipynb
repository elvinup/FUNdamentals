{
 "cells": [
  {
   "cell_type": "markdown",
   "metadata": {},
   "source": [
    "# 12.2 Letter from Magazine \n",
    "\n",
    "In this problem, we have 2 strings. We need to see if there's enough characters in the magazine to make up the letter.\n",
    "\n",
    "- letter string\n",
    "- magazine string\n",
    "\n",
    "Example:\n",
    "\n",
    "letter = 'aabbccdd'\n",
    "magazine = 'aabbbcccdd'\n",
    "\n",
    "Output:\n",
    "True, because there's more than enough of each character type in magazine to make up the letter\n",
    "\n",
    "\n",
    "It's tempting to just brute force by calling\n",
    "\n",
    "letter_map = collections.Counter(letter)\n",
    "mag_map = collections.Counter(magazine)\n",
    "\n",
    "and simply check if each key in letter is <= what's available in the magazine map.\n",
    "\n",
    "\n",
    "\n",
    "The *PROBLEM* though is we are forcing ourselves to go through every element in magazine this way to create the hashmap.\n",
    "\n",
    "Rather than doing that, a somewhat more efficient way to do this is to just make a counter hashmap out of the letter. \n",
    "\n",
    "### Efficient Algo\n",
    "\n",
    "- Let's iterate through each character in magazine one by one.\n",
    "- For each one that's in the letter map's keys, subtract the counter for that key by 1\n",
    "- if that counter reaches 0, delete that key from the map\n",
    "\n",
    "This gives the advantage that we can confirm a magazine can make up a letter well before iterating through the whole magazine."
   ]
  },
  {
   "cell_type": "code",
   "execution_count": 3,
   "metadata": {},
   "outputs": [
    {
     "name": "stdout",
     "output_type": "stream",
     "text": [
      "True\n"
     ]
    }
   ],
   "source": [
    "import collections\n",
    "\n",
    "def letter_from_magazine(letter, magazine):\n",
    "\n",
    "    letter_map = collections.Counter(letter)\n",
    "\n",
    "    for c in magazine:\n",
    "        if c in letter_map.keys():\n",
    "            letter_map[c] -= 1\n",
    "            if letter_map[c] == 0:\n",
    "                del letter_map[c]\n",
    "            \n",
    "            # if letter map is all matched return True\n",
    "            if not letter_map:\n",
    "                return True\n",
    "\n",
    "    return False\n",
    "\n",
    "\n",
    "letter = 'aabbccdd'\n",
    "magazine = 'aaabbccccdd'\n",
    "\n",
    "print(letter_from_magazine(letter, magazine))"
   ]
  },
  {
   "cell_type": "code",
   "execution_count": 32,
   "metadata": {},
   "outputs": [
    {
     "name": "stdout",
     "output_type": "stream",
     "text": [
      "True\n"
     ]
    }
   ],
   "source": [
    "# Also a cool but inefficient python one liner to solve this!\n",
    "\n",
    "def python_flex_letter_from_magazine(letter, magazine):\n",
    "    return not (collections.Counter(letter) - collections.Counter(magazine))\n",
    "\n",
    "letter = 'aabbccdd'\n",
    "magazine = 'aaabbccccdd'\n",
    "print(python_flex_letter_from_magazine(letter, magazine))"
   ]
  }
 ],
 "metadata": {
  "interpreter": {
   "hash": "916dbcbb3f70747c44a77c7bcd40155683ae19c65e1c03b4aa3499c5328201f1"
  },
  "kernelspec": {
   "display_name": "Python 3.8.10 64-bit",
   "language": "python",
   "name": "python3"
  },
  "language_info": {
   "codemirror_mode": {
    "name": "ipython",
    "version": 3
   },
   "file_extension": ".py",
   "mimetype": "text/x-python",
   "name": "python",
   "nbconvert_exporter": "python",
   "pygments_lexer": "ipython3",
   "version": "3.8.10"
  },
  "orig_nbformat": 4
 },
 "nbformat": 4,
 "nbformat_minor": 2
}
