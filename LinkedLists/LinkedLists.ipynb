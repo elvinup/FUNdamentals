{
 "cells": [
  {
   "cell_type": "markdown",
   "source": [
    "# Linked List Data Structure"
   ],
   "metadata": {}
  },
  {
   "cell_type": "code",
   "execution_count": 40,
   "source": [
    "class ListNode:\n",
    "    def __init__(self, data=0, next=None):\n",
    "        self.data = data\n",
    "        self.next = next"
   ],
   "outputs": [],
   "metadata": {}
  },
  {
   "cell_type": "code",
   "execution_count": 41,
   "source": [
    "    def search_list(L: ListNode, key: int) -> ListNode:\n",
    "        while L and L != L.data:\n",
    "            L = L.next\n",
    "        return L"
   ],
   "outputs": [],
   "metadata": {}
  },
  {
   "cell_type": "code",
   "execution_count": 42,
   "source": [
    "    def insert_after(node: ListNode, new_node: ListNode) -> None:\n",
    "        new_node.next = node.next\n",
    "        node.next = new_node\n"
   ],
   "outputs": [],
   "metadata": {}
  },
  {
   "cell_type": "code",
   "execution_count": 43,
   "source": [
    "    def delete_after(node: ListNode) -> None:\n",
    "        node.next = node.next.next"
   ],
   "outputs": [],
   "metadata": {}
  },
  {
   "cell_type": "markdown",
   "source": [
    "## Good Practices\n",
    "\n",
    "1. Make sure to leave a dummy head to return the result of a whole linked list at the end."
   ],
   "metadata": {}
  },
  {
   "cell_type": "code",
   "execution_count": 55,
   "source": [
    "# Instantiate 2 list nodes\n",
    "# [1] [2]\n",
    "node1 = ListNode(1)\n",
    "node2 = ListNode(2)\n",
    "\n",
    "# dummy is same as iterator. Set up to return later\n",
    "dummy_head = iterator = ListNode()\n",
    "\n",
    "# Do not just set iterator = node, then dummy_head will point to nothing because it's a shallow copy\n",
    "iterator.next = node1\n",
    "iterator = iterator.next\n",
    "\n",
    "#               [iter]\n",
    "# dummy_head -> node1\n",
    "iterator.next = node2\n",
    "iterator = iterator.next\n",
    "\n",
    "#                        [iter]\n",
    "# dummy_head -> node1 -> node2\n",
    "print(dummy_head.next.data)"
   ],
   "outputs": [
    {
     "output_type": "stream",
     "name": "stdout",
     "text": [
      "1\n"
     ]
    }
   ],
   "metadata": {}
  }
 ],
 "metadata": {
  "orig_nbformat": 4,
  "language_info": {
   "name": "python",
   "version": "3.8.10",
   "mimetype": "text/x-python",
   "codemirror_mode": {
    "name": "ipython",
    "version": 3
   },
   "pygments_lexer": "ipython3",
   "nbconvert_exporter": "python",
   "file_extension": ".py"
  },
  "kernelspec": {
   "name": "python3",
   "display_name": "Python 3.8.10 64-bit"
  },
  "interpreter": {
   "hash": "916dbcbb3f70747c44a77c7bcd40155683ae19c65e1c03b4aa3499c5328201f1"
  }
 },
 "nbformat": 4,
 "nbformat_minor": 2
}