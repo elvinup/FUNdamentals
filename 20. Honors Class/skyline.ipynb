{
 "cells": [
  {
   "cell_type": "markdown",
   "metadata": {},
   "source": [
    "# Skyline Problem\n",
    "\n",
    "Skyline is a notoriously hard problem.\n",
    "\n",
    "Given a list of integer lists representing buildings (left_point, right_point, height), we need to output the skyline that represents the outline of these buildings.\n",
    "\n",
    "The output is a list of [x, y] points.\n",
    "\n",
    "[Leetcode Link](https://leetcode.com/problems/the-skyline-problem/)"
   ]
  },
  {
   "cell_type": "markdown",
   "metadata": {},
   "source": [
    "## Takeaway\n",
    "\n",
    "The simplest way to tackle this problem is to actually reframe how we're looking at it. \n",
    "\n",
    "Instead of trying to work with the [l, r, h] points, we will have a much easier time just breaking it up into a list of left events, and right events.\n",
    "\n",
    "We also want these sorted by height. A **heap** will be the key to solving this simply and efficiently."
   ]
  },
  {
   "cell_type": "markdown",
   "metadata": {},
   "source": [
    "## Brainstorming\n",
    "\n",
    "![](../%20images/skyline_brainstorming.png)"
   ]
  },
  {
   "cell_type": "code",
   "execution_count": 10,
   "metadata": {},
   "outputs": [],
   "source": [
    "def getSkyline(buildings):\n",
    "    # Inf value in beginning to prevent popping empty heap\n",
    "    result = []\n",
    "    heap = [(0, float('inf'))] \n",
    "    # Separate buildings into left and right points to easily sort\n",
    "    points = [(l, -h, r) for l, r, h in buildings]\n",
    "    points += [(r, 0, 0) for _, r, _ in buildings]\n",
    "    points.sort()\n",
    "    for l, h, r in points:\n",
    "        currMax = heap[0][0]\n",
    "\n",
    "        # Once our point is > the current maximum's height,\n",
    "        # pop until we hit a new valid building\n",
    "        while l >= heap[0][1]: \n",
    "            heapq.heappop(heap)\n",
    "        # Just push if there's a height worth looking at\n",
    "        if h:\n",
    "            heapq.heappush(heap, (h, r))\n",
    "        # if curr height is different from the prev height, add current point and heap height\n",
    "        currHeight = heap[0][0]\n",
    "        if currHeight != currMax:\n",
    "            result.append([l, -heap[0][0]])\n",
    "    return result"
   ]
  },
  {
   "cell_type": "code",
   "execution_count": 11,
   "metadata": {},
   "outputs": [
    {
     "data": {
      "text/plain": [
       "[[2, 10], [3, 15], [7, 12], [12, 0], [15, 10], [20, 8], [24, 0]]"
      ]
     },
     "execution_count": 11,
     "metadata": {},
     "output_type": "execute_result"
    }
   ],
   "source": [
    "buildings = [[2,9,10],[3,7,15],[5,12,12],[15,20,10],[19,24,8]]\n",
    "getSkyline(buildings)"
   ]
  },
  {
   "cell_type": "markdown",
   "metadata": {},
   "source": [
    "## Analysis\n",
    "\n",
    "O(n * log(n))\n",
    "Because heap operations are log(n), and we go through each event once.\n",
    "\n",
    "O(n) space for heap"
   ]
  }
 ],
 "metadata": {
  "kernelspec": {
   "display_name": "Python 3",
   "language": "python",
   "name": "python3"
  },
  "language_info": {
   "codemirror_mode": {
    "name": "ipython",
    "version": 3
   },
   "file_extension": ".py",
   "mimetype": "text/x-python",
   "name": "python",
   "nbconvert_exporter": "python",
   "pygments_lexer": "ipython3",
   "version": "3.10.12"
  }
 },
 "nbformat": 4,
 "nbformat_minor": 2
}
