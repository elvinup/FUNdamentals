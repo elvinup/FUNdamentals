{
 "cells": [
  {
   "cell_type": "markdown",
   "metadata": {},
   "source": [
    "# 9.11 Reconstructing a binary tree from Inorder and Preorder data\n",
    "\n",
    "This problem gives 2 arrays to think through this problem. \n",
    "\n",
    "An example:\n",
    "\n",
    "- inorder = [F, B, A, E, H, C, D, I, G]\n",
    "- preorder = [H, B, F, E, A, C, D, G, I]\n",
    "\n",
    "Using these, we need to construct a binary tree. \n",
    "\n",
    "Couple eye openers for me when I took too long at first to solve this.\n",
    "\n",
    "To create a binary tree, we don't have to manually initialize the tree and say:\n",
    "- root = BinaryTree(inorder[0])\n",
    "- root.left = this\n",
    "- root.right = that blah blah\n",
    "Instead, we can use the constructor of the BinaryTree data type to include the child nodes: Ex: BinaryTree(1, recursive_function_left_subtree_node,recurs_func_right_subtree_node)\n",
    "\n",
    "The other issue was I thought I could make an efficient algorithm iteratively easily because of the two arrays, but one must remember recursion is often used to traverse a binary tree quickly and simply. We should do the same when building a tree.\n",
    "\n",
    "A better way to look at the problem is to think the first node in preorder is the root. Everything from the left of it in the inorder array is the left subtree, and everything on the right is the right subtree.\n",
    "\n",
    "This is a cookie cutter scenario for using recursion to keep doing the same thing to build the tree, and somehow it went over my head.\n",
    "\n",
    "Answer below:\n"
   ]
  },
  {
   "cell_type": "code",
   "execution_count": 1,
   "metadata": {},
   "outputs": [],
   "source": [
    "class BinaryTreeNode:\n",
    "    def __init__(self, data=None, left=None, right=None):\n",
    "        self.data = data\n",
    "        self.left = left\n",
    "        self.right = right"
   ]
  },
  {
   "cell_type": "code",
   "execution_count": 6,
   "metadata": {},
   "outputs": [
    {
     "name": "stdout",
     "output_type": "stream",
     "text": [
      "{'F': 0, 'B': 1, 'A': 2, 'E': 3, 'H': 4, 'C': 5, 'D': 6, 'I': 7, 'G': 8}\n"
     ]
    }
   ],
   "source": [
    "\n",
    "inorder = ['F', 'B', 'A', 'E', 'H', 'C', 'D', 'I', 'G']\n",
    "preorder = ['H', 'B', 'F', 'E', 'A', 'C', 'D', 'G', 'I']\n",
    "\n",
    "\n",
    "def binary_tree_from_preorder_inorder(preorder, inorder):\n",
    "    # Apparently you can do list comprehension on a dictionary! I guess this is dictionary comprehension?\n",
    "    node_to_inorder_idx = {data: i for i, data in enumerate(inorder)}\n",
    "    print(node_to_inorder_idx)\n",
    "    def binary_tree_from_preorder_inorder_helper(preorder_start, preorder_end, inorder_start, inorder_end):\n",
    "\n",
    "        if preorder_end <= preorder_start or inorder_end <= inorder_start:\n",
    "            return None\n",
    "        \n",
    "        root_inorder_idx = node_to_inorder_idx[preorder[preorder_start]]\n",
    "        left_subtree_size = root_inorder_idx - inorder_start\n",
    "\n",
    "        left_subtree = binary_tree_from_preorder_inorder(preorder_start + 1, preorder_start + left_subtree_size + 1, inorder_start, root_inorder_idx)\n",
    "        right_subtree = binary_tree_from_preorder_inorder(preorder_start + left_subtree_size + 1, preorder_end, root_inorder_idx + 1,  inorder_end)\n",
    "        return BinaryTreeNode(preorder[preorder_start], left_subtree, right_subtree)\n",
    "\n",
    "\n",
    "binary_tree_from_preorder_inorder(preorder, inorder)"
   ]
  }
 ],
 "metadata": {
  "interpreter": {
   "hash": "916dbcbb3f70747c44a77c7bcd40155683ae19c65e1c03b4aa3499c5328201f1"
  },
  "kernelspec": {
   "display_name": "Python 3.8.10 64-bit",
   "language": "python",
   "name": "python3"
  },
  "language_info": {
   "codemirror_mode": {
    "name": "ipython",
    "version": 3
   },
   "file_extension": ".py",
   "mimetype": "text/x-python",
   "name": "python",
   "nbconvert_exporter": "python",
   "pygments_lexer": "ipython3",
   "version": "3.9.2"
  },
  "orig_nbformat": 4
 },
 "nbformat": 4,
 "nbformat_minor": 2
}
