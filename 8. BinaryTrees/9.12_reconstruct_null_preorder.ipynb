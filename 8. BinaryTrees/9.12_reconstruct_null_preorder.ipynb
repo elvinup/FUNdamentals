{
 "cells": [
  {
   "cell_type": "markdown",
   "metadata": {},
   "source": [
    "# 9.12 Takeaway\n",
    "\n",
    "Reconstruct a Tree with preorder traversal data, and left and right leaf childs as null"
   ]
  },
  {
   "cell_type": "code",
   "execution_count": 1,
   "metadata": {},
   "outputs": [],
   "source": [
    "class BinaryTreeNode:\n",
    "    def __init__(self, data=None, left=None, right=None):\n",
    "        self.data = data\n",
    "        self.left = left\n",
    "        self.right = right"
   ]
  },
  {
   "cell_type": "code",
   "execution_count": 4,
   "metadata": {},
   "outputs": [],
   "source": [
    "H = BinaryTreeNode('H')\n",
    "B = BinaryTreeNode('B')\n",
    "F = BinaryTreeNode('F')\n",
    "E = BinaryTreeNode('E')\n",
    "A = BinaryTreeNode('A')\n",
    "C = BinaryTreeNode('C')\n",
    "D = BinaryTreeNode('D')\n",
    "G = BinaryTreeNode('G')\n",
    "I = BinaryTreeNode('I')\n",
    "\n",
    "H.left = B\n",
    "B.left = F\n",
    "B.right = E\n",
    "E.left = A\n",
    "H.right = C\n",
    "C.right = D\n",
    "D.right = G\n",
    "G.left = I"
   ]
  },
  {
   "cell_type": "markdown",
   "metadata": {},
   "source": [
    "### Typical Recursive"
   ]
  },
  {
   "cell_type": "code",
   "execution_count": 6,
   "metadata": {},
   "outputs": [
    {
     "name": "stdout",
     "output_type": "stream",
     "text": [
      "preorder: H\n",
      "preorder: B\n",
      "preorder: F\n",
      "preorder: E\n",
      "preorder: A\n",
      "preorder: C\n",
      "preorder: D\n",
      "preorder: G\n",
      "preorder: I\n"
     ]
    }
   ],
   "source": [
    "def tree_traversal_preorder(root):\n",
    "    if root:\n",
    "        print('preorder: %s' % root.data)\n",
    "        tree_traversal_preorder(root.left)\n",
    "        tree_traversal_preorder(root.right)\n",
    "\n",
    "tree_traversal_preorder(H)"
   ]
  },
  {
   "cell_type": "markdown",
   "metadata": {},
   "source": [
    "### Iterative O(n) Solution\n",
    "\n",
    "What's cool is it uses a hashmap and stack to traverse the list\n",
    "\n",
    "The hashmap tracks how many children each node has visited. \n",
    "\n",
    "The stack pops each time 2 children are visited as we traverse the tree.\n",
    "\n",
    "What's not so cool is this has a lot of edge cases and isn't the prettiest code. Took awhile to work out."
   ]
  },
  {
   "cell_type": "code",
   "execution_count": 90,
   "metadata": {},
   "outputs": [
    {
     "name": "stdout",
     "output_type": "stream",
     "text": [
      "preorder: H\n",
      "preorder: B\n",
      "preorder: F\n",
      "preorder: E\n",
      "preorder: A\n",
      "preorder: C\n",
      "preorder: D\n",
      "preorder: G\n",
      "preorder: I\n"
     ]
    }
   ],
   "source": [
    "example = ['H', 'B', 'F', None, None, 'E', 'A', None, None, None, 'C', None, 'D', None, 'G', 'I', None, None, None]\n",
    "\n",
    "def reconstruct_preorder(preorder):\n",
    "    \n",
    "    if not preorder:\n",
    "        return None\n",
    "\t\n",
    "\t# Initialize stack and hashmap\n",
    "    root = BinaryTreeNode(preorder[0])\n",
    "    stack = [root]\n",
    "    child_map = {root.data: 0}\n",
    "    \n",
    "    for i in range(1, len(preorder)):\n",
    "        top_count = child_map[stack[-1].data]\n",
    "        if preorder[i]:\n",
    "            new_node = BinaryTreeNode(preorder[i])\n",
    "            if top_count == 0:\n",
    "                stack[-1].left = new_node\n",
    "                child_map[stack[-1].data] = 1\n",
    "            elif top_count == 1:\n",
    "                stack[-1].right = new_node\n",
    "                child_map[stack[-1].data] += 1\n",
    "                stack.pop()\n",
    "\t\t\t\n",
    "            stack.append(new_node)\n",
    "            child_map[new_node.data] = 0\n",
    "        else:\n",
    "            top_count += 1\n",
    "            if top_count == 2:\n",
    "                stack.pop()\n",
    "\n",
    "    return root\n",
    "\n",
    "tree = reconstruct_preorder(example)\n",
    "tree_traversal_preorder(H)"
   ]
  },
  {
   "cell_type": "markdown",
   "metadata": {},
   "source": [
    "### Recursive O(n) Solution\n",
    "\n",
    "A much more elegant solution is using recursion.\n",
    "\n",
    "Maybe a tip.. whenever we have to build a binary tree, perhaps it's just cleaner to use recursion?"
   ]
  },
  {
   "cell_type": "code",
   "execution_count": 91,
   "metadata": {},
   "outputs": [
    {
     "name": "stdout",
     "output_type": "stream",
     "text": [
      "preorder: H\n",
      "preorder: B\n",
      "preorder: F\n",
      "preorder: E\n",
      "preorder: A\n",
      "preorder: C\n",
      "preorder: D\n",
      "preorder: G\n",
      "preorder: I\n"
     ]
    }
   ],
   "source": [
    "def reconstruct_preorder_recursive(preorder):\n",
    "    def reconstruct_preorder_helper(preorder_iter):\n",
    "        subtree_key = next(preorder_iter)\n",
    "        if subtree_key is None:\n",
    "            return None\n",
    "\n",
    "        left_subtree = reconstruct_preorder_helper(preorder_iter)\n",
    "        right_subtree = reconstruct_preorder_helper(preorder_iter)\n",
    "        return BinaryTreeNode(subtree_key, left_subtree, right_subtree)\n",
    "\n",
    "tree = reconstruct_preorder_recursive(example)\n",
    "tree_traversal_preorder(H)"
   ]
  }
 ],
 "metadata": {
  "interpreter": {
   "hash": "916dbcbb3f70747c44a77c7bcd40155683ae19c65e1c03b4aa3499c5328201f1"
  },
  "kernelspec": {
   "display_name": "Python 3.8.10 64-bit",
   "language": "python",
   "name": "python3"
  },
  "language_info": {
   "codemirror_mode": {
    "name": "ipython",
    "version": 3
   },
   "file_extension": ".py",
   "mimetype": "text/x-python",
   "name": "python",
   "nbconvert_exporter": "python",
   "pygments_lexer": "ipython3",
   "version": "3.8.10"
  },
  "orig_nbformat": 4
 },
 "nbformat": 4,
 "nbformat_minor": 2
}
