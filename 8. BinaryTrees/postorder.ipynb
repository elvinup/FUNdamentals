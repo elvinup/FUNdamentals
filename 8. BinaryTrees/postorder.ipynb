{
 "cells": [
  {
   "cell_type": "markdown",
   "metadata": {},
   "source": [
    "# Postorder Traversal\n",
    "\n",
    "- Traverse the left subtree\n",
    "- Traverse the right subtree\n",
    "- Visit the root"
   ]
  },
  {
   "cell_type": "code",
   "execution_count": 7,
   "metadata": {},
   "outputs": [],
   "source": [
    "import collections\n",
    "\n",
    "def postorderTraversal(t):    \n",
    "    stack1 = []\n",
    "    stack2 = collections.deque()\n",
    "    \n",
    "    if t:\n",
    "        stack2.appendleft(t.value)\n",
    "        if t.left:\n",
    "            stack1.append(t.left)\n",
    "        if t.right:\n",
    "            stack1.append(t.right)\n",
    "    \n",
    "    while stack1:\n",
    "        \n",
    "        tmp = stack1.pop()\n",
    "        stack2.appendleft(tmp.value)\n",
    "        \n",
    "        if tmp.left:\n",
    "            stack1.append(tmp.left)\n",
    "        if tmp.right:\n",
    "            stack1.append(tmp.right)\n",
    "        \n",
    "    \n",
    "    return list(stack2)\n",
    "\n",
    "def printOrder(t):\n",
    "\n",
    "    postorder = postorderTraversal(t)\n",
    "    print(postorder)"
   ]
  },
  {
   "cell_type": "markdown",
   "metadata": {},
   "source": [
    "# Creating a Binary Tree"
   ]
  },
  {
   "cell_type": "code",
   "execution_count": 8,
   "metadata": {},
   "outputs": [],
   "source": [
    "class BinaryTreeNode:\n",
    "    def __init__(self, data=None, left=None, right=None):\n",
    "        self.data = data\n",
    "        self.left = left\n",
    "        self.right = right\n",
    "\n",
    "a = BinaryTreeNode(314)\n",
    "b = BinaryTreeNode(6)\n",
    "c = BinaryTreeNode(271)\n",
    "d = BinaryTreeNode(28)\n",
    "e = BinaryTreeNode(0)\n",
    "f = BinaryTreeNode(561)\n",
    "g = BinaryTreeNode(3)\n",
    "h = BinaryTreeNode(17)\n",
    "i = BinaryTreeNode(6)\n",
    "j = BinaryTreeNode(2)\n",
    "k = BinaryTreeNode(1)\n",
    "l = BinaryTreeNode(401)\n",
    "m = BinaryTreeNode(641)\n",
    "n = BinaryTreeNode(257)\n",
    "o = BinaryTreeNode(271)\n",
    "p = BinaryTreeNode(28)\n",
    "\n",
    "a.left = b\n",
    "a.right = i\n",
    "b.left = c\n",
    "b.right  = f\n",
    "c.left = d\n",
    "c.right = e\n",
    "f.right = g\n",
    "g.left = h\n",
    "i.left = j\n",
    "i.right = o\n",
    "j.right = k\n",
    "k.left = l\n",
    "k.right = n\n",
    "l.right = m\n",
    "o.right = p"
   ]
  },
  {
   "cell_type": "markdown",
   "metadata": {},
   "source": [
    "## Postorder Traversal - Recursive"
   ]
  },
  {
   "cell_type": "code",
   "execution_count": 9,
   "metadata": {},
   "outputs": [
    {
     "name": "stdout",
     "output_type": "stream",
     "text": [
      "postorder: 28\n",
      "postorder: 0\n",
      "postorder: 271\n",
      "postorder: 17\n",
      "postorder: 3\n",
      "postorder: 561\n",
      "postorder: 6\n",
      "postorder: 641\n",
      "postorder: 401\n",
      "postorder: 257\n",
      "postorder: 1\n",
      "postorder: 2\n",
      "postorder: 28\n",
      "postorder: 271\n",
      "postorder: 6\n",
      "postorder: 314\n"
     ]
    }
   ],
   "source": [
    "def tree_traversal_postorder(root):\n",
    "    if root:\n",
    "        tree_traversal_postorder(root.left)\n",
    "        tree_traversal_postorder(root.right)\n",
    "        print('postorder: %d' % root.data)\n",
    "\n",
    "tree_traversal_postorder(a)"
   ]
  },
  {
   "cell_type": "markdown",
   "metadata": {},
   "source": [
    "## Postorder Traversal - Iterative"
   ]
  },
  {
   "cell_type": "code",
   "execution_count": 11,
   "metadata": {},
   "outputs": [
    {
     "data": {
      "text/plain": [
       "[28, 0, 271, 17, 3, 561, 6, 641, 401, 257, 1, 2, 28, 271, 6, 314]"
      ]
     },
     "execution_count": 11,
     "metadata": {},
     "output_type": "execute_result"
    }
   ],
   "source": [
    "# Simpler, more natural way to do a preorder iterative version with a stack\n",
    "# Post order is same, but just reverse the result at the end\n",
    "def postorder_iterative(node):\n",
    "    if node is None:\n",
    "        return []\n",
    "    tree = []\n",
    "    stack = [ node ]\n",
    "    while len(stack) > 0:\n",
    "        curr = stack.pop()\n",
    "        tree.append(curr.data)\n",
    "        if curr.left:\n",
    "            stack.append(curr.left)\n",
    "        if curr.right:\n",
    "            stack.append(curr.right)\n",
    "\n",
    "    return(tree[::-1])\n",
    "\n",
    "postorder_iterative(a) "
   ]
  }
 ],
 "metadata": {
  "interpreter": {
   "hash": "aee8b7b246df8f9039afb4144a1f6fd8d2ca17a180786b69acc140d282b71a49"
  },
  "kernelspec": {
   "display_name": "Python 3.9.7 64-bit",
   "language": "python",
   "name": "python3"
  },
  "language_info": {
   "codemirror_mode": {
    "name": "ipython",
    "version": 3
   },
   "file_extension": ".py",
   "mimetype": "text/x-python",
   "name": "python",
   "nbconvert_exporter": "python",
   "pygments_lexer": "ipython3",
   "version": "3.10.12"
  },
  "orig_nbformat": 4
 },
 "nbformat": 4,
 "nbformat_minor": 2
}
